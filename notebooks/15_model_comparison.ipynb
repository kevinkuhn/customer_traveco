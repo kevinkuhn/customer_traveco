{
 "cells": [
  {
   "cell_type": "markdown",
   "metadata": {},
   "source": [
    "# Model Comparison and Final Forecasts\n",
    "\n",
    "This notebook compares all forecasting models and generates final production forecasts.\n",
    "\n",
    "## Models Compared\n",
    "1. **Baselines**: Naive, Seasonal Naive, Moving Average (3, 6), Linear Trend\n",
    "2. **Prophet**: Facebook Prophet with Swiss holidays and custom seasonalities\n",
    "3. **SARIMAX**: Seasonal ARIMA (2,1,2) × (1,1,1,12)\n",
    "4. **XGBoost**: Gradient boosting with engineered features\n",
    "\n",
    "## Evaluation Metrics\n",
    "- **MAPE** (Mean Absolute Percentage Error) - Primary metric\n",
    "- **MAE** (Mean Absolute Error)\n",
    "- **RMSE** (Root Mean Square Error)"
   ]
  },
  {
   "cell_type": "code",
   "execution_count": 1,
   "metadata": {
    "execution": {
     "iopub.execute_input": "2025-10-29T20:01:06.264742Z",
     "iopub.status.busy": "2025-10-29T20:01:06.264486Z",
     "iopub.status.idle": "2025-10-29T20:01:06.496073Z",
     "shell.execute_reply": "2025-10-29T20:01:06.494417Z"
    }
   },
   "outputs": [
    {
     "name": "stdout",
     "output_type": "stream",
     "text": [
      "✓ Libraries imported successfully\n"
     ]
    }
   ],
   "source": [
    "import pandas as pd\n",
    "import numpy as np\n",
    "import plotly.graph_objects as go\n",
    "from plotly.subplots import make_subplots\n",
    "from pathlib import Path\n",
    "import warnings\n",
    "warnings.filterwarnings('ignore')\n",
    "\n",
    "print(\"✓ Libraries imported successfully\")"
   ]
  },
  {
   "cell_type": "markdown",
   "metadata": {},
   "source": [
    "## Section 1: Load All Model Metrics"
   ]
  },
  {
   "cell_type": "code",
   "execution_count": 2,
   "metadata": {
    "execution": {
     "iopub.execute_input": "2025-10-29T20:01:06.508180Z",
     "iopub.status.busy": "2025-10-29T20:01:06.508063Z",
     "iopub.status.idle": "2025-10-29T20:01:06.516300Z",
     "shell.execute_reply": "2025-10-29T20:01:06.514587Z"
    }
   },
   "outputs": [
    {
     "name": "stdout",
     "output_type": "stream",
     "text": [
      "✓ Loaded baseline_metrics.csv: 18 records\n",
      "✓ Loaded prophet_metrics.csv: 3 records\n",
      "✓ Loaded sarimax_metrics.csv: 3 records\n",
      "✓ Loaded xgboost_metrics.csv: 3 records\n",
      "\n",
      "Total model evaluations: 27\n",
      "Models: ['Naive' 'Seasonal Naive' 'MA-3' 'MA-6' 'Linear Trend'\n",
      " 'Linear Distribution (Current Method)' 'Prophet' 'SARIMAX' 'XGBoost']\n",
      "Metrics: ['total_orders' 'total_km' 'total_drivers']\n"
     ]
    }
   ],
   "source": [
    "# Load performance metrics from all models\n",
    "metrics_dir = Path('../data/processed')\n",
    "\n",
    "model_files = [\n",
    "    ('baseline_metrics.csv', 'Baseline'),\n",
    "    ('prophet_metrics.csv', 'Prophet'),\n",
    "    ('sarimax_metrics.csv', 'SARIMAX'),\n",
    "    ('xgboost_metrics.csv', 'XGBoost')\n",
    "]\n",
    "\n",
    "all_metrics = []\n",
    "\n",
    "for filename, model_family in model_files:\n",
    "    filepath = metrics_dir / filename\n",
    "    if filepath.exists():\n",
    "        df = pd.read_csv(filepath)\n",
    "        df['model_family'] = model_family\n",
    "        all_metrics.append(df)\n",
    "        print(f\"✓ Loaded {filename}: {len(df)} records\")\n",
    "    else:\n",
    "        print(f\"⚠️  Missing {filename}\")\n",
    "\n",
    "# Combine all metrics\n",
    "if len(all_metrics) > 0:\n",
    "    metrics_df = pd.concat(all_metrics, ignore_index=True)\n",
    "    print(f\"\\nTotal model evaluations: {len(metrics_df)}\")\n",
    "    print(f\"Models: {metrics_df['model'].unique()}\")\n",
    "    print(f\"Metrics: {metrics_df['metric'].unique()}\")\n",
    "else:\n",
    "    print(\"\\n❌ No model metrics found. Run notebooks 09-12 first.\")"
   ]
  },
  {
   "cell_type": "markdown",
   "metadata": {},
   "source": [
    "## Section 2: Model Rankings by MAPE\n",
    "\n",
    "Rank all models for each target metric."
   ]
  },
  {
   "cell_type": "code",
   "execution_count": 3,
   "metadata": {
    "execution": {
     "iopub.execute_input": "2025-10-29T20:01:06.518338Z",
     "iopub.status.busy": "2025-10-29T20:01:06.518262Z",
     "iopub.status.idle": "2025-10-29T20:01:06.525309Z",
     "shell.execute_reply": "2025-10-29T20:01:06.523904Z"
    }
   },
   "outputs": [
    {
     "name": "stdout",
     "output_type": "stream",
     "text": [
      "Model Rankings by MAPE\n",
      "================================================================================\n",
      "\n",
      "TOTAL_ORDERS:\n",
      "--------------------------------------------------------------------------------\n",
      "Rank   Model                      MAPE          MAE         RMSE\n",
      "-----------------------------------------------------------------\n",
      "🏆      Seasonal Naive            2.94%        4,179        5,240\n",
      "  2.   XGBoost                   3.83%        5,474        6,420\n",
      "  3.   Linear Distribution (Current Method)      4.17%        5,987        7,294\n",
      "  4.   Linear Trend              4.23%        6,100        7,799\n",
      "  5.   MA-3                      4.34%        6,245        7,833\n",
      "\n",
      "TOTAL_KM:\n",
      "--------------------------------------------------------------------------------\n",
      "Rank   Model                      MAPE          MAE         RMSE\n",
      "-----------------------------------------------------------------\n",
      "🏆      Seasonal Naive            2.89%      252,874      287,928\n",
      "  2.   XGBoost                   3.12%      272,539      310,988\n",
      "  3.   Linear Distribution (Current Method)      3.75%      331,893      384,656\n",
      "  4.   Linear Trend              3.80%      338,446      404,635\n",
      "  5.   MA-6                      4.08%      363,277      437,284\n",
      "\n",
      "TOTAL_DRIVERS:\n",
      "--------------------------------------------------------------------------------\n",
      "Rank   Model                      MAPE          MAE         RMSE\n",
      "-----------------------------------------------------------------\n",
      "🏆      Seasonal Naive            2.85%        3,975        5,160\n",
      "  2.   XGBoost                   3.67%        5,152        6,073\n",
      "  3.   Linear Distribution (Current Method)      4.09%        5,772        7,028\n",
      "  4.   Linear Trend              4.16%        5,888        7,509\n",
      "  5.   MA-3                      4.23%        5,982        7,466\n",
      "\n",
      "================================================================================\n",
      "BEST MODELS BY METRIC:\n",
      "================================================================================\n",
      "  • total_orders: Seasonal Naive (MAPE: 2.94%)\n",
      "  • total_km: Seasonal Naive (MAPE: 2.89%)\n",
      "  • total_drivers: Seasonal Naive (MAPE: 2.85%)\n"
     ]
    }
   ],
   "source": [
    "print(\"Model Rankings by MAPE\")\n",
    "print(\"=\"*80)\n",
    "\n",
    "target_metrics = metrics_df['metric'].unique()\n",
    "\n",
    "best_models = {}\n",
    "\n",
    "for target_metric in target_metrics:\n",
    "    print(f\"\\n{target_metric.upper()}:\")\n",
    "    print(\"-\"*80)\n",
    "    \n",
    "    # Filter for this metric and sort by MAPE\n",
    "    metric_df = metrics_df[metrics_df['metric'] == target_metric].sort_values('MAPE')\n",
    "    \n",
    "    # Display top 5\n",
    "    print(f\"{'Rank':<6} {'Model':<20} {'MAPE':>10} {'MAE':>12} {'RMSE':>12}\")\n",
    "    print(\"-\"*65)\n",
    "    \n",
    "    for i, row in enumerate(metric_df.head(5).itertuples(), 1):\n",
    "        symbol = \"🏆\" if i == 1 else f\"  {i}.\"\n",
    "        print(f\"{symbol:<6} {row.model:<20} {row.MAPE:>9.2f}% {row.MAE:>12,.0f} {row.RMSE:>12,.0f}\")\n",
    "    \n",
    "    # Store best model\n",
    "    best = metric_df.iloc[0]\n",
    "    best_models[target_metric] = best['model']\n",
    "    \n",
    "print(\"\\n\" + \"=\"*80)\n",
    "print(\"BEST MODELS BY METRIC:\")\n",
    "print(\"=\"*80)\n",
    "for metric, model in best_models.items():\n",
    "    mape = metrics_df[(metrics_df['metric'] == metric) & (metrics_df['model'] == model)]['MAPE'].values[0]\n",
    "    print(f\"  • {metric}: {model} (MAPE: {mape:.2f}%)\")"
   ]
  },
  {
   "cell_type": "markdown",
   "metadata": {},
   "source": [
    "## Section 3: Visualization - Model Comparison\n",
    "\n",
    "Create comparison charts for all models."
   ]
  },
  {
   "cell_type": "code",
   "execution_count": 4,
   "metadata": {
    "execution": {
     "iopub.execute_input": "2025-10-29T20:01:06.527317Z",
     "iopub.status.busy": "2025-10-29T20:01:06.527258Z",
     "iopub.status.idle": "2025-10-29T20:01:07.132961Z",
     "shell.execute_reply": "2025-10-29T20:01:07.131585Z"
    }
   },
   "outputs": [
    {
     "data": {
      "application/vnd.plotly.v1+json": {
       "config": {
        "plotlyServerURL": "https://plot.ly"
       },
       "data": [
        {
         "marker": {
          "color": [
           "#7f7f7f",
           "#2ca02c",
           "#7f7f7f",
           "#7f7f7f",
           "#7f7f7f",
           "#7f7f7f",
           "#7f7f7f",
           "#ff7f0e",
           "#1f77b4"
          ]
         },
         "orientation": "h",
         "showlegend": false,
         "text": [
          "2.9%",
          "3.8%",
          "4.2%",
          "4.2%",
          "4.3%",
          "4.5%",
          "6.8%",
          "24.4%",
          "28.3%"
         ],
         "textposition": "auto",
         "type": "bar",
         "x": {
          "bdata": "UimNpBiLB0AAAABiQqYOQP1KHmxNsBBAspwyrqjtEEDiTXf7bVsRQC6AKuEaCxJAM7pHQg4oG0DSM6Ppk2M4QAlj7Qc5VjxA",
          "dtype": "f8"
         },
         "xaxis": "x",
         "y": [
          "Seasonal Naive",
          "XGBoost",
          "Linear Distribution (Current Method)",
          "Linear Trend",
          "MA-3",
          "MA-6",
          "Naive",
          "SARIMAX",
          "Prophet"
         ],
         "yaxis": "y"
        },
        {
         "marker": {
          "color": [
           "#7f7f7f",
           "#2ca02c",
           "#7f7f7f",
           "#7f7f7f",
           "#7f7f7f",
           "#7f7f7f",
           "#ff7f0e",
           "#7f7f7f",
           "#1f77b4"
          ]
         },
         "orientation": "h",
         "showlegend": false,
         "text": [
          "2.9%",
          "3.1%",
          "3.7%",
          "3.8%",
          "4.1%",
          "4.2%",
          "7.1%",
          "7.3%",
          "23.5%"
         ],
         "textposition": "auto",
         "type": "bar",
         "x": {
          "bdata": "cVKnYZEdB0AhmFQ6kOsIQF0xcg7a/Q1AkD/QwqRuDkAedrYEiU0QQKth21aWpxBAiq/Bd1FmHEAtB3jgemAdQEKROxa8hDdA",
          "dtype": "f8"
         },
         "xaxis": "x2",
         "y": [
          "Seasonal Naive",
          "XGBoost",
          "Linear Distribution (Current Method)",
          "Linear Trend",
          "MA-6",
          "MA-3",
          "SARIMAX",
          "Naive",
          "Prophet"
         ],
         "yaxis": "y2"
        },
        {
         "marker": {
          "color": [
           "#7f7f7f",
           "#2ca02c",
           "#7f7f7f",
           "#7f7f7f",
           "#7f7f7f",
           "#7f7f7f",
           "#7f7f7f",
           "#1f77b4",
           "#ff7f0e"
          ]
         },
         "orientation": "h",
         "showlegend": false,
         "text": [
          "2.8%",
          "3.7%",
          "4.1%",
          "4.2%",
          "4.2%",
          "4.4%",
          "6.8%",
          "9.2%",
          "25.9%"
         ],
         "textposition": "auto",
         "type": "bar",
         "x": {
          "bdata": "rFi874rEBkAAAADO4GUNQPap/jU7YRBA6AzS2AWjEECufNUqau8QQE4ZfLgqnxFAc2QkgfFYG0BA2cdIN28iQKg0Nst+8DlA",
          "dtype": "f8"
         },
         "xaxis": "x3",
         "y": [
          "Seasonal Naive",
          "XGBoost",
          "Linear Distribution (Current Method)",
          "Linear Trend",
          "MA-3",
          "MA-6",
          "Naive",
          "Prophet",
          "SARIMAX"
         ],
         "yaxis": "y3"
        }
       ],
       "layout": {
        "annotations": [
         {
          "font": {
           "size": 16
          },
          "showarrow": false,
          "text": "Total Orders",
          "x": 0.12666666666666668,
          "xanchor": "center",
          "xref": "paper",
          "y": 1.0,
          "yanchor": "bottom",
          "yref": "paper"
         },
         {
          "font": {
           "size": 16
          },
          "showarrow": false,
          "text": "Total Km",
          "x": 0.5,
          "xanchor": "center",
          "xref": "paper",
          "y": 1.0,
          "yanchor": "bottom",
          "yref": "paper"
         },
         {
          "font": {
           "size": 16
          },
          "showarrow": false,
          "text": "Total Drivers",
          "x": 0.8733333333333333,
          "xanchor": "center",
          "xref": "paper",
          "y": 1.0,
          "yanchor": "bottom",
          "yref": "paper"
         }
        ],
        "height": 600,
        "showlegend": false,
        "template": {
         "data": {
          "bar": [
           {
            "error_x": {
             "color": "#2a3f5f"
            },
            "error_y": {
             "color": "#2a3f5f"
            },
            "marker": {
             "line": {
              "color": "#E5ECF6",
              "width": 0.5
             },
             "pattern": {
              "fillmode": "overlay",
              "size": 10,
              "solidity": 0.2
             }
            },
            "type": "bar"
           }
          ],
          "barpolar": [
           {
            "marker": {
             "line": {
              "color": "#E5ECF6",
              "width": 0.5
             },
             "pattern": {
              "fillmode": "overlay",
              "size": 10,
              "solidity": 0.2
             }
            },
            "type": "barpolar"
           }
          ],
          "carpet": [
           {
            "aaxis": {
             "endlinecolor": "#2a3f5f",
             "gridcolor": "white",
             "linecolor": "white",
             "minorgridcolor": "white",
             "startlinecolor": "#2a3f5f"
            },
            "baxis": {
             "endlinecolor": "#2a3f5f",
             "gridcolor": "white",
             "linecolor": "white",
             "minorgridcolor": "white",
             "startlinecolor": "#2a3f5f"
            },
            "type": "carpet"
           }
          ],
          "choropleth": [
           {
            "colorbar": {
             "outlinewidth": 0,
             "ticks": ""
            },
            "type": "choropleth"
           }
          ],
          "contour": [
           {
            "colorbar": {
             "outlinewidth": 0,
             "ticks": ""
            },
            "colorscale": [
             [
              0.0,
              "#0d0887"
             ],
             [
              0.1111111111111111,
              "#46039f"
             ],
             [
              0.2222222222222222,
              "#7201a8"
             ],
             [
              0.3333333333333333,
              "#9c179e"
             ],
             [
              0.4444444444444444,
              "#bd3786"
             ],
             [
              0.5555555555555556,
              "#d8576b"
             ],
             [
              0.6666666666666666,
              "#ed7953"
             ],
             [
              0.7777777777777778,
              "#fb9f3a"
             ],
             [
              0.8888888888888888,
              "#fdca26"
             ],
             [
              1.0,
              "#f0f921"
             ]
            ],
            "type": "contour"
           }
          ],
          "contourcarpet": [
           {
            "colorbar": {
             "outlinewidth": 0,
             "ticks": ""
            },
            "type": "contourcarpet"
           }
          ],
          "heatmap": [
           {
            "colorbar": {
             "outlinewidth": 0,
             "ticks": ""
            },
            "colorscale": [
             [
              0.0,
              "#0d0887"
             ],
             [
              0.1111111111111111,
              "#46039f"
             ],
             [
              0.2222222222222222,
              "#7201a8"
             ],
             [
              0.3333333333333333,
              "#9c179e"
             ],
             [
              0.4444444444444444,
              "#bd3786"
             ],
             [
              0.5555555555555556,
              "#d8576b"
             ],
             [
              0.6666666666666666,
              "#ed7953"
             ],
             [
              0.7777777777777778,
              "#fb9f3a"
             ],
             [
              0.8888888888888888,
              "#fdca26"
             ],
             [
              1.0,
              "#f0f921"
             ]
            ],
            "type": "heatmap"
           }
          ],
          "histogram": [
           {
            "marker": {
             "pattern": {
              "fillmode": "overlay",
              "size": 10,
              "solidity": 0.2
             }
            },
            "type": "histogram"
           }
          ],
          "histogram2d": [
           {
            "colorbar": {
             "outlinewidth": 0,
             "ticks": ""
            },
            "colorscale": [
             [
              0.0,
              "#0d0887"
             ],
             [
              0.1111111111111111,
              "#46039f"
             ],
             [
              0.2222222222222222,
              "#7201a8"
             ],
             [
              0.3333333333333333,
              "#9c179e"
             ],
             [
              0.4444444444444444,
              "#bd3786"
             ],
             [
              0.5555555555555556,
              "#d8576b"
             ],
             [
              0.6666666666666666,
              "#ed7953"
             ],
             [
              0.7777777777777778,
              "#fb9f3a"
             ],
             [
              0.8888888888888888,
              "#fdca26"
             ],
             [
              1.0,
              "#f0f921"
             ]
            ],
            "type": "histogram2d"
           }
          ],
          "histogram2dcontour": [
           {
            "colorbar": {
             "outlinewidth": 0,
             "ticks": ""
            },
            "colorscale": [
             [
              0.0,
              "#0d0887"
             ],
             [
              0.1111111111111111,
              "#46039f"
             ],
             [
              0.2222222222222222,
              "#7201a8"
             ],
             [
              0.3333333333333333,
              "#9c179e"
             ],
             [
              0.4444444444444444,
              "#bd3786"
             ],
             [
              0.5555555555555556,
              "#d8576b"
             ],
             [
              0.6666666666666666,
              "#ed7953"
             ],
             [
              0.7777777777777778,
              "#fb9f3a"
             ],
             [
              0.8888888888888888,
              "#fdca26"
             ],
             [
              1.0,
              "#f0f921"
             ]
            ],
            "type": "histogram2dcontour"
           }
          ],
          "mesh3d": [
           {
            "colorbar": {
             "outlinewidth": 0,
             "ticks": ""
            },
            "type": "mesh3d"
           }
          ],
          "parcoords": [
           {
            "line": {
             "colorbar": {
              "outlinewidth": 0,
              "ticks": ""
             }
            },
            "type": "parcoords"
           }
          ],
          "pie": [
           {
            "automargin": true,
            "type": "pie"
           }
          ],
          "scatter": [
           {
            "fillpattern": {
             "fillmode": "overlay",
             "size": 10,
             "solidity": 0.2
            },
            "type": "scatter"
           }
          ],
          "scatter3d": [
           {
            "line": {
             "colorbar": {
              "outlinewidth": 0,
              "ticks": ""
             }
            },
            "marker": {
             "colorbar": {
              "outlinewidth": 0,
              "ticks": ""
             }
            },
            "type": "scatter3d"
           }
          ],
          "scattercarpet": [
           {
            "marker": {
             "colorbar": {
              "outlinewidth": 0,
              "ticks": ""
             }
            },
            "type": "scattercarpet"
           }
          ],
          "scattergeo": [
           {
            "marker": {
             "colorbar": {
              "outlinewidth": 0,
              "ticks": ""
             }
            },
            "type": "scattergeo"
           }
          ],
          "scattergl": [
           {
            "marker": {
             "colorbar": {
              "outlinewidth": 0,
              "ticks": ""
             }
            },
            "type": "scattergl"
           }
          ],
          "scattermap": [
           {
            "marker": {
             "colorbar": {
              "outlinewidth": 0,
              "ticks": ""
             }
            },
            "type": "scattermap"
           }
          ],
          "scattermapbox": [
           {
            "marker": {
             "colorbar": {
              "outlinewidth": 0,
              "ticks": ""
             }
            },
            "type": "scattermapbox"
           }
          ],
          "scatterpolar": [
           {
            "marker": {
             "colorbar": {
              "outlinewidth": 0,
              "ticks": ""
             }
            },
            "type": "scatterpolar"
           }
          ],
          "scatterpolargl": [
           {
            "marker": {
             "colorbar": {
              "outlinewidth": 0,
              "ticks": ""
             }
            },
            "type": "scatterpolargl"
           }
          ],
          "scatterternary": [
           {
            "marker": {
             "colorbar": {
              "outlinewidth": 0,
              "ticks": ""
             }
            },
            "type": "scatterternary"
           }
          ],
          "surface": [
           {
            "colorbar": {
             "outlinewidth": 0,
             "ticks": ""
            },
            "colorscale": [
             [
              0.0,
              "#0d0887"
             ],
             [
              0.1111111111111111,
              "#46039f"
             ],
             [
              0.2222222222222222,
              "#7201a8"
             ],
             [
              0.3333333333333333,
              "#9c179e"
             ],
             [
              0.4444444444444444,
              "#bd3786"
             ],
             [
              0.5555555555555556,
              "#d8576b"
             ],
             [
              0.6666666666666666,
              "#ed7953"
             ],
             [
              0.7777777777777778,
              "#fb9f3a"
             ],
             [
              0.8888888888888888,
              "#fdca26"
             ],
             [
              1.0,
              "#f0f921"
             ]
            ],
            "type": "surface"
           }
          ],
          "table": [
           {
            "cells": {
             "fill": {
              "color": "#EBF0F8"
             },
             "line": {
              "color": "white"
             }
            },
            "header": {
             "fill": {
              "color": "#C8D4E3"
             },
             "line": {
              "color": "white"
             }
            },
            "type": "table"
           }
          ]
         },
         "layout": {
          "annotationdefaults": {
           "arrowcolor": "#2a3f5f",
           "arrowhead": 0,
           "arrowwidth": 1
          },
          "autotypenumbers": "strict",
          "coloraxis": {
           "colorbar": {
            "outlinewidth": 0,
            "ticks": ""
           }
          },
          "colorscale": {
           "diverging": [
            [
             0,
             "#8e0152"
            ],
            [
             0.1,
             "#c51b7d"
            ],
            [
             0.2,
             "#de77ae"
            ],
            [
             0.3,
             "#f1b6da"
            ],
            [
             0.4,
             "#fde0ef"
            ],
            [
             0.5,
             "#f7f7f7"
            ],
            [
             0.6,
             "#e6f5d0"
            ],
            [
             0.7,
             "#b8e186"
            ],
            [
             0.8,
             "#7fbc41"
            ],
            [
             0.9,
             "#4d9221"
            ],
            [
             1,
             "#276419"
            ]
           ],
           "sequential": [
            [
             0.0,
             "#0d0887"
            ],
            [
             0.1111111111111111,
             "#46039f"
            ],
            [
             0.2222222222222222,
             "#7201a8"
            ],
            [
             0.3333333333333333,
             "#9c179e"
            ],
            [
             0.4444444444444444,
             "#bd3786"
            ],
            [
             0.5555555555555556,
             "#d8576b"
            ],
            [
             0.6666666666666666,
             "#ed7953"
            ],
            [
             0.7777777777777778,
             "#fb9f3a"
            ],
            [
             0.8888888888888888,
             "#fdca26"
            ],
            [
             1.0,
             "#f0f921"
            ]
           ],
           "sequentialminus": [
            [
             0.0,
             "#0d0887"
            ],
            [
             0.1111111111111111,
             "#46039f"
            ],
            [
             0.2222222222222222,
             "#7201a8"
            ],
            [
             0.3333333333333333,
             "#9c179e"
            ],
            [
             0.4444444444444444,
             "#bd3786"
            ],
            [
             0.5555555555555556,
             "#d8576b"
            ],
            [
             0.6666666666666666,
             "#ed7953"
            ],
            [
             0.7777777777777778,
             "#fb9f3a"
            ],
            [
             0.8888888888888888,
             "#fdca26"
            ],
            [
             1.0,
             "#f0f921"
            ]
           ]
          },
          "colorway": [
           "#636efa",
           "#EF553B",
           "#00cc96",
           "#ab63fa",
           "#FFA15A",
           "#19d3f3",
           "#FF6692",
           "#B6E880",
           "#FF97FF",
           "#FECB52"
          ],
          "font": {
           "color": "#2a3f5f"
          },
          "geo": {
           "bgcolor": "white",
           "lakecolor": "white",
           "landcolor": "#E5ECF6",
           "showlakes": true,
           "showland": true,
           "subunitcolor": "white"
          },
          "hoverlabel": {
           "align": "left"
          },
          "hovermode": "closest",
          "mapbox": {
           "style": "light"
          },
          "paper_bgcolor": "white",
          "plot_bgcolor": "#E5ECF6",
          "polar": {
           "angularaxis": {
            "gridcolor": "white",
            "linecolor": "white",
            "ticks": ""
           },
           "bgcolor": "#E5ECF6",
           "radialaxis": {
            "gridcolor": "white",
            "linecolor": "white",
            "ticks": ""
           }
          },
          "scene": {
           "xaxis": {
            "backgroundcolor": "#E5ECF6",
            "gridcolor": "white",
            "gridwidth": 2,
            "linecolor": "white",
            "showbackground": true,
            "ticks": "",
            "zerolinecolor": "white"
           },
           "yaxis": {
            "backgroundcolor": "#E5ECF6",
            "gridcolor": "white",
            "gridwidth": 2,
            "linecolor": "white",
            "showbackground": true,
            "ticks": "",
            "zerolinecolor": "white"
           },
           "zaxis": {
            "backgroundcolor": "#E5ECF6",
            "gridcolor": "white",
            "gridwidth": 2,
            "linecolor": "white",
            "showbackground": true,
            "ticks": "",
            "zerolinecolor": "white"
           }
          },
          "shapedefaults": {
           "line": {
            "color": "#2a3f5f"
           }
          },
          "ternary": {
           "aaxis": {
            "gridcolor": "white",
            "linecolor": "white",
            "ticks": ""
           },
           "baxis": {
            "gridcolor": "white",
            "linecolor": "white",
            "ticks": ""
           },
           "bgcolor": "#E5ECF6",
           "caxis": {
            "gridcolor": "white",
            "linecolor": "white",
            "ticks": ""
           }
          },
          "title": {
           "x": 0.05
          },
          "xaxis": {
           "automargin": true,
           "gridcolor": "white",
           "linecolor": "white",
           "ticks": "",
           "title": {
            "standoff": 15
           },
           "zerolinecolor": "white",
           "zerolinewidth": 2
          },
          "yaxis": {
           "automargin": true,
           "gridcolor": "white",
           "linecolor": "white",
           "ticks": "",
           "title": {
            "standoff": 15
           },
           "zerolinecolor": "white",
           "zerolinewidth": 2
          }
         }
        },
        "title": {
         "text": "Model Performance Comparison - MAPE (Lower is Better)"
        },
        "xaxis": {
         "anchor": "y",
         "domain": [
          0.0,
          0.25333333333333335
         ]
        },
        "xaxis2": {
         "anchor": "y2",
         "domain": [
          0.37333333333333335,
          0.6266666666666667
         ],
         "title": {
          "text": "MAPE (%)"
         }
        },
        "xaxis3": {
         "anchor": "y3",
         "domain": [
          0.7466666666666667,
          1.0
         ]
        },
        "yaxis": {
         "anchor": "x",
         "domain": [
          0.0,
          1.0
         ],
         "title": {
          "text": "Model"
         }
        },
        "yaxis2": {
         "anchor": "x2",
         "domain": [
          0.0,
          1.0
         ]
        },
        "yaxis3": {
         "anchor": "x3",
         "domain": [
          0.0,
          1.0
         ]
        }
       }
      }
     },
     "metadata": {},
     "output_type": "display_data"
    },
    {
     "name": "stdout",
     "output_type": "stream",
     "text": [
      "✓ Saved: results/model_comparison_mape.html\n"
     ]
    }
   ],
   "source": [
    "# Create MAPE comparison chart\n",
    "fig = make_subplots(\n",
    "    rows=1, cols=len(target_metrics),\n",
    "    subplot_titles=[m.replace('_', ' ').title() for m in target_metrics],\n",
    "    horizontal_spacing=0.12\n",
    ")\n",
    "\n",
    "colors = {\n",
    "    'Baseline': '#7f7f7f',\n",
    "    'Prophet': '#1f77b4',\n",
    "    'SARIMAX': '#ff7f0e',\n",
    "    'XGBoost': '#2ca02c'\n",
    "}\n",
    "\n",
    "for col_idx, target_metric in enumerate(target_metrics, 1):\n",
    "    metric_df = metrics_df[metrics_df['metric'] == target_metric].sort_values('MAPE')\n",
    "    \n",
    "    fig.add_trace(\n",
    "        go.Bar(\n",
    "            y=metric_df['model'],\n",
    "            x=metric_df['MAPE'],\n",
    "            orientation='h',\n",
    "            marker=dict(\n",
    "                color=[colors.get(mf, '#999999') for mf in metric_df['model_family']]\n",
    "            ),\n",
    "            showlegend=False,\n",
    "            text=metric_df['MAPE'].apply(lambda x: f\"{x:.1f}%\"),\n",
    "            textposition='auto'\n",
    "        ),\n",
    "        row=1, col=col_idx\n",
    "    )\n",
    "\n",
    "fig.update_xaxes(title_text=\"MAPE (%)\", row=1, col=2)\n",
    "fig.update_yaxes(title_text=\"Model\", row=1, col=1)\n",
    "\n",
    "fig.update_layout(\n",
    "    title_text=\"Model Performance Comparison - MAPE (Lower is Better)\",\n",
    "    height=600,\n",
    "    showlegend=False\n",
    ")\n",
    "\n",
    "fig.show()\n",
    "\n",
    "# Save\n",
    "results_dir = Path('../results')\n",
    "results_dir.mkdir(exist_ok=True)\n",
    "fig.write_html(results_dir / 'model_comparison_mape.html')\n",
    "print(f\"✓ Saved: results/model_comparison_mape.html\")"
   ]
  },
  {
   "cell_type": "markdown",
   "metadata": {},
   "source": [
    "## Section 4: Load Forecast Data for Visualization\n",
    "\n",
    "Compare actual vs predicted values for best models."
   ]
  },
  {
   "cell_type": "code",
   "execution_count": 5,
   "metadata": {
    "execution": {
     "iopub.execute_input": "2025-10-29T20:01:07.135033Z",
     "iopub.status.busy": "2025-10-29T20:01:07.134974Z",
     "iopub.status.idle": "2025-10-29T20:01:07.141468Z",
     "shell.execute_reply": "2025-10-29T20:01:07.139232Z"
    }
   },
   "outputs": [
    {
     "name": "stdout",
     "output_type": "stream",
     "text": [
      "✓ Loaded actual data: 36 months\n",
      "  Date range: 2022-01-01 00:00:00 to 2024-12-01 00:00:00\n",
      "  Columns: ['year_month', 'total_orders', 'total_km', 'external_drivers', 'internal_drivers', 'Delivery', 'Leergut', 'Pickup/Multi-leg', 'Retoure/Abholung', 'date', 'total_drivers', 'km_per_order', 'month', 'year']\n"
     ]
    }
   ],
   "source": [
    "# Load actual monthly data\n",
    "df_actual = pd.read_csv(metrics_dir / 'monthly_aggregated_full_company.csv')\n",
    "df_actual['date'] = pd.to_datetime(df_actual['date'])\n",
    "print(f\"✓ Loaded actual data: {len(df_actual)} months\")\n",
    "print(f\"  Date range: {df_actual['date'].min()} to {df_actual['date'].max()}\")\n",
    "print(f\"  Columns: {list(df_actual.columns)}\")"
   ]
  },
  {
   "cell_type": "code",
   "execution_count": 6,
   "metadata": {
    "execution": {
     "iopub.execute_input": "2025-10-29T20:01:07.143396Z",
     "iopub.status.busy": "2025-10-29T20:01:07.143333Z",
     "iopub.status.idle": "2025-10-29T20:01:07.150149Z",
     "shell.execute_reply": "2025-10-29T20:01:07.148783Z"
    }
   },
   "outputs": [
    {
     "name": "stdout",
     "output_type": "stream",
     "text": [
      "Training: 30 months\n",
      "Validation: 6 months\n",
      "✓ Loaded forecast for total_orders: Seasonal Naive\n",
      "✓ Loaded forecast for total_km: Seasonal Naive\n",
      "✓ Loaded forecast for total_drivers: Seasonal Naive\n"
     ]
    }
   ],
   "source": [
    "# Split train/val\n",
    "train_end = '2024-06-30'\n",
    "val_start = '2024-07-01'\n",
    "val_end = '2024-12-31'\n",
    "\n",
    "train_df = df_actual[df_actual['date'] <= train_end]\n",
    "val_df = df_actual[(df_actual['date'] >= val_start) & (df_actual['date'] <= val_end)]\n",
    "\n",
    "print(f\"Training: {len(train_df)} months\")\n",
    "print(f\"Validation: {len(val_df)} months\")\n",
    "\n",
    "# Load forecasts from best models\n",
    "forecasts = {}\n",
    "\n",
    "for metric, best_model in best_models.items():\n",
    "    # Determine which file to load based on model name\n",
    "    if 'Prophet' in best_model:\n",
    "        forecast_file = 'prophet_forecast_validation.csv'\n",
    "    elif 'SARIMAX' in best_model:\n",
    "        forecast_file = 'sarimax_forecast_validation.csv'\n",
    "    elif 'XGBoost' in best_model:\n",
    "        forecast_file = 'xgboost_forecast_validation.csv'\n",
    "    else:\n",
    "        # Baseline model\n",
    "        model_name_clean = best_model.lower().replace(' ', '_').replace('-', '')\n",
    "        forecast_file = f'baseline_forecast_{model_name_clean}.csv'\n",
    "    \n",
    "    forecast_path = metrics_dir / forecast_file\n",
    "    \n",
    "    if forecast_path.exists():\n",
    "        df_forecast = pd.read_csv(forecast_path)\n",
    "        forecasts[metric] = {\n",
    "            'model': best_model,\n",
    "            'data': df_forecast\n",
    "        }\n",
    "        print(f\"✓ Loaded forecast for {metric}: {best_model}\")\n",
    "    else:\n",
    "        print(f\"⚠️  Forecast file not found: {forecast_file}\")"
   ]
  },
  {
   "cell_type": "markdown",
   "metadata": {},
   "source": [
    "## Section 5: Best Model Forecasts Visualization"
   ]
  },
  {
   "cell_type": "code",
   "execution_count": 7,
   "metadata": {
    "execution": {
     "iopub.execute_input": "2025-10-29T20:01:07.152143Z",
     "iopub.status.busy": "2025-10-29T20:01:07.152071Z",
     "iopub.status.idle": "2025-10-29T20:01:07.191684Z",
     "shell.execute_reply": "2025-10-29T20:01:07.190334Z"
    }
   },
   "outputs": [
    {
     "data": {
      "application/vnd.plotly.v1+json": {
       "config": {
        "plotlyServerURL": "https://plot.ly"
       },
       "data": [
        {
         "line": {
          "color": "black",
          "width": 2
         },
         "mode": "lines",
         "name": "Historical (Training)",
         "type": "scatter",
         "x": [
          "2022-01-01T00:00:00",
          "2022-02-01T00:00:00",
          "2022-03-01T00:00:00",
          "2022-04-01T00:00:00",
          "2022-05-01T00:00:00",
          "2022-06-01T00:00:00",
          "2022-07-01T00:00:00",
          "2022-08-01T00:00:00",
          "2022-09-01T00:00:00",
          "2022-10-01T00:00:00",
          "2022-11-01T00:00:00",
          "2022-12-01T00:00:00",
          "2023-01-01T00:00:00",
          "2023-02-01T00:00:00",
          "2023-03-01T00:00:00",
          "2023-04-01T00:00:00",
          "2023-05-01T00:00:00",
          "2023-06-01T00:00:00",
          "2023-07-01T00:00:00",
          "2023-08-01T00:00:00",
          "2023-09-01T00:00:00",
          "2023-10-01T00:00:00",
          "2023-11-01T00:00:00",
          "2023-12-01T00:00:00",
          "2024-01-01T00:00:00",
          "2024-02-01T00:00:00",
          "2024-03-01T00:00:00",
          "2024-04-01T00:00:00",
          "2024-05-01T00:00:00",
          "2024-06-01T00:00:00"
         ],
         "y": {
          "bdata": "1f8BAOD7AQARXAIAfQMCAF4UAgCcBgIA6hICAL4iAgCtOgIAqSMCANUWAgAzHAIA3gQCABr9AQCwVwIAU+wBAGMhAgBcIAIANxMCAHsZAgAHJAIAJSYCAH0TAgAk9wEARAUCAJkAAgDqDQIAKhECAL0XAgDD/AEA",
          "dtype": "i4"
         }
        },
        {
         "line": {
          "color": "green",
          "width": 3
         },
         "marker": {
          "size": 8
         },
         "mode": "lines+markers",
         "name": "Actual (Validation)",
         "type": "scatter",
         "x": [
          "2024-07-01T00:00:00",
          "2024-08-01T00:00:00",
          "2024-09-01T00:00:00",
          "2024-10-01T00:00:00",
          "2024-11-01T00:00:00",
          "2024-12-01T00:00:00"
         ],
         "y": {
          "bdata": "sjgCAOAeAgDiJQIAMkACAK4JAgB/CAIA",
          "dtype": "i4"
         }
        },
        {
         "line": {
          "color": "red",
          "dash": "dash",
          "width": 2
         },
         "marker": {
          "size": 8
         },
         "mode": "lines+markers",
         "name": "Seasonal Naive Forecast",
         "type": "scatter",
         "x": [
          "2024-07-01T00:00:00",
          "2024-08-01T00:00:00",
          "2024-09-01T00:00:00",
          "2024-10-01T00:00:00",
          "2024-11-01T00:00:00",
          "2024-12-01T00:00:00"
         ],
         "y": {
          "bdata": "NxMCAHsZAgAHJAIAJSYCAH0TAgAk9wEA",
          "dtype": "i4"
         }
        }
       ],
       "layout": {
        "height": 600,
        "hovermode": "x unified",
        "legend": {
         "x": 0.01,
         "y": 0.99
        },
        "template": {
         "data": {
          "bar": [
           {
            "error_x": {
             "color": "#2a3f5f"
            },
            "error_y": {
             "color": "#2a3f5f"
            },
            "marker": {
             "line": {
              "color": "#E5ECF6",
              "width": 0.5
             },
             "pattern": {
              "fillmode": "overlay",
              "size": 10,
              "solidity": 0.2
             }
            },
            "type": "bar"
           }
          ],
          "barpolar": [
           {
            "marker": {
             "line": {
              "color": "#E5ECF6",
              "width": 0.5
             },
             "pattern": {
              "fillmode": "overlay",
              "size": 10,
              "solidity": 0.2
             }
            },
            "type": "barpolar"
           }
          ],
          "carpet": [
           {
            "aaxis": {
             "endlinecolor": "#2a3f5f",
             "gridcolor": "white",
             "linecolor": "white",
             "minorgridcolor": "white",
             "startlinecolor": "#2a3f5f"
            },
            "baxis": {
             "endlinecolor": "#2a3f5f",
             "gridcolor": "white",
             "linecolor": "white",
             "minorgridcolor": "white",
             "startlinecolor": "#2a3f5f"
            },
            "type": "carpet"
           }
          ],
          "choropleth": [
           {
            "colorbar": {
             "outlinewidth": 0,
             "ticks": ""
            },
            "type": "choropleth"
           }
          ],
          "contour": [
           {
            "colorbar": {
             "outlinewidth": 0,
             "ticks": ""
            },
            "colorscale": [
             [
              0.0,
              "#0d0887"
             ],
             [
              0.1111111111111111,
              "#46039f"
             ],
             [
              0.2222222222222222,
              "#7201a8"
             ],
             [
              0.3333333333333333,
              "#9c179e"
             ],
             [
              0.4444444444444444,
              "#bd3786"
             ],
             [
              0.5555555555555556,
              "#d8576b"
             ],
             [
              0.6666666666666666,
              "#ed7953"
             ],
             [
              0.7777777777777778,
              "#fb9f3a"
             ],
             [
              0.8888888888888888,
              "#fdca26"
             ],
             [
              1.0,
              "#f0f921"
             ]
            ],
            "type": "contour"
           }
          ],
          "contourcarpet": [
           {
            "colorbar": {
             "outlinewidth": 0,
             "ticks": ""
            },
            "type": "contourcarpet"
           }
          ],
          "heatmap": [
           {
            "colorbar": {
             "outlinewidth": 0,
             "ticks": ""
            },
            "colorscale": [
             [
              0.0,
              "#0d0887"
             ],
             [
              0.1111111111111111,
              "#46039f"
             ],
             [
              0.2222222222222222,
              "#7201a8"
             ],
             [
              0.3333333333333333,
              "#9c179e"
             ],
             [
              0.4444444444444444,
              "#bd3786"
             ],
             [
              0.5555555555555556,
              "#d8576b"
             ],
             [
              0.6666666666666666,
              "#ed7953"
             ],
             [
              0.7777777777777778,
              "#fb9f3a"
             ],
             [
              0.8888888888888888,
              "#fdca26"
             ],
             [
              1.0,
              "#f0f921"
             ]
            ],
            "type": "heatmap"
           }
          ],
          "histogram": [
           {
            "marker": {
             "pattern": {
              "fillmode": "overlay",
              "size": 10,
              "solidity": 0.2
             }
            },
            "type": "histogram"
           }
          ],
          "histogram2d": [
           {
            "colorbar": {
             "outlinewidth": 0,
             "ticks": ""
            },
            "colorscale": [
             [
              0.0,
              "#0d0887"
             ],
             [
              0.1111111111111111,
              "#46039f"
             ],
             [
              0.2222222222222222,
              "#7201a8"
             ],
             [
              0.3333333333333333,
              "#9c179e"
             ],
             [
              0.4444444444444444,
              "#bd3786"
             ],
             [
              0.5555555555555556,
              "#d8576b"
             ],
             [
              0.6666666666666666,
              "#ed7953"
             ],
             [
              0.7777777777777778,
              "#fb9f3a"
             ],
             [
              0.8888888888888888,
              "#fdca26"
             ],
             [
              1.0,
              "#f0f921"
             ]
            ],
            "type": "histogram2d"
           }
          ],
          "histogram2dcontour": [
           {
            "colorbar": {
             "outlinewidth": 0,
             "ticks": ""
            },
            "colorscale": [
             [
              0.0,
              "#0d0887"
             ],
             [
              0.1111111111111111,
              "#46039f"
             ],
             [
              0.2222222222222222,
              "#7201a8"
             ],
             [
              0.3333333333333333,
              "#9c179e"
             ],
             [
              0.4444444444444444,
              "#bd3786"
             ],
             [
              0.5555555555555556,
              "#d8576b"
             ],
             [
              0.6666666666666666,
              "#ed7953"
             ],
             [
              0.7777777777777778,
              "#fb9f3a"
             ],
             [
              0.8888888888888888,
              "#fdca26"
             ],
             [
              1.0,
              "#f0f921"
             ]
            ],
            "type": "histogram2dcontour"
           }
          ],
          "mesh3d": [
           {
            "colorbar": {
             "outlinewidth": 0,
             "ticks": ""
            },
            "type": "mesh3d"
           }
          ],
          "parcoords": [
           {
            "line": {
             "colorbar": {
              "outlinewidth": 0,
              "ticks": ""
             }
            },
            "type": "parcoords"
           }
          ],
          "pie": [
           {
            "automargin": true,
            "type": "pie"
           }
          ],
          "scatter": [
           {
            "fillpattern": {
             "fillmode": "overlay",
             "size": 10,
             "solidity": 0.2
            },
            "type": "scatter"
           }
          ],
          "scatter3d": [
           {
            "line": {
             "colorbar": {
              "outlinewidth": 0,
              "ticks": ""
             }
            },
            "marker": {
             "colorbar": {
              "outlinewidth": 0,
              "ticks": ""
             }
            },
            "type": "scatter3d"
           }
          ],
          "scattercarpet": [
           {
            "marker": {
             "colorbar": {
              "outlinewidth": 0,
              "ticks": ""
             }
            },
            "type": "scattercarpet"
           }
          ],
          "scattergeo": [
           {
            "marker": {
             "colorbar": {
              "outlinewidth": 0,
              "ticks": ""
             }
            },
            "type": "scattergeo"
           }
          ],
          "scattergl": [
           {
            "marker": {
             "colorbar": {
              "outlinewidth": 0,
              "ticks": ""
             }
            },
            "type": "scattergl"
           }
          ],
          "scattermap": [
           {
            "marker": {
             "colorbar": {
              "outlinewidth": 0,
              "ticks": ""
             }
            },
            "type": "scattermap"
           }
          ],
          "scattermapbox": [
           {
            "marker": {
             "colorbar": {
              "outlinewidth": 0,
              "ticks": ""
             }
            },
            "type": "scattermapbox"
           }
          ],
          "scatterpolar": [
           {
            "marker": {
             "colorbar": {
              "outlinewidth": 0,
              "ticks": ""
             }
            },
            "type": "scatterpolar"
           }
          ],
          "scatterpolargl": [
           {
            "marker": {
             "colorbar": {
              "outlinewidth": 0,
              "ticks": ""
             }
            },
            "type": "scatterpolargl"
           }
          ],
          "scatterternary": [
           {
            "marker": {
             "colorbar": {
              "outlinewidth": 0,
              "ticks": ""
             }
            },
            "type": "scatterternary"
           }
          ],
          "surface": [
           {
            "colorbar": {
             "outlinewidth": 0,
             "ticks": ""
            },
            "colorscale": [
             [
              0.0,
              "#0d0887"
             ],
             [
              0.1111111111111111,
              "#46039f"
             ],
             [
              0.2222222222222222,
              "#7201a8"
             ],
             [
              0.3333333333333333,
              "#9c179e"
             ],
             [
              0.4444444444444444,
              "#bd3786"
             ],
             [
              0.5555555555555556,
              "#d8576b"
             ],
             [
              0.6666666666666666,
              "#ed7953"
             ],
             [
              0.7777777777777778,
              "#fb9f3a"
             ],
             [
              0.8888888888888888,
              "#fdca26"
             ],
             [
              1.0,
              "#f0f921"
             ]
            ],
            "type": "surface"
           }
          ],
          "table": [
           {
            "cells": {
             "fill": {
              "color": "#EBF0F8"
             },
             "line": {
              "color": "white"
             }
            },
            "header": {
             "fill": {
              "color": "#C8D4E3"
             },
             "line": {
              "color": "white"
             }
            },
            "type": "table"
           }
          ]
         },
         "layout": {
          "annotationdefaults": {
           "arrowcolor": "#2a3f5f",
           "arrowhead": 0,
           "arrowwidth": 1
          },
          "autotypenumbers": "strict",
          "coloraxis": {
           "colorbar": {
            "outlinewidth": 0,
            "ticks": ""
           }
          },
          "colorscale": {
           "diverging": [
            [
             0,
             "#8e0152"
            ],
            [
             0.1,
             "#c51b7d"
            ],
            [
             0.2,
             "#de77ae"
            ],
            [
             0.3,
             "#f1b6da"
            ],
            [
             0.4,
             "#fde0ef"
            ],
            [
             0.5,
             "#f7f7f7"
            ],
            [
             0.6,
             "#e6f5d0"
            ],
            [
             0.7,
             "#b8e186"
            ],
            [
             0.8,
             "#7fbc41"
            ],
            [
             0.9,
             "#4d9221"
            ],
            [
             1,
             "#276419"
            ]
           ],
           "sequential": [
            [
             0.0,
             "#0d0887"
            ],
            [
             0.1111111111111111,
             "#46039f"
            ],
            [
             0.2222222222222222,
             "#7201a8"
            ],
            [
             0.3333333333333333,
             "#9c179e"
            ],
            [
             0.4444444444444444,
             "#bd3786"
            ],
            [
             0.5555555555555556,
             "#d8576b"
            ],
            [
             0.6666666666666666,
             "#ed7953"
            ],
            [
             0.7777777777777778,
             "#fb9f3a"
            ],
            [
             0.8888888888888888,
             "#fdca26"
            ],
            [
             1.0,
             "#f0f921"
            ]
           ],
           "sequentialminus": [
            [
             0.0,
             "#0d0887"
            ],
            [
             0.1111111111111111,
             "#46039f"
            ],
            [
             0.2222222222222222,
             "#7201a8"
            ],
            [
             0.3333333333333333,
             "#9c179e"
            ],
            [
             0.4444444444444444,
             "#bd3786"
            ],
            [
             0.5555555555555556,
             "#d8576b"
            ],
            [
             0.6666666666666666,
             "#ed7953"
            ],
            [
             0.7777777777777778,
             "#fb9f3a"
            ],
            [
             0.8888888888888888,
             "#fdca26"
            ],
            [
             1.0,
             "#f0f921"
            ]
           ]
          },
          "colorway": [
           "#636efa",
           "#EF553B",
           "#00cc96",
           "#ab63fa",
           "#FFA15A",
           "#19d3f3",
           "#FF6692",
           "#B6E880",
           "#FF97FF",
           "#FECB52"
          ],
          "font": {
           "color": "#2a3f5f"
          },
          "geo": {
           "bgcolor": "white",
           "lakecolor": "white",
           "landcolor": "#E5ECF6",
           "showlakes": true,
           "showland": true,
           "subunitcolor": "white"
          },
          "hoverlabel": {
           "align": "left"
          },
          "hovermode": "closest",
          "mapbox": {
           "style": "light"
          },
          "paper_bgcolor": "white",
          "plot_bgcolor": "#E5ECF6",
          "polar": {
           "angularaxis": {
            "gridcolor": "white",
            "linecolor": "white",
            "ticks": ""
           },
           "bgcolor": "#E5ECF6",
           "radialaxis": {
            "gridcolor": "white",
            "linecolor": "white",
            "ticks": ""
           }
          },
          "scene": {
           "xaxis": {
            "backgroundcolor": "#E5ECF6",
            "gridcolor": "white",
            "gridwidth": 2,
            "linecolor": "white",
            "showbackground": true,
            "ticks": "",
            "zerolinecolor": "white"
           },
           "yaxis": {
            "backgroundcolor": "#E5ECF6",
            "gridcolor": "white",
            "gridwidth": 2,
            "linecolor": "white",
            "showbackground": true,
            "ticks": "",
            "zerolinecolor": "white"
           },
           "zaxis": {
            "backgroundcolor": "#E5ECF6",
            "gridcolor": "white",
            "gridwidth": 2,
            "linecolor": "white",
            "showbackground": true,
            "ticks": "",
            "zerolinecolor": "white"
           }
          },
          "shapedefaults": {
           "line": {
            "color": "#2a3f5f"
           }
          },
          "ternary": {
           "aaxis": {
            "gridcolor": "white",
            "linecolor": "white",
            "ticks": ""
           },
           "baxis": {
            "gridcolor": "white",
            "linecolor": "white",
            "ticks": ""
           },
           "bgcolor": "#E5ECF6",
           "caxis": {
            "gridcolor": "white",
            "linecolor": "white",
            "ticks": ""
           }
          },
          "title": {
           "x": 0.05
          },
          "xaxis": {
           "automargin": true,
           "gridcolor": "white",
           "linecolor": "white",
           "ticks": "",
           "title": {
            "standoff": 15
           },
           "zerolinecolor": "white",
           "zerolinewidth": 2
          },
          "yaxis": {
           "automargin": true,
           "gridcolor": "white",
           "linecolor": "white",
           "ticks": "",
           "title": {
            "standoff": 15
           },
           "zerolinecolor": "white",
           "zerolinewidth": 2
          }
         }
        },
        "title": {
         "text": "Best Model Forecast - Total Orders<br>Model: Seasonal Naive (MAPE: 2.94%)"
        },
        "xaxis": {
         "title": {
          "text": "Date"
         }
        },
        "yaxis": {
         "title": {
          "text": "Total Orders"
         }
        }
       }
      }
     },
     "metadata": {},
     "output_type": "display_data"
    },
    {
     "name": "stdout",
     "output_type": "stream",
     "text": [
      "✓ Saved: results/best_model_forecast_total_orders.html\n"
     ]
    },
    {
     "data": {
      "application/vnd.plotly.v1+json": {
       "config": {
        "plotlyServerURL": "https://plot.ly"
       },
       "data": [
        {
         "line": {
          "color": "black",
          "width": 2
         },
         "mode": "lines",
         "name": "Historical (Training)",
         "type": "scatter",
         "x": [
          "2022-01-01T00:00:00",
          "2022-02-01T00:00:00",
          "2022-03-01T00:00:00",
          "2022-04-01T00:00:00",
          "2022-05-01T00:00:00",
          "2022-06-01T00:00:00",
          "2022-07-01T00:00:00",
          "2022-08-01T00:00:00",
          "2022-09-01T00:00:00",
          "2022-10-01T00:00:00",
          "2022-11-01T00:00:00",
          "2022-12-01T00:00:00",
          "2023-01-01T00:00:00",
          "2023-02-01T00:00:00",
          "2023-03-01T00:00:00",
          "2023-04-01T00:00:00",
          "2023-05-01T00:00:00",
          "2023-06-01T00:00:00",
          "2023-07-01T00:00:00",
          "2023-08-01T00:00:00",
          "2023-09-01T00:00:00",
          "2023-10-01T00:00:00",
          "2023-11-01T00:00:00",
          "2023-12-01T00:00:00",
          "2024-01-01T00:00:00",
          "2024-02-01T00:00:00",
          "2024-03-01T00:00:00",
          "2024-04-01T00:00:00",
          "2024-05-01T00:00:00",
          "2024-06-01T00:00:00"
         ],
         "y": {
          "bdata": "AAAAgPlTX0EAAADAD29fQQAAAKCngmJBAAAAQE+4X0EAAAAAq25gQQAAAEDV1l9BAAAAQMpZYEEAAABgP9ZgQQAAAIDel2FBAAAAgAPqYEEAAADgVVNgQQAAAGAFmWBBAAAAwG/yX0EAAACA96RfQQAAAEDkjmJBAAAAAIhsXkEAAABAcuRgQQAAACCfpGBBAAAAAFdcYEEAAADgdptgQQAAACAr7mBBAAAA4OnqYEEAAACgAlxgQQAAAABA6V5BAAAAwCbfX0EAAADAZh1gQQAAAKAPVWBBAAAAIOdhYEEAAADgn1hgQQAAAMCMul5B",
          "dtype": "f8"
         }
        },
        {
         "line": {
          "color": "green",
          "width": 3
         },
         "marker": {
          "size": 8
         },
         "mode": "lines+markers",
         "name": "Actual (Validation)",
         "type": "scatter",
         "x": [
          "2024-07-01T00:00:00",
          "2024-08-01T00:00:00",
          "2024-09-01T00:00:00",
          "2024-10-01T00:00:00",
          "2024-11-01T00:00:00",
          "2024-12-01T00:00:00"
         ],
         "y": {
          "bdata": "AAAAADpIYUEAAACAEnpgQQAAAABSt2BBAAAAgDaBYUEAAACA5oZfQQAAAMD1zF9B",
          "dtype": "f8"
         }
        },
        {
         "line": {
          "color": "red",
          "dash": "dash",
          "width": 2
         },
         "marker": {
          "size": 8
         },
         "mode": "lines+markers",
         "name": "Seasonal Naive Forecast",
         "type": "scatter",
         "x": [
          "2024-07-01T00:00:00",
          "2024-08-01T00:00:00",
          "2024-09-01T00:00:00",
          "2024-10-01T00:00:00",
          "2024-11-01T00:00:00",
          "2024-12-01T00:00:00"
         ],
         "y": {
          "bdata": "AAAAAFdcYEEAAADgdptgQQAAACAr7mBBAAAA4OnqYEEAAACgAlxgQQAAAABA6V5B",
          "dtype": "f8"
         }
        }
       ],
       "layout": {
        "height": 600,
        "hovermode": "x unified",
        "legend": {
         "x": 0.01,
         "y": 0.99
        },
        "template": {
         "data": {
          "bar": [
           {
            "error_x": {
             "color": "#2a3f5f"
            },
            "error_y": {
             "color": "#2a3f5f"
            },
            "marker": {
             "line": {
              "color": "#E5ECF6",
              "width": 0.5
             },
             "pattern": {
              "fillmode": "overlay",
              "size": 10,
              "solidity": 0.2
             }
            },
            "type": "bar"
           }
          ],
          "barpolar": [
           {
            "marker": {
             "line": {
              "color": "#E5ECF6",
              "width": 0.5
             },
             "pattern": {
              "fillmode": "overlay",
              "size": 10,
              "solidity": 0.2
             }
            },
            "type": "barpolar"
           }
          ],
          "carpet": [
           {
            "aaxis": {
             "endlinecolor": "#2a3f5f",
             "gridcolor": "white",
             "linecolor": "white",
             "minorgridcolor": "white",
             "startlinecolor": "#2a3f5f"
            },
            "baxis": {
             "endlinecolor": "#2a3f5f",
             "gridcolor": "white",
             "linecolor": "white",
             "minorgridcolor": "white",
             "startlinecolor": "#2a3f5f"
            },
            "type": "carpet"
           }
          ],
          "choropleth": [
           {
            "colorbar": {
             "outlinewidth": 0,
             "ticks": ""
            },
            "type": "choropleth"
           }
          ],
          "contour": [
           {
            "colorbar": {
             "outlinewidth": 0,
             "ticks": ""
            },
            "colorscale": [
             [
              0.0,
              "#0d0887"
             ],
             [
              0.1111111111111111,
              "#46039f"
             ],
             [
              0.2222222222222222,
              "#7201a8"
             ],
             [
              0.3333333333333333,
              "#9c179e"
             ],
             [
              0.4444444444444444,
              "#bd3786"
             ],
             [
              0.5555555555555556,
              "#d8576b"
             ],
             [
              0.6666666666666666,
              "#ed7953"
             ],
             [
              0.7777777777777778,
              "#fb9f3a"
             ],
             [
              0.8888888888888888,
              "#fdca26"
             ],
             [
              1.0,
              "#f0f921"
             ]
            ],
            "type": "contour"
           }
          ],
          "contourcarpet": [
           {
            "colorbar": {
             "outlinewidth": 0,
             "ticks": ""
            },
            "type": "contourcarpet"
           }
          ],
          "heatmap": [
           {
            "colorbar": {
             "outlinewidth": 0,
             "ticks": ""
            },
            "colorscale": [
             [
              0.0,
              "#0d0887"
             ],
             [
              0.1111111111111111,
              "#46039f"
             ],
             [
              0.2222222222222222,
              "#7201a8"
             ],
             [
              0.3333333333333333,
              "#9c179e"
             ],
             [
              0.4444444444444444,
              "#bd3786"
             ],
             [
              0.5555555555555556,
              "#d8576b"
             ],
             [
              0.6666666666666666,
              "#ed7953"
             ],
             [
              0.7777777777777778,
              "#fb9f3a"
             ],
             [
              0.8888888888888888,
              "#fdca26"
             ],
             [
              1.0,
              "#f0f921"
             ]
            ],
            "type": "heatmap"
           }
          ],
          "histogram": [
           {
            "marker": {
             "pattern": {
              "fillmode": "overlay",
              "size": 10,
              "solidity": 0.2
             }
            },
            "type": "histogram"
           }
          ],
          "histogram2d": [
           {
            "colorbar": {
             "outlinewidth": 0,
             "ticks": ""
            },
            "colorscale": [
             [
              0.0,
              "#0d0887"
             ],
             [
              0.1111111111111111,
              "#46039f"
             ],
             [
              0.2222222222222222,
              "#7201a8"
             ],
             [
              0.3333333333333333,
              "#9c179e"
             ],
             [
              0.4444444444444444,
              "#bd3786"
             ],
             [
              0.5555555555555556,
              "#d8576b"
             ],
             [
              0.6666666666666666,
              "#ed7953"
             ],
             [
              0.7777777777777778,
              "#fb9f3a"
             ],
             [
              0.8888888888888888,
              "#fdca26"
             ],
             [
              1.0,
              "#f0f921"
             ]
            ],
            "type": "histogram2d"
           }
          ],
          "histogram2dcontour": [
           {
            "colorbar": {
             "outlinewidth": 0,
             "ticks": ""
            },
            "colorscale": [
             [
              0.0,
              "#0d0887"
             ],
             [
              0.1111111111111111,
              "#46039f"
             ],
             [
              0.2222222222222222,
              "#7201a8"
             ],
             [
              0.3333333333333333,
              "#9c179e"
             ],
             [
              0.4444444444444444,
              "#bd3786"
             ],
             [
              0.5555555555555556,
              "#d8576b"
             ],
             [
              0.6666666666666666,
              "#ed7953"
             ],
             [
              0.7777777777777778,
              "#fb9f3a"
             ],
             [
              0.8888888888888888,
              "#fdca26"
             ],
             [
              1.0,
              "#f0f921"
             ]
            ],
            "type": "histogram2dcontour"
           }
          ],
          "mesh3d": [
           {
            "colorbar": {
             "outlinewidth": 0,
             "ticks": ""
            },
            "type": "mesh3d"
           }
          ],
          "parcoords": [
           {
            "line": {
             "colorbar": {
              "outlinewidth": 0,
              "ticks": ""
             }
            },
            "type": "parcoords"
           }
          ],
          "pie": [
           {
            "automargin": true,
            "type": "pie"
           }
          ],
          "scatter": [
           {
            "fillpattern": {
             "fillmode": "overlay",
             "size": 10,
             "solidity": 0.2
            },
            "type": "scatter"
           }
          ],
          "scatter3d": [
           {
            "line": {
             "colorbar": {
              "outlinewidth": 0,
              "ticks": ""
             }
            },
            "marker": {
             "colorbar": {
              "outlinewidth": 0,
              "ticks": ""
             }
            },
            "type": "scatter3d"
           }
          ],
          "scattercarpet": [
           {
            "marker": {
             "colorbar": {
              "outlinewidth": 0,
              "ticks": ""
             }
            },
            "type": "scattercarpet"
           }
          ],
          "scattergeo": [
           {
            "marker": {
             "colorbar": {
              "outlinewidth": 0,
              "ticks": ""
             }
            },
            "type": "scattergeo"
           }
          ],
          "scattergl": [
           {
            "marker": {
             "colorbar": {
              "outlinewidth": 0,
              "ticks": ""
             }
            },
            "type": "scattergl"
           }
          ],
          "scattermap": [
           {
            "marker": {
             "colorbar": {
              "outlinewidth": 0,
              "ticks": ""
             }
            },
            "type": "scattermap"
           }
          ],
          "scattermapbox": [
           {
            "marker": {
             "colorbar": {
              "outlinewidth": 0,
              "ticks": ""
             }
            },
            "type": "scattermapbox"
           }
          ],
          "scatterpolar": [
           {
            "marker": {
             "colorbar": {
              "outlinewidth": 0,
              "ticks": ""
             }
            },
            "type": "scatterpolar"
           }
          ],
          "scatterpolargl": [
           {
            "marker": {
             "colorbar": {
              "outlinewidth": 0,
              "ticks": ""
             }
            },
            "type": "scatterpolargl"
           }
          ],
          "scatterternary": [
           {
            "marker": {
             "colorbar": {
              "outlinewidth": 0,
              "ticks": ""
             }
            },
            "type": "scatterternary"
           }
          ],
          "surface": [
           {
            "colorbar": {
             "outlinewidth": 0,
             "ticks": ""
            },
            "colorscale": [
             [
              0.0,
              "#0d0887"
             ],
             [
              0.1111111111111111,
              "#46039f"
             ],
             [
              0.2222222222222222,
              "#7201a8"
             ],
             [
              0.3333333333333333,
              "#9c179e"
             ],
             [
              0.4444444444444444,
              "#bd3786"
             ],
             [
              0.5555555555555556,
              "#d8576b"
             ],
             [
              0.6666666666666666,
              "#ed7953"
             ],
             [
              0.7777777777777778,
              "#fb9f3a"
             ],
             [
              0.8888888888888888,
              "#fdca26"
             ],
             [
              1.0,
              "#f0f921"
             ]
            ],
            "type": "surface"
           }
          ],
          "table": [
           {
            "cells": {
             "fill": {
              "color": "#EBF0F8"
             },
             "line": {
              "color": "white"
             }
            },
            "header": {
             "fill": {
              "color": "#C8D4E3"
             },
             "line": {
              "color": "white"
             }
            },
            "type": "table"
           }
          ]
         },
         "layout": {
          "annotationdefaults": {
           "arrowcolor": "#2a3f5f",
           "arrowhead": 0,
           "arrowwidth": 1
          },
          "autotypenumbers": "strict",
          "coloraxis": {
           "colorbar": {
            "outlinewidth": 0,
            "ticks": ""
           }
          },
          "colorscale": {
           "diverging": [
            [
             0,
             "#8e0152"
            ],
            [
             0.1,
             "#c51b7d"
            ],
            [
             0.2,
             "#de77ae"
            ],
            [
             0.3,
             "#f1b6da"
            ],
            [
             0.4,
             "#fde0ef"
            ],
            [
             0.5,
             "#f7f7f7"
            ],
            [
             0.6,
             "#e6f5d0"
            ],
            [
             0.7,
             "#b8e186"
            ],
            [
             0.8,
             "#7fbc41"
            ],
            [
             0.9,
             "#4d9221"
            ],
            [
             1,
             "#276419"
            ]
           ],
           "sequential": [
            [
             0.0,
             "#0d0887"
            ],
            [
             0.1111111111111111,
             "#46039f"
            ],
            [
             0.2222222222222222,
             "#7201a8"
            ],
            [
             0.3333333333333333,
             "#9c179e"
            ],
            [
             0.4444444444444444,
             "#bd3786"
            ],
            [
             0.5555555555555556,
             "#d8576b"
            ],
            [
             0.6666666666666666,
             "#ed7953"
            ],
            [
             0.7777777777777778,
             "#fb9f3a"
            ],
            [
             0.8888888888888888,
             "#fdca26"
            ],
            [
             1.0,
             "#f0f921"
            ]
           ],
           "sequentialminus": [
            [
             0.0,
             "#0d0887"
            ],
            [
             0.1111111111111111,
             "#46039f"
            ],
            [
             0.2222222222222222,
             "#7201a8"
            ],
            [
             0.3333333333333333,
             "#9c179e"
            ],
            [
             0.4444444444444444,
             "#bd3786"
            ],
            [
             0.5555555555555556,
             "#d8576b"
            ],
            [
             0.6666666666666666,
             "#ed7953"
            ],
            [
             0.7777777777777778,
             "#fb9f3a"
            ],
            [
             0.8888888888888888,
             "#fdca26"
            ],
            [
             1.0,
             "#f0f921"
            ]
           ]
          },
          "colorway": [
           "#636efa",
           "#EF553B",
           "#00cc96",
           "#ab63fa",
           "#FFA15A",
           "#19d3f3",
           "#FF6692",
           "#B6E880",
           "#FF97FF",
           "#FECB52"
          ],
          "font": {
           "color": "#2a3f5f"
          },
          "geo": {
           "bgcolor": "white",
           "lakecolor": "white",
           "landcolor": "#E5ECF6",
           "showlakes": true,
           "showland": true,
           "subunitcolor": "white"
          },
          "hoverlabel": {
           "align": "left"
          },
          "hovermode": "closest",
          "mapbox": {
           "style": "light"
          },
          "paper_bgcolor": "white",
          "plot_bgcolor": "#E5ECF6",
          "polar": {
           "angularaxis": {
            "gridcolor": "white",
            "linecolor": "white",
            "ticks": ""
           },
           "bgcolor": "#E5ECF6",
           "radialaxis": {
            "gridcolor": "white",
            "linecolor": "white",
            "ticks": ""
           }
          },
          "scene": {
           "xaxis": {
            "backgroundcolor": "#E5ECF6",
            "gridcolor": "white",
            "gridwidth": 2,
            "linecolor": "white",
            "showbackground": true,
            "ticks": "",
            "zerolinecolor": "white"
           },
           "yaxis": {
            "backgroundcolor": "#E5ECF6",
            "gridcolor": "white",
            "gridwidth": 2,
            "linecolor": "white",
            "showbackground": true,
            "ticks": "",
            "zerolinecolor": "white"
           },
           "zaxis": {
            "backgroundcolor": "#E5ECF6",
            "gridcolor": "white",
            "gridwidth": 2,
            "linecolor": "white",
            "showbackground": true,
            "ticks": "",
            "zerolinecolor": "white"
           }
          },
          "shapedefaults": {
           "line": {
            "color": "#2a3f5f"
           }
          },
          "ternary": {
           "aaxis": {
            "gridcolor": "white",
            "linecolor": "white",
            "ticks": ""
           },
           "baxis": {
            "gridcolor": "white",
            "linecolor": "white",
            "ticks": ""
           },
           "bgcolor": "#E5ECF6",
           "caxis": {
            "gridcolor": "white",
            "linecolor": "white",
            "ticks": ""
           }
          },
          "title": {
           "x": 0.05
          },
          "xaxis": {
           "automargin": true,
           "gridcolor": "white",
           "linecolor": "white",
           "ticks": "",
           "title": {
            "standoff": 15
           },
           "zerolinecolor": "white",
           "zerolinewidth": 2
          },
          "yaxis": {
           "automargin": true,
           "gridcolor": "white",
           "linecolor": "white",
           "ticks": "",
           "title": {
            "standoff": 15
           },
           "zerolinecolor": "white",
           "zerolinewidth": 2
          }
         }
        },
        "title": {
         "text": "Best Model Forecast - Total Km<br>Model: Seasonal Naive (MAPE: 2.89%)"
        },
        "xaxis": {
         "title": {
          "text": "Date"
         }
        },
        "yaxis": {
         "title": {
          "text": "Total Km"
         }
        }
       }
      }
     },
     "metadata": {},
     "output_type": "display_data"
    },
    {
     "name": "stdout",
     "output_type": "stream",
     "text": [
      "✓ Saved: results/best_model_forecast_total_km.html\n"
     ]
    },
    {
     "data": {
      "application/vnd.plotly.v1+json": {
       "config": {
        "plotlyServerURL": "https://plot.ly"
       },
       "data": [
        {
         "line": {
          "color": "black",
          "width": 2
         },
         "mode": "lines",
         "name": "Historical (Training)",
         "type": "scatter",
         "x": [
          "2022-01-01T00:00:00",
          "2022-02-01T00:00:00",
          "2022-03-01T00:00:00",
          "2022-04-01T00:00:00",
          "2022-05-01T00:00:00",
          "2022-06-01T00:00:00",
          "2022-07-01T00:00:00",
          "2022-08-01T00:00:00",
          "2022-09-01T00:00:00",
          "2022-10-01T00:00:00",
          "2022-11-01T00:00:00",
          "2022-12-01T00:00:00",
          "2023-01-01T00:00:00",
          "2023-02-01T00:00:00",
          "2023-03-01T00:00:00",
          "2023-04-01T00:00:00",
          "2023-05-01T00:00:00",
          "2023-06-01T00:00:00",
          "2023-07-01T00:00:00",
          "2023-08-01T00:00:00",
          "2023-09-01T00:00:00",
          "2023-10-01T00:00:00",
          "2023-11-01T00:00:00",
          "2023-12-01T00:00:00",
          "2024-01-01T00:00:00",
          "2024-02-01T00:00:00",
          "2024-03-01T00:00:00",
          "2024-04-01T00:00:00",
          "2024-05-01T00:00:00",
          "2024-06-01T00:00:00"
         ],
         "y": {
          "bdata": "ufYBAInzAQC8TQIAtvkBAC8NAgBa/wEATgoCAFEaAgAtMQIAtxgCAFQJAgDjDgIAqPwBALLyAQBHTAIA2+IBAMoXAgCNFwIAlAsCAGISAgDSGgIA/RoCAHsIAgDD7QEAhPwBAP35AQBPBAIAvAkCAI4PAgDM8wEA",
          "dtype": "i4"
         }
        },
        {
         "line": {
          "color": "green",
          "width": 3
         },
         "marker": {
          "size": 8
         },
         "mode": "lines+markers",
         "name": "Actual (Validation)",
         "type": "scatter",
         "x": [
          "2024-07-01T00:00:00",
          "2024-08-01T00:00:00",
          "2024-09-01T00:00:00",
          "2024-10-01T00:00:00",
          "2024-11-01T00:00:00",
          "2024-12-01T00:00:00"
         ],
         "y": {
          "bdata": "rjACAJYWAgDxGgIA/zMCAKAAAgClAAIA",
          "dtype": "i4"
         }
        },
        {
         "line": {
          "color": "red",
          "dash": "dash",
          "width": 2
         },
         "marker": {
          "size": 8
         },
         "mode": "lines+markers",
         "name": "Seasonal Naive Forecast",
         "type": "scatter",
         "x": [
          "2024-07-01T00:00:00",
          "2024-08-01T00:00:00",
          "2024-09-01T00:00:00",
          "2024-10-01T00:00:00",
          "2024-11-01T00:00:00",
          "2024-12-01T00:00:00"
         ],
         "y": {
          "bdata": "lAsCAGISAgDSGgIA/RoCAHsIAgDD7QEA",
          "dtype": "i4"
         }
        }
       ],
       "layout": {
        "height": 600,
        "hovermode": "x unified",
        "legend": {
         "x": 0.01,
         "y": 0.99
        },
        "template": {
         "data": {
          "bar": [
           {
            "error_x": {
             "color": "#2a3f5f"
            },
            "error_y": {
             "color": "#2a3f5f"
            },
            "marker": {
             "line": {
              "color": "#E5ECF6",
              "width": 0.5
             },
             "pattern": {
              "fillmode": "overlay",
              "size": 10,
              "solidity": 0.2
             }
            },
            "type": "bar"
           }
          ],
          "barpolar": [
           {
            "marker": {
             "line": {
              "color": "#E5ECF6",
              "width": 0.5
             },
             "pattern": {
              "fillmode": "overlay",
              "size": 10,
              "solidity": 0.2
             }
            },
            "type": "barpolar"
           }
          ],
          "carpet": [
           {
            "aaxis": {
             "endlinecolor": "#2a3f5f",
             "gridcolor": "white",
             "linecolor": "white",
             "minorgridcolor": "white",
             "startlinecolor": "#2a3f5f"
            },
            "baxis": {
             "endlinecolor": "#2a3f5f",
             "gridcolor": "white",
             "linecolor": "white",
             "minorgridcolor": "white",
             "startlinecolor": "#2a3f5f"
            },
            "type": "carpet"
           }
          ],
          "choropleth": [
           {
            "colorbar": {
             "outlinewidth": 0,
             "ticks": ""
            },
            "type": "choropleth"
           }
          ],
          "contour": [
           {
            "colorbar": {
             "outlinewidth": 0,
             "ticks": ""
            },
            "colorscale": [
             [
              0.0,
              "#0d0887"
             ],
             [
              0.1111111111111111,
              "#46039f"
             ],
             [
              0.2222222222222222,
              "#7201a8"
             ],
             [
              0.3333333333333333,
              "#9c179e"
             ],
             [
              0.4444444444444444,
              "#bd3786"
             ],
             [
              0.5555555555555556,
              "#d8576b"
             ],
             [
              0.6666666666666666,
              "#ed7953"
             ],
             [
              0.7777777777777778,
              "#fb9f3a"
             ],
             [
              0.8888888888888888,
              "#fdca26"
             ],
             [
              1.0,
              "#f0f921"
             ]
            ],
            "type": "contour"
           }
          ],
          "contourcarpet": [
           {
            "colorbar": {
             "outlinewidth": 0,
             "ticks": ""
            },
            "type": "contourcarpet"
           }
          ],
          "heatmap": [
           {
            "colorbar": {
             "outlinewidth": 0,
             "ticks": ""
            },
            "colorscale": [
             [
              0.0,
              "#0d0887"
             ],
             [
              0.1111111111111111,
              "#46039f"
             ],
             [
              0.2222222222222222,
              "#7201a8"
             ],
             [
              0.3333333333333333,
              "#9c179e"
             ],
             [
              0.4444444444444444,
              "#bd3786"
             ],
             [
              0.5555555555555556,
              "#d8576b"
             ],
             [
              0.6666666666666666,
              "#ed7953"
             ],
             [
              0.7777777777777778,
              "#fb9f3a"
             ],
             [
              0.8888888888888888,
              "#fdca26"
             ],
             [
              1.0,
              "#f0f921"
             ]
            ],
            "type": "heatmap"
           }
          ],
          "histogram": [
           {
            "marker": {
             "pattern": {
              "fillmode": "overlay",
              "size": 10,
              "solidity": 0.2
             }
            },
            "type": "histogram"
           }
          ],
          "histogram2d": [
           {
            "colorbar": {
             "outlinewidth": 0,
             "ticks": ""
            },
            "colorscale": [
             [
              0.0,
              "#0d0887"
             ],
             [
              0.1111111111111111,
              "#46039f"
             ],
             [
              0.2222222222222222,
              "#7201a8"
             ],
             [
              0.3333333333333333,
              "#9c179e"
             ],
             [
              0.4444444444444444,
              "#bd3786"
             ],
             [
              0.5555555555555556,
              "#d8576b"
             ],
             [
              0.6666666666666666,
              "#ed7953"
             ],
             [
              0.7777777777777778,
              "#fb9f3a"
             ],
             [
              0.8888888888888888,
              "#fdca26"
             ],
             [
              1.0,
              "#f0f921"
             ]
            ],
            "type": "histogram2d"
           }
          ],
          "histogram2dcontour": [
           {
            "colorbar": {
             "outlinewidth": 0,
             "ticks": ""
            },
            "colorscale": [
             [
              0.0,
              "#0d0887"
             ],
             [
              0.1111111111111111,
              "#46039f"
             ],
             [
              0.2222222222222222,
              "#7201a8"
             ],
             [
              0.3333333333333333,
              "#9c179e"
             ],
             [
              0.4444444444444444,
              "#bd3786"
             ],
             [
              0.5555555555555556,
              "#d8576b"
             ],
             [
              0.6666666666666666,
              "#ed7953"
             ],
             [
              0.7777777777777778,
              "#fb9f3a"
             ],
             [
              0.8888888888888888,
              "#fdca26"
             ],
             [
              1.0,
              "#f0f921"
             ]
            ],
            "type": "histogram2dcontour"
           }
          ],
          "mesh3d": [
           {
            "colorbar": {
             "outlinewidth": 0,
             "ticks": ""
            },
            "type": "mesh3d"
           }
          ],
          "parcoords": [
           {
            "line": {
             "colorbar": {
              "outlinewidth": 0,
              "ticks": ""
             }
            },
            "type": "parcoords"
           }
          ],
          "pie": [
           {
            "automargin": true,
            "type": "pie"
           }
          ],
          "scatter": [
           {
            "fillpattern": {
             "fillmode": "overlay",
             "size": 10,
             "solidity": 0.2
            },
            "type": "scatter"
           }
          ],
          "scatter3d": [
           {
            "line": {
             "colorbar": {
              "outlinewidth": 0,
              "ticks": ""
             }
            },
            "marker": {
             "colorbar": {
              "outlinewidth": 0,
              "ticks": ""
             }
            },
            "type": "scatter3d"
           }
          ],
          "scattercarpet": [
           {
            "marker": {
             "colorbar": {
              "outlinewidth": 0,
              "ticks": ""
             }
            },
            "type": "scattercarpet"
           }
          ],
          "scattergeo": [
           {
            "marker": {
             "colorbar": {
              "outlinewidth": 0,
              "ticks": ""
             }
            },
            "type": "scattergeo"
           }
          ],
          "scattergl": [
           {
            "marker": {
             "colorbar": {
              "outlinewidth": 0,
              "ticks": ""
             }
            },
            "type": "scattergl"
           }
          ],
          "scattermap": [
           {
            "marker": {
             "colorbar": {
              "outlinewidth": 0,
              "ticks": ""
             }
            },
            "type": "scattermap"
           }
          ],
          "scattermapbox": [
           {
            "marker": {
             "colorbar": {
              "outlinewidth": 0,
              "ticks": ""
             }
            },
            "type": "scattermapbox"
           }
          ],
          "scatterpolar": [
           {
            "marker": {
             "colorbar": {
              "outlinewidth": 0,
              "ticks": ""
             }
            },
            "type": "scatterpolar"
           }
          ],
          "scatterpolargl": [
           {
            "marker": {
             "colorbar": {
              "outlinewidth": 0,
              "ticks": ""
             }
            },
            "type": "scatterpolargl"
           }
          ],
          "scatterternary": [
           {
            "marker": {
             "colorbar": {
              "outlinewidth": 0,
              "ticks": ""
             }
            },
            "type": "scatterternary"
           }
          ],
          "surface": [
           {
            "colorbar": {
             "outlinewidth": 0,
             "ticks": ""
            },
            "colorscale": [
             [
              0.0,
              "#0d0887"
             ],
             [
              0.1111111111111111,
              "#46039f"
             ],
             [
              0.2222222222222222,
              "#7201a8"
             ],
             [
              0.3333333333333333,
              "#9c179e"
             ],
             [
              0.4444444444444444,
              "#bd3786"
             ],
             [
              0.5555555555555556,
              "#d8576b"
             ],
             [
              0.6666666666666666,
              "#ed7953"
             ],
             [
              0.7777777777777778,
              "#fb9f3a"
             ],
             [
              0.8888888888888888,
              "#fdca26"
             ],
             [
              1.0,
              "#f0f921"
             ]
            ],
            "type": "surface"
           }
          ],
          "table": [
           {
            "cells": {
             "fill": {
              "color": "#EBF0F8"
             },
             "line": {
              "color": "white"
             }
            },
            "header": {
             "fill": {
              "color": "#C8D4E3"
             },
             "line": {
              "color": "white"
             }
            },
            "type": "table"
           }
          ]
         },
         "layout": {
          "annotationdefaults": {
           "arrowcolor": "#2a3f5f",
           "arrowhead": 0,
           "arrowwidth": 1
          },
          "autotypenumbers": "strict",
          "coloraxis": {
           "colorbar": {
            "outlinewidth": 0,
            "ticks": ""
           }
          },
          "colorscale": {
           "diverging": [
            [
             0,
             "#8e0152"
            ],
            [
             0.1,
             "#c51b7d"
            ],
            [
             0.2,
             "#de77ae"
            ],
            [
             0.3,
             "#f1b6da"
            ],
            [
             0.4,
             "#fde0ef"
            ],
            [
             0.5,
             "#f7f7f7"
            ],
            [
             0.6,
             "#e6f5d0"
            ],
            [
             0.7,
             "#b8e186"
            ],
            [
             0.8,
             "#7fbc41"
            ],
            [
             0.9,
             "#4d9221"
            ],
            [
             1,
             "#276419"
            ]
           ],
           "sequential": [
            [
             0.0,
             "#0d0887"
            ],
            [
             0.1111111111111111,
             "#46039f"
            ],
            [
             0.2222222222222222,
             "#7201a8"
            ],
            [
             0.3333333333333333,
             "#9c179e"
            ],
            [
             0.4444444444444444,
             "#bd3786"
            ],
            [
             0.5555555555555556,
             "#d8576b"
            ],
            [
             0.6666666666666666,
             "#ed7953"
            ],
            [
             0.7777777777777778,
             "#fb9f3a"
            ],
            [
             0.8888888888888888,
             "#fdca26"
            ],
            [
             1.0,
             "#f0f921"
            ]
           ],
           "sequentialminus": [
            [
             0.0,
             "#0d0887"
            ],
            [
             0.1111111111111111,
             "#46039f"
            ],
            [
             0.2222222222222222,
             "#7201a8"
            ],
            [
             0.3333333333333333,
             "#9c179e"
            ],
            [
             0.4444444444444444,
             "#bd3786"
            ],
            [
             0.5555555555555556,
             "#d8576b"
            ],
            [
             0.6666666666666666,
             "#ed7953"
            ],
            [
             0.7777777777777778,
             "#fb9f3a"
            ],
            [
             0.8888888888888888,
             "#fdca26"
            ],
            [
             1.0,
             "#f0f921"
            ]
           ]
          },
          "colorway": [
           "#636efa",
           "#EF553B",
           "#00cc96",
           "#ab63fa",
           "#FFA15A",
           "#19d3f3",
           "#FF6692",
           "#B6E880",
           "#FF97FF",
           "#FECB52"
          ],
          "font": {
           "color": "#2a3f5f"
          },
          "geo": {
           "bgcolor": "white",
           "lakecolor": "white",
           "landcolor": "#E5ECF6",
           "showlakes": true,
           "showland": true,
           "subunitcolor": "white"
          },
          "hoverlabel": {
           "align": "left"
          },
          "hovermode": "closest",
          "mapbox": {
           "style": "light"
          },
          "paper_bgcolor": "white",
          "plot_bgcolor": "#E5ECF6",
          "polar": {
           "angularaxis": {
            "gridcolor": "white",
            "linecolor": "white",
            "ticks": ""
           },
           "bgcolor": "#E5ECF6",
           "radialaxis": {
            "gridcolor": "white",
            "linecolor": "white",
            "ticks": ""
           }
          },
          "scene": {
           "xaxis": {
            "backgroundcolor": "#E5ECF6",
            "gridcolor": "white",
            "gridwidth": 2,
            "linecolor": "white",
            "showbackground": true,
            "ticks": "",
            "zerolinecolor": "white"
           },
           "yaxis": {
            "backgroundcolor": "#E5ECF6",
            "gridcolor": "white",
            "gridwidth": 2,
            "linecolor": "white",
            "showbackground": true,
            "ticks": "",
            "zerolinecolor": "white"
           },
           "zaxis": {
            "backgroundcolor": "#E5ECF6",
            "gridcolor": "white",
            "gridwidth": 2,
            "linecolor": "white",
            "showbackground": true,
            "ticks": "",
            "zerolinecolor": "white"
           }
          },
          "shapedefaults": {
           "line": {
            "color": "#2a3f5f"
           }
          },
          "ternary": {
           "aaxis": {
            "gridcolor": "white",
            "linecolor": "white",
            "ticks": ""
           },
           "baxis": {
            "gridcolor": "white",
            "linecolor": "white",
            "ticks": ""
           },
           "bgcolor": "#E5ECF6",
           "caxis": {
            "gridcolor": "white",
            "linecolor": "white",
            "ticks": ""
           }
          },
          "title": {
           "x": 0.05
          },
          "xaxis": {
           "automargin": true,
           "gridcolor": "white",
           "linecolor": "white",
           "ticks": "",
           "title": {
            "standoff": 15
           },
           "zerolinecolor": "white",
           "zerolinewidth": 2
          },
          "yaxis": {
           "automargin": true,
           "gridcolor": "white",
           "linecolor": "white",
           "ticks": "",
           "title": {
            "standoff": 15
           },
           "zerolinecolor": "white",
           "zerolinewidth": 2
          }
         }
        },
        "title": {
         "text": "Best Model Forecast - Total Drivers<br>Model: Seasonal Naive (MAPE: 2.85%)"
        },
        "xaxis": {
         "title": {
          "text": "Date"
         }
        },
        "yaxis": {
         "title": {
          "text": "Total Drivers"
         }
        }
       }
      }
     },
     "metadata": {},
     "output_type": "display_data"
    },
    {
     "name": "stdout",
     "output_type": "stream",
     "text": [
      "✓ Saved: results/best_model_forecast_total_drivers.html\n"
     ]
    }
   ],
   "source": [
    "# Create forecast visualization for each metric\n",
    "for metric in target_metrics:\n",
    "    fig = go.Figure()\n",
    "    \n",
    "    # Historical training data\n",
    "    fig.add_trace(\n",
    "        go.Scatter(\n",
    "            x=train_df['date'],\n",
    "            y=train_df[metric],\n",
    "            mode='lines',\n",
    "            name='Historical (Training)',\n",
    "            line=dict(color='black', width=2)\n",
    "        )\n",
    "    )\n",
    "    \n",
    "    # Actual validation values\n",
    "    if len(val_df) > 0:\n",
    "        fig.add_trace(\n",
    "            go.Scatter(\n",
    "                x=val_df['date'],\n",
    "                y=val_df[metric],\n",
    "                mode='lines+markers',\n",
    "                name='Actual (Validation)',\n",
    "                line=dict(color='green', width=3),\n",
    "                marker=dict(size=8)\n",
    "            )\n",
    "        )\n",
    "    \n",
    "    # Best model forecast\n",
    "    if metric in forecasts:\n",
    "        forecast_data = forecasts[metric]['data']\n",
    "        model_name = forecasts[metric]['model']\n",
    "        \n",
    "        if 'date' in forecast_data.columns:\n",
    "            forecast_data['date'] = pd.to_datetime(forecast_data['date'])\n",
    "        \n",
    "        if metric in forecast_data.columns:\n",
    "            fig.add_trace(\n",
    "                go.Scatter(\n",
    "                    x=forecast_data['date'],\n",
    "                    y=forecast_data[metric],\n",
    "                    mode='lines+markers',\n",
    "                    name=f'{model_name} Forecast',\n",
    "                    line=dict(color='red', width=2, dash='dash'),\n",
    "                    marker=dict(size=8)\n",
    "                )\n",
    "            )\n",
    "    \n",
    "    # Get MAPE for best model\n",
    "    best_model = best_models[metric]\n",
    "    mape = metrics_df[(metrics_df['metric'] == metric) & (metrics_df['model'] == best_model)]['MAPE'].values[0]\n",
    "    \n",
    "    fig.update_layout(\n",
    "        title=f\"Best Model Forecast - {metric.replace('_', ' ').title()}<br>Model: {best_model} (MAPE: {mape:.2f}%)\",\n",
    "        xaxis_title=\"Date\",\n",
    "        yaxis_title=metric.replace('_', ' ').title(),\n",
    "        height=600,\n",
    "        hovermode='x unified',\n",
    "        legend=dict(x=0.01, y=0.99)\n",
    "    )\n",
    "    \n",
    "    fig.show()\n",
    "    \n",
    "    # Save\n",
    "    fig.write_html(results_dir / f'best_model_forecast_{metric}.html')\n",
    "    print(f\"✓ Saved: results/best_model_forecast_{metric}.html\")"
   ]
  },
  {
   "cell_type": "markdown",
   "metadata": {},
   "source": [
    "## Section 6: Generate Future Forecasts (Jul 2025 - Dec 2026)\n",
    "\n",
    "Use best models to generate production forecasts."
   ]
  },
  {
   "cell_type": "code",
   "execution_count": 8,
   "metadata": {
    "execution": {
     "iopub.execute_input": "2025-10-29T20:01:07.193775Z",
     "iopub.status.busy": "2025-10-29T20:01:07.193704Z",
     "iopub.status.idle": "2025-10-29T20:01:07.197965Z",
     "shell.execute_reply": "2025-10-29T20:01:07.196697Z"
    }
   },
   "outputs": [
    {
     "name": "stdout",
     "output_type": "stream",
     "text": [
      "Future Forecasts (Jul 2025 - Dec 2026)\n",
      "================================================================================\n",
      "⚠️  Future forecasts not available for Seasonal Naive\n",
      "⚠️  Future forecasts not available for Seasonal Naive\n",
      "⚠️  Future forecasts not available for Seasonal Naive\n",
      "\n",
      "================================================================================\n"
     ]
    }
   ],
   "source": [
    "print(\"Future Forecasts (Jul 2025 - Dec 2026)\")\n",
    "print(\"=\"*80)\n",
    "\n",
    "future_forecasts = {}\n",
    "\n",
    "for metric, best_model in best_models.items():\n",
    "    # Determine which future forecast file to load\n",
    "    if 'Prophet' in best_model:\n",
    "        future_file = 'prophet_forecast_future.csv'\n",
    "    elif 'SARIMAX' in best_model:\n",
    "        future_file = 'sarimax_forecast_future.csv'\n",
    "    else:\n",
    "        print(f\"⚠️  Future forecasts not available for {best_model}\")\n",
    "        continue\n",
    "    \n",
    "    future_path = metrics_dir / future_file\n",
    "    \n",
    "    if future_path.exists():\n",
    "        df_future = pd.read_csv(future_path)\n",
    "        df_future['date'] = pd.to_datetime(df_future['date'])\n",
    "        \n",
    "        # Filter for Jul 2025 - Dec 2026 (18 months)\n",
    "        df_future = df_future[\n",
    "            (df_future['date'] >= '2025-07-01') & \n",
    "            (df_future['date'] <= '2026-12-31')\n",
    "        ]\n",
    "        \n",
    "        future_forecasts[metric] = {\n",
    "            'model': best_model,\n",
    "            'data': df_future\n",
    "        }\n",
    "        \n",
    "        print(f\"\\n{metric} ({best_model}):\")\n",
    "        print(f\"  Forecast period: {df_future['date'].min()} to {df_future['date'].max()}\")\n",
    "        print(f\"  Number of months: {len(df_future)}\")\n",
    "        \n",
    "        if metric in df_future.columns:\n",
    "            print(f\"  Average forecast: {df_future[metric].mean():,.0f}\")\n",
    "            print(f\"  Min: {df_future[metric].min():,.0f}, Max: {df_future[metric].max():,.0f}\")\n",
    "    else:\n",
    "        print(f\"\\n⚠️  Future forecast file not found: {future_file}\")\n",
    "\n",
    "print(\"\\n\" + \"=\"*80)"
   ]
  },
  {
   "cell_type": "markdown",
   "metadata": {},
   "source": [
    "## Section 7: Save Consolidated Results"
   ]
  },
  {
   "cell_type": "code",
   "execution_count": 9,
   "metadata": {
    "execution": {
     "iopub.execute_input": "2025-10-29T20:01:07.199844Z",
     "iopub.status.busy": "2025-10-29T20:01:07.199773Z",
     "iopub.status.idle": "2025-10-29T20:01:07.210101Z",
     "shell.execute_reply": "2025-10-29T20:01:07.208846Z"
    }
   },
   "outputs": [
    {
     "name": "stdout",
     "output_type": "stream",
     "text": [
      "✓ Saved: data/processed/model_comparison_summary.csv"
     ]
    },
    {
     "name": "stdout",
     "output_type": "stream",
     "text": [
      "\n"
     ]
    },
    {
     "name": "stdout",
     "output_type": "stream",
     "text": [
      "✓ Saved: data/processed/best_models_summary.csv\n",
      "\n",
      "================================================================================\n",
      "MODEL COMPARISON COMPLETE!\n",
      "================================================================================\n",
      "\n",
      "Final Recommendations:\n",
      "  • total_orders: Use Seasonal Naive (MAPE: 2.94%)\n",
      "  • total_km: Use Seasonal Naive (MAPE: 2.89%)\n",
      "  • total_drivers: Use Seasonal Naive (MAPE: 2.85%)\n",
      "\n",
      "All results saved to:\n",
      "  • data/processed/model_comparison_summary.csv\n",
      "  • data/processed/best_models_summary.csv\n",
      "  • data/processed/final_forecasts_2025_2026.csv\n",
      "  • results/model_comparison_mape.html\n",
      "  • results/best_model_forecast_*.html (one per metric)\n"
     ]
    }
   ],
   "source": [
    "# Save model comparison summary\n",
    "summary_df = metrics_df.groupby(['metric', 'model']).agg({\n",
    "    'MAPE': 'first',\n",
    "    'MAE': 'first',\n",
    "    'RMSE': 'first'\n",
    "}).reset_index()\n",
    "\n",
    "summary_df = summary_df.sort_values(['metric', 'MAPE'])\n",
    "\n",
    "summary_df.to_csv(metrics_dir / 'model_comparison_summary.csv', index=False)\n",
    "print(f\"✓ Saved: data/processed/model_comparison_summary.csv\")\n",
    "\n",
    "# Save best models summary\n",
    "best_models_df = pd.DataFrame([\n",
    "    {\n",
    "        'metric': metric,\n",
    "        'best_model': model,\n",
    "        'mape': metrics_df[(metrics_df['metric'] == metric) & (metrics_df['model'] == model)]['MAPE'].values[0],\n",
    "        'mae': metrics_df[(metrics_df['metric'] == metric) & (metrics_df['model'] == model)]['MAE'].values[0],\n",
    "        'rmse': metrics_df[(metrics_df['metric'] == metric) & (metrics_df['model'] == model)]['RMSE'].values[0]\n",
    "    }\n",
    "    for metric, model in best_models.items()\n",
    "])\n",
    "\n",
    "best_models_df.to_csv(metrics_dir / 'best_models_summary.csv', index=False)\n",
    "print(f\"✓ Saved: data/processed/best_models_summary.csv\")\n",
    "\n",
    "# Consolidate future forecasts if available\n",
    "if len(future_forecasts) > 0:\n",
    "    # Get common dates across all metrics\n",
    "    first_metric = list(future_forecasts.keys())[0]\n",
    "    consolidated = future_forecasts[first_metric]['data'][['date']].copy()\n",
    "    \n",
    "    for metric, forecast_info in future_forecasts.items():\n",
    "        if metric in forecast_info['data'].columns:\n",
    "            consolidated = consolidated.merge(\n",
    "                forecast_info['data'][['date', metric]],\n",
    "                on='date',\n",
    "                how='outer'\n",
    "            )\n",
    "    \n",
    "    consolidated = consolidated.sort_values('date')\n",
    "    consolidated.to_csv(metrics_dir / 'final_forecasts_2025_2026.csv', index=False)\n",
    "    print(f\"✓ Saved: data/processed/final_forecasts_2025_2026.csv\")\n",
    "\n",
    "print(f\"\\n{'='*80}\")\n",
    "print(f\"MODEL COMPARISON COMPLETE!\")\n",
    "print(f\"{'='*80}\")\n",
    "print(f\"\\nFinal Recommendations:\")\n",
    "for metric, model in best_models.items():\n",
    "    mape = metrics_df[(metrics_df['metric'] == metric) & (metrics_df['model'] == model)]['MAPE'].values[0]\n",
    "    print(f\"  • {metric}: Use {model} (MAPE: {mape:.2f}%)\")\n",
    "\n",
    "print(f\"\\nAll results saved to:\")\n",
    "print(f\"  • data/processed/model_comparison_summary.csv\")\n",
    "print(f\"  • data/processed/best_models_summary.csv\")\n",
    "print(f\"  • data/processed/final_forecasts_2025_2026.csv\")\n",
    "print(f\"  • results/model_comparison_mape.html\")\n",
    "print(f\"  • results/best_model_forecast_*.html (one per metric)\")"
   ]
  }
 ],
 "metadata": {
  "kernelspec": {
   "display_name": "Python 3",
   "language": "python",
   "name": "python3"
  },
  "language_info": {
   "codemirror_mode": {
    "name": "ipython",
    "version": 3
   },
   "file_extension": ".py",
   "mimetype": "text/x-python",
   "name": "python",
   "nbconvert_exporter": "python",
   "pygments_lexer": "ipython3",
   "version": "3.11.6"
  }
 },
 "nbformat": 4,
 "nbformat_minor": 4
}
