{
 "cells": [
  {
   "cell_type": "markdown",
   "metadata": {},
   "source": [
    "# Current Method vs New Method Comparison\n",
    "\n",
    "## Business Value Demonstration\n",
    "\n",
    "This notebook compares Traveco's current forecasting method (Linear Distribution) against the recommended Seasonal Naive model.\n",
    "\n",
    "### Methods Compared\n",
    "\n",
    "1. **Current Method (Linear Distribution)**\n",
    "   - Approach: Previous year total ÷ 12 = monthly forecast\n",
    "   - Pros: Simple, easy to understand\n",
    "   - Cons: Ignores seasonality, systematic errors in months with different lengths\n",
    "\n",
    "2. **Recommended Method (Seasonal Naive)**\n",
    "   - Approach: Forecast = same month from previous year\n",
    "   - Pros: Captures seasonality, highly accurate (~3% MAPE)\n",
    "   - Cons: Requires 12+ months of historical data\n",
    "\n",
    "### Validation Periods\n",
    "- **Jul-Dec 2024**: Historical validation (6 months)\n",
    "- **June 2025**: Out-of-sample test (1 month) ✓ Completed\n",
    "- **Jan-Sep 2025**: Future validation (9 months) → To be updated when data arrives"
   ]
  },
  {
   "cell_type": "code",
   "execution_count": 1,
   "metadata": {
    "execution": {
     "iopub.execute_input": "2025-10-29T20:00:17.690724Z",
     "iopub.status.busy": "2025-10-29T20:00:17.690428Z",
     "iopub.status.idle": "2025-10-29T20:00:17.914532Z",
     "shell.execute_reply": "2025-10-29T20:00:17.912940Z"
    }
   },
   "outputs": [
    {
     "name": "stdout",
     "output_type": "stream",
     "text": [
      "✓ Libraries imported successfully\n"
     ]
    }
   ],
   "source": [
    "import pandas as pd\n",
    "import numpy as np\n",
    "import plotly.graph_objects as go\n",
    "from plotly.subplots import make_subplots\n",
    "from pathlib import Path\n",
    "import warnings\n",
    "warnings.filterwarnings('ignore')\n",
    "\n",
    "print(\"✓ Libraries imported successfully\")"
   ]
  },
  {
   "cell_type": "markdown",
   "metadata": {},
   "source": [
    "## Section 1: Load Model Results"
   ]
  },
  {
   "cell_type": "code",
   "execution_count": 2,
   "metadata": {
    "execution": {
     "iopub.execute_input": "2025-10-29T20:00:17.927277Z",
     "iopub.status.busy": "2025-10-29T20:00:17.927176Z",
     "iopub.status.idle": "2025-10-29T20:00:17.934570Z",
     "shell.execute_reply": "2025-10-29T20:00:17.933152Z"
    }
   },
   "outputs": [
    {
     "name": "stdout",
     "output_type": "stream",
     "text": [
      "Current Method (Linear Distribution) Performance:\n",
      "============================================================\n"
     ]
    },
    {
     "name": "stdout",
     "output_type": "stream",
     "text": [
      "       metric     MAPE           MAE          RMSE\n",
      " total_orders 4.172170   5986.833333   7293.899471\n",
      "     total_km 3.748951 331892.583333 384655.513145\n",
      "total_drivers 4.094952   5772.027778   7027.787239"
     ]
    },
    {
     "name": "stdout",
     "output_type": "stream",
     "text": [
      "\n",
      "\n",
      "============================================================\n",
      "Recommended Method (Seasonal Naive) Performance:\n",
      "============================================================\n",
      "       metric     MAPE           MAE          RMSE\n",
      " total_orders 2.942918   4179.000000   5239.556947\n",
      "     total_km 2.889437 252873.833333 287928.342668\n",
      "total_drivers 2.845968   3975.333333   5160.232908\n"
     ]
    }
   ],
   "source": [
    "# Load baseline metrics\n",
    "metrics_path = Path('../data/processed/baseline_metrics.csv')\n",
    "metrics_df = pd.read_csv(metrics_path)\n",
    "\n",
    "# Filter for the two methods we want to compare\n",
    "current_method = metrics_df[metrics_df['model'] == 'Linear Distribution (Current Method)']\n",
    "new_method = metrics_df[metrics_df['model'] == 'Seasonal Naive']\n",
    "\n",
    "print(\"Current Method (Linear Distribution) Performance:\")\n",
    "print(\"=\"*60)\n",
    "print(current_method[['metric', 'MAPE', 'MAE', 'RMSE']].to_string(index=False))\n",
    "\n",
    "print(\"\\n\" + \"=\"*60)\n",
    "print(\"Recommended Method (Seasonal Naive) Performance:\")\n",
    "print(\"=\"*60)\n",
    "print(new_method[['metric', 'MAPE', 'MAE', 'RMSE']].to_string(index=False))"
   ]
  },
  {
   "cell_type": "markdown",
   "metadata": {},
   "source": [
    "## Section 2: Calculate Improvement"
   ]
  },
  {
   "cell_type": "code",
   "execution_count": 3,
   "metadata": {
    "execution": {
     "iopub.execute_input": "2025-10-29T20:00:17.936500Z",
     "iopub.status.busy": "2025-10-29T20:00:17.936437Z",
     "iopub.status.idle": "2025-10-29T20:00:17.941754Z",
     "shell.execute_reply": "2025-10-29T20:00:17.940410Z"
    }
   },
   "outputs": [
    {
     "name": "stdout",
     "output_type": "stream",
     "text": [
      "\n",
      "================================================================================\n",
      "IMPROVEMENT ANALYSIS: Current Method vs Seasonal Naive\n",
      "================================================================================\n",
      "\n",
      "TOTAL ORDERS:\n",
      "  Current Method MAPE:       4.17%\n",
      "  Seasonal Naive MAPE:       2.94%\n",
      "  → Absolute Improvement:    1.23 percentage points\n",
      "  → Relative Improvement:    29.5% error reduction\n",
      "\n",
      "TOTAL KM:\n",
      "  Current Method MAPE:       3.75%\n",
      "  Seasonal Naive MAPE:       2.89%\n",
      "  → Absolute Improvement:    0.86 percentage points\n",
      "  → Relative Improvement:    22.9% error reduction\n",
      "\n",
      "TOTAL DRIVERS:\n",
      "  Current Method MAPE:       4.09%\n",
      "  Seasonal Naive MAPE:       2.85%\n",
      "  → Absolute Improvement:    1.25 percentage points\n",
      "  → Relative Improvement:    30.5% error reduction\n",
      "\n",
      "================================================================================\n",
      "AVERAGE IMPROVEMENT: 27.6% error reduction\n",
      "================================================================================\n",
      "\n",
      "Conclusion: Seasonal Naive reduces forecast error by ~30% on average\n",
      "compared to the current Linear Distribution method.\n"
     ]
    }
   ],
   "source": [
    "# Calculate improvement for each metric\n",
    "target_metrics = ['total_orders', 'total_km', 'total_drivers']\n",
    "\n",
    "comparison_results = []\n",
    "\n",
    "print(\"\\n\" + \"=\"*80)\n",
    "print(\"IMPROVEMENT ANALYSIS: Current Method vs Seasonal Naive\")\n",
    "print(\"=\"*80)\n",
    "\n",
    "for metric in target_metrics:\n",
    "    current_mape = current_method[current_method['metric'] == metric]['MAPE'].values[0]\n",
    "    new_mape = new_method[new_method['metric'] == metric]['MAPE'].values[0]\n",
    "    \n",
    "    # Calculate improvement percentage\n",
    "    improvement = ((current_mape - new_mape) / current_mape) * 100\n",
    "    absolute_improvement = current_mape - new_mape\n",
    "    \n",
    "    comparison_results.append({\n",
    "        'metric': metric,\n",
    "        'current_mape': current_mape,\n",
    "        'new_mape': new_mape,\n",
    "        'absolute_improvement': absolute_improvement,\n",
    "        'relative_improvement': improvement\n",
    "    })\n",
    "    \n",
    "    print(f\"\\n{metric.upper().replace('_', ' ')}:\")\n",
    "    print(f\"  Current Method MAPE:    {current_mape:>7.2f}%\")\n",
    "    print(f\"  Seasonal Naive MAPE:    {new_mape:>7.2f}%\")\n",
    "    print(f\"  → Absolute Improvement: {absolute_improvement:>7.2f} percentage points\")\n",
    "    print(f\"  → Relative Improvement: {improvement:>7.1f}% error reduction\")\n",
    "\n",
    "# Create comparison dataframe\n",
    "comparison_df = pd.DataFrame(comparison_results)\n",
    "\n",
    "# Calculate average improvement\n",
    "avg_improvement = comparison_df['relative_improvement'].mean()\n",
    "\n",
    "print(\"\\n\" + \"=\"*80)\n",
    "print(f\"AVERAGE IMPROVEMENT: {avg_improvement:.1f}% error reduction\")\n",
    "print(\"=\"*80)\n",
    "print(\"\\nConclusion: Seasonal Naive reduces forecast error by ~30% on average\")\n",
    "print(\"compared to the current Linear Distribution method.\")"
   ]
  },
  {
   "cell_type": "markdown",
   "metadata": {},
   "source": [
    "## Section 3: Visual Comparison - Validation Period (Jul-Dec 2024)"
   ]
  },
  {
   "cell_type": "code",
   "execution_count": 4,
   "metadata": {
    "execution": {
     "iopub.execute_input": "2025-10-29T20:00:17.943694Z",
     "iopub.status.busy": "2025-10-29T20:00:17.943638Z",
     "iopub.status.idle": "2025-10-29T20:00:17.950820Z",
     "shell.execute_reply": "2025-10-29T20:00:17.949463Z"
    }
   },
   "outputs": [
    {
     "name": "stdout",
     "output_type": "stream",
     "text": [
      "Loaded validation data:"
     ]
    },
    {
     "name": "stdout",
     "output_type": "stream",
     "text": [
      "\n",
      "  Actual: 6 months\n",
      "  Current Method forecast: 6 months\n",
      "  Seasonal Naive forecast: 6 months\n"
     ]
    }
   ],
   "source": [
    "# Load actual data\n",
    "df_actual = pd.read_csv('../data/processed/monthly_aggregated_full_company.csv')\n",
    "df_actual['date'] = pd.to_datetime(df_actual['date'])\n",
    "\n",
    "# Load forecasts\n",
    "current_forecast = pd.read_csv('../data/processed/baseline_forecast_linear_distribution_current_method.csv')\n",
    "current_forecast['date'] = pd.to_datetime(current_forecast['date'])\n",
    "\n",
    "new_forecast = pd.read_csv('../data/processed/baseline_forecast_seasonal_naive.csv')\n",
    "new_forecast['date'] = pd.to_datetime(new_forecast['date'])\n",
    "\n",
    "# Filter validation period\n",
    "val_actual = df_actual[(df_actual['date'] >= '2024-07-01') & (df_actual['date'] <= '2024-12-31')]\n",
    "\n",
    "print(f\"Loaded validation data:\")\n",
    "print(f\"  Actual: {len(val_actual)} months\")\n",
    "print(f\"  Current Method forecast: {len(current_forecast)} months\")\n",
    "print(f\"  Seasonal Naive forecast: {len(new_forecast)} months\")"
   ]
  },
  {
   "cell_type": "code",
   "execution_count": 5,
   "metadata": {
    "execution": {
     "iopub.execute_input": "2025-10-29T20:00:17.952824Z",
     "iopub.status.busy": "2025-10-29T20:00:17.952766Z",
     "iopub.status.idle": "2025-10-29T20:00:18.550617Z",
     "shell.execute_reply": "2025-10-29T20:00:18.549311Z"
    }
   },
   "outputs": [
    {
     "data": {
      "application/vnd.plotly.v1+json": {
       "config": {
        "plotlyServerURL": "https://plot.ly"
       },
       "data": [
        {
         "line": {
          "color": "green",
          "width": 3
         },
         "marker": {
          "size": 8
         },
         "mode": "lines+markers",
         "name": "Actual",
         "showlegend": true,
         "type": "scatter",
         "x": [
          "2024-07-01T00:00:00",
          "2024-08-01T00:00:00",
          "2024-09-01T00:00:00",
          "2024-10-01T00:00:00",
          "2024-11-01T00:00:00",
          "2024-12-01T00:00:00"
         ],
         "xaxis": "x",
         "y": {
          "bdata": "sjgCAOAeAgDiJQIAMkACAK4JAgB/CAIA",
          "dtype": "i4"
         },
         "yaxis": "y"
        },
        {
         "line": {
          "color": "red",
          "dash": "dot",
          "width": 2
         },
         "mode": "lines",
         "name": "Current Method",
         "showlegend": true,
         "type": "scatter",
         "x": [
          "2024-07-01T00:00:00",
          "2024-08-01T00:00:00",
          "2024-09-01T00:00:00",
          "2024-10-01T00:00:00",
          "2024-11-01T00:00:00",
          "2024-12-01T00:00:00"
         ],
         "xaxis": "x",
         "y": {
          "bdata": "AAAAAKB8AEEAAAAAoHwAQQAAAACgfABBAAAAAKB8AEEAAAAAoHwAQQAAAACgfABB",
          "dtype": "f8"
         },
         "yaxis": "y"
        },
        {
         "line": {
          "color": "blue",
          "dash": "dash",
          "width": 2
         },
         "marker": {
          "size": 6
         },
         "mode": "lines+markers",
         "name": "Seasonal Naive (Recommended)",
         "showlegend": true,
         "type": "scatter",
         "x": [
          "2024-07-01T00:00:00",
          "2024-08-01T00:00:00",
          "2024-09-01T00:00:00",
          "2024-10-01T00:00:00",
          "2024-11-01T00:00:00",
          "2024-12-01T00:00:00"
         ],
         "xaxis": "x",
         "y": {
          "bdata": "NxMCAHsZAgAHJAIAJSYCAH0TAgAk9wEA",
          "dtype": "i4"
         },
         "yaxis": "y"
        },
        {
         "line": {
          "color": "green",
          "width": 3
         },
         "marker": {
          "size": 8
         },
         "mode": "lines+markers",
         "showlegend": false,
         "type": "scatter",
         "x": [
          "2024-07-01T00:00:00",
          "2024-08-01T00:00:00",
          "2024-09-01T00:00:00",
          "2024-10-01T00:00:00",
          "2024-11-01T00:00:00",
          "2024-12-01T00:00:00"
         ],
         "xaxis": "x2",
         "y": {
          "bdata": "AAAAADpIYUEAAACAEnpgQQAAAABSt2BBAAAAgDaBYUEAAACA5oZfQQAAAMD1zF9B",
          "dtype": "f8"
         },
         "yaxis": "y2"
        },
        {
         "line": {
          "color": "red",
          "dash": "dot",
          "width": 2
         },
         "mode": "lines",
         "showlegend": false,
         "type": "scatter",
         "x": [
          "2024-07-01T00:00:00",
          "2024-08-01T00:00:00",
          "2024-09-01T00:00:00",
          "2024-10-01T00:00:00",
          "2024-11-01T00:00:00",
          "2024-12-01T00:00:00"
         ],
         "xaxis": "x2",
         "y": {
          "bdata": "AAAAuEdCYEEAAAC4R0JgQQAAALhHQmBBAAAAuEdCYEEAAAC4R0JgQQAAALhHQmBB",
          "dtype": "f8"
         },
         "yaxis": "y2"
        },
        {
         "line": {
          "color": "blue",
          "dash": "dash",
          "width": 2
         },
         "marker": {
          "size": 6
         },
         "mode": "lines+markers",
         "showlegend": false,
         "type": "scatter",
         "x": [
          "2024-07-01T00:00:00",
          "2024-08-01T00:00:00",
          "2024-09-01T00:00:00",
          "2024-10-01T00:00:00",
          "2024-11-01T00:00:00",
          "2024-12-01T00:00:00"
         ],
         "xaxis": "x2",
         "y": {
          "bdata": "AAAAAFdcYEEAAADgdptgQQAAACAr7mBBAAAA4OnqYEEAAACgAlxgQQAAAABA6V5B",
          "dtype": "f8"
         },
         "yaxis": "y2"
        },
        {
         "line": {
          "color": "green",
          "width": 3
         },
         "marker": {
          "size": 8
         },
         "mode": "lines+markers",
         "showlegend": false,
         "type": "scatter",
         "x": [
          "2024-07-01T00:00:00",
          "2024-08-01T00:00:00",
          "2024-09-01T00:00:00",
          "2024-10-01T00:00:00",
          "2024-11-01T00:00:00",
          "2024-12-01T00:00:00"
         ],
         "xaxis": "x3",
         "y": {
          "bdata": "rjACAJYWAgDxGgIA/zMCAKAAAgClAAIA",
          "dtype": "i4"
         },
         "yaxis": "y3"
        },
        {
         "line": {
          "color": "red",
          "dash": "dot",
          "width": 2
         },
         "mode": "lines",
         "showlegend": false,
         "type": "scatter",
         "x": [
          "2024-07-01T00:00:00",
          "2024-08-01T00:00:00",
          "2024-09-01T00:00:00",
          "2024-10-01T00:00:00",
          "2024-11-01T00:00:00",
          "2024-12-01T00:00:00"
         ],
         "xaxis": "x3",
         "y": {
          "bdata": "VVVVVZs2AEFVVVVVmzYAQVVVVVWbNgBBVVVVVZs2AEFVVVVVmzYAQVVVVVWbNgBB",
          "dtype": "f8"
         },
         "yaxis": "y3"
        },
        {
         "line": {
          "color": "blue",
          "dash": "dash",
          "width": 2
         },
         "marker": {
          "size": 6
         },
         "mode": "lines+markers",
         "showlegend": false,
         "type": "scatter",
         "x": [
          "2024-07-01T00:00:00",
          "2024-08-01T00:00:00",
          "2024-09-01T00:00:00",
          "2024-10-01T00:00:00",
          "2024-11-01T00:00:00",
          "2024-12-01T00:00:00"
         ],
         "xaxis": "x3",
         "y": {
          "bdata": "lAsCAGISAgDSGgIA/RoCAHsIAgDD7QEA",
          "dtype": "i4"
         },
         "yaxis": "y3"
        }
       ],
       "layout": {
        "annotations": [
         {
          "font": {
           "size": 16
          },
          "showarrow": false,
          "text": "Total Orders",
          "x": 0.5,
          "xanchor": "center",
          "xref": "paper",
          "y": 1.0,
          "yanchor": "bottom",
          "yref": "paper"
         },
         {
          "font": {
           "size": 16
          },
          "showarrow": false,
          "text": "Total Km",
          "x": 0.5,
          "xanchor": "center",
          "xref": "paper",
          "y": 0.6333333333333333,
          "yanchor": "bottom",
          "yref": "paper"
         },
         {
          "font": {
           "size": 16
          },
          "showarrow": false,
          "text": "Total Drivers",
          "x": 0.5,
          "xanchor": "center",
          "xref": "paper",
          "y": 0.26666666666666666,
          "yanchor": "bottom",
          "yref": "paper"
         }
        ],
        "height": 1000,
        "hovermode": "x unified",
        "legend": {
         "bgcolor": "rgba(255,255,255,0.8)",
         "x": 0.01,
         "y": 0.99
        },
        "template": {
         "data": {
          "bar": [
           {
            "error_x": {
             "color": "#2a3f5f"
            },
            "error_y": {
             "color": "#2a3f5f"
            },
            "marker": {
             "line": {
              "color": "#E5ECF6",
              "width": 0.5
             },
             "pattern": {
              "fillmode": "overlay",
              "size": 10,
              "solidity": 0.2
             }
            },
            "type": "bar"
           }
          ],
          "barpolar": [
           {
            "marker": {
             "line": {
              "color": "#E5ECF6",
              "width": 0.5
             },
             "pattern": {
              "fillmode": "overlay",
              "size": 10,
              "solidity": 0.2
             }
            },
            "type": "barpolar"
           }
          ],
          "carpet": [
           {
            "aaxis": {
             "endlinecolor": "#2a3f5f",
             "gridcolor": "white",
             "linecolor": "white",
             "minorgridcolor": "white",
             "startlinecolor": "#2a3f5f"
            },
            "baxis": {
             "endlinecolor": "#2a3f5f",
             "gridcolor": "white",
             "linecolor": "white",
             "minorgridcolor": "white",
             "startlinecolor": "#2a3f5f"
            },
            "type": "carpet"
           }
          ],
          "choropleth": [
           {
            "colorbar": {
             "outlinewidth": 0,
             "ticks": ""
            },
            "type": "choropleth"
           }
          ],
          "contour": [
           {
            "colorbar": {
             "outlinewidth": 0,
             "ticks": ""
            },
            "colorscale": [
             [
              0.0,
              "#0d0887"
             ],
             [
              0.1111111111111111,
              "#46039f"
             ],
             [
              0.2222222222222222,
              "#7201a8"
             ],
             [
              0.3333333333333333,
              "#9c179e"
             ],
             [
              0.4444444444444444,
              "#bd3786"
             ],
             [
              0.5555555555555556,
              "#d8576b"
             ],
             [
              0.6666666666666666,
              "#ed7953"
             ],
             [
              0.7777777777777778,
              "#fb9f3a"
             ],
             [
              0.8888888888888888,
              "#fdca26"
             ],
             [
              1.0,
              "#f0f921"
             ]
            ],
            "type": "contour"
           }
          ],
          "contourcarpet": [
           {
            "colorbar": {
             "outlinewidth": 0,
             "ticks": ""
            },
            "type": "contourcarpet"
           }
          ],
          "heatmap": [
           {
            "colorbar": {
             "outlinewidth": 0,
             "ticks": ""
            },
            "colorscale": [
             [
              0.0,
              "#0d0887"
             ],
             [
              0.1111111111111111,
              "#46039f"
             ],
             [
              0.2222222222222222,
              "#7201a8"
             ],
             [
              0.3333333333333333,
              "#9c179e"
             ],
             [
              0.4444444444444444,
              "#bd3786"
             ],
             [
              0.5555555555555556,
              "#d8576b"
             ],
             [
              0.6666666666666666,
              "#ed7953"
             ],
             [
              0.7777777777777778,
              "#fb9f3a"
             ],
             [
              0.8888888888888888,
              "#fdca26"
             ],
             [
              1.0,
              "#f0f921"
             ]
            ],
            "type": "heatmap"
           }
          ],
          "histogram": [
           {
            "marker": {
             "pattern": {
              "fillmode": "overlay",
              "size": 10,
              "solidity": 0.2
             }
            },
            "type": "histogram"
           }
          ],
          "histogram2d": [
           {
            "colorbar": {
             "outlinewidth": 0,
             "ticks": ""
            },
            "colorscale": [
             [
              0.0,
              "#0d0887"
             ],
             [
              0.1111111111111111,
              "#46039f"
             ],
             [
              0.2222222222222222,
              "#7201a8"
             ],
             [
              0.3333333333333333,
              "#9c179e"
             ],
             [
              0.4444444444444444,
              "#bd3786"
             ],
             [
              0.5555555555555556,
              "#d8576b"
             ],
             [
              0.6666666666666666,
              "#ed7953"
             ],
             [
              0.7777777777777778,
              "#fb9f3a"
             ],
             [
              0.8888888888888888,
              "#fdca26"
             ],
             [
              1.0,
              "#f0f921"
             ]
            ],
            "type": "histogram2d"
           }
          ],
          "histogram2dcontour": [
           {
            "colorbar": {
             "outlinewidth": 0,
             "ticks": ""
            },
            "colorscale": [
             [
              0.0,
              "#0d0887"
             ],
             [
              0.1111111111111111,
              "#46039f"
             ],
             [
              0.2222222222222222,
              "#7201a8"
             ],
             [
              0.3333333333333333,
              "#9c179e"
             ],
             [
              0.4444444444444444,
              "#bd3786"
             ],
             [
              0.5555555555555556,
              "#d8576b"
             ],
             [
              0.6666666666666666,
              "#ed7953"
             ],
             [
              0.7777777777777778,
              "#fb9f3a"
             ],
             [
              0.8888888888888888,
              "#fdca26"
             ],
             [
              1.0,
              "#f0f921"
             ]
            ],
            "type": "histogram2dcontour"
           }
          ],
          "mesh3d": [
           {
            "colorbar": {
             "outlinewidth": 0,
             "ticks": ""
            },
            "type": "mesh3d"
           }
          ],
          "parcoords": [
           {
            "line": {
             "colorbar": {
              "outlinewidth": 0,
              "ticks": ""
             }
            },
            "type": "parcoords"
           }
          ],
          "pie": [
           {
            "automargin": true,
            "type": "pie"
           }
          ],
          "scatter": [
           {
            "fillpattern": {
             "fillmode": "overlay",
             "size": 10,
             "solidity": 0.2
            },
            "type": "scatter"
           }
          ],
          "scatter3d": [
           {
            "line": {
             "colorbar": {
              "outlinewidth": 0,
              "ticks": ""
             }
            },
            "marker": {
             "colorbar": {
              "outlinewidth": 0,
              "ticks": ""
             }
            },
            "type": "scatter3d"
           }
          ],
          "scattercarpet": [
           {
            "marker": {
             "colorbar": {
              "outlinewidth": 0,
              "ticks": ""
             }
            },
            "type": "scattercarpet"
           }
          ],
          "scattergeo": [
           {
            "marker": {
             "colorbar": {
              "outlinewidth": 0,
              "ticks": ""
             }
            },
            "type": "scattergeo"
           }
          ],
          "scattergl": [
           {
            "marker": {
             "colorbar": {
              "outlinewidth": 0,
              "ticks": ""
             }
            },
            "type": "scattergl"
           }
          ],
          "scattermap": [
           {
            "marker": {
             "colorbar": {
              "outlinewidth": 0,
              "ticks": ""
             }
            },
            "type": "scattermap"
           }
          ],
          "scattermapbox": [
           {
            "marker": {
             "colorbar": {
              "outlinewidth": 0,
              "ticks": ""
             }
            },
            "type": "scattermapbox"
           }
          ],
          "scatterpolar": [
           {
            "marker": {
             "colorbar": {
              "outlinewidth": 0,
              "ticks": ""
             }
            },
            "type": "scatterpolar"
           }
          ],
          "scatterpolargl": [
           {
            "marker": {
             "colorbar": {
              "outlinewidth": 0,
              "ticks": ""
             }
            },
            "type": "scatterpolargl"
           }
          ],
          "scatterternary": [
           {
            "marker": {
             "colorbar": {
              "outlinewidth": 0,
              "ticks": ""
             }
            },
            "type": "scatterternary"
           }
          ],
          "surface": [
           {
            "colorbar": {
             "outlinewidth": 0,
             "ticks": ""
            },
            "colorscale": [
             [
              0.0,
              "#0d0887"
             ],
             [
              0.1111111111111111,
              "#46039f"
             ],
             [
              0.2222222222222222,
              "#7201a8"
             ],
             [
              0.3333333333333333,
              "#9c179e"
             ],
             [
              0.4444444444444444,
              "#bd3786"
             ],
             [
              0.5555555555555556,
              "#d8576b"
             ],
             [
              0.6666666666666666,
              "#ed7953"
             ],
             [
              0.7777777777777778,
              "#fb9f3a"
             ],
             [
              0.8888888888888888,
              "#fdca26"
             ],
             [
              1.0,
              "#f0f921"
             ]
            ],
            "type": "surface"
           }
          ],
          "table": [
           {
            "cells": {
             "fill": {
              "color": "#EBF0F8"
             },
             "line": {
              "color": "white"
             }
            },
            "header": {
             "fill": {
              "color": "#C8D4E3"
             },
             "line": {
              "color": "white"
             }
            },
            "type": "table"
           }
          ]
         },
         "layout": {
          "annotationdefaults": {
           "arrowcolor": "#2a3f5f",
           "arrowhead": 0,
           "arrowwidth": 1
          },
          "autotypenumbers": "strict",
          "coloraxis": {
           "colorbar": {
            "outlinewidth": 0,
            "ticks": ""
           }
          },
          "colorscale": {
           "diverging": [
            [
             0,
             "#8e0152"
            ],
            [
             0.1,
             "#c51b7d"
            ],
            [
             0.2,
             "#de77ae"
            ],
            [
             0.3,
             "#f1b6da"
            ],
            [
             0.4,
             "#fde0ef"
            ],
            [
             0.5,
             "#f7f7f7"
            ],
            [
             0.6,
             "#e6f5d0"
            ],
            [
             0.7,
             "#b8e186"
            ],
            [
             0.8,
             "#7fbc41"
            ],
            [
             0.9,
             "#4d9221"
            ],
            [
             1,
             "#276419"
            ]
           ],
           "sequential": [
            [
             0.0,
             "#0d0887"
            ],
            [
             0.1111111111111111,
             "#46039f"
            ],
            [
             0.2222222222222222,
             "#7201a8"
            ],
            [
             0.3333333333333333,
             "#9c179e"
            ],
            [
             0.4444444444444444,
             "#bd3786"
            ],
            [
             0.5555555555555556,
             "#d8576b"
            ],
            [
             0.6666666666666666,
             "#ed7953"
            ],
            [
             0.7777777777777778,
             "#fb9f3a"
            ],
            [
             0.8888888888888888,
             "#fdca26"
            ],
            [
             1.0,
             "#f0f921"
            ]
           ],
           "sequentialminus": [
            [
             0.0,
             "#0d0887"
            ],
            [
             0.1111111111111111,
             "#46039f"
            ],
            [
             0.2222222222222222,
             "#7201a8"
            ],
            [
             0.3333333333333333,
             "#9c179e"
            ],
            [
             0.4444444444444444,
             "#bd3786"
            ],
            [
             0.5555555555555556,
             "#d8576b"
            ],
            [
             0.6666666666666666,
             "#ed7953"
            ],
            [
             0.7777777777777778,
             "#fb9f3a"
            ],
            [
             0.8888888888888888,
             "#fdca26"
            ],
            [
             1.0,
             "#f0f921"
            ]
           ]
          },
          "colorway": [
           "#636efa",
           "#EF553B",
           "#00cc96",
           "#ab63fa",
           "#FFA15A",
           "#19d3f3",
           "#FF6692",
           "#B6E880",
           "#FF97FF",
           "#FECB52"
          ],
          "font": {
           "color": "#2a3f5f"
          },
          "geo": {
           "bgcolor": "white",
           "lakecolor": "white",
           "landcolor": "#E5ECF6",
           "showlakes": true,
           "showland": true,
           "subunitcolor": "white"
          },
          "hoverlabel": {
           "align": "left"
          },
          "hovermode": "closest",
          "mapbox": {
           "style": "light"
          },
          "paper_bgcolor": "white",
          "plot_bgcolor": "#E5ECF6",
          "polar": {
           "angularaxis": {
            "gridcolor": "white",
            "linecolor": "white",
            "ticks": ""
           },
           "bgcolor": "#E5ECF6",
           "radialaxis": {
            "gridcolor": "white",
            "linecolor": "white",
            "ticks": ""
           }
          },
          "scene": {
           "xaxis": {
            "backgroundcolor": "#E5ECF6",
            "gridcolor": "white",
            "gridwidth": 2,
            "linecolor": "white",
            "showbackground": true,
            "ticks": "",
            "zerolinecolor": "white"
           },
           "yaxis": {
            "backgroundcolor": "#E5ECF6",
            "gridcolor": "white",
            "gridwidth": 2,
            "linecolor": "white",
            "showbackground": true,
            "ticks": "",
            "zerolinecolor": "white"
           },
           "zaxis": {
            "backgroundcolor": "#E5ECF6",
            "gridcolor": "white",
            "gridwidth": 2,
            "linecolor": "white",
            "showbackground": true,
            "ticks": "",
            "zerolinecolor": "white"
           }
          },
          "shapedefaults": {
           "line": {
            "color": "#2a3f5f"
           }
          },
          "ternary": {
           "aaxis": {
            "gridcolor": "white",
            "linecolor": "white",
            "ticks": ""
           },
           "baxis": {
            "gridcolor": "white",
            "linecolor": "white",
            "ticks": ""
           },
           "bgcolor": "#E5ECF6",
           "caxis": {
            "gridcolor": "white",
            "linecolor": "white",
            "ticks": ""
           }
          },
          "title": {
           "x": 0.05
          },
          "xaxis": {
           "automargin": true,
           "gridcolor": "white",
           "linecolor": "white",
           "ticks": "",
           "title": {
            "standoff": 15
           },
           "zerolinecolor": "white",
           "zerolinewidth": 2
          },
          "yaxis": {
           "automargin": true,
           "gridcolor": "white",
           "linecolor": "white",
           "ticks": "",
           "title": {
            "standoff": 15
           },
           "zerolinecolor": "white",
           "zerolinewidth": 2
          }
         }
        },
        "title": {
         "text": "Current Method vs Seasonal Naive - Validation Period (Jul-Dec 2024)"
        },
        "xaxis": {
         "anchor": "y",
         "domain": [
          0.0,
          1.0
         ]
        },
        "xaxis2": {
         "anchor": "y2",
         "domain": [
          0.0,
          1.0
         ]
        },
        "xaxis3": {
         "anchor": "y3",
         "domain": [
          0.0,
          1.0
         ],
         "title": {
          "text": "Date"
         }
        },
        "yaxis": {
         "anchor": "x",
         "domain": [
          0.7333333333333334,
          1.0
         ],
         "title": {
          "text": "Total Orders<br>Current: 4.2% | New: 2.9% (29% better)"
         }
        },
        "yaxis2": {
         "anchor": "x2",
         "domain": [
          0.3666666666666667,
          0.6333333333333333
         ],
         "title": {
          "text": "Total Km<br>Current: 3.7% | New: 2.9% (23% better)"
         }
        },
        "yaxis3": {
         "anchor": "x3",
         "domain": [
          0.0,
          0.26666666666666666
         ],
         "title": {
          "text": "Total Drivers<br>Current: 4.1% | New: 2.8% (31% better)"
         }
        }
       }
      }
     },
     "metadata": {},
     "output_type": "display_data"
    },
    {
     "name": "stdout",
     "output_type": "stream",
     "text": [
      "\n",
      "✓ Saved: results/current_vs_new_method.html\n"
     ]
    }
   ],
   "source": [
    "# Create 3-panel comparison chart\n",
    "fig = make_subplots(\n",
    "    rows=3, cols=1,\n",
    "    subplot_titles=[m.replace('_', ' ').title() for m in target_metrics],\n",
    "    vertical_spacing=0.1,\n",
    "    specs=[[{'secondary_y': False}], [{'secondary_y': False}], [{'secondary_y': False}]]\n",
    ")\n",
    "\n",
    "for idx, metric in enumerate(target_metrics, 1):\n",
    "    # Actual values\n",
    "    fig.add_trace(\n",
    "        go.Scatter(\n",
    "            x=val_actual['date'],\n",
    "            y=val_actual[metric],\n",
    "            mode='lines+markers',\n",
    "            name='Actual' if idx == 1 else None,\n",
    "            showlegend=(idx == 1),\n",
    "            line=dict(color='green', width=3),\n",
    "            marker=dict(size=8)\n",
    "        ),\n",
    "        row=idx, col=1\n",
    "    )\n",
    "    \n",
    "    # Current Method\n",
    "    fig.add_trace(\n",
    "        go.Scatter(\n",
    "            x=current_forecast['date'],\n",
    "            y=current_forecast[metric],\n",
    "            mode='lines',\n",
    "            name='Current Method' if idx == 1 else None,\n",
    "            showlegend=(idx == 1),\n",
    "            line=dict(color='red', width=2, dash='dot')\n",
    "        ),\n",
    "        row=idx, col=1\n",
    "    )\n",
    "    \n",
    "    # Seasonal Naive\n",
    "    fig.add_trace(\n",
    "        go.Scatter(\n",
    "            x=new_forecast['date'],\n",
    "            y=new_forecast[metric],\n",
    "            mode='lines+markers',\n",
    "            name='Seasonal Naive (Recommended)' if idx == 1 else None,\n",
    "            showlegend=(idx == 1),\n",
    "            line=dict(color='blue', width=2, dash='dash'),\n",
    "            marker=dict(size=6)\n",
    "        ),\n",
    "        row=idx, col=1\n",
    "    )\n",
    "    \n",
    "    # Get MAPE values for annotation\n",
    "    current_mape = current_method[current_method['metric'] == metric]['MAPE'].values[0]\n",
    "    new_mape = new_method[new_method['metric'] == metric]['MAPE'].values[0]\n",
    "    improvement = ((current_mape - new_mape) / current_mape) * 100\n",
    "    \n",
    "    # Update y-axis title with MAPE\n",
    "    fig.update_yaxes(\n",
    "        title_text=f\"{metric.replace('_', ' ').title()}<br>Current: {current_mape:.1f}% | New: {new_mape:.1f}% ({improvement:.0f}% better)\",\n",
    "        row=idx, col=1\n",
    "    )\n",
    "\n",
    "fig.update_xaxes(title_text=\"Date\", row=3, col=1)\n",
    "\n",
    "fig.update_layout(\n",
    "    title_text=\"Current Method vs Seasonal Naive - Validation Period (Jul-Dec 2024)\",\n",
    "    height=1000,\n",
    "    hovermode='x unified',\n",
    "    legend=dict(x=0.01, y=0.99, bgcolor='rgba(255,255,255,0.8)')\n",
    ")\n",
    "\n",
    "fig.show()\n",
    "\n",
    "# Save\n",
    "results_dir = Path('../results')\n",
    "results_dir.mkdir(exist_ok=True)\n",
    "fig.write_html(results_dir / 'current_vs_new_method.html')\n",
    "print(\"\\n✓ Saved: results/current_vs_new_method.html\")"
   ]
  },
  {
   "cell_type": "markdown",
   "metadata": {},
   "source": [
    "## Section 4: June 2025 Out-of-Sample Test"
   ]
  },
  {
   "cell_type": "code",
   "execution_count": 6,
   "metadata": {
    "execution": {
     "iopub.execute_input": "2025-10-29T20:00:18.552698Z",
     "iopub.status.busy": "2025-10-29T20:00:18.552634Z",
     "iopub.status.idle": "2025-10-29T20:00:18.557907Z",
     "shell.execute_reply": "2025-10-29T20:00:18.556437Z"
    }
   },
   "outputs": [
    {
     "name": "stdout",
     "output_type": "stream",
     "text": [
      "\n",
      "================================================================================\n",
      "JUNE 2025 OUT-OF-SAMPLE VALIDATION\n",
      "================================================================================\n",
      "\n",
      "Seasonal Naive Performance on Completely Unseen Data:\n",
      "       metric    actual  forecast    mape\n",
      " total_orders  136159.0  130243.0 4.34492\n",
      "     total_km 8202626.0 8055347.0 1.79551\n",
      "total_drivers  131480.0  127948.0 2.68634\n",
      "\n",
      "Average MAPE (June 2025): 2.94%\n",
      "✓ Model performs excellently on unseen data (< 3% MAPE)\n",
      "\n",
      "Note: Current Method (Linear Distribution) not tested on June 2025,\n",
      "but expected to perform worse (~4% MAPE) based on validation results.\n"
     ]
    }
   ],
   "source": [
    "# Load June 2025 validation results\n",
    "june_2025_results = pd.read_csv('../data/processed/june_2025_validation_results.csv')\n",
    "\n",
    "print(\"\\n\" + \"=\"*80)\n",
    "print(\"JUNE 2025 OUT-OF-SAMPLE VALIDATION\")\n",
    "print(\"=\"*80)\n",
    "print(\"\\nSeasonal Naive Performance on Completely Unseen Data:\")\n",
    "print(june_2025_results[['metric', 'actual', 'forecast', 'mape']].to_string(index=False))\n",
    "\n",
    "avg_mape_june = june_2025_results['mape'].mean()\n",
    "print(f\"\\nAverage MAPE (June 2025): {avg_mape_june:.2f}%\")\n",
    "print(\"✓ Model performs excellently on unseen data (< 3% MAPE)\")\n",
    "\n",
    "print(\"\\nNote: Current Method (Linear Distribution) not tested on June 2025,\")\n",
    "print(\"but expected to perform worse (~4% MAPE) based on validation results.\")"
   ]
  },
  {
   "cell_type": "markdown",
   "metadata": {},
   "source": [
    "## Section 5: Prepare for Jan-Sep 2025 Validation\n",
    "\n",
    "**This section will automatically update when you provide Jan-Sep 2025 data.**\n",
    "\n",
    "### How to Update:\n",
    "1. Place monthly files in `data/raw/2025/` folder\n",
    "2. Re-run this notebook\n",
    "3. Section 6 below will automatically include 2025 data"
   ]
  },
  {
   "cell_type": "code",
   "execution_count": 7,
   "metadata": {
    "execution": {
     "iopub.execute_input": "2025-10-29T20:00:18.559712Z",
     "iopub.status.busy": "2025-10-29T20:00:18.559653Z",
     "iopub.status.idle": "2025-10-29T20:00:18.563721Z",
     "shell.execute_reply": "2025-10-29T20:00:18.562300Z"
    }
   },
   "outputs": [
    {
     "name": "stdout",
     "output_type": "stream",
     "text": [
      "⚠️  2025 data not found (expected).\n",
      "   Waiting for data to be placed in: ../data/raw/2025\n",
      "\n",
      "   When ready, create folder and add monthly files:\n",
      "   - 2025/20XX_Januar_2025_QS_Auftragsanalyse.xlsx\n",
      "   - 2025/20XX_Februar_2025_QS_Auftragsanalyse.xlsx\n",
      "   - ... through September\n"
     ]
    }
   ],
   "source": [
    "# Check if 2025 data exists\n",
    "data_2025_path = Path('../data/raw/2025')\n",
    "\n",
    "if data_2025_path.exists():\n",
    "    print(\"✓ 2025 data folder found!\")\n",
    "    files_2025 = list(data_2025_path.glob('*.xlsx'))\n",
    "    print(f\"  Files: {len(files_2025)}\")\n",
    "    \n",
    "    # TODO: When data arrives, add aggregation logic here\n",
    "    # For now, just show what's available\n",
    "    for f in files_2025[:5]:  # Show first 5\n",
    "        print(f\"    - {f.name}\")\n",
    "    \n",
    "    print(\"\\n⚠️  2025 data processing logic not yet implemented.\")\n",
    "    print(\"   Will be added when data is provided.\")\n",
    "else:\n",
    "    print(\"⚠️  2025 data not found (expected).\")\n",
    "    print(f\"   Waiting for data to be placed in: {data_2025_path}\")\n",
    "    print(\"\\n   When ready, create folder and add monthly files:\")\n",
    "    print(\"   - 2025/20XX_Januar_2025_QS_Auftragsanalyse.xlsx\")\n",
    "    print(\"   - 2025/20XX_Februar_2025_QS_Auftragsanalyse.xlsx\")\n",
    "    print(\"   - ... through September\")"
   ]
  },
  {
   "cell_type": "markdown",
   "metadata": {},
   "source": [
    "## Section 6: Save Comparison Summary"
   ]
  },
  {
   "cell_type": "code",
   "execution_count": 8,
   "metadata": {
    "execution": {
     "iopub.execute_input": "2025-10-29T20:00:18.565561Z",
     "iopub.status.busy": "2025-10-29T20:00:18.565488Z",
     "iopub.status.idle": "2025-10-29T20:00:18.570361Z",
     "shell.execute_reply": "2025-10-29T20:00:18.569086Z"
    }
   },
   "outputs": [
    {
     "name": "stdout",
     "output_type": "stream",
     "text": [
      "✓ Saved: data/processed/current_vs_new_method_comparison.csv\n",
      "\n",
      "================================================================================\n",
      "FORECAST METHOD COMPARISON SUMMARY\n",
      "================================================================================\n",
      "\n",
      "VALIDATION PERIOD: Jul-Dec 2024 (6 months)\n",
      "\n",
      "CURRENT METHOD (Linear Distribution):\n",
      "  • Approach: Previous year total ÷ 12\n",
      "  • Average MAPE: 4.01%\n",
      "  • Problem: Ignores seasonality\n",
      "\n",
      "RECOMMENDED METHOD (Seasonal Naive):\n",
      "  • Approach: Same month from previous year\n",
      "  • Average MAPE: 2.89%\n",
      "  • Benefit: Captures seasonal patterns\n",
      "\n",
      "IMPROVEMENT:\n",
      "  • Average error reduction: 27.6%\n",
      "  • Production-ready: ✓ Yes\n",
      "  • Validated on June 2025: ✓ Yes (2.94% MAPE)\n",
      "\n",
      "RECOMMENDATION:\n",
      "  Deploy Seasonal Naive for production forecasting.\n",
      "  Expected improvement: ~30% more accurate than current method.\n",
      "\n",
      "================================================================================\n",
      "\n"
     ]
    },
    {
     "name": "stdout",
     "output_type": "stream",
     "text": [
      "✓ Saved: results/forecast_comparison_summary.txt\n",
      "\n",
      "================================================================================\n",
      "CURRENT VS NEW METHOD COMPARISON COMPLETE!\n",
      "================================================================================\n",
      "\n",
      "Next steps:\n",
      "  1. Review results/current_vs_new_method.html\n",
      "  2. When Jan-Sep 2025 data arrives, re-run this notebook\n",
      "  3. Present findings to stakeholders\n"
     ]
    }
   ],
   "source": [
    "# Save comparison results\n",
    "comparison_df.to_csv('../data/processed/current_vs_new_method_comparison.csv', index=False)\n",
    "print(\"✓ Saved: data/processed/current_vs_new_method_comparison.csv\")\n",
    "\n",
    "# Create summary report\n",
    "summary = f\"\"\"\n",
    "================================================================================\n",
    "FORECAST METHOD COMPARISON SUMMARY\n",
    "================================================================================\n",
    "\n",
    "VALIDATION PERIOD: Jul-Dec 2024 (6 months)\n",
    "\n",
    "CURRENT METHOD (Linear Distribution):\n",
    "  • Approach: Previous year total ÷ 12\n",
    "  • Average MAPE: {current_method['MAPE'].mean():.2f}%\n",
    "  • Problem: Ignores seasonality\n",
    "\n",
    "RECOMMENDED METHOD (Seasonal Naive):\n",
    "  • Approach: Same month from previous year\n",
    "  • Average MAPE: {new_method['MAPE'].mean():.2f}%\n",
    "  • Benefit: Captures seasonal patterns\n",
    "\n",
    "IMPROVEMENT:\n",
    "  • Average error reduction: {avg_improvement:.1f}%\n",
    "  • Production-ready: ✓ Yes\n",
    "  • Validated on June 2025: ✓ Yes ({avg_mape_june:.2f}% MAPE)\n",
    "\n",
    "RECOMMENDATION:\n",
    "  Deploy Seasonal Naive for production forecasting.\n",
    "  Expected improvement: ~30% more accurate than current method.\n",
    "\n",
    "================================================================================\n",
    "\"\"\"\n",
    "\n",
    "print(summary)\n",
    "\n",
    "# Save summary to file\n",
    "with open('../results/forecast_comparison_summary.txt', 'w') as f:\n",
    "    f.write(summary)\n",
    "    \n",
    "print(\"✓ Saved: results/forecast_comparison_summary.txt\")\n",
    "\n",
    "print(\"\\n\" + \"=\"*80)\n",
    "print(\"CURRENT VS NEW METHOD COMPARISON COMPLETE!\")\n",
    "print(\"=\"*80)\n",
    "print(\"\\nNext steps:\")\n",
    "print(\"  1. Review results/current_vs_new_method.html\")\n",
    "print(\"  2. When Jan-Sep 2025 data arrives, re-run this notebook\")\n",
    "print(\"  3. Present findings to stakeholders\")"
   ]
  }
 ],
 "metadata": {
  "kernelspec": {
   "display_name": "Python 3",
   "language": "python",
   "name": "python3"
  },
  "language_info": {
   "codemirror_mode": {
    "name": "ipython",
    "version": 3
   },
   "file_extension": ".py",
   "mimetype": "text/x-python",
   "name": "python",
   "nbconvert_exporter": "python",
   "pygments_lexer": "ipython3",
   "version": "3.11.6"
  }
 },
 "nbformat": 4,
 "nbformat_minor": 4
}
