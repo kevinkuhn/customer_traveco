{
 "cells": [
  {
   "cell_type": "markdown",
   "metadata": {},
   "source": [
    "# Baseline Forecasting Models\n",
    "\n",
    "This notebook establishes baseline forecasting performance using simple statistical methods. These baselines serve as benchmarks that more sophisticated models (Prophet, SARIMAX, XGBoost) should outperform.\n",
    "\n",
    "## Baseline Methods\n",
    "1. **Naive Forecast**: Last observed value\n",
    "2. **Seasonal Naive**: Same month from previous year\n",
    "3. **Moving Average**: 3-month and 6-month rolling averages\n",
    "4. **Linear Trend**: Simple linear regression\n",
    "\n",
    "## Forecast Horizon\n",
    "- **Training**: January 2022 - December 2024 (36 months)\n",
    "- **Validation**: January 2025 - June 2025 (6 months)\n",
    "- **Forecast**: July 2025 - December 2026 (18 months)"
   ]
  },
  {
   "cell_type": "code",
   "execution_count": 1,
   "metadata": {
    "execution": {
     "iopub.execute_input": "2025-10-29T19:44:38.042813Z",
     "iopub.status.busy": "2025-10-29T19:44:38.042566Z",
     "iopub.status.idle": "2025-10-29T19:44:38.677757Z",
     "shell.execute_reply": "2025-10-29T19:44:38.676070Z"
    }
   },
   "outputs": [
    {
     "name": "stdout",
     "output_type": "stream",
     "text": [
      "✓ Libraries imported successfully\n"
     ]
    }
   ],
   "source": [
    "import pandas as pd\n",
    "import numpy as np\n",
    "import plotly.graph_objects as go\n",
    "from plotly.subplots import make_subplots\n",
    "from pathlib import Path\n",
    "from sklearn.metrics import mean_absolute_error, mean_squared_error, mean_absolute_percentage_error\n",
    "import warnings\n",
    "warnings.filterwarnings('ignore')\n",
    "\n",
    "print(\"✓ Libraries imported successfully\")"
   ]
  },
  {
   "cell_type": "markdown",
   "metadata": {},
   "source": [
    "## Section 1: Load Time Series Data\n",
    "\n",
    "Load the complete company-level time series created in notebook 08."
   ]
  },
  {
   "cell_type": "code",
   "execution_count": 2,
   "metadata": {
    "execution": {
     "iopub.execute_input": "2025-10-29T19:44:38.690821Z",
     "iopub.status.busy": "2025-10-29T19:44:38.690690Z",
     "iopub.status.idle": "2025-10-29T19:44:38.745772Z",
     "shell.execute_reply": "2025-10-29T19:44:38.744356Z"
    }
   },
   "outputs": [
    {
     "name": "stdout",
     "output_type": "stream",
     "text": [
      "Loaded time series data:\n",
      "  Records: 36\n",
      "  Date range: 2022-01-01 00:00:00 to 2024-12-01 00:00:00\n",
      "  Columns: ['year_month', 'total_orders', 'total_km', 'external_drivers', 'internal_drivers', 'Delivery', 'Leergut', 'Pickup/Multi-leg', 'Retoure/Abholung', 'date', 'total_drivers', 'km_per_order', 'month', 'year']\n"
     ]
    }
   ],
   "source": [
    "# Load company-level time series\n",
    "data_path = Path('../data/processed/monthly_aggregated_full_company.parquet')\n",
    "\n",
    "if not data_path.exists():\n",
    "    # Try CSV if Parquet doesn't exist\n",
    "    data_path = Path('../data/processed/monthly_aggregated_full_company.csv')\n",
    "    df = pd.read_csv(data_path)\n",
    "    df['date'] = pd.to_datetime(df['date'])\n",
    "    df['year_month'] = pd.to_datetime(df['year_month']).dt.to_period('M')\n",
    "else:\n",
    "    df = pd.read_parquet(data_path)\n",
    "\n",
    "# Sort by date\n",
    "df = df.sort_values('date').reset_index(drop=True)\n",
    "\n",
    "print(f\"Loaded time series data:\")\n",
    "print(f\"  Records: {len(df)}\")\n",
    "print(f\"  Date range: {df['date'].min()} to {df['date'].max()}\")\n",
    "print(f\"  Columns: {list(df.columns)}\")"
   ]
  },
  {
   "cell_type": "markdown",
   "metadata": {},
   "source": [
    "## Section 2: Train/Validation Split\n",
    "\n",
    "Split data for proper time series evaluation."
   ]
  },
  {
   "cell_type": "code",
   "execution_count": 3,
   "metadata": {
    "execution": {
     "iopub.execute_input": "2025-10-29T19:44:38.747863Z",
     "iopub.status.busy": "2025-10-29T19:44:38.747795Z",
     "iopub.status.idle": "2025-10-29T19:44:38.752332Z",
     "shell.execute_reply": "2025-10-29T19:44:38.751029Z"
    }
   },
   "outputs": [
    {
     "name": "stdout",
     "output_type": "stream",
     "text": [
      "Data Split:\n",
      "  Training: 30 months (2022-01-01 00:00:00 to 2024-06-01 00:00:00)\n",
      "  Validation: 6 months (2024-07-01 00:00:00 to 2024-12-01 00:00:00)\n",
      "\n",
      "Target Metrics: ['total_orders', 'total_km', 'total_drivers']\n"
     ]
    }
   ],
   "source": [
    "# Define split points\n",
    "train_end = '2024-06-30'\n",
    "val_start = '2024-07-01'\n",
    "val_end = '2024-12-31'\n",
    "\n",
    "# Split data\n",
    "train_df = df[df['date'] <= train_end].copy()\n",
    "val_df = df[(df['date'] >= val_start) & (df['date'] <= val_end)].copy()\n",
    "\n",
    "print(f\"Data Split:\")\n",
    "print(f\"  Training: {len(train_df)} months ({train_df['date'].min()} to {train_df['date'].max()})\")\n",
    "print(f\"  Validation: {len(val_df)} months ({val_df['date'].min()} to {val_df['date'].max()})\")\n",
    "\n",
    "# Target metrics to forecast\n",
    "target_metrics = ['total_orders', 'total_km', 'total_drivers']\n",
    "\n",
    "print(f\"\\nTarget Metrics: {target_metrics}\")"
   ]
  },
  {
   "cell_type": "markdown",
   "metadata": {},
   "source": [
    "## Section 3: Baseline Model 1 - Naive Forecast\n",
    "\n",
    "Predict: Last observed value repeats."
   ]
  },
  {
   "cell_type": "code",
   "execution_count": 4,
   "metadata": {
    "execution": {
     "iopub.execute_input": "2025-10-29T19:44:38.754143Z",
     "iopub.status.busy": "2025-10-29T19:44:38.754081Z",
     "iopub.status.idle": "2025-10-29T19:44:38.758144Z",
     "shell.execute_reply": "2025-10-29T19:44:38.756878Z"
    }
   },
   "outputs": [
    {
     "name": "stdout",
     "output_type": "stream",
     "text": [
      "\n",
      "Naive Forecast - total_orders:\n",
      "  Last training value: 130,243\n",
      "  Forecast (constant): 130,243\n",
      "\n",
      "Naive Forecast - total_km:\n",
      "  Last training value: 8,055,347\n",
      "  Forecast (constant): 8,055,347\n",
      "\n",
      "Naive Forecast - total_drivers:\n",
      "  Last training value: 127,948\n",
      "  Forecast (constant): 127,948\n"
     ]
    }
   ],
   "source": [
    "def naive_forecast(train_data, metric, horizon):\n",
    "    \"\"\"\n",
    "    Naive forecast: repeat last observed value.\n",
    "    \n",
    "    Parameters:\n",
    "    -----------\n",
    "    train_data : pd.DataFrame\n",
    "        Training time series\n",
    "    metric : str\n",
    "        Target metric column name\n",
    "    horizon : int\n",
    "        Number of periods to forecast\n",
    "    \n",
    "    Returns:\n",
    "    --------\n",
    "    np.array\n",
    "        Forecast values\n",
    "    \"\"\"\n",
    "    last_value = train_data[metric].iloc[-1]\n",
    "    return np.full(horizon, last_value)\n",
    "\n",
    "# Generate forecasts for validation period\n",
    "naive_forecasts = {}\n",
    "\n",
    "for metric in target_metrics:\n",
    "    forecast = naive_forecast(train_df, metric, len(val_df))\n",
    "    naive_forecasts[metric] = forecast\n",
    "    \n",
    "    print(f\"\\nNaive Forecast - {metric}:\")\n",
    "    print(f\"  Last training value: {train_df[metric].iloc[-1]:,.0f}\")\n",
    "    print(f\"  Forecast (constant): {forecast[0]:,.0f}\")"
   ]
  },
  {
   "cell_type": "markdown",
   "metadata": {},
   "source": [
    "## Section 4: Baseline Model 2 - Seasonal Naive\n",
    "\n",
    "Predict: Same month from previous year."
   ]
  },
  {
   "cell_type": "code",
   "execution_count": 5,
   "metadata": {
    "execution": {
     "iopub.execute_input": "2025-10-29T19:44:38.760123Z",
     "iopub.status.busy": "2025-10-29T19:44:38.760056Z",
     "iopub.status.idle": "2025-10-29T19:44:38.764993Z",
     "shell.execute_reply": "2025-10-29T19:44:38.763655Z"
    }
   },
   "outputs": [
    {
     "name": "stdout",
     "output_type": "stream",
     "text": [
      "\n",
      "Seasonal Naive Forecast - total_orders:\n",
      "  Jan 2024 value: 132,420\n",
      "  Jan 2025 forecast: 135,991\n",
      "\n",
      "Seasonal Naive Forecast - total_km:\n",
      "  Jan 2024 value: 8,354,971\n",
      "  Jan 2025 forecast: 8,577,720\n",
      "\n",
      "Seasonal Naive Forecast - total_drivers:\n",
      "  Jan 2024 value: 130,180\n",
      "  Jan 2025 forecast: 134,036\n"
     ]
    }
   ],
   "source": [
    "def seasonal_naive_forecast(train_data, metric, horizon, seasonality=12):\n",
    "    \"\"\"\n",
    "    Seasonal naive forecast: repeat values from same season last year.\n",
    "    \n",
    "    Parameters:\n",
    "    -----------\n",
    "    train_data : pd.DataFrame\n",
    "        Training time series\n",
    "    metric : str\n",
    "        Target metric column name\n",
    "    horizon : int\n",
    "        Number of periods to forecast\n",
    "    seasonality : int\n",
    "        Seasonal period (12 for monthly data)\n",
    "    \n",
    "    Returns:\n",
    "    --------\n",
    "    np.array\n",
    "        Forecast values\n",
    "    \"\"\"\n",
    "    values = train_data[metric].values\n",
    "    forecasts = []\n",
    "    \n",
    "    for i in range(horizon):\n",
    "        # Get value from same month last year\n",
    "        lag_idx = len(values) - seasonality + (i % seasonality)\n",
    "        if lag_idx >= 0 and lag_idx < len(values):\n",
    "            forecasts.append(values[lag_idx])\n",
    "        else:\n",
    "            # Fallback to last value if not enough history\n",
    "            forecasts.append(values[-1])\n",
    "    \n",
    "    return np.array(forecasts)\n",
    "\n",
    "# Generate seasonal naive forecasts\n",
    "seasonal_naive_forecasts = {}\n",
    "\n",
    "for metric in target_metrics:\n",
    "    forecast = seasonal_naive_forecast(train_df, metric, len(val_df))\n",
    "    seasonal_naive_forecasts[metric] = forecast\n",
    "    \n",
    "    print(f\"\\nSeasonal Naive Forecast - {metric}:\")\n",
    "    print(f\"  Jan 2024 value: {train_df[train_df['date'] == '2024-01-01'][metric].values[0]:,.0f}\")\n",
    "    print(f\"  Jan 2025 forecast: {forecast[0]:,.0f}\")"
   ]
  },
  {
   "cell_type": "markdown",
   "metadata": {},
   "source": [
    "## Section 5: Baseline Model 3 - Moving Average\n",
    "\n",
    "Predict: Average of last N months (N=3 and N=6)."
   ]
  },
  {
   "cell_type": "code",
   "execution_count": 6,
   "metadata": {
    "execution": {
     "iopub.execute_input": "2025-10-29T19:44:38.766475Z",
     "iopub.status.busy": "2025-10-29T19:44:38.766417Z",
     "iopub.status.idle": "2025-10-29T19:44:38.770439Z",
     "shell.execute_reply": "2025-10-29T19:44:38.769036Z"
    }
   },
   "outputs": [
    {
     "name": "stdout",
     "output_type": "stream",
     "text": [
      "\n",
      "Moving Average Forecast - total_orders:\n",
      "  3-month MA: 134,286\n",
      "  6-month MA: 133,523\n",
      "\n",
      "Moving Average Forecast - total_km:\n",
      "  3-month MA: 8,404,857\n",
      "  6-month MA: 8,430,196\n",
      "\n",
      "Moving Average Forecast - total_drivers:\n",
      "  3-month MA: 132,189\n",
      "  6-month MA: 131,409\n"
     ]
    }
   ],
   "source": [
    "def moving_average_forecast(train_data, metric, horizon, window=3):\n",
    "    \"\"\"\n",
    "    Moving average forecast: average of last N values.\n",
    "    \n",
    "    Parameters:\n",
    "    -----------\n",
    "    train_data : pd.DataFrame\n",
    "        Training time series\n",
    "    metric : str\n",
    "        Target metric column name\n",
    "    horizon : int\n",
    "        Number of periods to forecast\n",
    "    window : int\n",
    "        Moving average window size\n",
    "    \n",
    "    Returns:\n",
    "    --------\n",
    "    np.array\n",
    "        Forecast values\n",
    "    \"\"\"\n",
    "    values = train_data[metric].values\n",
    "    ma_value = np.mean(values[-window:])\n",
    "    return np.full(horizon, ma_value)\n",
    "\n",
    "# Generate moving average forecasts (3-month and 6-month)\n",
    "ma3_forecasts = {}\n",
    "ma6_forecasts = {}\n",
    "\n",
    "for metric in target_metrics:\n",
    "    ma3 = moving_average_forecast(train_df, metric, len(val_df), window=3)\n",
    "    ma6 = moving_average_forecast(train_df, metric, len(val_df), window=6)\n",
    "    \n",
    "    ma3_forecasts[metric] = ma3\n",
    "    ma6_forecasts[metric] = ma6\n",
    "    \n",
    "    print(f\"\\nMoving Average Forecast - {metric}:\")\n",
    "    print(f\"  3-month MA: {ma3[0]:,.0f}\")\n",
    "    print(f\"  6-month MA: {ma6[0]:,.0f}\")"
   ]
  },
  {
   "cell_type": "markdown",
   "metadata": {},
   "source": [
    "## Section 6: Baseline Model 4 - Linear Trend\n",
    "\n",
    "Predict: Extrapolate linear trend."
   ]
  },
  {
   "cell_type": "code",
   "execution_count": 7,
   "metadata": {
    "execution": {
     "iopub.execute_input": "2025-10-29T19:44:38.772184Z",
     "iopub.status.busy": "2025-10-29T19:44:38.772117Z",
     "iopub.status.idle": "2025-10-29T19:44:38.829835Z",
     "shell.execute_reply": "2025-10-29T19:44:38.828370Z"
    }
   },
   "outputs": [
    {
     "name": "stdout",
     "output_type": "stream",
     "text": [
      "\n",
      "Linear Trend Forecast - total_orders:\n",
      "  Jan 2025 forecast: 134,525\n",
      "  Jun 2025 forecast: 133,878\n",
      "\n",
      "Linear Trend Forecast - total_km:\n",
      "  Jan 2025 forecast: 8,492,917\n",
      "  Jun 2025 forecast: 8,453,675\n",
      "\n",
      "Linear Trend Forecast - total_drivers:\n",
      "  Jan 2025 forecast: 132,297\n",
      "  Jun 2025 forecast: 131,710\n"
     ]
    }
   ],
   "source": [
    "def linear_trend_forecast(train_data, metric, horizon):\n",
    "    \"\"\"\n",
    "    Linear trend forecast: fit linear regression and extrapolate.\n",
    "    \n",
    "    Parameters:\n",
    "    -----------\n",
    "    train_data : pd.DataFrame\n",
    "        Training time series\n",
    "    metric : str\n",
    "        Target metric column name\n",
    "    horizon : int\n",
    "        Number of periods to forecast\n",
    "    \n",
    "    Returns:\n",
    "    --------\n",
    "    np.array\n",
    "        Forecast values\n",
    "    \"\"\"\n",
    "    # Create time index\n",
    "    X = np.arange(len(train_data)).reshape(-1, 1)\n",
    "    y = train_data[metric].values\n",
    "    \n",
    "    # Fit linear regression\n",
    "    from sklearn.linear_model import LinearRegression\n",
    "    model = LinearRegression()\n",
    "    model.fit(X, y)\n",
    "    \n",
    "    # Forecast\n",
    "    future_X = np.arange(len(train_data), len(train_data) + horizon).reshape(-1, 1)\n",
    "    forecast = model.predict(future_X)\n",
    "    \n",
    "    return forecast\n",
    "\n",
    "# Generate linear trend forecasts\n",
    "linear_forecasts = {}\n",
    "\n",
    "for metric in target_metrics:\n",
    "    forecast = linear_trend_forecast(train_df, metric, len(val_df))\n",
    "    linear_forecasts[metric] = forecast\n",
    "    \n",
    "    print(f\"\\nLinear Trend Forecast - {metric}:\")\n",
    "    print(f\"  Jan 2025 forecast: {forecast[0]:,.0f}\")\n",
    "    print(f\"  Jun 2025 forecast: {forecast[-1]:,.0f}\")"
   ]
  },
  {
   "cell_type": "code",
   "execution_count": 8,
   "metadata": {
    "execution": {
     "iopub.execute_input": "2025-10-29T19:44:38.831693Z",
     "iopub.status.busy": "2025-10-29T19:44:38.831631Z",
     "iopub.status.idle": "2025-10-29T19:44:38.836561Z",
     "shell.execute_reply": "2025-10-29T19:44:38.835229Z"
    }
   },
   "outputs": [
    {
     "name": "stdout",
     "output_type": "stream",
     "text": [
      "Linear Distribution (Current Method) Forecasts:\n",
      "============================================================\n",
      "\n",
      "total_orders:\n",
      "  Previous year total (Jul 2023 - Jun 2024): 1,620,720\n",
      "  Monthly forecast (total ÷ 12): 135,060\n",
      "  → Applied to all months (ignores seasonality)\n",
      "\n",
      "total_km:\n",
      "  Previous year total (Jul 2023 - Jun 2024): 102,292,197\n",
      "  Monthly forecast (total ÷ 12): 8,524,350\n",
      "  → Applied to all months (ignores seasonality)\n",
      "\n",
      "total_drivers:\n",
      "  Previous year total (Jul 2023 - Jun 2024): 1,593,833\n",
      "  Monthly forecast (total ÷ 12): 132,819\n",
      "  → Applied to all months (ignores seasonality)\n",
      "\n",
      "============================================================\n",
      "NOTE: This method ignores seasonal patterns, which is why\n",
      "months like February (28 days) get the same forecast as\n",
      "March (31 days), leading to systematic errors.\n"
     ]
    }
   ],
   "source": [
    "def linear_distribution_forecast(train_data, metric, horizon):\n",
    "    \"\"\"\n",
    "    Linear Distribution (Current Method): Previous year total ÷ 12.\n",
    "    \n",
    "    This represents Traveco's current forecasting approach:\n",
    "    - Take previous year's total\n",
    "    - Divide by 12\n",
    "    - Apply same value to every month (ignores seasonality)\n",
    "    \n",
    "    Parameters:\n",
    "    -----------\n",
    "    train_data : pd.DataFrame\n",
    "        Training time series\n",
    "    metric : str\n",
    "        Target metric column name\n",
    "    horizon : int\n",
    "        Number of periods to forecast\n",
    "    \n",
    "    Returns:\n",
    "    --------\n",
    "    np.array\n",
    "        Forecast values (constant monthly value)\n",
    "    \"\"\"\n",
    "    # Get last 12 months (previous full year)\n",
    "    last_12_months = train_data[metric].tail(12).sum()\n",
    "    \n",
    "    # Divide by 12 for monthly forecast\n",
    "    monthly_forecast = last_12_months / 12\n",
    "    \n",
    "    # Return constant value for all forecast periods\n",
    "    return np.full(horizon, monthly_forecast)\n",
    "\n",
    "# Generate linear distribution forecasts\n",
    "linear_dist_forecasts = {}\n",
    "\n",
    "print(\"Linear Distribution (Current Method) Forecasts:\")\n",
    "print(\"=\"*60)\n",
    "\n",
    "for metric in target_metrics:\n",
    "    # Calculate last 12 months total\n",
    "    last_12_total = train_df[metric].tail(12).sum()\n",
    "    \n",
    "    forecast = linear_distribution_forecast(train_df, metric, len(val_df))\n",
    "    linear_dist_forecasts[metric] = forecast\n",
    "    \n",
    "    print(f\"\\n{metric}:\")\n",
    "    print(f\"  Previous year total (Jul 2023 - Jun 2024): {last_12_total:,.0f}\")\n",
    "    print(f\"  Monthly forecast (total ÷ 12): {forecast[0]:,.0f}\")\n",
    "    print(f\"  → Applied to all months (ignores seasonality)\")\n",
    "\n",
    "print(\"\\n\" + \"=\"*60)\n",
    "print(\"NOTE: This method ignores seasonal patterns, which is why\")\n",
    "print(\"months like February (28 days) get the same forecast as\")\n",
    "print(\"March (31 days), leading to systematic errors.\")"
   ]
  },
  {
   "cell_type": "markdown",
   "metadata": {},
   "source": [
    "## Section 6.5: Baseline Model 5 - Linear Distribution (Current Method)\n",
    "\n",
    "**Traveco's Current Forecasting Approach**\n",
    "\n",
    "Predict: Previous year total ÷ 12 = equal monthly forecast (ignores seasonality).\n",
    "\n",
    "This represents how Traveco currently forecasts: take the yearly budget/actuals and distribute equally across 12 months."
   ]
  },
  {
   "cell_type": "markdown",
   "metadata": {},
   "source": [
    "## Section 7: Model Evaluation\n",
    "\n",
    "Calculate MAPE, MAE, and RMSE for each baseline method."
   ]
  },
  {
   "cell_type": "code",
   "execution_count": 9,
   "metadata": {
    "execution": {
     "iopub.execute_input": "2025-10-29T19:44:38.838493Z",
     "iopub.status.busy": "2025-10-29T19:44:38.838436Z",
     "iopub.status.idle": "2025-10-29T19:44:38.851292Z",
     "shell.execute_reply": "2025-10-29T19:44:38.849904Z"
    }
   },
   "outputs": [
    {
     "name": "stdout",
     "output_type": "stream",
     "text": [
      "\n",
      "Baseline Model Performance (Validation Period):\n",
      "================================================================================\n",
      "                               model        metric           MAE          RMSE     MAPE\n",
      "                               Naive  total_orders   9696.166667  11109.021116 6.789117\n",
      "                               Naive      total_km 651643.833333 734330.840965 7.344219\n",
      "                               Naive total_drivers   9586.833333  10911.554083 6.836859\n",
      "                      Seasonal Naive  total_orders   4179.000000   5239.556947 2.942918\n",
      "                      Seasonal Naive      total_km 252873.833333 287928.342668 2.889437\n",
      "                      Seasonal Naive total_drivers   3975.333333   5160.232908 2.845968\n",
      "                                MA-3  total_orders   6244.833333   7832.815298 4.339287\n",
      "                                MA-3      total_km 371723.500000 453747.674061 4.163659\n",
      "                                MA-3 total_drivers   5982.277778   7465.663880 4.233803\n",
      "                                MA-6  total_orders   6508.277778   8400.240210 4.510845\n",
      "                                MA-6      total_km 363277.111111 437284.102120 4.075718\n",
      "                                MA-6 total_drivers   6242.166667   8042.417122 4.405436\n",
      "                        Linear Trend  total_orders   6100.339859   7799.209732 4.232089\n",
      "                        Linear Trend      total_km 338445.774873 404635.328032 3.804025\n",
      "                        Linear Trend total_drivers   5887.639278   7509.182905 4.159202\n",
      "Linear Distribution (Current Method)  total_orders   5986.833333   7293.899471 4.172170\n",
      "Linear Distribution (Current Method)      total_km 331892.583333 384655.513145 3.748951\n",
      "Linear Distribution (Current Method) total_drivers   5772.027778   7027.787239 4.094952\n",
      "\n",
      "================================================================================\n",
      "Best Baseline Models (by MAPE):\n",
      "================================================================================\n",
      "\n",
      "total_orders:\n",
      "  Model: Seasonal Naive\n",
      "  MAPE: 2.94%\n",
      "  MAE: 4,179\n",
      "\n",
      "total_km:\n",
      "  Model: Seasonal Naive\n",
      "  MAPE: 2.89%\n",
      "  MAE: 252,874\n",
      "\n",
      "total_drivers:\n",
      "  Model: Seasonal Naive\n",
      "  MAPE: 2.85%\n",
      "  MAE: 3,975\n",
      "\n",
      "================================================================================\n",
      "CURRENT METHOD vs BEST MODEL COMPARISON:\n",
      "================================================================================\n",
      "\n",
      "total_orders:\n",
      "  Current Method MAPE: 4.17%\n",
      "  Best Model (Seasonal Naive) MAPE: 2.94%\n",
      "  → Improvement: 29.5% error reduction\n",
      "\n",
      "total_km:\n",
      "  Current Method MAPE: 3.75%\n",
      "  Best Model (Seasonal Naive) MAPE: 2.89%\n",
      "  → Improvement: 22.9% error reduction\n",
      "\n",
      "total_drivers:\n",
      "  Current Method MAPE: 4.09%\n",
      "  Best Model (Seasonal Naive) MAPE: 2.85%\n",
      "  → Improvement: 30.5% error reduction\n"
     ]
    }
   ],
   "source": [
    "def calculate_metrics(y_true, y_pred, model_name, metric_name):\n",
    "    \"\"\"\n",
    "    Calculate forecast accuracy metrics.\n",
    "    \"\"\"\n",
    "    mae = mean_absolute_error(y_true, y_pred)\n",
    "    rmse = np.sqrt(mean_squared_error(y_true, y_pred))\n",
    "    mape = mean_absolute_percentage_error(y_true, y_pred) * 100\n",
    "    \n",
    "    return {\n",
    "        'model': model_name,\n",
    "        'metric': metric_name,\n",
    "        'MAE': mae,\n",
    "        'RMSE': rmse,\n",
    "        'MAPE': mape\n",
    "    }\n",
    "\n",
    "# Collect all results\n",
    "results = []\n",
    "\n",
    "all_forecasts = {\n",
    "    'Naive': naive_forecasts,\n",
    "    'Seasonal Naive': seasonal_naive_forecasts,\n",
    "    'MA-3': ma3_forecasts,\n",
    "    'MA-6': ma6_forecasts,\n",
    "    'Linear Trend': linear_forecasts,\n",
    "    'Linear Distribution (Current Method)': linear_dist_forecasts  # Added: Current method\n",
    "}\n",
    "\n",
    "for model_name, forecasts in all_forecasts.items():\n",
    "    for metric in target_metrics:\n",
    "        y_true = val_df[metric].values\n",
    "        y_pred = forecasts[metric]\n",
    "        \n",
    "        metrics = calculate_metrics(y_true, y_pred, model_name, metric)\n",
    "        results.append(metrics)\n",
    "\n",
    "# Create results dataframe\n",
    "results_df = pd.DataFrame(results)\n",
    "\n",
    "print(\"\\nBaseline Model Performance (Validation Period):\")\n",
    "print(\"=\"*80)\n",
    "print(results_df.to_string(index=False))\n",
    "\n",
    "# Find best model per metric\n",
    "print(\"\\n\" + \"=\"*80)\n",
    "print(\"Best Baseline Models (by MAPE):\")\n",
    "print(\"=\"*80)\n",
    "for metric in target_metrics:\n",
    "    metric_results = results_df[results_df['metric'] == metric]\n",
    "    best = metric_results.loc[metric_results['MAPE'].idxmin()]\n",
    "    print(f\"\\n{metric}:\")\n",
    "    print(f\"  Model: {best['model']}\")\n",
    "    print(f\"  MAPE: {best['MAPE']:.2f}%\")\n",
    "    print(f\"  MAE: {best['MAE']:,.0f}\")\n",
    "\n",
    "# Highlight Current Method vs Best Model\n",
    "print(\"\\n\" + \"=\"*80)\n",
    "print(\"CURRENT METHOD vs BEST MODEL COMPARISON:\")\n",
    "print(\"=\"*80)\n",
    "for metric in target_metrics:\n",
    "    metric_results = results_df[results_df['metric'] == metric]\n",
    "    best = metric_results.loc[metric_results['MAPE'].idxmin()]\n",
    "    current = metric_results[metric_results['model'] == 'Linear Distribution (Current Method)'].iloc[0]\n",
    "    \n",
    "    improvement = ((current['MAPE'] - best['MAPE']) / current['MAPE']) * 100\n",
    "    \n",
    "    print(f\"\\n{metric}:\")\n",
    "    print(f\"  Current Method MAPE: {current['MAPE']:.2f}%\")\n",
    "    print(f\"  Best Model ({best['model']}) MAPE: {best['MAPE']:.2f}%\")\n",
    "    print(f\"  → Improvement: {improvement:.1f}% error reduction\")"
   ]
  },
  {
   "cell_type": "markdown",
   "metadata": {},
   "source": [
    "## Section 8: Visualization\n",
    "\n",
    "Plot actual vs forecasted values for each baseline method."
   ]
  },
  {
   "cell_type": "code",
   "execution_count": 10,
   "metadata": {
    "execution": {
     "iopub.execute_input": "2025-10-29T19:44:38.853447Z",
     "iopub.status.busy": "2025-10-29T19:44:38.853359Z",
     "iopub.status.idle": "2025-10-29T19:44:39.512943Z",
     "shell.execute_reply": "2025-10-29T19:44:39.511603Z"
    }
   },
   "outputs": [
    {
     "data": {
      "application/vnd.plotly.v1+json": {
       "config": {
        "plotlyServerURL": "https://plot.ly"
       },
       "data": [
        {
         "line": {
          "color": "black",
          "width": 2
         },
         "mode": "lines+markers",
         "name": "Historical (Training)",
         "type": "scatter",
         "x": [
          "2022-01-01T00:00:00",
          "2022-02-01T00:00:00",
          "2022-03-01T00:00:00",
          "2022-04-01T00:00:00",
          "2022-05-01T00:00:00",
          "2022-06-01T00:00:00",
          "2022-07-01T00:00:00",
          "2022-08-01T00:00:00",
          "2022-09-01T00:00:00",
          "2022-10-01T00:00:00",
          "2022-11-01T00:00:00",
          "2022-12-01T00:00:00",
          "2023-01-01T00:00:00",
          "2023-02-01T00:00:00",
          "2023-03-01T00:00:00",
          "2023-04-01T00:00:00",
          "2023-05-01T00:00:00",
          "2023-06-01T00:00:00",
          "2023-07-01T00:00:00",
          "2023-08-01T00:00:00",
          "2023-09-01T00:00:00",
          "2023-10-01T00:00:00",
          "2023-11-01T00:00:00",
          "2023-12-01T00:00:00",
          "2024-01-01T00:00:00",
          "2024-02-01T00:00:00",
          "2024-03-01T00:00:00",
          "2024-04-01T00:00:00",
          "2024-05-01T00:00:00",
          "2024-06-01T00:00:00"
         ],
         "y": {
          "bdata": "1f8BAOD7AQARXAIAfQMCAF4UAgCcBgIA6hICAL4iAgCtOgIAqSMCANUWAgAzHAIA3gQCABr9AQCwVwIAU+wBAGMhAgBcIAIANxMCAHsZAgAHJAIAJSYCAH0TAgAk9wEARAUCAJkAAgDqDQIAKhECAL0XAgDD/AEA",
          "dtype": "i4"
         }
        },
        {
         "line": {
          "color": "green",
          "width": 3
         },
         "mode": "lines+markers",
         "name": "Actual (Validation)",
         "type": "scatter",
         "x": [
          "2024-07-01T00:00:00",
          "2024-08-01T00:00:00",
          "2024-09-01T00:00:00",
          "2024-10-01T00:00:00",
          "2024-11-01T00:00:00",
          "2024-12-01T00:00:00"
         ],
         "y": {
          "bdata": "sjgCAOAeAgDiJQIAMkACAK4JAgB/CAIA",
          "dtype": "i4"
         }
        },
        {
         "line": {
          "color": "blue",
          "dash": "dash",
          "width": 2
         },
         "mode": "lines+markers",
         "name": "Naive",
         "type": "scatter",
         "x": [
          "2024-07-01T00:00:00",
          "2024-08-01T00:00:00",
          "2024-09-01T00:00:00",
          "2024-10-01T00:00:00",
          "2024-11-01T00:00:00",
          "2024-12-01T00:00:00"
         ],
         "y": {
          "bdata": "w/wBAMP8AQDD/AEAw/wBAMP8AQDD/AEA",
          "dtype": "i4"
         }
        },
        {
         "line": {
          "color": "red",
          "dash": "dash",
          "width": 2
         },
         "mode": "lines+markers",
         "name": "Seasonal Naive",
         "type": "scatter",
         "x": [
          "2024-07-01T00:00:00",
          "2024-08-01T00:00:00",
          "2024-09-01T00:00:00",
          "2024-10-01T00:00:00",
          "2024-11-01T00:00:00",
          "2024-12-01T00:00:00"
         ],
         "y": {
          "bdata": "NxMCAHsZAgAHJAIAJSYCAH0TAgAk9wEA",
          "dtype": "i4"
         }
        },
        {
         "line": {
          "color": "orange",
          "dash": "dash",
          "width": 2
         },
         "mode": "lines+markers",
         "name": "MA-3",
         "type": "scatter",
         "x": [
          "2024-07-01T00:00:00",
          "2024-08-01T00:00:00",
          "2024-09-01T00:00:00",
          "2024-10-01T00:00:00",
          "2024-11-01T00:00:00",
          "2024-12-01T00:00:00"
         ],
         "y": {
          "bdata": "AAAAAHBkAEEAAAAAcGQAQQAAAABwZABBAAAAAHBkAEEAAAAAcGQAQQAAAABwZABB",
          "dtype": "f8"
         }
        },
        {
         "line": {
          "color": "purple",
          "dash": "dash",
          "width": 2
         },
         "mode": "lines+markers",
         "name": "MA-6",
         "type": "scatter",
         "x": [
          "2024-07-01T00:00:00",
          "2024-08-01T00:00:00",
          "2024-09-01T00:00:00",
          "2024-10-01T00:00:00",
          "2024-11-01T00:00:00",
          "2024-12-01T00:00:00"
         ],
         "y": {
          "bdata": "q6qqqpZMAEGrqqqqlkwAQauqqqqWTABBq6qqqpZMAEGrqqqqlkwAQauqqqqWTABB",
          "dtype": "f8"
         }
        },
        {
         "line": {
          "color": "brown",
          "dash": "dash",
          "width": 2
         },
         "mode": "lines+markers",
         "name": "Linear Trend",
         "type": "scatter",
         "x": [
          "2024-07-01T00:00:00",
          "2024-08-01T00:00:00",
          "2024-09-01T00:00:00",
          "2024-10-01T00:00:00",
          "2024-11-01T00:00:00",
          "2024-12-01T00:00:00"
         ],
         "y": {
          "bdata": "G2G5p+lrAEG4ZZqH3WcAQVVqe2fRYwBB8m5cR8VfAEGPcz0nuVsAQSx4HgetVwBB",
          "dtype": "f8"
         }
        },
        {
         "line": {
          "color": "pink",
          "dash": "dot",
          "width": 3
         },
         "mode": "lines+markers",
         "name": "Linear Distribution (Current Method)",
         "type": "scatter",
         "x": [
          "2024-07-01T00:00:00",
          "2024-08-01T00:00:00",
          "2024-09-01T00:00:00",
          "2024-10-01T00:00:00",
          "2024-11-01T00:00:00",
          "2024-12-01T00:00:00"
         ],
         "y": {
          "bdata": "AAAAAKB8AEEAAAAAoHwAQQAAAACgfABBAAAAAKB8AEEAAAAAoHwAQQAAAACgfABB",
          "dtype": "f8"
         }
        }
       ],
       "layout": {
        "height": 600,
        "hovermode": "x unified",
        "legend": {
         "x": 0.01,
         "y": 0.99
        },
        "template": {
         "data": {
          "bar": [
           {
            "error_x": {
             "color": "#2a3f5f"
            },
            "error_y": {
             "color": "#2a3f5f"
            },
            "marker": {
             "line": {
              "color": "#E5ECF6",
              "width": 0.5
             },
             "pattern": {
              "fillmode": "overlay",
              "size": 10,
              "solidity": 0.2
             }
            },
            "type": "bar"
           }
          ],
          "barpolar": [
           {
            "marker": {
             "line": {
              "color": "#E5ECF6",
              "width": 0.5
             },
             "pattern": {
              "fillmode": "overlay",
              "size": 10,
              "solidity": 0.2
             }
            },
            "type": "barpolar"
           }
          ],
          "carpet": [
           {
            "aaxis": {
             "endlinecolor": "#2a3f5f",
             "gridcolor": "white",
             "linecolor": "white",
             "minorgridcolor": "white",
             "startlinecolor": "#2a3f5f"
            },
            "baxis": {
             "endlinecolor": "#2a3f5f",
             "gridcolor": "white",
             "linecolor": "white",
             "minorgridcolor": "white",
             "startlinecolor": "#2a3f5f"
            },
            "type": "carpet"
           }
          ],
          "choropleth": [
           {
            "colorbar": {
             "outlinewidth": 0,
             "ticks": ""
            },
            "type": "choropleth"
           }
          ],
          "contour": [
           {
            "colorbar": {
             "outlinewidth": 0,
             "ticks": ""
            },
            "colorscale": [
             [
              0.0,
              "#0d0887"
             ],
             [
              0.1111111111111111,
              "#46039f"
             ],
             [
              0.2222222222222222,
              "#7201a8"
             ],
             [
              0.3333333333333333,
              "#9c179e"
             ],
             [
              0.4444444444444444,
              "#bd3786"
             ],
             [
              0.5555555555555556,
              "#d8576b"
             ],
             [
              0.6666666666666666,
              "#ed7953"
             ],
             [
              0.7777777777777778,
              "#fb9f3a"
             ],
             [
              0.8888888888888888,
              "#fdca26"
             ],
             [
              1.0,
              "#f0f921"
             ]
            ],
            "type": "contour"
           }
          ],
          "contourcarpet": [
           {
            "colorbar": {
             "outlinewidth": 0,
             "ticks": ""
            },
            "type": "contourcarpet"
           }
          ],
          "heatmap": [
           {
            "colorbar": {
             "outlinewidth": 0,
             "ticks": ""
            },
            "colorscale": [
             [
              0.0,
              "#0d0887"
             ],
             [
              0.1111111111111111,
              "#46039f"
             ],
             [
              0.2222222222222222,
              "#7201a8"
             ],
             [
              0.3333333333333333,
              "#9c179e"
             ],
             [
              0.4444444444444444,
              "#bd3786"
             ],
             [
              0.5555555555555556,
              "#d8576b"
             ],
             [
              0.6666666666666666,
              "#ed7953"
             ],
             [
              0.7777777777777778,
              "#fb9f3a"
             ],
             [
              0.8888888888888888,
              "#fdca26"
             ],
             [
              1.0,
              "#f0f921"
             ]
            ],
            "type": "heatmap"
           }
          ],
          "histogram": [
           {
            "marker": {
             "pattern": {
              "fillmode": "overlay",
              "size": 10,
              "solidity": 0.2
             }
            },
            "type": "histogram"
           }
          ],
          "histogram2d": [
           {
            "colorbar": {
             "outlinewidth": 0,
             "ticks": ""
            },
            "colorscale": [
             [
              0.0,
              "#0d0887"
             ],
             [
              0.1111111111111111,
              "#46039f"
             ],
             [
              0.2222222222222222,
              "#7201a8"
             ],
             [
              0.3333333333333333,
              "#9c179e"
             ],
             [
              0.4444444444444444,
              "#bd3786"
             ],
             [
              0.5555555555555556,
              "#d8576b"
             ],
             [
              0.6666666666666666,
              "#ed7953"
             ],
             [
              0.7777777777777778,
              "#fb9f3a"
             ],
             [
              0.8888888888888888,
              "#fdca26"
             ],
             [
              1.0,
              "#f0f921"
             ]
            ],
            "type": "histogram2d"
           }
          ],
          "histogram2dcontour": [
           {
            "colorbar": {
             "outlinewidth": 0,
             "ticks": ""
            },
            "colorscale": [
             [
              0.0,
              "#0d0887"
             ],
             [
              0.1111111111111111,
              "#46039f"
             ],
             [
              0.2222222222222222,
              "#7201a8"
             ],
             [
              0.3333333333333333,
              "#9c179e"
             ],
             [
              0.4444444444444444,
              "#bd3786"
             ],
             [
              0.5555555555555556,
              "#d8576b"
             ],
             [
              0.6666666666666666,
              "#ed7953"
             ],
             [
              0.7777777777777778,
              "#fb9f3a"
             ],
             [
              0.8888888888888888,
              "#fdca26"
             ],
             [
              1.0,
              "#f0f921"
             ]
            ],
            "type": "histogram2dcontour"
           }
          ],
          "mesh3d": [
           {
            "colorbar": {
             "outlinewidth": 0,
             "ticks": ""
            },
            "type": "mesh3d"
           }
          ],
          "parcoords": [
           {
            "line": {
             "colorbar": {
              "outlinewidth": 0,
              "ticks": ""
             }
            },
            "type": "parcoords"
           }
          ],
          "pie": [
           {
            "automargin": true,
            "type": "pie"
           }
          ],
          "scatter": [
           {
            "fillpattern": {
             "fillmode": "overlay",
             "size": 10,
             "solidity": 0.2
            },
            "type": "scatter"
           }
          ],
          "scatter3d": [
           {
            "line": {
             "colorbar": {
              "outlinewidth": 0,
              "ticks": ""
             }
            },
            "marker": {
             "colorbar": {
              "outlinewidth": 0,
              "ticks": ""
             }
            },
            "type": "scatter3d"
           }
          ],
          "scattercarpet": [
           {
            "marker": {
             "colorbar": {
              "outlinewidth": 0,
              "ticks": ""
             }
            },
            "type": "scattercarpet"
           }
          ],
          "scattergeo": [
           {
            "marker": {
             "colorbar": {
              "outlinewidth": 0,
              "ticks": ""
             }
            },
            "type": "scattergeo"
           }
          ],
          "scattergl": [
           {
            "marker": {
             "colorbar": {
              "outlinewidth": 0,
              "ticks": ""
             }
            },
            "type": "scattergl"
           }
          ],
          "scattermap": [
           {
            "marker": {
             "colorbar": {
              "outlinewidth": 0,
              "ticks": ""
             }
            },
            "type": "scattermap"
           }
          ],
          "scattermapbox": [
           {
            "marker": {
             "colorbar": {
              "outlinewidth": 0,
              "ticks": ""
             }
            },
            "type": "scattermapbox"
           }
          ],
          "scatterpolar": [
           {
            "marker": {
             "colorbar": {
              "outlinewidth": 0,
              "ticks": ""
             }
            },
            "type": "scatterpolar"
           }
          ],
          "scatterpolargl": [
           {
            "marker": {
             "colorbar": {
              "outlinewidth": 0,
              "ticks": ""
             }
            },
            "type": "scatterpolargl"
           }
          ],
          "scatterternary": [
           {
            "marker": {
             "colorbar": {
              "outlinewidth": 0,
              "ticks": ""
             }
            },
            "type": "scatterternary"
           }
          ],
          "surface": [
           {
            "colorbar": {
             "outlinewidth": 0,
             "ticks": ""
            },
            "colorscale": [
             [
              0.0,
              "#0d0887"
             ],
             [
              0.1111111111111111,
              "#46039f"
             ],
             [
              0.2222222222222222,
              "#7201a8"
             ],
             [
              0.3333333333333333,
              "#9c179e"
             ],
             [
              0.4444444444444444,
              "#bd3786"
             ],
             [
              0.5555555555555556,
              "#d8576b"
             ],
             [
              0.6666666666666666,
              "#ed7953"
             ],
             [
              0.7777777777777778,
              "#fb9f3a"
             ],
             [
              0.8888888888888888,
              "#fdca26"
             ],
             [
              1.0,
              "#f0f921"
             ]
            ],
            "type": "surface"
           }
          ],
          "table": [
           {
            "cells": {
             "fill": {
              "color": "#EBF0F8"
             },
             "line": {
              "color": "white"
             }
            },
            "header": {
             "fill": {
              "color": "#C8D4E3"
             },
             "line": {
              "color": "white"
             }
            },
            "type": "table"
           }
          ]
         },
         "layout": {
          "annotationdefaults": {
           "arrowcolor": "#2a3f5f",
           "arrowhead": 0,
           "arrowwidth": 1
          },
          "autotypenumbers": "strict",
          "coloraxis": {
           "colorbar": {
            "outlinewidth": 0,
            "ticks": ""
           }
          },
          "colorscale": {
           "diverging": [
            [
             0,
             "#8e0152"
            ],
            [
             0.1,
             "#c51b7d"
            ],
            [
             0.2,
             "#de77ae"
            ],
            [
             0.3,
             "#f1b6da"
            ],
            [
             0.4,
             "#fde0ef"
            ],
            [
             0.5,
             "#f7f7f7"
            ],
            [
             0.6,
             "#e6f5d0"
            ],
            [
             0.7,
             "#b8e186"
            ],
            [
             0.8,
             "#7fbc41"
            ],
            [
             0.9,
             "#4d9221"
            ],
            [
             1,
             "#276419"
            ]
           ],
           "sequential": [
            [
             0.0,
             "#0d0887"
            ],
            [
             0.1111111111111111,
             "#46039f"
            ],
            [
             0.2222222222222222,
             "#7201a8"
            ],
            [
             0.3333333333333333,
             "#9c179e"
            ],
            [
             0.4444444444444444,
             "#bd3786"
            ],
            [
             0.5555555555555556,
             "#d8576b"
            ],
            [
             0.6666666666666666,
             "#ed7953"
            ],
            [
             0.7777777777777778,
             "#fb9f3a"
            ],
            [
             0.8888888888888888,
             "#fdca26"
            ],
            [
             1.0,
             "#f0f921"
            ]
           ],
           "sequentialminus": [
            [
             0.0,
             "#0d0887"
            ],
            [
             0.1111111111111111,
             "#46039f"
            ],
            [
             0.2222222222222222,
             "#7201a8"
            ],
            [
             0.3333333333333333,
             "#9c179e"
            ],
            [
             0.4444444444444444,
             "#bd3786"
            ],
            [
             0.5555555555555556,
             "#d8576b"
            ],
            [
             0.6666666666666666,
             "#ed7953"
            ],
            [
             0.7777777777777778,
             "#fb9f3a"
            ],
            [
             0.8888888888888888,
             "#fdca26"
            ],
            [
             1.0,
             "#f0f921"
            ]
           ]
          },
          "colorway": [
           "#636efa",
           "#EF553B",
           "#00cc96",
           "#ab63fa",
           "#FFA15A",
           "#19d3f3",
           "#FF6692",
           "#B6E880",
           "#FF97FF",
           "#FECB52"
          ],
          "font": {
           "color": "#2a3f5f"
          },
          "geo": {
           "bgcolor": "white",
           "lakecolor": "white",
           "landcolor": "#E5ECF6",
           "showlakes": true,
           "showland": true,
           "subunitcolor": "white"
          },
          "hoverlabel": {
           "align": "left"
          },
          "hovermode": "closest",
          "mapbox": {
           "style": "light"
          },
          "paper_bgcolor": "white",
          "plot_bgcolor": "#E5ECF6",
          "polar": {
           "angularaxis": {
            "gridcolor": "white",
            "linecolor": "white",
            "ticks": ""
           },
           "bgcolor": "#E5ECF6",
           "radialaxis": {
            "gridcolor": "white",
            "linecolor": "white",
            "ticks": ""
           }
          },
          "scene": {
           "xaxis": {
            "backgroundcolor": "#E5ECF6",
            "gridcolor": "white",
            "gridwidth": 2,
            "linecolor": "white",
            "showbackground": true,
            "ticks": "",
            "zerolinecolor": "white"
           },
           "yaxis": {
            "backgroundcolor": "#E5ECF6",
            "gridcolor": "white",
            "gridwidth": 2,
            "linecolor": "white",
            "showbackground": true,
            "ticks": "",
            "zerolinecolor": "white"
           },
           "zaxis": {
            "backgroundcolor": "#E5ECF6",
            "gridcolor": "white",
            "gridwidth": 2,
            "linecolor": "white",
            "showbackground": true,
            "ticks": "",
            "zerolinecolor": "white"
           }
          },
          "shapedefaults": {
           "line": {
            "color": "#2a3f5f"
           }
          },
          "ternary": {
           "aaxis": {
            "gridcolor": "white",
            "linecolor": "white",
            "ticks": ""
           },
           "baxis": {
            "gridcolor": "white",
            "linecolor": "white",
            "ticks": ""
           },
           "bgcolor": "#E5ECF6",
           "caxis": {
            "gridcolor": "white",
            "linecolor": "white",
            "ticks": ""
           }
          },
          "title": {
           "x": 0.05
          },
          "xaxis": {
           "automargin": true,
           "gridcolor": "white",
           "linecolor": "white",
           "ticks": "",
           "title": {
            "standoff": 15
           },
           "zerolinecolor": "white",
           "zerolinewidth": 2
          },
          "yaxis": {
           "automargin": true,
           "gridcolor": "white",
           "linecolor": "white",
           "ticks": "",
           "title": {
            "standoff": 15
           },
           "zerolinecolor": "white",
           "zerolinewidth": 2
          }
         }
        },
        "title": {
         "text": "Baseline Forecasts vs Actual - Total Orders"
        },
        "xaxis": {
         "title": {
          "text": "Date"
         }
        },
        "yaxis": {
         "title": {
          "text": "Total Orders"
         }
        }
       }
      }
     },
     "metadata": {},
     "output_type": "display_data"
    },
    {
     "name": "stdout",
     "output_type": "stream",
     "text": [
      "\n",
      "✓ Saved chart: results/baseline_forecasts_total_orders.html\n"
     ]
    },
    {
     "data": {
      "application/vnd.plotly.v1+json": {
       "config": {
        "plotlyServerURL": "https://plot.ly"
       },
       "data": [
        {
         "line": {
          "color": "black",
          "width": 2
         },
         "mode": "lines+markers",
         "name": "Historical (Training)",
         "type": "scatter",
         "x": [
          "2022-01-01T00:00:00",
          "2022-02-01T00:00:00",
          "2022-03-01T00:00:00",
          "2022-04-01T00:00:00",
          "2022-05-01T00:00:00",
          "2022-06-01T00:00:00",
          "2022-07-01T00:00:00",
          "2022-08-01T00:00:00",
          "2022-09-01T00:00:00",
          "2022-10-01T00:00:00",
          "2022-11-01T00:00:00",
          "2022-12-01T00:00:00",
          "2023-01-01T00:00:00",
          "2023-02-01T00:00:00",
          "2023-03-01T00:00:00",
          "2023-04-01T00:00:00",
          "2023-05-01T00:00:00",
          "2023-06-01T00:00:00",
          "2023-07-01T00:00:00",
          "2023-08-01T00:00:00",
          "2023-09-01T00:00:00",
          "2023-10-01T00:00:00",
          "2023-11-01T00:00:00",
          "2023-12-01T00:00:00",
          "2024-01-01T00:00:00",
          "2024-02-01T00:00:00",
          "2024-03-01T00:00:00",
          "2024-04-01T00:00:00",
          "2024-05-01T00:00:00",
          "2024-06-01T00:00:00"
         ],
         "y": {
          "bdata": "AAAAgPlTX0EAAADAD29fQQAAAKCngmJBAAAAQE+4X0EAAAAAq25gQQAAAEDV1l9BAAAAQMpZYEEAAABgP9ZgQQAAAIDel2FBAAAAgAPqYEEAAADgVVNgQQAAAGAFmWBBAAAAwG/yX0EAAACA96RfQQAAAEDkjmJBAAAAAIhsXkEAAABAcuRgQQAAACCfpGBBAAAAAFdcYEEAAADgdptgQQAAACAr7mBBAAAA4OnqYEEAAACgAlxgQQAAAABA6V5BAAAAwCbfX0EAAADAZh1gQQAAAKAPVWBBAAAAIOdhYEEAAADgn1hgQQAAAMCMul5B",
          "dtype": "f8"
         }
        },
        {
         "line": {
          "color": "green",
          "width": 3
         },
         "mode": "lines+markers",
         "name": "Actual (Validation)",
         "type": "scatter",
         "x": [
          "2024-07-01T00:00:00",
          "2024-08-01T00:00:00",
          "2024-09-01T00:00:00",
          "2024-10-01T00:00:00",
          "2024-11-01T00:00:00",
          "2024-12-01T00:00:00"
         ],
         "y": {
          "bdata": "AAAAADpIYUEAAACAEnpgQQAAAABSt2BBAAAAgDaBYUEAAACA5oZfQQAAAMD1zF9B",
          "dtype": "f8"
         }
        },
        {
         "line": {
          "color": "blue",
          "dash": "dash",
          "width": 2
         },
         "mode": "lines+markers",
         "name": "Naive",
         "type": "scatter",
         "x": [
          "2024-07-01T00:00:00",
          "2024-08-01T00:00:00",
          "2024-09-01T00:00:00",
          "2024-10-01T00:00:00",
          "2024-11-01T00:00:00",
          "2024-12-01T00:00:00"
         ],
         "y": {
          "bdata": "AAAAwIy6XkEAAADAjLpeQQAAAMCMul5BAAAAwIy6XkEAAADAjLpeQQAAAMCMul5B",
          "dtype": "f8"
         }
        },
        {
         "line": {
          "color": "red",
          "dash": "dash",
          "width": 2
         },
         "mode": "lines+markers",
         "name": "Seasonal Naive",
         "type": "scatter",
         "x": [
          "2024-07-01T00:00:00",
          "2024-08-01T00:00:00",
          "2024-09-01T00:00:00",
          "2024-10-01T00:00:00",
          "2024-11-01T00:00:00",
          "2024-12-01T00:00:00"
         ],
         "y": {
          "bdata": "AAAAAFdcYEEAAADgdptgQQAAACAr7mBBAAAA4OnqYEEAAACgAlxgQQAAAABA6V5B",
          "dtype": "f8"
         }
        },
        {
         "line": {
          "color": "orange",
          "dash": "dash",
          "width": 2
         },
         "mode": "lines+markers",
         "name": "MA-3",
         "type": "scatter",
         "x": [
          "2024-07-01T00:00:00",
          "2024-08-01T00:00:00",
          "2024-09-01T00:00:00",
          "2024-10-01T00:00:00",
          "2024-11-01T00:00:00",
          "2024-12-01T00:00:00"
         ],
         "y": {
          "bdata": "AAAAIO8HYEEAAAAg7wdgQQAAACDvB2BBAAAAIO8HYEEAAAAg7wdgQQAAACDvB2BB",
          "dtype": "f8"
         }
        },
        {
         "line": {
          "color": "purple",
          "dash": "dash",
          "width": 2
         },
         "mode": "lines+markers",
         "name": "MA-6",
         "type": "scatter",
         "x": [
          "2024-07-01T00:00:00",
          "2024-08-01T00:00:00",
          "2024-09-01T00:00:00",
          "2024-10-01T00:00:00",
          "2024-11-01T00:00:00",
          "2024-12-01T00:00:00"
         ],
         "y": {
          "bdata": "VVVVhU4UYEFVVVWFThRgQVVVVYVOFGBBVVVVhU4UYEFVVVWFThRgQVVVVYVOFGBB",
          "dtype": "f8"
         }
        },
        {
         "line": {
          "color": "brown",
          "dash": "dash",
          "width": 2
         },
         "mode": "lines+markers",
         "name": "Linear Trend",
         "type": "scatter",
         "x": [
          "2024-07-01T00:00:00",
          "2024-08-01T00:00:00",
          "2024-09-01T00:00:00",
          "2024-10-01T00:00:00",
          "2024-11-01T00:00:00",
          "2024-12-01T00:00:00"
         ],
         "y": {
          "bdata": "T57Bre4yYEHDONqdGS9gQTjT8o1EK2BBrG0Lfm8nYEEgCCRumiNgQZSiPF7FH2BB",
          "dtype": "f8"
         }
        },
        {
         "line": {
          "color": "pink",
          "dash": "dot",
          "width": 3
         },
         "mode": "lines+markers",
         "name": "Linear Distribution (Current Method)",
         "type": "scatter",
         "x": [
          "2024-07-01T00:00:00",
          "2024-08-01T00:00:00",
          "2024-09-01T00:00:00",
          "2024-10-01T00:00:00",
          "2024-11-01T00:00:00",
          "2024-12-01T00:00:00"
         ],
         "y": {
          "bdata": "AAAAuEdCYEEAAAC4R0JgQQAAALhHQmBBAAAAuEdCYEEAAAC4R0JgQQAAALhHQmBB",
          "dtype": "f8"
         }
        }
       ],
       "layout": {
        "height": 600,
        "hovermode": "x unified",
        "legend": {
         "x": 0.01,
         "y": 0.99
        },
        "template": {
         "data": {
          "bar": [
           {
            "error_x": {
             "color": "#2a3f5f"
            },
            "error_y": {
             "color": "#2a3f5f"
            },
            "marker": {
             "line": {
              "color": "#E5ECF6",
              "width": 0.5
             },
             "pattern": {
              "fillmode": "overlay",
              "size": 10,
              "solidity": 0.2
             }
            },
            "type": "bar"
           }
          ],
          "barpolar": [
           {
            "marker": {
             "line": {
              "color": "#E5ECF6",
              "width": 0.5
             },
             "pattern": {
              "fillmode": "overlay",
              "size": 10,
              "solidity": 0.2
             }
            },
            "type": "barpolar"
           }
          ],
          "carpet": [
           {
            "aaxis": {
             "endlinecolor": "#2a3f5f",
             "gridcolor": "white",
             "linecolor": "white",
             "minorgridcolor": "white",
             "startlinecolor": "#2a3f5f"
            },
            "baxis": {
             "endlinecolor": "#2a3f5f",
             "gridcolor": "white",
             "linecolor": "white",
             "minorgridcolor": "white",
             "startlinecolor": "#2a3f5f"
            },
            "type": "carpet"
           }
          ],
          "choropleth": [
           {
            "colorbar": {
             "outlinewidth": 0,
             "ticks": ""
            },
            "type": "choropleth"
           }
          ],
          "contour": [
           {
            "colorbar": {
             "outlinewidth": 0,
             "ticks": ""
            },
            "colorscale": [
             [
              0.0,
              "#0d0887"
             ],
             [
              0.1111111111111111,
              "#46039f"
             ],
             [
              0.2222222222222222,
              "#7201a8"
             ],
             [
              0.3333333333333333,
              "#9c179e"
             ],
             [
              0.4444444444444444,
              "#bd3786"
             ],
             [
              0.5555555555555556,
              "#d8576b"
             ],
             [
              0.6666666666666666,
              "#ed7953"
             ],
             [
              0.7777777777777778,
              "#fb9f3a"
             ],
             [
              0.8888888888888888,
              "#fdca26"
             ],
             [
              1.0,
              "#f0f921"
             ]
            ],
            "type": "contour"
           }
          ],
          "contourcarpet": [
           {
            "colorbar": {
             "outlinewidth": 0,
             "ticks": ""
            },
            "type": "contourcarpet"
           }
          ],
          "heatmap": [
           {
            "colorbar": {
             "outlinewidth": 0,
             "ticks": ""
            },
            "colorscale": [
             [
              0.0,
              "#0d0887"
             ],
             [
              0.1111111111111111,
              "#46039f"
             ],
             [
              0.2222222222222222,
              "#7201a8"
             ],
             [
              0.3333333333333333,
              "#9c179e"
             ],
             [
              0.4444444444444444,
              "#bd3786"
             ],
             [
              0.5555555555555556,
              "#d8576b"
             ],
             [
              0.6666666666666666,
              "#ed7953"
             ],
             [
              0.7777777777777778,
              "#fb9f3a"
             ],
             [
              0.8888888888888888,
              "#fdca26"
             ],
             [
              1.0,
              "#f0f921"
             ]
            ],
            "type": "heatmap"
           }
          ],
          "histogram": [
           {
            "marker": {
             "pattern": {
              "fillmode": "overlay",
              "size": 10,
              "solidity": 0.2
             }
            },
            "type": "histogram"
           }
          ],
          "histogram2d": [
           {
            "colorbar": {
             "outlinewidth": 0,
             "ticks": ""
            },
            "colorscale": [
             [
              0.0,
              "#0d0887"
             ],
             [
              0.1111111111111111,
              "#46039f"
             ],
             [
              0.2222222222222222,
              "#7201a8"
             ],
             [
              0.3333333333333333,
              "#9c179e"
             ],
             [
              0.4444444444444444,
              "#bd3786"
             ],
             [
              0.5555555555555556,
              "#d8576b"
             ],
             [
              0.6666666666666666,
              "#ed7953"
             ],
             [
              0.7777777777777778,
              "#fb9f3a"
             ],
             [
              0.8888888888888888,
              "#fdca26"
             ],
             [
              1.0,
              "#f0f921"
             ]
            ],
            "type": "histogram2d"
           }
          ],
          "histogram2dcontour": [
           {
            "colorbar": {
             "outlinewidth": 0,
             "ticks": ""
            },
            "colorscale": [
             [
              0.0,
              "#0d0887"
             ],
             [
              0.1111111111111111,
              "#46039f"
             ],
             [
              0.2222222222222222,
              "#7201a8"
             ],
             [
              0.3333333333333333,
              "#9c179e"
             ],
             [
              0.4444444444444444,
              "#bd3786"
             ],
             [
              0.5555555555555556,
              "#d8576b"
             ],
             [
              0.6666666666666666,
              "#ed7953"
             ],
             [
              0.7777777777777778,
              "#fb9f3a"
             ],
             [
              0.8888888888888888,
              "#fdca26"
             ],
             [
              1.0,
              "#f0f921"
             ]
            ],
            "type": "histogram2dcontour"
           }
          ],
          "mesh3d": [
           {
            "colorbar": {
             "outlinewidth": 0,
             "ticks": ""
            },
            "type": "mesh3d"
           }
          ],
          "parcoords": [
           {
            "line": {
             "colorbar": {
              "outlinewidth": 0,
              "ticks": ""
             }
            },
            "type": "parcoords"
           }
          ],
          "pie": [
           {
            "automargin": true,
            "type": "pie"
           }
          ],
          "scatter": [
           {
            "fillpattern": {
             "fillmode": "overlay",
             "size": 10,
             "solidity": 0.2
            },
            "type": "scatter"
           }
          ],
          "scatter3d": [
           {
            "line": {
             "colorbar": {
              "outlinewidth": 0,
              "ticks": ""
             }
            },
            "marker": {
             "colorbar": {
              "outlinewidth": 0,
              "ticks": ""
             }
            },
            "type": "scatter3d"
           }
          ],
          "scattercarpet": [
           {
            "marker": {
             "colorbar": {
              "outlinewidth": 0,
              "ticks": ""
             }
            },
            "type": "scattercarpet"
           }
          ],
          "scattergeo": [
           {
            "marker": {
             "colorbar": {
              "outlinewidth": 0,
              "ticks": ""
             }
            },
            "type": "scattergeo"
           }
          ],
          "scattergl": [
           {
            "marker": {
             "colorbar": {
              "outlinewidth": 0,
              "ticks": ""
             }
            },
            "type": "scattergl"
           }
          ],
          "scattermap": [
           {
            "marker": {
             "colorbar": {
              "outlinewidth": 0,
              "ticks": ""
             }
            },
            "type": "scattermap"
           }
          ],
          "scattermapbox": [
           {
            "marker": {
             "colorbar": {
              "outlinewidth": 0,
              "ticks": ""
             }
            },
            "type": "scattermapbox"
           }
          ],
          "scatterpolar": [
           {
            "marker": {
             "colorbar": {
              "outlinewidth": 0,
              "ticks": ""
             }
            },
            "type": "scatterpolar"
           }
          ],
          "scatterpolargl": [
           {
            "marker": {
             "colorbar": {
              "outlinewidth": 0,
              "ticks": ""
             }
            },
            "type": "scatterpolargl"
           }
          ],
          "scatterternary": [
           {
            "marker": {
             "colorbar": {
              "outlinewidth": 0,
              "ticks": ""
             }
            },
            "type": "scatterternary"
           }
          ],
          "surface": [
           {
            "colorbar": {
             "outlinewidth": 0,
             "ticks": ""
            },
            "colorscale": [
             [
              0.0,
              "#0d0887"
             ],
             [
              0.1111111111111111,
              "#46039f"
             ],
             [
              0.2222222222222222,
              "#7201a8"
             ],
             [
              0.3333333333333333,
              "#9c179e"
             ],
             [
              0.4444444444444444,
              "#bd3786"
             ],
             [
              0.5555555555555556,
              "#d8576b"
             ],
             [
              0.6666666666666666,
              "#ed7953"
             ],
             [
              0.7777777777777778,
              "#fb9f3a"
             ],
             [
              0.8888888888888888,
              "#fdca26"
             ],
             [
              1.0,
              "#f0f921"
             ]
            ],
            "type": "surface"
           }
          ],
          "table": [
           {
            "cells": {
             "fill": {
              "color": "#EBF0F8"
             },
             "line": {
              "color": "white"
             }
            },
            "header": {
             "fill": {
              "color": "#C8D4E3"
             },
             "line": {
              "color": "white"
             }
            },
            "type": "table"
           }
          ]
         },
         "layout": {
          "annotationdefaults": {
           "arrowcolor": "#2a3f5f",
           "arrowhead": 0,
           "arrowwidth": 1
          },
          "autotypenumbers": "strict",
          "coloraxis": {
           "colorbar": {
            "outlinewidth": 0,
            "ticks": ""
           }
          },
          "colorscale": {
           "diverging": [
            [
             0,
             "#8e0152"
            ],
            [
             0.1,
             "#c51b7d"
            ],
            [
             0.2,
             "#de77ae"
            ],
            [
             0.3,
             "#f1b6da"
            ],
            [
             0.4,
             "#fde0ef"
            ],
            [
             0.5,
             "#f7f7f7"
            ],
            [
             0.6,
             "#e6f5d0"
            ],
            [
             0.7,
             "#b8e186"
            ],
            [
             0.8,
             "#7fbc41"
            ],
            [
             0.9,
             "#4d9221"
            ],
            [
             1,
             "#276419"
            ]
           ],
           "sequential": [
            [
             0.0,
             "#0d0887"
            ],
            [
             0.1111111111111111,
             "#46039f"
            ],
            [
             0.2222222222222222,
             "#7201a8"
            ],
            [
             0.3333333333333333,
             "#9c179e"
            ],
            [
             0.4444444444444444,
             "#bd3786"
            ],
            [
             0.5555555555555556,
             "#d8576b"
            ],
            [
             0.6666666666666666,
             "#ed7953"
            ],
            [
             0.7777777777777778,
             "#fb9f3a"
            ],
            [
             0.8888888888888888,
             "#fdca26"
            ],
            [
             1.0,
             "#f0f921"
            ]
           ],
           "sequentialminus": [
            [
             0.0,
             "#0d0887"
            ],
            [
             0.1111111111111111,
             "#46039f"
            ],
            [
             0.2222222222222222,
             "#7201a8"
            ],
            [
             0.3333333333333333,
             "#9c179e"
            ],
            [
             0.4444444444444444,
             "#bd3786"
            ],
            [
             0.5555555555555556,
             "#d8576b"
            ],
            [
             0.6666666666666666,
             "#ed7953"
            ],
            [
             0.7777777777777778,
             "#fb9f3a"
            ],
            [
             0.8888888888888888,
             "#fdca26"
            ],
            [
             1.0,
             "#f0f921"
            ]
           ]
          },
          "colorway": [
           "#636efa",
           "#EF553B",
           "#00cc96",
           "#ab63fa",
           "#FFA15A",
           "#19d3f3",
           "#FF6692",
           "#B6E880",
           "#FF97FF",
           "#FECB52"
          ],
          "font": {
           "color": "#2a3f5f"
          },
          "geo": {
           "bgcolor": "white",
           "lakecolor": "white",
           "landcolor": "#E5ECF6",
           "showlakes": true,
           "showland": true,
           "subunitcolor": "white"
          },
          "hoverlabel": {
           "align": "left"
          },
          "hovermode": "closest",
          "mapbox": {
           "style": "light"
          },
          "paper_bgcolor": "white",
          "plot_bgcolor": "#E5ECF6",
          "polar": {
           "angularaxis": {
            "gridcolor": "white",
            "linecolor": "white",
            "ticks": ""
           },
           "bgcolor": "#E5ECF6",
           "radialaxis": {
            "gridcolor": "white",
            "linecolor": "white",
            "ticks": ""
           }
          },
          "scene": {
           "xaxis": {
            "backgroundcolor": "#E5ECF6",
            "gridcolor": "white",
            "gridwidth": 2,
            "linecolor": "white",
            "showbackground": true,
            "ticks": "",
            "zerolinecolor": "white"
           },
           "yaxis": {
            "backgroundcolor": "#E5ECF6",
            "gridcolor": "white",
            "gridwidth": 2,
            "linecolor": "white",
            "showbackground": true,
            "ticks": "",
            "zerolinecolor": "white"
           },
           "zaxis": {
            "backgroundcolor": "#E5ECF6",
            "gridcolor": "white",
            "gridwidth": 2,
            "linecolor": "white",
            "showbackground": true,
            "ticks": "",
            "zerolinecolor": "white"
           }
          },
          "shapedefaults": {
           "line": {
            "color": "#2a3f5f"
           }
          },
          "ternary": {
           "aaxis": {
            "gridcolor": "white",
            "linecolor": "white",
            "ticks": ""
           },
           "baxis": {
            "gridcolor": "white",
            "linecolor": "white",
            "ticks": ""
           },
           "bgcolor": "#E5ECF6",
           "caxis": {
            "gridcolor": "white",
            "linecolor": "white",
            "ticks": ""
           }
          },
          "title": {
           "x": 0.05
          },
          "xaxis": {
           "automargin": true,
           "gridcolor": "white",
           "linecolor": "white",
           "ticks": "",
           "title": {
            "standoff": 15
           },
           "zerolinecolor": "white",
           "zerolinewidth": 2
          },
          "yaxis": {
           "automargin": true,
           "gridcolor": "white",
           "linecolor": "white",
           "ticks": "",
           "title": {
            "standoff": 15
           },
           "zerolinecolor": "white",
           "zerolinewidth": 2
          }
         }
        },
        "title": {
         "text": "Baseline Forecasts vs Actual - Total Km"
        },
        "xaxis": {
         "title": {
          "text": "Date"
         }
        },
        "yaxis": {
         "title": {
          "text": "Total Km"
         }
        }
       }
      }
     },
     "metadata": {},
     "output_type": "display_data"
    },
    {
     "name": "stdout",
     "output_type": "stream",
     "text": [
      "\n",
      "✓ Saved chart: results/baseline_forecasts_total_km.html\n"
     ]
    },
    {
     "data": {
      "application/vnd.plotly.v1+json": {
       "config": {
        "plotlyServerURL": "https://plot.ly"
       },
       "data": [
        {
         "line": {
          "color": "black",
          "width": 2
         },
         "mode": "lines+markers",
         "name": "Historical (Training)",
         "type": "scatter",
         "x": [
          "2022-01-01T00:00:00",
          "2022-02-01T00:00:00",
          "2022-03-01T00:00:00",
          "2022-04-01T00:00:00",
          "2022-05-01T00:00:00",
          "2022-06-01T00:00:00",
          "2022-07-01T00:00:00",
          "2022-08-01T00:00:00",
          "2022-09-01T00:00:00",
          "2022-10-01T00:00:00",
          "2022-11-01T00:00:00",
          "2022-12-01T00:00:00",
          "2023-01-01T00:00:00",
          "2023-02-01T00:00:00",
          "2023-03-01T00:00:00",
          "2023-04-01T00:00:00",
          "2023-05-01T00:00:00",
          "2023-06-01T00:00:00",
          "2023-07-01T00:00:00",
          "2023-08-01T00:00:00",
          "2023-09-01T00:00:00",
          "2023-10-01T00:00:00",
          "2023-11-01T00:00:00",
          "2023-12-01T00:00:00",
          "2024-01-01T00:00:00",
          "2024-02-01T00:00:00",
          "2024-03-01T00:00:00",
          "2024-04-01T00:00:00",
          "2024-05-01T00:00:00",
          "2024-06-01T00:00:00"
         ],
         "y": {
          "bdata": "ufYBAInzAQC8TQIAtvkBAC8NAgBa/wEATgoCAFEaAgAtMQIAtxgCAFQJAgDjDgIAqPwBALLyAQBHTAIA2+IBAMoXAgCNFwIAlAsCAGISAgDSGgIA/RoCAHsIAgDD7QEAhPwBAP35AQBPBAIAvAkCAI4PAgDM8wEA",
          "dtype": "i4"
         }
        },
        {
         "line": {
          "color": "green",
          "width": 3
         },
         "mode": "lines+markers",
         "name": "Actual (Validation)",
         "type": "scatter",
         "x": [
          "2024-07-01T00:00:00",
          "2024-08-01T00:00:00",
          "2024-09-01T00:00:00",
          "2024-10-01T00:00:00",
          "2024-11-01T00:00:00",
          "2024-12-01T00:00:00"
         ],
         "y": {
          "bdata": "rjACAJYWAgDxGgIA/zMCAKAAAgClAAIA",
          "dtype": "i4"
         }
        },
        {
         "line": {
          "color": "blue",
          "dash": "dash",
          "width": 2
         },
         "mode": "lines+markers",
         "name": "Naive",
         "type": "scatter",
         "x": [
          "2024-07-01T00:00:00",
          "2024-08-01T00:00:00",
          "2024-09-01T00:00:00",
          "2024-10-01T00:00:00",
          "2024-11-01T00:00:00",
          "2024-12-01T00:00:00"
         ],
         "y": {
          "bdata": "zPMBAMzzAQDM8wEAzPMBAMzzAQDM8wEA",
          "dtype": "i4"
         }
        },
        {
         "line": {
          "color": "red",
          "dash": "dash",
          "width": 2
         },
         "mode": "lines+markers",
         "name": "Seasonal Naive",
         "type": "scatter",
         "x": [
          "2024-07-01T00:00:00",
          "2024-08-01T00:00:00",
          "2024-09-01T00:00:00",
          "2024-10-01T00:00:00",
          "2024-11-01T00:00:00",
          "2024-12-01T00:00:00"
         ],
         "y": {
          "bdata": "lAsCAGISAgDSGgIA/RoCAHsIAgDD7QEA",
          "dtype": "i4"
         }
        },
        {
         "line": {
          "color": "orange",
          "dash": "dash",
          "width": 2
         },
         "mode": "lines+markers",
         "name": "MA-3",
         "type": "scatter",
         "x": [
          "2024-07-01T00:00:00",
          "2024-08-01T00:00:00",
          "2024-09-01T00:00:00",
          "2024-10-01T00:00:00",
          "2024-11-01T00:00:00",
          "2024-12-01T00:00:00"
         ],
         "y": {
          "bdata": "VVVVVeUiAEFVVVVV5SIAQVVVVVXlIgBBVVVVVeUiAEFVVVVV5SIAQVVVVVXlIgBB",
          "dtype": "f8"
         }
        },
        {
         "line": {
          "color": "purple",
          "dash": "dash",
          "width": 2
         },
         "mode": "lines+markers",
         "name": "MA-6",
         "type": "scatter",
         "x": [
          "2024-07-01T00:00:00",
          "2024-08-01T00:00:00",
          "2024-09-01T00:00:00",
          "2024-10-01T00:00:00",
          "2024-11-01T00:00:00",
          "2024-12-01T00:00:00"
         ],
         "y": {
          "bdata": "AAAAAIgKAEEAAAAAiAoAQQAAAACICgBBAAAAAIgKAEEAAAAAiAoAQQAAAACICgBB",
          "dtype": "f8"
         }
        },
        {
         "line": {
          "color": "brown",
          "dash": "dash",
          "width": 2
         },
         "mode": "lines+markers",
         "name": "Linear Trend",
         "type": "scatter",
         "x": [
          "2024-07-01T00:00:00",
          "2024-08-01T00:00:00",
          "2024-09-01T00:00:00",
          "2024-10-01T00:00:00",
          "2024-11-01T00:00:00",
          "2024-12-01T00:00:00"
         ],
         "y": {
          "bdata": "Q7UEKEQmAEED+NgnmSIAQcI6rSfuHgBBgn2BJ0MbAEFBwFUnmBcAQQEDKiftEwBB",
          "dtype": "f8"
         }
        },
        {
         "line": {
          "color": "pink",
          "dash": "dot",
          "width": 3
         },
         "mode": "lines+markers",
         "name": "Linear Distribution (Current Method)",
         "type": "scatter",
         "x": [
          "2024-07-01T00:00:00",
          "2024-08-01T00:00:00",
          "2024-09-01T00:00:00",
          "2024-10-01T00:00:00",
          "2024-11-01T00:00:00",
          "2024-12-01T00:00:00"
         ],
         "y": {
          "bdata": "VVVVVZs2AEFVVVVVmzYAQVVVVVWbNgBBVVVVVZs2AEFVVVVVmzYAQVVVVVWbNgBB",
          "dtype": "f8"
         }
        }
       ],
       "layout": {
        "height": 600,
        "hovermode": "x unified",
        "legend": {
         "x": 0.01,
         "y": 0.99
        },
        "template": {
         "data": {
          "bar": [
           {
            "error_x": {
             "color": "#2a3f5f"
            },
            "error_y": {
             "color": "#2a3f5f"
            },
            "marker": {
             "line": {
              "color": "#E5ECF6",
              "width": 0.5
             },
             "pattern": {
              "fillmode": "overlay",
              "size": 10,
              "solidity": 0.2
             }
            },
            "type": "bar"
           }
          ],
          "barpolar": [
           {
            "marker": {
             "line": {
              "color": "#E5ECF6",
              "width": 0.5
             },
             "pattern": {
              "fillmode": "overlay",
              "size": 10,
              "solidity": 0.2
             }
            },
            "type": "barpolar"
           }
          ],
          "carpet": [
           {
            "aaxis": {
             "endlinecolor": "#2a3f5f",
             "gridcolor": "white",
             "linecolor": "white",
             "minorgridcolor": "white",
             "startlinecolor": "#2a3f5f"
            },
            "baxis": {
             "endlinecolor": "#2a3f5f",
             "gridcolor": "white",
             "linecolor": "white",
             "minorgridcolor": "white",
             "startlinecolor": "#2a3f5f"
            },
            "type": "carpet"
           }
          ],
          "choropleth": [
           {
            "colorbar": {
             "outlinewidth": 0,
             "ticks": ""
            },
            "type": "choropleth"
           }
          ],
          "contour": [
           {
            "colorbar": {
             "outlinewidth": 0,
             "ticks": ""
            },
            "colorscale": [
             [
              0.0,
              "#0d0887"
             ],
             [
              0.1111111111111111,
              "#46039f"
             ],
             [
              0.2222222222222222,
              "#7201a8"
             ],
             [
              0.3333333333333333,
              "#9c179e"
             ],
             [
              0.4444444444444444,
              "#bd3786"
             ],
             [
              0.5555555555555556,
              "#d8576b"
             ],
             [
              0.6666666666666666,
              "#ed7953"
             ],
             [
              0.7777777777777778,
              "#fb9f3a"
             ],
             [
              0.8888888888888888,
              "#fdca26"
             ],
             [
              1.0,
              "#f0f921"
             ]
            ],
            "type": "contour"
           }
          ],
          "contourcarpet": [
           {
            "colorbar": {
             "outlinewidth": 0,
             "ticks": ""
            },
            "type": "contourcarpet"
           }
          ],
          "heatmap": [
           {
            "colorbar": {
             "outlinewidth": 0,
             "ticks": ""
            },
            "colorscale": [
             [
              0.0,
              "#0d0887"
             ],
             [
              0.1111111111111111,
              "#46039f"
             ],
             [
              0.2222222222222222,
              "#7201a8"
             ],
             [
              0.3333333333333333,
              "#9c179e"
             ],
             [
              0.4444444444444444,
              "#bd3786"
             ],
             [
              0.5555555555555556,
              "#d8576b"
             ],
             [
              0.6666666666666666,
              "#ed7953"
             ],
             [
              0.7777777777777778,
              "#fb9f3a"
             ],
             [
              0.8888888888888888,
              "#fdca26"
             ],
             [
              1.0,
              "#f0f921"
             ]
            ],
            "type": "heatmap"
           }
          ],
          "histogram": [
           {
            "marker": {
             "pattern": {
              "fillmode": "overlay",
              "size": 10,
              "solidity": 0.2
             }
            },
            "type": "histogram"
           }
          ],
          "histogram2d": [
           {
            "colorbar": {
             "outlinewidth": 0,
             "ticks": ""
            },
            "colorscale": [
             [
              0.0,
              "#0d0887"
             ],
             [
              0.1111111111111111,
              "#46039f"
             ],
             [
              0.2222222222222222,
              "#7201a8"
             ],
             [
              0.3333333333333333,
              "#9c179e"
             ],
             [
              0.4444444444444444,
              "#bd3786"
             ],
             [
              0.5555555555555556,
              "#d8576b"
             ],
             [
              0.6666666666666666,
              "#ed7953"
             ],
             [
              0.7777777777777778,
              "#fb9f3a"
             ],
             [
              0.8888888888888888,
              "#fdca26"
             ],
             [
              1.0,
              "#f0f921"
             ]
            ],
            "type": "histogram2d"
           }
          ],
          "histogram2dcontour": [
           {
            "colorbar": {
             "outlinewidth": 0,
             "ticks": ""
            },
            "colorscale": [
             [
              0.0,
              "#0d0887"
             ],
             [
              0.1111111111111111,
              "#46039f"
             ],
             [
              0.2222222222222222,
              "#7201a8"
             ],
             [
              0.3333333333333333,
              "#9c179e"
             ],
             [
              0.4444444444444444,
              "#bd3786"
             ],
             [
              0.5555555555555556,
              "#d8576b"
             ],
             [
              0.6666666666666666,
              "#ed7953"
             ],
             [
              0.7777777777777778,
              "#fb9f3a"
             ],
             [
              0.8888888888888888,
              "#fdca26"
             ],
             [
              1.0,
              "#f0f921"
             ]
            ],
            "type": "histogram2dcontour"
           }
          ],
          "mesh3d": [
           {
            "colorbar": {
             "outlinewidth": 0,
             "ticks": ""
            },
            "type": "mesh3d"
           }
          ],
          "parcoords": [
           {
            "line": {
             "colorbar": {
              "outlinewidth": 0,
              "ticks": ""
             }
            },
            "type": "parcoords"
           }
          ],
          "pie": [
           {
            "automargin": true,
            "type": "pie"
           }
          ],
          "scatter": [
           {
            "fillpattern": {
             "fillmode": "overlay",
             "size": 10,
             "solidity": 0.2
            },
            "type": "scatter"
           }
          ],
          "scatter3d": [
           {
            "line": {
             "colorbar": {
              "outlinewidth": 0,
              "ticks": ""
             }
            },
            "marker": {
             "colorbar": {
              "outlinewidth": 0,
              "ticks": ""
             }
            },
            "type": "scatter3d"
           }
          ],
          "scattercarpet": [
           {
            "marker": {
             "colorbar": {
              "outlinewidth": 0,
              "ticks": ""
             }
            },
            "type": "scattercarpet"
           }
          ],
          "scattergeo": [
           {
            "marker": {
             "colorbar": {
              "outlinewidth": 0,
              "ticks": ""
             }
            },
            "type": "scattergeo"
           }
          ],
          "scattergl": [
           {
            "marker": {
             "colorbar": {
              "outlinewidth": 0,
              "ticks": ""
             }
            },
            "type": "scattergl"
           }
          ],
          "scattermap": [
           {
            "marker": {
             "colorbar": {
              "outlinewidth": 0,
              "ticks": ""
             }
            },
            "type": "scattermap"
           }
          ],
          "scattermapbox": [
           {
            "marker": {
             "colorbar": {
              "outlinewidth": 0,
              "ticks": ""
             }
            },
            "type": "scattermapbox"
           }
          ],
          "scatterpolar": [
           {
            "marker": {
             "colorbar": {
              "outlinewidth": 0,
              "ticks": ""
             }
            },
            "type": "scatterpolar"
           }
          ],
          "scatterpolargl": [
           {
            "marker": {
             "colorbar": {
              "outlinewidth": 0,
              "ticks": ""
             }
            },
            "type": "scatterpolargl"
           }
          ],
          "scatterternary": [
           {
            "marker": {
             "colorbar": {
              "outlinewidth": 0,
              "ticks": ""
             }
            },
            "type": "scatterternary"
           }
          ],
          "surface": [
           {
            "colorbar": {
             "outlinewidth": 0,
             "ticks": ""
            },
            "colorscale": [
             [
              0.0,
              "#0d0887"
             ],
             [
              0.1111111111111111,
              "#46039f"
             ],
             [
              0.2222222222222222,
              "#7201a8"
             ],
             [
              0.3333333333333333,
              "#9c179e"
             ],
             [
              0.4444444444444444,
              "#bd3786"
             ],
             [
              0.5555555555555556,
              "#d8576b"
             ],
             [
              0.6666666666666666,
              "#ed7953"
             ],
             [
              0.7777777777777778,
              "#fb9f3a"
             ],
             [
              0.8888888888888888,
              "#fdca26"
             ],
             [
              1.0,
              "#f0f921"
             ]
            ],
            "type": "surface"
           }
          ],
          "table": [
           {
            "cells": {
             "fill": {
              "color": "#EBF0F8"
             },
             "line": {
              "color": "white"
             }
            },
            "header": {
             "fill": {
              "color": "#C8D4E3"
             },
             "line": {
              "color": "white"
             }
            },
            "type": "table"
           }
          ]
         },
         "layout": {
          "annotationdefaults": {
           "arrowcolor": "#2a3f5f",
           "arrowhead": 0,
           "arrowwidth": 1
          },
          "autotypenumbers": "strict",
          "coloraxis": {
           "colorbar": {
            "outlinewidth": 0,
            "ticks": ""
           }
          },
          "colorscale": {
           "diverging": [
            [
             0,
             "#8e0152"
            ],
            [
             0.1,
             "#c51b7d"
            ],
            [
             0.2,
             "#de77ae"
            ],
            [
             0.3,
             "#f1b6da"
            ],
            [
             0.4,
             "#fde0ef"
            ],
            [
             0.5,
             "#f7f7f7"
            ],
            [
             0.6,
             "#e6f5d0"
            ],
            [
             0.7,
             "#b8e186"
            ],
            [
             0.8,
             "#7fbc41"
            ],
            [
             0.9,
             "#4d9221"
            ],
            [
             1,
             "#276419"
            ]
           ],
           "sequential": [
            [
             0.0,
             "#0d0887"
            ],
            [
             0.1111111111111111,
             "#46039f"
            ],
            [
             0.2222222222222222,
             "#7201a8"
            ],
            [
             0.3333333333333333,
             "#9c179e"
            ],
            [
             0.4444444444444444,
             "#bd3786"
            ],
            [
             0.5555555555555556,
             "#d8576b"
            ],
            [
             0.6666666666666666,
             "#ed7953"
            ],
            [
             0.7777777777777778,
             "#fb9f3a"
            ],
            [
             0.8888888888888888,
             "#fdca26"
            ],
            [
             1.0,
             "#f0f921"
            ]
           ],
           "sequentialminus": [
            [
             0.0,
             "#0d0887"
            ],
            [
             0.1111111111111111,
             "#46039f"
            ],
            [
             0.2222222222222222,
             "#7201a8"
            ],
            [
             0.3333333333333333,
             "#9c179e"
            ],
            [
             0.4444444444444444,
             "#bd3786"
            ],
            [
             0.5555555555555556,
             "#d8576b"
            ],
            [
             0.6666666666666666,
             "#ed7953"
            ],
            [
             0.7777777777777778,
             "#fb9f3a"
            ],
            [
             0.8888888888888888,
             "#fdca26"
            ],
            [
             1.0,
             "#f0f921"
            ]
           ]
          },
          "colorway": [
           "#636efa",
           "#EF553B",
           "#00cc96",
           "#ab63fa",
           "#FFA15A",
           "#19d3f3",
           "#FF6692",
           "#B6E880",
           "#FF97FF",
           "#FECB52"
          ],
          "font": {
           "color": "#2a3f5f"
          },
          "geo": {
           "bgcolor": "white",
           "lakecolor": "white",
           "landcolor": "#E5ECF6",
           "showlakes": true,
           "showland": true,
           "subunitcolor": "white"
          },
          "hoverlabel": {
           "align": "left"
          },
          "hovermode": "closest",
          "mapbox": {
           "style": "light"
          },
          "paper_bgcolor": "white",
          "plot_bgcolor": "#E5ECF6",
          "polar": {
           "angularaxis": {
            "gridcolor": "white",
            "linecolor": "white",
            "ticks": ""
           },
           "bgcolor": "#E5ECF6",
           "radialaxis": {
            "gridcolor": "white",
            "linecolor": "white",
            "ticks": ""
           }
          },
          "scene": {
           "xaxis": {
            "backgroundcolor": "#E5ECF6",
            "gridcolor": "white",
            "gridwidth": 2,
            "linecolor": "white",
            "showbackground": true,
            "ticks": "",
            "zerolinecolor": "white"
           },
           "yaxis": {
            "backgroundcolor": "#E5ECF6",
            "gridcolor": "white",
            "gridwidth": 2,
            "linecolor": "white",
            "showbackground": true,
            "ticks": "",
            "zerolinecolor": "white"
           },
           "zaxis": {
            "backgroundcolor": "#E5ECF6",
            "gridcolor": "white",
            "gridwidth": 2,
            "linecolor": "white",
            "showbackground": true,
            "ticks": "",
            "zerolinecolor": "white"
           }
          },
          "shapedefaults": {
           "line": {
            "color": "#2a3f5f"
           }
          },
          "ternary": {
           "aaxis": {
            "gridcolor": "white",
            "linecolor": "white",
            "ticks": ""
           },
           "baxis": {
            "gridcolor": "white",
            "linecolor": "white",
            "ticks": ""
           },
           "bgcolor": "#E5ECF6",
           "caxis": {
            "gridcolor": "white",
            "linecolor": "white",
            "ticks": ""
           }
          },
          "title": {
           "x": 0.05
          },
          "xaxis": {
           "automargin": true,
           "gridcolor": "white",
           "linecolor": "white",
           "ticks": "",
           "title": {
            "standoff": 15
           },
           "zerolinecolor": "white",
           "zerolinewidth": 2
          },
          "yaxis": {
           "automargin": true,
           "gridcolor": "white",
           "linecolor": "white",
           "ticks": "",
           "title": {
            "standoff": 15
           },
           "zerolinecolor": "white",
           "zerolinewidth": 2
          }
         }
        },
        "title": {
         "text": "Baseline Forecasts vs Actual - Total Drivers"
        },
        "xaxis": {
         "title": {
          "text": "Date"
         }
        },
        "yaxis": {
         "title": {
          "text": "Total Drivers"
         }
        }
       }
      }
     },
     "metadata": {},
     "output_type": "display_data"
    },
    {
     "name": "stdout",
     "output_type": "stream",
     "text": [
      "\n",
      "✓ Saved chart: results/baseline_forecasts_total_drivers.html\n"
     ]
    }
   ],
   "source": [
    "# Create comparison charts for each metric\n",
    "for metric in target_metrics:\n",
    "    fig = go.Figure()\n",
    "    \n",
    "    # Historical data (training)\n",
    "    fig.add_trace(\n",
    "        go.Scatter(\n",
    "            x=train_df['date'],\n",
    "            y=train_df[metric],\n",
    "            mode='lines+markers',\n",
    "            name='Historical (Training)',\n",
    "            line=dict(color='black', width=2)\n",
    "        )\n",
    "    )\n",
    "    \n",
    "    # Actual validation values\n",
    "    fig.add_trace(\n",
    "        go.Scatter(\n",
    "            x=val_df['date'],\n",
    "            y=val_df[metric],\n",
    "            mode='lines+markers',\n",
    "            name='Actual (Validation)',\n",
    "            line=dict(color='green', width=3)\n",
    "        )\n",
    "    )\n",
    "    \n",
    "    # Baseline forecasts\n",
    "    colors = ['blue', 'red', 'orange', 'purple', 'brown', 'pink']\n",
    "    for i, (model_name, forecasts) in enumerate(all_forecasts.items()):\n",
    "        # Highlight Current Method with different line style\n",
    "        line_style = dict(color=colors[i], width=3 if 'Current Method' in model_name else 2, \n",
    "                          dash='dot' if 'Current Method' in model_name else 'dash')\n",
    "        \n",
    "        fig.add_trace(\n",
    "            go.Scatter(\n",
    "                x=val_df['date'],\n",
    "                y=forecasts[metric],\n",
    "                mode='lines+markers',\n",
    "                name=model_name,\n",
    "                line=line_style\n",
    "            )\n",
    "        )\n",
    "    \n",
    "    fig.update_layout(\n",
    "        title=f\"Baseline Forecasts vs Actual - {metric.replace('_', ' ').title()}\",\n",
    "        xaxis_title=\"Date\",\n",
    "        yaxis_title=metric.replace('_', ' ').title(),\n",
    "        height=600,\n",
    "        hovermode='x unified',\n",
    "        legend=dict(x=0.01, y=0.99)\n",
    "    )\n",
    "    \n",
    "    fig.show()\n",
    "    \n",
    "    # Save to results\n",
    "    results_dir = Path('../results')\n",
    "    results_dir.mkdir(exist_ok=True)\n",
    "    fig.write_html(results_dir / f'baseline_forecasts_{metric}.html')\n",
    "    print(f\"\\n✓ Saved chart: results/baseline_forecasts_{metric}.html\")"
   ]
  },
  {
   "cell_type": "markdown",
   "metadata": {},
   "source": [
    "## Section 9: Save Results\n",
    "\n",
    "Save baseline forecasts and performance metrics for comparison in notebook 15."
   ]
  },
  {
   "cell_type": "code",
   "execution_count": 11,
   "metadata": {
    "execution": {
     "iopub.execute_input": "2025-10-29T19:44:39.515145Z",
     "iopub.status.busy": "2025-10-29T19:44:39.515061Z",
     "iopub.status.idle": "2025-10-29T19:44:39.525726Z",
     "shell.execute_reply": "2025-10-29T19:44:39.524501Z"
    }
   },
   "outputs": [
    {
     "name": "stdout",
     "output_type": "stream",
     "text": [
      "✓ Saved baseline metrics to: data/processed/baseline_metrics.csv\n",
      "✓ Saved Naive forecasts to: data/processed/baseline_forecast_naive.csv\n"
     ]
    },
    {
     "name": "stdout",
     "output_type": "stream",
     "text": [
      "✓ Saved Seasonal Naive forecasts to: data/processed/baseline_forecast_seasonal_naive.csv\n"
     ]
    },
    {
     "name": "stdout",
     "output_type": "stream",
     "text": [
      "✓ Saved MA-3 forecasts to: data/processed/baseline_forecast_ma3.csv\n",
      "✓ Saved MA-6 forecasts to: data/processed/baseline_forecast_ma6.csv\n"
     ]
    },
    {
     "name": "stdout",
     "output_type": "stream",
     "text": [
      "✓ Saved Linear Trend forecasts to: data/processed/baseline_forecast_linear_trend.csv\n",
      "✓ Saved Linear Distribution (Current Method) forecasts to: data/processed/baseline_forecast_linear_distribution_current_method.csv\n",
      "\n",
      "================================================================================\n",
      "BASELINE MODELS COMPLETE!\n",
      "================================================================================\n",
      "\n",
      "Key Findings:\n",
      "  • 6 baseline methods evaluated (including Current Method)\n",
      "  • 3 target metrics forecasted\n",
      "  • Validation period: 6 months (Jul-Dec 2024)\n",
      "\n",
      "Current Method Performance:\n",
      "  • total_orders: 4.17% MAPE\n",
      "  • total_km: 3.75% MAPE\n",
      "  • total_drivers: 4.09% MAPE\n",
      "\n",
      "These baselines establish the performance threshold that\n",
      "advanced models (Prophet, SARIMAX, XGBoost) should exceed.\n",
      "\n",
      "Next: Run notebooks 10-12 for advanced forecasting models, then\n",
      "notebook 16 for Current Method vs Seasonal Naive comparison.\n"
     ]
    }
   ],
   "source": [
    "# Save performance metrics\n",
    "output_dir = Path('../data/processed')\n",
    "output_dir.mkdir(exist_ok=True)\n",
    "\n",
    "results_df.to_csv(output_dir / 'baseline_metrics.csv', index=False)\n",
    "print(f\"✓ Saved baseline metrics to: data/processed/baseline_metrics.csv\")\n",
    "\n",
    "# Save forecasts for each method\n",
    "for model_name, forecasts in all_forecasts.items():\n",
    "    forecast_df = pd.DataFrame({\n",
    "        'date': val_df['date'],\n",
    "        'year_month': val_df['year_month'].astype(str),\n",
    "    })\n",
    "    \n",
    "    for metric in target_metrics:\n",
    "        forecast_df[metric] = forecasts[metric]\n",
    "    \n",
    "    filename = f\"baseline_forecast_{model_name.lower().replace(' ', '_').replace('-', '').replace('(', '').replace(')', '')}.csv\"\n",
    "    forecast_df.to_csv(output_dir / filename, index=False)\n",
    "    print(f\"✓ Saved {model_name} forecasts to: data/processed/{filename}\")\n",
    "\n",
    "print(f\"\\n{'='*80}\")\n",
    "print(f\"BASELINE MODELS COMPLETE!\")\n",
    "print(f\"{'='*80}\")\n",
    "print(f\"\\nKey Findings:\")\n",
    "print(f\"  • {len(all_forecasts)} baseline methods evaluated (including Current Method)\")\n",
    "print(f\"  • {len(target_metrics)} target metrics forecasted\")\n",
    "print(f\"  • Validation period: {len(val_df)} months (Jul-Dec 2024)\")\n",
    "print(f\"\\nCurrent Method Performance:\")\n",
    "current_results = results_df[results_df['model'] == 'Linear Distribution (Current Method)']\n",
    "for metric in target_metrics:\n",
    "    mape = current_results[current_results['metric'] == metric]['MAPE'].values[0]\n",
    "    print(f\"  • {metric}: {mape:.2f}% MAPE\")\n",
    "print(f\"\\nThese baselines establish the performance threshold that\")\n",
    "print(f\"advanced models (Prophet, SARIMAX, XGBoost) should exceed.\")\n",
    "print(f\"\\nNext: Run notebooks 10-12 for advanced forecasting models, then\")\n",
    "print(f\"notebook 16 for Current Method vs Seasonal Naive comparison.\")"
   ]
  },
  {
   "cell_type": "code",
   "execution_count": null,
   "metadata": {},
   "outputs": [],
   "source": []
  }
 ],
 "metadata": {
  "kernelspec": {
   "display_name": "Python 3 (ipykernel)",
   "language": "python",
   "name": "python3"
  },
  "language_info": {
   "codemirror_mode": {
    "name": "ipython",
    "version": 3
   },
   "file_extension": ".py",
   "mimetype": "text/x-python",
   "name": "python",
   "nbconvert_exporter": "python",
   "pygments_lexer": "ipython3",
   "version": "3.11.6"
  }
 },
 "nbformat": 4,
 "nbformat_minor": 4
}
