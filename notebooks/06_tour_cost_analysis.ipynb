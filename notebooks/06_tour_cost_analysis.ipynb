{
 "cells": [
  {
   "cell_type": "markdown",
   "metadata": {},
   "source": [
    "# Notebook 06: Tour Cost Analysis\n",
    "\n",
    "**Traveco Transport Forecasting Project**\n",
    "\n",
    "## Objective\n",
    "Analyze tour-level costs and efficiency:\n",
    "1. Load tour assignments data (Tourenaufstellung)\n",
    "2. Calculate vehicle costs: (KM cost \u00d7 distance) + (minute cost \u00d7 time)\n",
    "3. Compare actual driven km vs billed km efficiency\n",
    "4. Join tour costs with orders\n",
    "5. Aggregate costs by branch/Auftraggeber\n",
    "6. Create cost efficiency metrics\n",
    "\n",
    "## Outputs\n",
    "- `data/processed/tour_costs.csv` - Tour-level cost data\n",
    "- `data/processed/orders_with_tour_costs.csv` - Orders with joined tour costs\n",
    "- Cost analysis visualizations\n",
    "\n",
    "---"
   ]
  },
  {
   "cell_type": "markdown",
   "metadata": {},
   "source": [
    "## 1. Setup and Imports"
   ]
  },
  {
   "cell_type": "code",
   "execution_count": 27,
   "metadata": {},
   "outputs": [
    {
     "name": "stdout",
     "output_type": "stream",
     "text": [
      "Setup complete!\n"
     ]
    }
   ],
   "source": [
    "# Standard libraries\n",
    "import pandas as pd\n",
    "import numpy as np\n",
    "import matplotlib.pyplot as plt\n",
    "import seaborn as sns\n",
    "import plotly.graph_objects as go\n",
    "import plotly.express as px\n",
    "from plotly.subplots import make_subplots\n",
    "from pathlib import Path\n",
    "import warnings\n",
    "\n",
    "# Custom utilities\n",
    "import sys\n",
    "sys.path.append('..')  # Add parent directory to path\n",
    "from utils.traveco_utils import (\n",
    "    ConfigLoader,\n",
    "    TravecomDataLoader,\n",
    "    load_processed_data,\n",
    "    save_processed_data\n",
    ")\n",
    "\n",
    "# Settings\n",
    "warnings.filterwarnings('ignore')\n",
    "pd.set_option('display.max_columns', 50)\n",
    "pd.set_option('display.max_rows', 100)\n",
    "\n",
    "# Visualization settings\n",
    "plt.style.use('seaborn-v0_8-whitegrid')\n",
    "sns.set_palette('husl')\n",
    "\n",
    "print(\"Setup complete!\")"
   ]
  },
  {
   "cell_type": "markdown",
   "metadata": {},
   "source": [
    "## 2. Load Data"
   ]
  },
  {
   "cell_type": "code",
   "execution_count": 28,
   "metadata": {},
   "outputs": [
    {
     "name": "stdout",
     "output_type": "stream",
     "text": [
      "Loading tour assignments data...\n",
      "Loading tour assignments from: ../data/swisstransfer_f473fe80-56b4-4ff0-8cbb-1bb5e181450a/20251015 QS Tourenaufstellung Juni 2025.xlsx\n",
      "Loaded 14,241 tour assignments\n",
      "\n",
      "Loaded 14,241 tour assignments\n",
      "Columns (34): ['Datum Tour', 'Nummer.Tour', 'Tour Bezeichnung', 'TourTyp.Tour', 'System_id.Auftrag', 'Nr Fahrzeug', 'Nr Spedition', 'Name Spedition', 'Nr. Fhz Typ', 'Bezeichnung.Fahrzeugtyp', 'PC KM Kosten', 'PC Minuten Kosten', 'Anz. Empf\u00e4nger', '# Auftr\u00e4ge', '\u2211 Frachtpfl. Gewicht', '\u2211 Gewicht', 'R\u00fcckerfasste KM AHZ', 'R\u00fcckerfasste Solo Km', 'R\u00fcckerfasste Tour Stunden', 'Soll KM PraCar', 'IstKm.Tour', 'IST Zeit PraCar', 'Fahrzeit Tour', 'Standzeit Tour', 'Arbeitszeit Chauffeur', 'Ist Tour Begin', 'Ist Tour Ende', 'Tour End (errechnet)', 'Anz RC', 'Anz RC (TISLOG / PRABORD)', 'Anz RC (ohne TISLOG / PRABORD)', 'Alles in EH', 'Alles in EH (TISLOG & PRABORD)', 'Alles in EH ( ohne TISLOG & PRABORD)']\n"
     ]
    }
   ],
   "source": [
    "# Load configuration\n",
    "config = ConfigLoader('../config/config.yaml')\n",
    "\n",
    "# Load tour assignments\n",
    "loader = TravecomDataLoader(config)\n",
    "print(\"Loading tour assignments data...\")\n",
    "df_tours = loader.load_tour_assignments()\n",
    "\n",
    "print(f\"\\nLoaded {len(df_tours):,} tour assignments\")\n",
    "print(f\"Columns ({len(df_tours.columns)}): {list(df_tours.columns)}\")"
   ]
  },
  {
   "cell_type": "code",
   "execution_count": 29,
   "metadata": {},
   "outputs": [
    {
     "name": "stdout",
     "output_type": "stream",
     "text": [
      "\n",
      "=== Sample Tour Data ===\n"
     ]
    },
    {
     "data": {
      "text/html": [
       "<div>\n",
       "<style scoped>\n",
       "    .dataframe tbody tr th:only-of-type {\n",
       "        vertical-align: middle;\n",
       "    }\n",
       "\n",
       "    .dataframe tbody tr th {\n",
       "        vertical-align: top;\n",
       "    }\n",
       "\n",
       "    .dataframe thead th {\n",
       "        text-align: right;\n",
       "    }\n",
       "</style>\n",
       "<table border=\"1\" class=\"dataframe\">\n",
       "  <thead>\n",
       "    <tr style=\"text-align: right;\">\n",
       "      <th></th>\n",
       "      <th>Datum Tour</th>\n",
       "      <th>Nummer.Tour</th>\n",
       "      <th>Tour Bezeichnung</th>\n",
       "      <th>TourTyp.Tour</th>\n",
       "      <th>System_id.Auftrag</th>\n",
       "      <th>Nr Fahrzeug</th>\n",
       "      <th>Nr Spedition</th>\n",
       "      <th>Name Spedition</th>\n",
       "      <th>Nr. Fhz Typ</th>\n",
       "      <th>Bezeichnung.Fahrzeugtyp</th>\n",
       "      <th>PC KM Kosten</th>\n",
       "      <th>PC Minuten Kosten</th>\n",
       "      <th>Anz. Empf\u00e4nger</th>\n",
       "      <th># Auftr\u00e4ge</th>\n",
       "      <th>\u2211 Frachtpfl. Gewicht</th>\n",
       "      <th>\u2211 Gewicht</th>\n",
       "      <th>R\u00fcckerfasste KM AHZ</th>\n",
       "      <th>R\u00fcckerfasste Solo Km</th>\n",
       "      <th>R\u00fcckerfasste Tour Stunden</th>\n",
       "      <th>Soll KM PraCar</th>\n",
       "      <th>IstKm.Tour</th>\n",
       "      <th>IST Zeit PraCar</th>\n",
       "      <th>Fahrzeit Tour</th>\n",
       "      <th>Standzeit Tour</th>\n",
       "      <th>Arbeitszeit Chauffeur</th>\n",
       "      <th>Ist Tour Begin</th>\n",
       "      <th>Ist Tour Ende</th>\n",
       "      <th>Tour End (errechnet)</th>\n",
       "      <th>Anz RC</th>\n",
       "      <th>Anz RC (TISLOG / PRABORD)</th>\n",
       "      <th>Anz RC (ohne TISLOG / PRABORD)</th>\n",
       "      <th>Alles in EH</th>\n",
       "      <th>Alles in EH (TISLOG &amp; PRABORD)</th>\n",
       "      <th>Alles in EH ( ohne TISLOG &amp; PRABORD)</th>\n",
       "    </tr>\n",
       "  </thead>\n",
       "  <tbody>\n",
       "    <tr>\n",
       "      <th>0</th>\n",
       "      <td>2025-06-01</td>\n",
       "      <td>566888</td>\n",
       "      <td>6140_1</td>\n",
       "      <td>SH</td>\n",
       "      <td>TRP</td>\n",
       "      <td>3. FX6</td>\n",
       "      <td>9126</td>\n",
       "      <td>FruchtXpress GmbH</td>\n",
       "      <td>29</td>\n",
       "      <td>**INAKTIV ab'23_Fremd 2-Achser K\u00fchl</td>\n",
       "      <td>0.956</td>\n",
       "      <td>0.346</td>\n",
       "      <td>22</td>\n",
       "      <td>56</td>\n",
       "      <td>8604.22</td>\n",
       "      <td>8604.22</td>\n",
       "      <td>0</td>\n",
       "      <td>460</td>\n",
       "      <td>8.5</td>\n",
       "      <td>129</td>\n",
       "      <td>0</td>\n",
       "      <td>4.016667</td>\n",
       "      <td>3.000000</td>\n",
       "      <td>1.016667</td>\n",
       "      <td>0.0</td>\n",
       "      <td>5.083333</td>\n",
       "      <td>22.033333</td>\n",
       "      <td>9.1</td>\n",
       "      <td>51.00</td>\n",
       "      <td>0</td>\n",
       "      <td>51.00</td>\n",
       "      <td>25.50</td>\n",
       "      <td>0.0</td>\n",
       "      <td>25.50</td>\n",
       "    </tr>\n",
       "    <tr>\n",
       "      <th>1</th>\n",
       "      <td>2025-06-01</td>\n",
       "      <td>557269</td>\n",
       "      <td>2134  Kuoni Samedan</td>\n",
       "      <td>FD</td>\n",
       "      <td>TRP</td>\n",
       "      <td>7.Rhb Zug</td>\n",
       "      <td>9249</td>\n",
       "      <td>Rh\u00e4tische Bahn AG G\u00fcterverkehr</td>\n",
       "      <td>-</td>\n",
       "      <td>-</td>\n",
       "      <td>-</td>\n",
       "      <td>-</td>\n",
       "      <td>5</td>\n",
       "      <td>15</td>\n",
       "      <td>3179.77</td>\n",
       "      <td>3179.77</td>\n",
       "      <td>0</td>\n",
       "      <td>0</td>\n",
       "      <td>0</td>\n",
       "      <td>109</td>\n",
       "      <td>0</td>\n",
       "      <td>2.633333</td>\n",
       "      <td>2.150000</td>\n",
       "      <td>0.483333</td>\n",
       "      <td>0.0</td>\n",
       "      <td>5</td>\n",
       "      <td>14.366667</td>\n",
       "      <td>7.633333</td>\n",
       "      <td>19.00</td>\n",
       "      <td>0</td>\n",
       "      <td>19.00</td>\n",
       "      <td>9.50</td>\n",
       "      <td>0.0</td>\n",
       "      <td>9.50</td>\n",
       "    </tr>\n",
       "    <tr>\n",
       "      <th>2</th>\n",
       "      <td>2025-06-01</td>\n",
       "      <td>557265</td>\n",
       "      <td>2130 Kuoni Samedan</td>\n",
       "      <td>FD</td>\n",
       "      <td>TRP</td>\n",
       "      <td>7.Rhb Zug</td>\n",
       "      <td>9249</td>\n",
       "      <td>Rh\u00e4tische Bahn AG G\u00fcterverkehr</td>\n",
       "      <td>-</td>\n",
       "      <td>-</td>\n",
       "      <td>-</td>\n",
       "      <td>-</td>\n",
       "      <td>6</td>\n",
       "      <td>15</td>\n",
       "      <td>2345.69</td>\n",
       "      <td>2345.69</td>\n",
       "      <td>0</td>\n",
       "      <td>0</td>\n",
       "      <td>0</td>\n",
       "      <td>109</td>\n",
       "      <td>0</td>\n",
       "      <td>2.566667</td>\n",
       "      <td>2.150000</td>\n",
       "      <td>0.416667</td>\n",
       "      <td>0.0</td>\n",
       "      <td>5</td>\n",
       "      <td>16.9</td>\n",
       "      <td>7.566667</td>\n",
       "      <td>15.00</td>\n",
       "      <td>0</td>\n",
       "      <td>15.00</td>\n",
       "      <td>7.50</td>\n",
       "      <td>0.0</td>\n",
       "      <td>7.50</td>\n",
       "    </tr>\n",
       "    <tr>\n",
       "      <th>3</th>\n",
       "      <td>2025-06-01</td>\n",
       "      <td>557271</td>\n",
       "      <td>2136 Westreicher</td>\n",
       "      <td>FD</td>\n",
       "      <td>TRP</td>\n",
       "      <td>7.Rhb Zug</td>\n",
       "      <td>9249</td>\n",
       "      <td>Rh\u00e4tische Bahn AG G\u00fcterverkehr</td>\n",
       "      <td>-</td>\n",
       "      <td>-</td>\n",
       "      <td>-</td>\n",
       "      <td>-</td>\n",
       "      <td>5</td>\n",
       "      <td>13</td>\n",
       "      <td>1271.71</td>\n",
       "      <td>1271.71</td>\n",
       "      <td>0</td>\n",
       "      <td>0</td>\n",
       "      <td>0</td>\n",
       "      <td>109</td>\n",
       "      <td>0</td>\n",
       "      <td>2.483333</td>\n",
       "      <td>2.150000</td>\n",
       "      <td>0.333333</td>\n",
       "      <td>0.0</td>\n",
       "      <td>5</td>\n",
       "      <td>16.416667</td>\n",
       "      <td>7.483333</td>\n",
       "      <td>10.00</td>\n",
       "      <td>0</td>\n",
       "      <td>10.00</td>\n",
       "      <td>5.00</td>\n",
       "      <td>0.0</td>\n",
       "      <td>5.00</td>\n",
       "    </tr>\n",
       "    <tr>\n",
       "      <th>4</th>\n",
       "      <td>2025-06-01</td>\n",
       "      <td>557273</td>\n",
       "      <td>2138 Westreicher</td>\n",
       "      <td>FD</td>\n",
       "      <td>TRP</td>\n",
       "      <td>7.Rhb Zug</td>\n",
       "      <td>9249</td>\n",
       "      <td>Rh\u00e4tische Bahn AG G\u00fcterverkehr</td>\n",
       "      <td>-</td>\n",
       "      <td>-</td>\n",
       "      <td>-</td>\n",
       "      <td>-</td>\n",
       "      <td>3</td>\n",
       "      <td>8</td>\n",
       "      <td>956.17</td>\n",
       "      <td>956.17</td>\n",
       "      <td>0</td>\n",
       "      <td>0</td>\n",
       "      <td>0</td>\n",
       "      <td>109</td>\n",
       "      <td>0</td>\n",
       "      <td>2.433333</td>\n",
       "      <td>2.150000</td>\n",
       "      <td>0.283333</td>\n",
       "      <td>0.0</td>\n",
       "      <td>5</td>\n",
       "      <td>13.883333</td>\n",
       "      <td>7.433333</td>\n",
       "      <td>7.00</td>\n",
       "      <td>0</td>\n",
       "      <td>7.00</td>\n",
       "      <td>3.50</td>\n",
       "      <td>0.0</td>\n",
       "      <td>3.50</td>\n",
       "    </tr>\n",
       "    <tr>\n",
       "      <th>5</th>\n",
       "      <td>2025-06-01</td>\n",
       "      <td>557267</td>\n",
       "      <td>2133  Kuoni Samedan</td>\n",
       "      <td>FD</td>\n",
       "      <td>TRP</td>\n",
       "      <td>7.Rhb Zug</td>\n",
       "      <td>9249</td>\n",
       "      <td>Rh\u00e4tische Bahn AG G\u00fcterverkehr</td>\n",
       "      <td>-</td>\n",
       "      <td>-</td>\n",
       "      <td>-</td>\n",
       "      <td>-</td>\n",
       "      <td>2</td>\n",
       "      <td>4</td>\n",
       "      <td>829.94</td>\n",
       "      <td>829.94</td>\n",
       "      <td>0</td>\n",
       "      <td>0</td>\n",
       "      <td>0</td>\n",
       "      <td>109</td>\n",
       "      <td>0</td>\n",
       "      <td>2.416667</td>\n",
       "      <td>2.150000</td>\n",
       "      <td>0.266667</td>\n",
       "      <td>0.0</td>\n",
       "      <td>10</td>\n",
       "      <td>13.85</td>\n",
       "      <td>12.416667</td>\n",
       "      <td>6.00</td>\n",
       "      <td>0</td>\n",
       "      <td>6.00</td>\n",
       "      <td>3.00</td>\n",
       "      <td>0.0</td>\n",
       "      <td>3.00</td>\n",
       "    </tr>\n",
       "    <tr>\n",
       "      <th>6</th>\n",
       "      <td>2025-06-02</td>\n",
       "      <td>814914</td>\n",
       "      <td>1/101</td>\n",
       "      <td>Normal</td>\n",
       "      <td>B&amp;T</td>\n",
       "      <td>1.01~20210113</td>\n",
       "      <td>1100</td>\n",
       "      <td>B&amp;T Winterthur</td>\n",
       "      <td>14</td>\n",
       "      <td>BT 5-Achs-Anhzug</td>\n",
       "      <td>0.001</td>\n",
       "      <td>0.001</td>\n",
       "      <td>1</td>\n",
       "      <td>13</td>\n",
       "      <td>0.00</td>\n",
       "      <td>56635.69</td>\n",
       "      <td>0</td>\n",
       "      <td>0</td>\n",
       "      <td>0</td>\n",
       "      <td>109</td>\n",
       "      <td>0</td>\n",
       "      <td>7.433333</td>\n",
       "      <td>3.133333</td>\n",
       "      <td>4.300000</td>\n",
       "      <td>0.0</td>\n",
       "      <td>5</td>\n",
       "      <td>13.683333</td>\n",
       "      <td>12.433333</td>\n",
       "      <td>1305.20</td>\n",
       "      <td>0</td>\n",
       "      <td>1305.20</td>\n",
       "      <td>652.60</td>\n",
       "      <td>0.0</td>\n",
       "      <td>652.60</td>\n",
       "    </tr>\n",
       "    <tr>\n",
       "      <th>7</th>\n",
       "      <td>2025-06-02</td>\n",
       "      <td>814940</td>\n",
       "      <td>1/102</td>\n",
       "      <td>Normal</td>\n",
       "      <td>B&amp;T</td>\n",
       "      <td>1.02~20210329</td>\n",
       "      <td>1100</td>\n",
       "      <td>B&amp;T Winterthur</td>\n",
       "      <td>16</td>\n",
       "      <td>BT Schlepper</td>\n",
       "      <td>0.001</td>\n",
       "      <td>0.001</td>\n",
       "      <td>4</td>\n",
       "      <td>16</td>\n",
       "      <td>0.00</td>\n",
       "      <td>164566.38</td>\n",
       "      <td>0</td>\n",
       "      <td>0</td>\n",
       "      <td>0</td>\n",
       "      <td>182</td>\n",
       "      <td>0</td>\n",
       "      <td>12.750000</td>\n",
       "      <td>4.250000</td>\n",
       "      <td>8.500000</td>\n",
       "      <td>0.0</td>\n",
       "      <td>5</td>\n",
       "      <td>19.25</td>\n",
       "      <td>17.75</td>\n",
       "      <td>4138.06</td>\n",
       "      <td>0</td>\n",
       "      <td>4138.06</td>\n",
       "      <td>2069.03</td>\n",
       "      <td>0.0</td>\n",
       "      <td>2069.03</td>\n",
       "    </tr>\n",
       "    <tr>\n",
       "      <th>8</th>\n",
       "      <td>2025-06-02</td>\n",
       "      <td>814915</td>\n",
       "      <td>1/103</td>\n",
       "      <td>Normal</td>\n",
       "      <td>B&amp;T</td>\n",
       "      <td>1.03~20220117</td>\n",
       "      <td>1100</td>\n",
       "      <td>B&amp;T Winterthur</td>\n",
       "      <td>13</td>\n",
       "      <td>BT 4-Achser</td>\n",
       "      <td>0.001</td>\n",
       "      <td>0.001</td>\n",
       "      <td>4</td>\n",
       "      <td>15</td>\n",
       "      <td>0.00</td>\n",
       "      <td>71091.11</td>\n",
       "      <td>0</td>\n",
       "      <td>0</td>\n",
       "      <td>0</td>\n",
       "      <td>132</td>\n",
       "      <td>0</td>\n",
       "      <td>9.533333</td>\n",
       "      <td>4.050000</td>\n",
       "      <td>5.483333</td>\n",
       "      <td>0.0</td>\n",
       "      <td>5</td>\n",
       "      <td>16.033333</td>\n",
       "      <td>14.533333</td>\n",
       "      <td>1574.06</td>\n",
       "      <td>0</td>\n",
       "      <td>1574.06</td>\n",
       "      <td>787.03</td>\n",
       "      <td>0.0</td>\n",
       "      <td>787.03</td>\n",
       "    </tr>\n",
       "    <tr>\n",
       "      <th>9</th>\n",
       "      <td>2025-06-02</td>\n",
       "      <td>814941</td>\n",
       "      <td>1/104HVO</td>\n",
       "      <td>Normal</td>\n",
       "      <td>B&amp;T</td>\n",
       "      <td>1.04~20170825</td>\n",
       "      <td>1100</td>\n",
       "      <td>B&amp;T Winterthur</td>\n",
       "      <td>15</td>\n",
       "      <td>BT 5-Achser</td>\n",
       "      <td>0.001</td>\n",
       "      <td>0.001</td>\n",
       "      <td>3</td>\n",
       "      <td>7</td>\n",
       "      <td>0.00</td>\n",
       "      <td>91060.82</td>\n",
       "      <td>0</td>\n",
       "      <td>0</td>\n",
       "      <td>0</td>\n",
       "      <td>293</td>\n",
       "      <td>0</td>\n",
       "      <td>10.483333</td>\n",
       "      <td>5.633333</td>\n",
       "      <td>4.850000</td>\n",
       "      <td>0.0</td>\n",
       "      <td>5</td>\n",
       "      <td>16.983333</td>\n",
       "      <td>15.483333</td>\n",
       "      <td>2166.58</td>\n",
       "      <td>0</td>\n",
       "      <td>2166.58</td>\n",
       "      <td>1083.29</td>\n",
       "      <td>0.0</td>\n",
       "      <td>1083.29</td>\n",
       "    </tr>\n",
       "  </tbody>\n",
       "</table>\n",
       "</div>"
      ],
      "text/plain": [
       "  Datum Tour Nummer.Tour     Tour Bezeichnung TourTyp.Tour System_id.Auftrag  \\\n",
       "0 2025-06-01      566888               6140_1           SH               TRP   \n",
       "1 2025-06-01      557269  2134  Kuoni Samedan           FD               TRP   \n",
       "2 2025-06-01      557265   2130 Kuoni Samedan           FD               TRP   \n",
       "3 2025-06-01      557271     2136 Westreicher           FD               TRP   \n",
       "4 2025-06-01      557273     2138 Westreicher           FD               TRP   \n",
       "5 2025-06-01      557267  2133  Kuoni Samedan           FD               TRP   \n",
       "6 2025-06-02      814914                1/101       Normal               B&T   \n",
       "7 2025-06-02      814940                1/102       Normal               B&T   \n",
       "8 2025-06-02      814915                1/103       Normal               B&T   \n",
       "9 2025-06-02      814941             1/104HVO       Normal               B&T   \n",
       "\n",
       "     Nr Fahrzeug Nr Spedition                  Name Spedition Nr. Fhz Typ  \\\n",
       "0         3. FX6         9126               FruchtXpress GmbH          29   \n",
       "1      7.Rhb Zug         9249  Rh\u00e4tische Bahn AG G\u00fcterverkehr           -   \n",
       "2      7.Rhb Zug         9249  Rh\u00e4tische Bahn AG G\u00fcterverkehr           -   \n",
       "3      7.Rhb Zug         9249  Rh\u00e4tische Bahn AG G\u00fcterverkehr           -   \n",
       "4      7.Rhb Zug         9249  Rh\u00e4tische Bahn AG G\u00fcterverkehr           -   \n",
       "5      7.Rhb Zug         9249  Rh\u00e4tische Bahn AG G\u00fcterverkehr           -   \n",
       "6  1.01~20210113         1100                  B&T Winterthur          14   \n",
       "7  1.02~20210329         1100                  B&T Winterthur          16   \n",
       "8  1.03~20220117         1100                  B&T Winterthur          13   \n",
       "9  1.04~20170825         1100                  B&T Winterthur          15   \n",
       "\n",
       "               Bezeichnung.Fahrzeugtyp PC KM Kosten PC Minuten Kosten  \\\n",
       "0  **INAKTIV ab'23_Fremd 2-Achser K\u00fchl        0.956             0.346   \n",
       "1                                    -            -                 -   \n",
       "2                                    -            -                 -   \n",
       "3                                    -            -                 -   \n",
       "4                                    -            -                 -   \n",
       "5                                    -            -                 -   \n",
       "6                     BT 5-Achs-Anhzug        0.001             0.001   \n",
       "7                         BT Schlepper        0.001             0.001   \n",
       "8                          BT 4-Achser        0.001             0.001   \n",
       "9                          BT 5-Achser        0.001             0.001   \n",
       "\n",
       "   Anz. Empf\u00e4nger  # Auftr\u00e4ge  \u2211 Frachtpfl. Gewicht  \u2211 Gewicht  \\\n",
       "0              22          56               8604.22    8604.22   \n",
       "1               5          15               3179.77    3179.77   \n",
       "2               6          15               2345.69    2345.69   \n",
       "3               5          13               1271.71    1271.71   \n",
       "4               3           8                956.17     956.17   \n",
       "5               2           4                829.94     829.94   \n",
       "6               1          13                  0.00   56635.69   \n",
       "7               4          16                  0.00  164566.38   \n",
       "8               4          15                  0.00   71091.11   \n",
       "9               3           7                  0.00   91060.82   \n",
       "\n",
       "  R\u00fcckerfasste KM AHZ R\u00fcckerfasste Solo Km R\u00fcckerfasste Tour Stunden  \\\n",
       "0                   0                  460                       8.5   \n",
       "1                   0                    0                         0   \n",
       "2                   0                    0                         0   \n",
       "3                   0                    0                         0   \n",
       "4                   0                    0                         0   \n",
       "5                   0                    0                         0   \n",
       "6                   0                    0                         0   \n",
       "7                   0                    0                         0   \n",
       "8                   0                    0                         0   \n",
       "9                   0                    0                         0   \n",
       "\n",
       "   Soll KM PraCar IstKm.Tour  IST Zeit PraCar  Fahrzeit Tour  Standzeit Tour  \\\n",
       "0             129          0         4.016667       3.000000        1.016667   \n",
       "1             109          0         2.633333       2.150000        0.483333   \n",
       "2             109          0         2.566667       2.150000        0.416667   \n",
       "3             109          0         2.483333       2.150000        0.333333   \n",
       "4             109          0         2.433333       2.150000        0.283333   \n",
       "5             109          0         2.416667       2.150000        0.266667   \n",
       "6             109          0         7.433333       3.133333        4.300000   \n",
       "7             182          0        12.750000       4.250000        8.500000   \n",
       "8             132          0         9.533333       4.050000        5.483333   \n",
       "9             293          0        10.483333       5.633333        4.850000   \n",
       "\n",
       "   Arbeitszeit Chauffeur Ist Tour Begin Ist Tour Ende Tour End (errechnet)  \\\n",
       "0                    0.0       5.083333     22.033333                  9.1   \n",
       "1                    0.0              5     14.366667             7.633333   \n",
       "2                    0.0              5          16.9             7.566667   \n",
       "3                    0.0              5     16.416667             7.483333   \n",
       "4                    0.0              5     13.883333             7.433333   \n",
       "5                    0.0             10         13.85            12.416667   \n",
       "6                    0.0              5     13.683333            12.433333   \n",
       "7                    0.0              5         19.25                17.75   \n",
       "8                    0.0              5     16.033333            14.533333   \n",
       "9                    0.0              5     16.983333            15.483333   \n",
       "\n",
       "    Anz RC  Anz RC (TISLOG / PRABORD)  Anz RC (ohne TISLOG / PRABORD)  \\\n",
       "0    51.00                          0                           51.00   \n",
       "1    19.00                          0                           19.00   \n",
       "2    15.00                          0                           15.00   \n",
       "3    10.00                          0                           10.00   \n",
       "4     7.00                          0                            7.00   \n",
       "5     6.00                          0                            6.00   \n",
       "6  1305.20                          0                         1305.20   \n",
       "7  4138.06                          0                         4138.06   \n",
       "8  1574.06                          0                         1574.06   \n",
       "9  2166.58                          0                         2166.58   \n",
       "\n",
       "   Alles in EH  Alles in EH (TISLOG & PRABORD)  \\\n",
       "0        25.50                             0.0   \n",
       "1         9.50                             0.0   \n",
       "2         7.50                             0.0   \n",
       "3         5.00                             0.0   \n",
       "4         3.50                             0.0   \n",
       "5         3.00                             0.0   \n",
       "6       652.60                             0.0   \n",
       "7      2069.03                             0.0   \n",
       "8       787.03                             0.0   \n",
       "9      1083.29                             0.0   \n",
       "\n",
       "   Alles in EH ( ohne TISLOG & PRABORD)  \n",
       "0                                 25.50  \n",
       "1                                  9.50  \n",
       "2                                  7.50  \n",
       "3                                  5.00  \n",
       "4                                  3.50  \n",
       "5                                  3.00  \n",
       "6                                652.60  \n",
       "7                               2069.03  \n",
       "8                                787.03  \n",
       "9                               1083.29  "
      ]
     },
     "execution_count": 29,
     "metadata": {},
     "output_type": "execute_result"
    }
   ],
   "source": [
    "# Display sample data\n",
    "print(\"\\n=== Sample Tour Data ===\")\n",
    "df_tours.head(10)"
   ]
  },
  {
   "cell_type": "markdown",
   "metadata": {},
   "source": [
    "## 3. Calculate Vehicle Costs\n",
    "\n",
    "**Formula**: `Vehicle Cost = (Fahrzeug KM \u00d7 PC KM Kosten) + (IST Zeit PraCar \u00d7 60 \u00d7 PC Minuten Kosten)`\n",
    "\n",
    "Where:\n",
    "- **Fahrzeug KM** (Column K or similar): Actual kilometers driven\n",
    "- **PC KM Kosten** (Column K): Cost per kilometer\n",
    "- **IST Zeit PraCar** (Column V): Actual time in hours (digital format)\n",
    "- **PC Minuten Kosten** (Column L): Cost per minute"
   ]
  },
  {
   "cell_type": "code",
   "execution_count": 30,
   "metadata": {},
   "outputs": [
    {
     "name": "stdout",
     "output_type": "stream",
     "text": [
      "Identifying cost columns...\n",
      "\n",
      "Available columns: ['Datum Tour', 'Nummer.Tour', 'Tour Bezeichnung', 'TourTyp.Tour', 'System_id.Auftrag', 'Nr Fahrzeug', 'Nr Spedition', 'Name Spedition', 'Nr. Fhz Typ', 'Bezeichnung.Fahrzeugtyp', 'PC KM Kosten', 'PC Minuten Kosten', 'Anz. Empf\u00e4nger', '# Auftr\u00e4ge', '\u2211 Frachtpfl. Gewicht', '\u2211 Gewicht', 'R\u00fcckerfasste KM AHZ', 'R\u00fcckerfasste Solo Km', 'R\u00fcckerfasste Tour Stunden', 'Soll KM PraCar', 'IstKm.Tour', 'IST Zeit PraCar', 'Fahrzeit Tour', 'Standzeit Tour', 'Arbeitszeit Chauffeur', 'Ist Tour Begin', 'Ist Tour Ende', 'Tour End (errechnet)', 'Anz RC', 'Anz RC (TISLOG / PRABORD)', 'Anz RC (ohne TISLOG / PRABORD)', 'Alles in EH', 'Alles in EH (TISLOG & PRABORD)', 'Alles in EH ( ohne TISLOG & PRABORD)']\n",
      "\n",
      "Mapped cost columns:\n",
      "  \u2713 km_cost: PC KM Kosten\n",
      "  \u2713 minute_cost: PC Minuten Kosten\n",
      "  \u2713 actual_km: IstKm.Tour\n",
      "  \u2713 actual_time_hours: IST Zeit PraCar\n"
     ]
    }
   ],
   "source": [
    "# Identify cost columns\n",
    "print(\"Identifying cost columns...\")\n",
    "print(f\"\\nAvailable columns: {list(df_tours.columns)}\")\n",
    "\n",
    "# Map column names\n",
    "cost_columns = {\n",
    "    'km_cost': None,\n",
    "    'minute_cost': None,\n",
    "    'actual_km': None,\n",
    "    'actual_time_hours': None\n",
    "}\n",
    "\n",
    "# Find KM cost column\n",
    "for col in ['PC KM Kosten', 'KM Kosten', 'Kosten_KM']:\n",
    "    if col in df_tours.columns:\n",
    "        cost_columns['km_cost'] = col\n",
    "        break\n",
    "\n",
    "# Find minute cost column\n",
    "for col in ['PC Minuten Kosten', 'Minuten Kosten', 'Kosten_Minuten']:\n",
    "    if col in df_tours.columns:\n",
    "        cost_columns['minute_cost'] = col\n",
    "        break\n",
    "\n",
    "# Find actual KM column\n",
    "for col in ['IstKm.Tour', 'Ist KM', 'Fahrzeug KM', 'R\u00fcckerfasste KM']:\n",
    "    if col in df_tours.columns:\n",
    "        cost_columns['actual_km'] = col\n",
    "        break\n",
    "\n",
    "# Find actual time column (in hours)\n",
    "for col in ['IST Zeit PraCar', 'Ist Zeit', 'R\u00fcckerfasste Tour Stunden']:\n",
    "    if col in df_tours.columns:\n",
    "        cost_columns['actual_time_hours'] = col\n",
    "        break\n",
    "\n",
    "print(f\"\\nMapped cost columns:\")\n",
    "for key, val in cost_columns.items():\n",
    "    status = \"\u2713\" if val else \"\u2717\"\n",
    "    print(f\"  {status} {key}: {val}\")"
   ]
  },
  {
   "cell_type": "code",
   "execution_count": 31,
   "metadata": {},
   "outputs": [
    {
     "name": "stdout",
     "output_type": "stream",
     "text": [
      "Calculating vehicle costs...\n",
      "\n",
      "PC KM Kosten:\n",
      "  Type: float64\n",
      "  Min: 0.00\n",
      "  Max: 1.40\n",
      "  Mean: 0.98\n",
      "\n",
      "PC Minuten Kosten:\n",
      "  Type: float64\n",
      "  Min: 0.00\n",
      "  Max: 1.35\n",
      "  Mean: 0.67\n",
      "\n",
      "IstKm.Tour:\n",
      "  Type: float64\n",
      "  Min: 0.00\n",
      "  Max: 583.00\n",
      "  Mean: 28.67\n",
      "\n",
      "IST Zeit PraCar:\n",
      "  Type: float64\n",
      "  Min: 0.00\n",
      "  Max: 28.70\n",
      "  Mean: 5.65\n",
      "\n",
      "\n",
      "\u2713 Vehicle costs calculated\n",
      "\n",
      "Cost statistics:\n",
      "       km_cost_component  time_cost_component  vehicle_cost\n",
      "count       12893.000000         12893.000000  12893.000000\n",
      "mean           32.040957           203.100004    235.140962\n",
      "std            79.979913           129.520275    162.182897\n",
      "min             0.000000             0.038000      0.038000\n",
      "25%             0.000000           115.024000    121.770000\n",
      "50%             0.000000           196.992000    217.115000\n",
      "75%             0.000000           281.940000    330.030000\n",
      "max           629.640000          1118.070000   1118.070000\n"
     ]
    }
   ],
   "source": [
    "# Calculate vehicle costs\n",
    "print(\"Calculating vehicle costs...\\n\")\n",
    "\n",
    "# Ensure numeric types\n",
    "for key, col in cost_columns.items():\n",
    "    if col and col in df_tours.columns:\n",
    "        df_tours[col] = pd.to_numeric(df_tours[col], errors='coerce')\n",
    "        print(f\"{col}:\")\n",
    "        print(f\"  Type: {df_tours[col].dtype}\")\n",
    "        \n",
    "        # Handle formatting safely\n",
    "        min_val = df_tours[col].min()\n",
    "        max_val = df_tours[col].max()\n",
    "        mean_val = df_tours[col].mean()\n",
    "        \n",
    "        if pd.notna(min_val):\n",
    "            print(f\"  Min: {min_val:.2f}\")\n",
    "        else:\n",
    "            print(f\"  Min: N/A\")\n",
    "            \n",
    "        if pd.notna(max_val):\n",
    "            print(f\"  Max: {max_val:.2f}\")\n",
    "        else:\n",
    "            print(f\"  Max: N/A\")\n",
    "            \n",
    "        if pd.notna(mean_val):\n",
    "            print(f\"  Mean: {mean_val:.2f}\")\n",
    "        else:\n",
    "            print(f\"  Mean: N/A\")\n",
    "        print()\n",
    "\n",
    "# Calculate costs\n",
    "if all(cost_columns.values()):\n",
    "    # KM cost component\n",
    "    df_tours['km_cost_component'] = (\n",
    "        df_tours[cost_columns['actual_km']] * \n",
    "        df_tours[cost_columns['km_cost']]\n",
    "    )\n",
    "    \n",
    "    # Time cost component (convert hours to minutes \u00d7 minute cost)\n",
    "    df_tours['time_cost_component'] = (\n",
    "        df_tours[cost_columns['actual_time_hours']] * 60 * \n",
    "        df_tours[cost_columns['minute_cost']]\n",
    "    )\n",
    "    \n",
    "    # Total vehicle cost\n",
    "    df_tours['vehicle_cost'] = (\n",
    "        df_tours['km_cost_component'] + \n",
    "        df_tours['time_cost_component']\n",
    "    )\n",
    "    \n",
    "    print(\"\\n\u2713 Vehicle costs calculated\")\n",
    "    print(f\"\\nCost statistics:\")\n",
    "    print(df_tours[['km_cost_component', 'time_cost_component', 'vehicle_cost']].describe())\n",
    "    \n",
    "else:\n",
    "    print(\"\\n\u26a0\ufe0f  Cannot calculate vehicle costs - missing required columns\")\n",
    "    missing = [k for k, v in cost_columns.items() if not v]\n",
    "    print(f\"   Missing: {missing}\")"
   ]
  },
  {
   "cell_type": "markdown",
   "metadata": {},
   "source": [
    "## 4. Kilometer Efficiency Analysis\n",
    "\n",
    "Compare actual driven km vs billed km (sum of order distances)"
   ]
  },
  {
   "cell_type": "code",
   "execution_count": 32,
   "metadata": {},
   "outputs": [
    {
     "name": "stdout",
     "output_type": "stream",
     "text": [
      "Loading orders data to calculate billed km...\n",
      "Loaded 135,646 rows from: ../data/processed/features_engineered.csv\n",
      "Loaded 135,646 orders\n",
      "\n",
      "\u2713 Joined billed km data\n",
      "  Tours with billed data: 694\n",
      "\n",
      "KM Efficiency Ratio (Actual / Billed):\n",
      "  Mean: 0.641\n",
      "  Median: 0.000\n",
      "  Good efficiency (<1.0): 633 tours\n",
      "  Poor efficiency (>1.2): 7 tours\n"
     ]
    }
   ],
   "source": [
    "# Load orders to get billed distances\n",
    "print(\"Loading orders data to calculate billed km...\")\n",
    "df_orders = load_processed_data('features_engineered.csv', config)\n",
    "\n",
    "print(f\"Loaded {len(df_orders):,} orders\")\n",
    "\n",
    "# Aggregate billed km by tour\n",
    "if 'Nummer.Tour' in df_orders.columns and 'Distanz_BE.Auftrag' in df_orders.columns:\n",
    "    billed_km_by_tour = df_orders.groupby('Nummer.Tour').agg({\n",
    "        'Distanz_BE.Auftrag': 'sum',\n",
    "        'Nummer.Auftrag': 'count'\n",
    "    }).reset_index()\n",
    "    \n",
    "    billed_km_by_tour.columns = ['Nummer.Tour', 'billed_km_total', 'order_count']\n",
    "    \n",
    "    # Join with tours\n",
    "    df_tours = df_tours.merge(billed_km_by_tour, on='Nummer.Tour', how='left')\n",
    "    \n",
    "    print(f\"\\n\u2713 Joined billed km data\")\n",
    "    print(f\"  Tours with billed data: {df_tours['billed_km_total'].notna().sum():,}\")\n",
    "    \n",
    "    # Calculate efficiency ratio\n",
    "    if cost_columns['actual_km']:\n",
    "        df_tours['km_efficiency_ratio'] = (\n",
    "            df_tours[cost_columns['actual_km']] / df_tours['billed_km_total']\n",
    "        )\n",
    "        \n",
    "        print(f\"\\nKM Efficiency Ratio (Actual / Billed):\")\n",
    "        print(f\"  Mean: {df_tours['km_efficiency_ratio'].mean():.3f}\")\n",
    "        print(f\"  Median: {df_tours['km_efficiency_ratio'].median():.3f}\")\n",
    "        print(f\"  Good efficiency (<1.0): {(df_tours['km_efficiency_ratio'] < 1.0).sum():,} tours\")\n",
    "        print(f\"  Poor efficiency (>1.2): {(df_tours['km_efficiency_ratio'] > 1.2).sum():,} tours\")\n",
    "else:\n",
    "    print(\"\\n\u26a0\ufe0f  Cannot calculate km efficiency - missing columns\")"
   ]
  },
  {
   "cell_type": "code",
   "execution_count": 33,
   "metadata": {},
   "outputs": [
    {
     "data": {
      "image/png": "[encoded data removed]",
      "text/plain": [
       "<Figure size 1400x500 with 2 Axes>"
      ]
     },
     "metadata": {},
     "output_type": "display_data"
    }
   ],
   "source": [
    "# Visualize KM efficiency\n",
    "if 'km_efficiency_ratio' in df_tours.columns:\n",
    "    fig, axes = plt.subplots(1, 2, figsize=(14, 5))\n",
    "    \n",
    "    # Histogram of efficiency ratio\n",
    "    efficiency_clean = df_tours['km_efficiency_ratio'].dropna()\n",
    "    efficiency_clean = efficiency_clean[(efficiency_clean > 0) & (efficiency_clean < 3)]  # Filter outliers\n",
    "    \n",
    "    axes[0].hist(efficiency_clean, bins=50, color='steelblue', edgecolor='black', alpha=0.7)\n",
    "    axes[0].axvline(x=1.0, color='green', linestyle='--', linewidth=2, label='Perfect (1.0)')\n",
    "    axes[0].axvline(x=efficiency_clean.median(), color='red', linestyle='--', linewidth=2, label=f'Median ({efficiency_clean.median():.2f})')\n",
    "    axes[0].set_xlabel('Efficiency Ratio (Actual KM / Billed KM)')\n",
    "    axes[0].set_ylabel('Number of Tours')\n",
    "    axes[0].set_title('KM Efficiency Distribution')\n",
    "    axes[0].legend()\n",
    "    axes[0].grid(True, alpha=0.3)\n",
    "    \n",
    "    # Scatter: actual vs billed km\n",
    "    sample = df_tours.sample(min(1000, len(df_tours)))\n",
    "    axes[1].scatter(sample['billed_km_total'], sample[cost_columns['actual_km']], \n",
    "                   alpha=0.5, color='coral')\n",
    "    \n",
    "    # Add perfect efficiency line (y=x)\n",
    "    max_km = max(sample['billed_km_total'].max(), sample[cost_columns['actual_km']].max())\n",
    "    axes[1].plot([0, max_km], [0, max_km], 'g--', linewidth=2, label='Perfect efficiency')\n",
    "    \n",
    "    axes[1].set_xlabel('Billed KM (Sum of Order Distances)')\n",
    "    axes[1].set_ylabel('Actual KM Driven')\n",
    "    axes[1].set_title('Actual vs Billed Kilometers')\n",
    "    axes[1].legend()\n",
    "    axes[1].grid(True, alpha=0.3)\n",
    "    \n",
    "    plt.tight_layout()\n",
    "    plt.show()"
   ]
  },
  {
   "cell_type": "markdown",
   "metadata": {},
   "source": [
    "## 5. Cost Analysis by Branch/Carrier"
   ]
  },
  {
   "cell_type": "code",
   "execution_count": 34,
   "metadata": {},
   "outputs": [
    {
     "name": "stdout",
     "output_type": "stream",
     "text": [
      "Joining tour costs with orders...\n",
      "\n",
      "\u2713 Joined tour costs with orders\n",
      "  Orders with cost data: 7,838\n",
      "  Percentage: 5.8%\n"
     ]
    }
   ],
   "source": [
    "# Join tours with orders to get Auftraggeber\n",
    "print(\"Joining tour costs with orders...\")\n",
    "\n",
    "# Keep only necessary columns from tours\n",
    "tour_cost_cols = ['Nummer.Tour', 'vehicle_cost', 'km_cost_component', 'time_cost_component',\n",
    "                 'km_efficiency_ratio', 'billed_km_total', 'order_count']\n",
    "\n",
    "# Add actual km if available\n",
    "if cost_columns['actual_km']:\n",
    "    tour_cost_cols.append(cost_columns['actual_km'])\n",
    "\n",
    "available_tour_cols = [col for col in tour_cost_cols if col in df_tours.columns]\n",
    "df_tour_costs = df_tours[available_tour_cols].copy()\n",
    "\n",
    "# Join with orders\n",
    "df_orders_with_costs = df_orders.merge(df_tour_costs, on='Nummer.Tour', how='left')\n",
    "\n",
    "print(f\"\\n\u2713 Joined tour costs with orders\")\n",
    "print(f\"  Orders with cost data: {df_orders_with_costs['vehicle_cost'].notna().sum():,}\")\n",
    "print(f\"  Percentage: {df_orders_with_costs['vehicle_cost'].notna().sum() / len(df_orders_with_costs) * 100:.1f}%\")"
   ]
  },
  {
   "cell_type": "code",
   "execution_count": 35,
   "metadata": {},
   "outputs": [
    {
     "name": "stdout",
     "output_type": "stream",
     "text": [
      "Aggregating costs by Auftraggeber (order owner)...\n",
      "\n",
      "\u2713 Cost aggregation complete\n",
      "\n",
      "Top 10 branches by total vehicle cost:\n",
      "   Auftraggeber  total_vehicle_cost  total_km_cost  total_time_cost  \\\n",
      "6          3000         1377487.304     646391.779       731095.525   \n",
      "7          4000          641294.200     161185.388       480108.812   \n",
      "8          5000          580934.390       4703.413       576230.977   \n",
      "11         7000          254557.532      98196.721       156360.811   \n",
      "5          1900          116845.715      55937.403        60908.312   \n",
      "9          6000           69269.475          0.000        69269.475   \n",
      "10         6040           39916.379        591.660        39324.719   \n",
      "3          1500            4861.016        397.122         4463.894   \n",
      "1          1100              15.161          0.000           15.161   \n",
      "4          1600               1.771          0.000            1.771   \n",
      "\n",
      "    order_count  total_distance_km  cost_per_order  cost_per_km  \n",
      "6         35980          2524066.0       38.284806     0.545741  \n",
      "7         27919          1274581.0       22.969813     0.503141  \n",
      "8         28893          2284176.0       20.106406     0.254330  \n",
      "11        16703          1038111.0       15.240228     0.245212  \n",
      "5          5373           221673.0       21.746830     0.527108  \n",
      "9          6186           402215.0       11.197781     0.172220  \n",
      "10         1612            89940.0       24.762022     0.443811  \n",
      "3           425            23334.0       11.437685     0.208323  \n",
      "1          9161           167109.0        0.001655     0.000091  \n",
      "4          2444           119729.0        0.000725     0.000015  \n",
      "Saved 12 rows to: ../data/processed/costs_by_auftraggeber.csv\n"
     ]
    }
   ],
   "source": [
    "# Aggregate costs by Betriebszentrale (dispatch center)\n",
    "if 'betriebszentrale_name' in df_orders_with_costs.columns:\n",
    "    print(\"Aggregating costs by Betriebszentrale (dispatch center)...\")\n",
    "    \n",
    "    costs_by_branch = df_orders_with_costs.groupby('betriebszentrale_name').agg({\n",
    "        'vehicle_cost': 'sum',\n",
    "        'km_cost_component': 'sum',\n",
    "        'time_cost_component': 'sum',\n",
    "        'Nummer.Auftrag': 'count',\n",
    "        'Distanz_BE.Auftrag': 'sum'\n",
    "    }).reset_index()\n",
    "    \n",
    "    costs_by_branch.columns = ['Betriebszentrale', 'total_vehicle_cost', 'total_km_cost', \n",
    "                                'total_time_cost', 'order_count', 'total_distance_km']\n",
    "    \n",
    "    # Calculate cost per order\n",
    "    costs_by_branch['cost_per_order'] = (\n",
    "        costs_by_branch['total_vehicle_cost'] / costs_by_branch['order_count']\n",
    "    )\n",
    "    \n",
    "    # Calculate cost per km\n",
    "    costs_by_branch['cost_per_km'] = (\n",
    "        costs_by_branch['total_vehicle_cost'] / costs_by_branch['total_distance_km']\n",
    "    )\n",
    "    \n",
    "    # Sort by total cost\n",
    "    costs_by_branch = costs_by_branch.sort_values('total_vehicle_cost', ascending=False)\n",
    "    \n",
    "    print(f\"\\n\u2713 Cost aggregation complete\")\n",
    "    print(f\"\\nTop 10 branches by total vehicle cost:\")\n",
    "    print(costs_by_branch.head(10))\n",
    "    \n",
    "    # Save aggregated costs\n",
    "    save_processed_data(costs_by_branch, 'costs_by_auftraggeber.csv', config)\n",
    "    \n",
    "else:\n",
    "    print(\"\\n\u26a0\ufe0f  betriebszentrale_name column not found (run Notebook 03 with Betriebszentralen mapping)\")\n"
   ]
  },
  {
   "cell_type": "markdown",
   "metadata": {},
   "source": [
    "## 6. Cost Visualizations"
   ]
  },
  {
   "cell_type": "code",
   "execution_count": 36,
   "metadata": {},
   "outputs": [
    {
     "data": {
      "application/vnd.plotly.v1+json": {
       "config": {
        "plotlyServerURL": "https://plot.ly"
       },
       "data": [
        {
         "marker": {
          "color": "steelblue"
         },
         "name": "Total Cost",
         "type": "bar",
         "x": [
          "3000",
          "4000",
          "5000",
          "7000",
          "1900",
          "6000",
          "6040",
          "1500",
          "1100",
          "1600"
         ],
         "xaxis": "x",
         "y": {
          "bdata": "qvHSTc8ENUFnZmZmHJIjQXsUrseMuiFBTDeJQewSD0EK16Nw24b8QJmZmZlX6fBAppvEIIx940C8dJMYBP2yQN9PjZduUi5AvHSTGARW/D8=",
          "dtype": "f8"
         },
         "yaxis": "y"
        },
        {
         "marker": {
          "color": "lightcoral"
         },
         "name": "KM Cost",
         "type": "bar",
         "x": [
          "3000",
          "4000",
          "5000",
          "7000",
          "1900",
          "6000",
          "6040",
          "1500",
          "1100",
          "1600"
         ],
         "xaxis": "x2",
         "y": {
          "bdata": "iBbZju+5I0F3vp8aC60DQUA1XrppX7JAx0s3iUv590CKQWDlLFDrQAAAAAAAAAAA4XoUrkd9gkDLoUW289F4QAAAAAAAAAAAAAAAAAAAAAA=",
          "dtype": "f8"
         },
         "yaxis": "y2"
        },
        {
         "marker": {
          "color": "lightgreen"
         },
         "name": "Time Cost",
         "type": "bar",
         "x": [
          "3000",
          "4000",
          "5000",
          "7000",
          "1900",
          "6000",
          "6040",
          "1500",
          "1100",
          "1600"
         ],
         "xaxis": "x2",
         "y": {
          "bdata": "zczMDK9PJkGS7Xw/s00dQRBYOfTNlSFBaZHtfEYWA0GMbOf7ib3tQJmZmZlX6fBAukkMApcz40CgGi/d5G+xQN9PjZduUi5AvHSTGARW/D8=",
          "dtype": "f8"
         },
         "yaxis": "y2"
        },
        {
         "marker": {
          "color": "mediumpurple",
          "size": 10
         },
         "mode": "markers",
         "name": "Cost/Order",
         "type": "scatter",
         "x": {
          "bdata": "jIwAAA9tAADdcAAAP0EAAP0UAAAqGAAATAYAAKkBAADJIwAAjAkAAA==",
          "dtype": "i4"
         },
         "xaxis": "x3",
         "y": {
          "bdata": "/QswgnQkQ0BaF6+kRfg2QN9zSG09GzRAdTaOMf96LkCNUyM4ML81QF5jhZZDZSZAY5Dc2hPDOEC7crM1GOAmQH/onGNdHVs/2Ecq1qa+Rz8=",
          "dtype": "f8"
         },
         "yaxis": "y3"
        },
        {
         "marker": {
          "color": "coral",
          "size": 10
         },
         "mode": "markers",
         "name": "Cost/KM",
         "type": "scatter",
         "x": {
          "bdata": "AAAAANFBQ0EAAAAA1XIzQQAAAABIbUFBAAAAAD6uL0EAAAAASA8LQQAAAACcjBhBAAAAAED19UAAAAAAgMnWQAAAAAAoZgRBAAAAABA7/UA=",
          "dtype": "f8"
         },
         "xaxis": "x4",
         "y": {
          "bdata": "ML5RqbZ24T9GkhSNuxngP1En0CrxRtA/7UTnbB1jzz+ibeeSEt7gP61P+DpOC8Y/A9x7E2dn3D92vBaLVqrKP3KChlR3yBc/4QDt/UAF7z4=",
          "dtype": "f8"
         },
         "yaxis": "y4"
        }
       ],
       "layout": {
        "annotations": [
         {
          "font": {
           "size": 16
          },
          "showarrow": false,
          "text": "Top 10 Branches by Total Cost",
          "x": 0.225,
          "xanchor": "center",
          "xref": "paper",
          "y": 1,
          "yanchor": "bottom",
          "yref": "paper"
         },
         {
          "font": {
           "size": 16
          },
          "showarrow": false,
          "text": "Cost Breakdown (KM vs Time)",
          "x": 0.775,
          "xanchor": "center",
          "xref": "paper",
          "y": 1,
          "yanchor": "bottom",
          "yref": "paper"
         },
         {
          "font": {
           "size": 16
          },
          "showarrow": false,
          "text": "Cost per Order by Branch",
          "x": 0.225,
          "xanchor": "center",
          "xref": "paper",
          "y": 0.375,
          "yanchor": "bottom",
          "yref": "paper"
         },
         {
          "font": {
           "size": 16
          },
          "showarrow": false,
          "text": "Cost per KM by Branch",
          "x": 0.775,
          "xanchor": "center",
          "xref": "paper",
          "y": 0.375,
          "yanchor": "bottom",
          "yref": "paper"
         }
        ],
        "barmode": "stack",
        "height": 800,
        "showlegend": true,
        "template": {
         "data": {
          "bar": [
           {
            "error_x": {
             "color": "#2a3f5f"
            },
            "error_y": {
             "color": "#2a3f5f"
            },
            "marker": {
             "line": {
              "color": "#E5ECF6",
              "width": 0.5
             },
             "pattern": {
              "fillmode": "overlay",
              "size": 10,
              "solidity": 0.2
             }
            },
            "type": "bar"
           }
          ],
          "barpolar": [
           {
            "marker": {
             "line": {
              "color": "#E5ECF6",
              "width": 0.5
             },
             "pattern": {
              "fillmode": "overlay",
              "size": 10,
              "solidity": 0.2
             }
            },
            "type": "barpolar"
           }
          ],
          "carpet": [
           {
            "aaxis": {
             "endlinecolor": "#2a3f5f",
             "gridcolor": "white",
             "linecolor": "white",
             "minorgridcolor": "white",
             "startlinecolor": "#2a3f5f"
            },
            "baxis": {
             "endlinecolor": "#2a3f5f",
             "gridcolor": "white",
             "linecolor": "white",
             "minorgridcolor": "white",
             "startlinecolor": "#2a3f5f"
            },
            "type": "carpet"
           }
          ],
          "choropleth": [
           {
            "colorbar": {
             "outlinewidth": 0,
             "ticks": ""
            },
            "type": "choropleth"
           }
          ],
          "contour": [
           {
            "colorbar": {
             "outlinewidth": 0,
             "ticks": ""
            },
            "colorscale": [
             [
              0,
              "#0d0887"
             ],
             [
              0.1111111111111111,
              "#46039f"
             ],
             [
              0.2222222222222222,
              "#7201a8"
             ],
             [
              0.3333333333333333,
              "#9c179e"
             ],
             [
              0.4444444444444444,
              "#bd3786"
             ],
             [
              0.5555555555555556,
              "#d8576b"
             ],
             [
              0.6666666666666666,
              "#ed7953"
             ],
             [
              0.7777777777777778,
              "#fb9f3a"
             ],
             [
              0.8888888888888888,
              "#fdca26"
             ],
             [
              1,
              "#f0f921"
             ]
            ],
            "type": "contour"
           }
          ],
          "contourcarpet": [
           {
            "colorbar": {
             "outlinewidth": 0,
             "ticks": ""
            },
            "type": "contourcarpet"
           }
          ],
          "heatmap": [
           {
            "colorbar": {
             "outlinewidth": 0,
             "ticks": ""
            },
            "colorscale": [
             [
              0,
              "#0d0887"
             ],
             [
              0.1111111111111111,
              "#46039f"
             ],
             [
              0.2222222222222222,
              "#7201a8"
             ],
             [
              0.3333333333333333,
              "#9c179e"
             ],
             [
              0.4444444444444444,
              "#bd3786"
             ],
             [
              0.5555555555555556,
              "#d8576b"
             ],
             [
              0.6666666666666666,
              "#ed7953"
             ],
             [
              0.7777777777777778,
              "#fb9f3a"
             ],
             [
              0.8888888888888888,
              "#fdca26"
             ],
             [
              1,
              "#f0f921"
             ]
            ],
            "type": "heatmap"
           }
          ],
          "histogram": [
           {
            "marker": {
             "pattern": {
              "fillmode": "overlay",
              "size": 10,
              "solidity": 0.2
             }
            },
            "type": "histogram"
           }
          ],
          "histogram2d": [
           {
            "colorbar": {
             "outlinewidth": 0,
             "ticks": ""
            },
            "colorscale": [
             [
              0,
              "#0d0887"
             ],
             [
              0.1111111111111111,
              "#46039f"
             ],
             [
              0.2222222222222222,
              "#7201a8"
             ],
             [
              0.3333333333333333,
              "#9c179e"
             ],
             [
              0.4444444444444444,
              "#bd3786"
             ],
             [
              0.5555555555555556,
              "#d8576b"
             ],
             [
              0.6666666666666666,
              "#ed7953"
             ],
             [
              0.7777777777777778,
              "#fb9f3a"
             ],
             [
              0.8888888888888888,
              "#fdca26"
             ],
             [
              1,
              "#f0f921"
             ]
            ],
            "type": "histogram2d"
           }
          ],
          "histogram2dcontour": [
           {
            "colorbar": {
             "outlinewidth": 0,
             "ticks": ""
            },
            "colorscale": [
             [
              0,
              "#0d0887"
             ],
             [
              0.1111111111111111,
              "#46039f"
             ],
             [
              0.2222222222222222,
              "#7201a8"
             ],
             [
              0.3333333333333333,
              "#9c179e"
             ],
             [
              0.4444444444444444,
              "#bd3786"
             ],
             [
              0.5555555555555556,
              "#d8576b"
             ],
             [
              0.6666666666666666,
              "#ed7953"
             ],
             [
              0.7777777777777778,
              "#fb9f3a"
             ],
             [
              0.8888888888888888,
              "#fdca26"
             ],
             [
              1,
              "#f0f921"
             ]
            ],
            "type": "histogram2dcontour"
           }
          ],
          "mesh3d": [
           {
            "colorbar": {
             "outlinewidth": 0,
             "ticks": ""
            },
            "type": "mesh3d"
           }
          ],
          "parcoords": [
           {
            "line": {
             "colorbar": {
              "outlinewidth": 0,
              "ticks": ""
             }
            },
            "type": "parcoords"
           }
          ],
          "pie": [
           {
            "automargin": true,
            "type": "pie"
           }
          ],
          "scatter": [
           {
            "fillpattern": {
             "fillmode": "overlay",
             "size": 10,
             "solidity": 0.2
            },
            "type": "scatter"
           }
          ],
          "scatter3d": [
           {
            "line": {
             "colorbar": {
              "outlinewidth": 0,
              "ticks": ""
             }
            },
            "marker": {
             "colorbar": {
              "outlinewidth": 0,
              "ticks": ""
             }
            },
            "type": "scatter3d"
           }
          ],
          "scattercarpet": [
           {
            "marker": {
             "colorbar": {
              "outlinewidth": 0,
              "ticks": ""
             }
            },
            "type": "scattercarpet"
           }
          ],
          "scattergeo": [
           {
            "marker": {
             "colorbar": {
              "outlinewidth": 0,
              "ticks": ""
             }
            },
            "type": "scattergeo"
           }
          ],
          "scattergl": [
           {
            "marker": {
             "colorbar": {
              "outlinewidth": 0,
              "ticks": ""
             }
            },
            "type": "scattergl"
           }
          ],
          "scattermap": [
           {
            "marker": {
             "colorbar": {
              "outlinewidth": 0,
              "ticks": ""
             }
            },
            "type": "scattermap"
           }
          ],
          "scattermapbox": [
           {
            "marker": {
             "colorbar": {
              "outlinewidth": 0,
              "ticks": ""
             }
            },
            "type": "scattermapbox"
           }
          ],
          "scatterpolar": [
           {
            "marker": {
             "colorbar": {
              "outlinewidth": 0,
              "ticks": ""
             }
            },
            "type": "scatterpolar"
           }
          ],
          "scatterpolargl": [
           {
            "marker": {
             "colorbar": {
              "outlinewidth": 0,
              "ticks": ""
             }
            },
            "type": "scatterpolargl"
           }
          ],
          "scatterternary": [
           {
            "marker": {
             "colorbar": {
              "outlinewidth": 0,
              "ticks": ""
             }
            },
            "type": "scatterternary"
           }
          ],
          "surface": [
           {
            "colorbar": {
             "outlinewidth": 0,
             "ticks": ""
            },
            "colorscale": [
             [
              0,
              "#0d0887"
             ],
             [
              0.1111111111111111,
              "#46039f"
             ],
             [
              0.2222222222222222,
              "#7201a8"
             ],
             [
              0.3333333333333333,
              "#9c179e"
             ],
             [
              0.4444444444444444,
              "#bd3786"
             ],
             [
              0.5555555555555556,
              "#d8576b"
             ],
             [
              0.6666666666666666,
              "#ed7953"
             ],
             [
              0.7777777777777778,
              "#fb9f3a"
             ],
             [
              0.8888888888888888,
              "#fdca26"
             ],
             [
              1,
              "#f0f921"
             ]
            ],
            "type": "surface"
           }
          ],
          "table": [
           {
            "cells": {
             "fill": {
              "color": "#EBF0F8"
             },
             "line": {
              "color": "white"
             }
            },
            "header": {
             "fill": {
              "color": "#C8D4E3"
             },
             "line": {
              "color": "white"
             }
            },
            "type": "table"
           }
          ]
         },
         "layout": {
          "annotationdefaults": {
           "arrowcolor": "#2a3f5f",
           "arrowhead": 0,
           "arrowwidth": 1
          },
          "autotypenumbers": "strict",
          "coloraxis": {
           "colorbar": {
            "outlinewidth": 0,
            "ticks": ""
           }
          },
          "colorscale": {
           "diverging": [
            [
             0,
             "#8e0152"
            ],
            [
             0.1,
             "#c51b7d"
            ],
            [
             0.2,
             "#de77ae"
            ],
            [
             0.3,
             "#f1b6da"
            ],
            [
             0.4,
             "#fde0ef"
            ],
            [
             0.5,
             "#f7f7f7"
            ],
            [
             0.6,
             "#e6f5d0"
            ],
            [
             0.7,
             "#b8e186"
            ],
            [
             0.8,
             "#7fbc41"
            ],
            [
             0.9,
             "#4d9221"
            ],
            [
             1,
             "#276419"
            ]
           ],
           "sequential": [
            [
             0,
             "#0d0887"
            ],
            [
             0.1111111111111111,
             "#46039f"
            ],
            [
             0.2222222222222222,
             "#7201a8"
            ],
            [
             0.3333333333333333,
             "#9c179e"
            ],
            [
             0.4444444444444444,
             "#bd3786"
            ],
            [
             0.5555555555555556,
             "#d8576b"
            ],
            [
             0.6666666666666666,
             "#ed7953"
            ],
            [
             0.7777777777777778,
             "#fb9f3a"
            ],
            [
             0.8888888888888888,
             "#fdca26"
            ],
            [
             1,
             "#f0f921"
            ]
           ],
           "sequentialminus": [
            [
             0,
             "#0d0887"
            ],
            [
             0.1111111111111111,
             "#46039f"
            ],
            [
             0.2222222222222222,
             "#7201a8"
            ],
            [
             0.3333333333333333,
             "#9c179e"
            ],
            [
             0.4444444444444444,
             "#bd3786"
            ],
            [
             0.5555555555555556,
             "#d8576b"
            ],
            [
             0.6666666666666666,
             "#ed7953"
            ],
            [
             0.7777777777777778,
             "#fb9f3a"
            ],
            [
             0.8888888888888888,
             "#fdca26"
            ],
            [
             1,
             "#f0f921"
            ]
           ]
          },
          "colorway": [
           "#636efa",
           "#EF553B",
           "#00cc96",
           "#ab63fa",
           "#FFA15A",
           "#19d3f3",
           "#FF6692",
           "#B6E880",
           "#FF97FF",
           "#FECB52"
          ],
          "font": {
           "color": "#2a3f5f"
          },
          "geo": {
           "bgcolor": "white",
           "lakecolor": "white",
           "landcolor": "#E5ECF6",
           "showlakes": true,
           "showland": true,
           "subunitcolor": "white"
          },
          "hoverlabel": {
           "align": "left"
          },
          "hovermode": "closest",
          "mapbox": {
           "style": "light"
          },
          "paper_bgcolor": "white",
          "plot_bgcolor": "#E5ECF6",
          "polar": {
           "angularaxis": {
            "gridcolor": "white",
            "linecolor": "white",
            "ticks": ""
           },
           "bgcolor": "#E5ECF6",
           "radialaxis": {
            "gridcolor": "white",
            "linecolor": "white",
            "ticks": ""
           }
          },
          "scene": {
           "xaxis": {
            "backgroundcolor": "#E5ECF6",
            "gridcolor": "white",
            "gridwidth": 2,
            "linecolor": "white",
            "showbackground": true,
            "ticks": "",
            "zerolinecolor": "white"
           },
           "yaxis": {
            "backgroundcolor": "#E5ECF6",
            "gridcolor": "white",
            "gridwidth": 2,
            "linecolor": "white",
            "showbackground": true,
            "ticks": "",
            "zerolinecolor": "white"
           },
           "zaxis": {
            "backgroundcolor": "#E5ECF6",
            "gridcolor": "white",
            "gridwidth": 2,
            "linecolor": "white",
            "showbackground": true,
            "ticks": "",
            "zerolinecolor": "white"
           }
          },
          "shapedefaults": {
           "line": {
            "color": "#2a3f5f"
           }
          },
          "ternary": {
           "aaxis": {
            "gridcolor": "white",
            "linecolor": "white",
            "ticks": ""
           },
           "baxis": {
            "gridcolor": "white",
            "linecolor": "white",
            "ticks": ""
           },
           "bgcolor": "#E5ECF6",
           "caxis": {
            "gridcolor": "white",
            "linecolor": "white",
            "ticks": ""
           }
          },
          "title": {
           "x": 0.05
          },
          "xaxis": {
           "automargin": true,
           "gridcolor": "white",
           "linecolor": "white",
           "ticks": "",
           "title": {
            "standoff": 15
           },
           "zerolinecolor": "white",
           "zerolinewidth": 2
          },
          "yaxis": {
           "automargin": true,
           "gridcolor": "white",
           "linecolor": "white",
           "ticks": "",
           "title": {
            "standoff": 15
           },
           "zerolinecolor": "white",
           "zerolinewidth": 2
          }
         }
        },
        "title": {
         "text": "Tour Cost Analysis Dashboard"
        },
        "xaxis": {
         "anchor": "y",
         "domain": [
          0,
          0.45
         ],
         "tickangle": 45,
         "title": {
          "text": "Branch"
         }
        },
        "xaxis2": {
         "anchor": "y2",
         "domain": [
          0.55,
          1
         ],
         "tickangle": 45,
         "title": {
          "text": "Branch"
         }
        },
        "xaxis3": {
         "anchor": "y3",
         "domain": [
          0,
          0.45
         ],
         "title": {
          "text": "Order Count"
         }
        },
        "xaxis4": {
         "anchor": "y4",
         "domain": [
          0.55,
          1
         ],
         "title": {
          "text": "Total Distance (km)"
         }
        },
        "yaxis": {
         "anchor": "x",
         "domain": [
          0.625,
          1
         ],
         "title": {
          "text": "Cost (CHF)"
         }
        },
        "yaxis2": {
         "anchor": "x2",
         "domain": [
          0.625,
          1
         ],
         "title": {
          "text": "Cost (CHF)"
         }
        },
        "yaxis3": {
         "anchor": "x3",
         "domain": [
          0,
          0.375
         ],
         "title": {
          "text": "Cost per Order (CHF)"
         }
        },
        "yaxis4": {
         "anchor": "x4",
         "domain": [
          0,
          0.375
         ],
         "title": {
          "text": "Cost per KM (CHF)"
         }
        }
       }
      },
      "image/png": "[encoded data removed]"
     },
     "metadata": {},
     "output_type": "display_data"
    },
    {
     "name": "stdout",
     "output_type": "stream",
     "text": [
      "\n",
      "\u2713 Dashboard saved to: results/tour_cost_dashboard.html\n"
     ]
    }
   ],
   "source": [
    "# Create comprehensive cost dashboard\n",
    "if 'costs_by_branch' in locals():\n",
    "    fig = make_subplots(\n",
    "        rows=2, cols=2,\n",
    "        subplot_titles=(\n",
    "            'Top 10 Branches by Total Cost',\n",
    "            'Cost Breakdown (KM vs Time)',\n",
    "            'Cost per Order by Branch',\n",
    "            'Cost per KM by Branch'\n",
    "        ),\n",
    "        specs=[[{'type': 'bar'}, {'type': 'bar'}],\n",
    "               [{'type': 'scatter'}, {'type': 'scatter'}]]\n",
    "    )\n",
    "    \n",
    "    top10 = costs_by_branch.head(10)\n",
    "    \n",
    "    # 1. Total cost by branch\n",
    "    fig.add_trace(\n",
    "        go.Bar(x=top10['Betriebszentrale'], y=top10['total_vehicle_cost'],\n",
    "               marker_color='steelblue', name='Total Cost'),\n",
    "        row=1, col=1\n",
    "    )\n",
    "    \n",
    "    # 2. Cost breakdown\n",
    "    fig.add_trace(\n",
    "        go.Bar(x=top10['Betriebszentrale'], y=top10['total_km_cost'],\n",
    "               marker_color='lightcoral', name='KM Cost'),\n",
    "        row=1, col=2\n",
    "    )\n",
    "    fig.add_trace(\n",
    "        go.Bar(x=top10['Betriebszentrale'], y=top10['total_time_cost'],\n",
    "               marker_color='lightgreen', name='Time Cost'),\n",
    "        row=1, col=2\n",
    "    )\n",
    "    \n",
    "    # 3. Cost per order\n",
    "    fig.add_trace(\n",
    "        go.Scatter(x=top10['order_count'], y=top10['cost_per_order'],\n",
    "                  mode='markers', marker=dict(size=10, color='mediumpurple'),\n",
    "                  name='Cost/Order'),\n",
    "        row=2, col=1\n",
    "    )\n",
    "    \n",
    "    # 4. Cost per km\n",
    "    fig.add_trace(\n",
    "        go.Scatter(x=top10['total_distance_km'], y=top10['cost_per_km'],\n",
    "                  mode='markers', marker=dict(size=10, color='coral'),\n",
    "                  name='Cost/KM'),\n",
    "        row=2, col=2\n",
    "    )\n",
    "    \n",
    "    # Update layout\n",
    "    fig.update_xaxes(title_text=\"Branch\", row=1, col=1, tickangle=45)\n",
    "    fig.update_xaxes(title_text=\"Branch\", row=1, col=2, tickangle=45)\n",
    "    fig.update_xaxes(title_text=\"Order Count\", row=2, col=1)\n",
    "    fig.update_xaxes(title_text=\"Total Distance (km)\", row=2, col=2)\n",
    "    \n",
    "    fig.update_yaxes(title_text=\"Cost (CHF)\", row=1, col=1)\n",
    "    fig.update_yaxes(title_text=\"Cost (CHF)\", row=1, col=2)\n",
    "    fig.update_yaxes(title_text=\"Cost per Order (CHF)\", row=2, col=1)\n",
    "    fig.update_yaxes(title_text=\"Cost per KM (CHF)\", row=2, col=2)\n",
    "    \n",
    "    fig.update_layout(\n",
    "        height=800,\n",
    "        showlegend=True,\n",
    "        title_text=\"Tour Cost Analysis Dashboard\",\n",
    "        barmode='stack'\n",
    "    )\n",
    "    \n",
    "    fig.write_html('../results/tour_cost_dashboard.html')\n",
    "    fig.show()\n",
    "    \n",
    "    print(\"\\n\u2713 Dashboard saved to: results/tour_cost_dashboard.html\")\n"
   ]
  },
  {
   "cell_type": "markdown",
   "metadata": {},
   "source": [
    "## 7. Save Results"
   ]
  },
  {
   "cell_type": "code",
   "execution_count": 37,
   "metadata": {},
   "outputs": [
    {
     "name": "stdout",
     "output_type": "stream",
     "text": [
      "Saving processed data...\n",
      "Saved 14,241 rows to: ../data/processed/tour_costs.csv\n",
      "Saved 135,646 rows to: ../data/processed/orders_with_tour_costs.csv\n",
      "\n",
      "\u2713 All data saved successfully!\n"
     ]
    }
   ],
   "source": [
    "# Save tour costs\n",
    "print(\"Saving processed data...\")\n",
    "\n",
    "# 1. Tour-level costs\n",
    "save_processed_data(df_tours, 'tour_costs.csv', config)\n",
    "\n",
    "# 2. Orders with tour costs\n",
    "save_processed_data(df_orders_with_costs, 'orders_with_tour_costs.csv', config)\n",
    "\n",
    "print(\"\\n\u2713 All data saved successfully!\")"
   ]
  },
  {
   "cell_type": "markdown",
   "metadata": {},
   "source": [
    "## 8. Summary Report"
   ]
  },
  {
   "cell_type": "code",
   "execution_count": 38,
   "metadata": {},
   "outputs": [
    {
     "name": "stdout",
     "output_type": "stream",
     "text": [
      "================================================================================\n",
      "TOUR COST ANALYSIS SUMMARY\n",
      "================================================================================\n",
      "\n",
      "\ud83d\udcb0 VEHICLE COSTS:\n",
      "   Total tours analyzed: 14,241\n",
      "   Tours with costs: 12,893\n",
      "   Total vehicle cost: CHF 3,031,672.42\n",
      "   Average cost per tour: CHF 235.14\n",
      "   Median cost per tour: CHF 217.11\n",
      "\n",
      "\ud83d\udccf KM EFFICIENCY:\n",
      "   Average efficiency ratio: 0.641\n",
      "   Efficient tours (<1.0): 633 (4.4%)\n",
      "   Inefficient tours (>1.2): 7 (0.0%)\n",
      "\n",
      "\ud83c\udfe2 COST BY BRANCH:\n",
      "   Branches analyzed: 12\n",
      "   Highest cost branch: 3000\n",
      "     Total cost: CHF 1,377,487.30\n",
      "     Orders: 35,980\n",
      "\n",
      "\ud83d\udcc1 OUTPUTS:\n",
      "   \u2022 data/processed/tour_costs.csv\n",
      "   \u2022 data/processed/orders_with_tour_costs.csv\n",
      "   \u2022 data/processed/costs_by_auftraggeber.csv\n",
      "   \u2022 results/tour_cost_dashboard.html\n",
      "\n",
      "\u27a1\ufe0f  NEXT STEPS:\n",
      "   \u2022 Integrate cost data into aggregated analysis\n",
      "   \u2022 Create cost forecasting models\n",
      "   \u2022 Identify cost optimization opportunities\n",
      "\n",
      "================================================================================\n"
     ]
    }
   ],
   "source": [
    "print(\"=\" * 80)\n",
    "print(\"TOUR COST ANALYSIS SUMMARY\")\n",
    "print(\"=\" * 80)\n",
    "\n",
    "if 'vehicle_cost' in df_tours.columns:\n",
    "    print(f\"\\n\ud83d\udcb0 VEHICLE COSTS:\")\n",
    "    print(f\"   Total tours analyzed: {len(df_tours):,}\")\n",
    "    print(f\"   Tours with costs: {df_tours['vehicle_cost'].notna().sum():,}\")\n",
    "    print(f\"   Total vehicle cost: CHF {df_tours['vehicle_cost'].sum():,.2f}\")\n",
    "    print(f\"   Average cost per tour: CHF {df_tours['vehicle_cost'].mean():,.2f}\")\n",
    "    print(f\"   Median cost per tour: CHF {df_tours['vehicle_cost'].median():,.2f}\")\n",
    "\n",
    "if 'km_efficiency_ratio' in df_tours.columns:\n",
    "    print(f\"\\n\ud83d\udccf KM EFFICIENCY:\")\n",
    "    efficient = (df_tours['km_efficiency_ratio'] < 1.0).sum()\n",
    "    inefficient = (df_tours['km_efficiency_ratio'] > 1.2).sum()\n",
    "    print(f\"   Average efficiency ratio: {df_tours['km_efficiency_ratio'].mean():.3f}\")\n",
    "    print(f\"   Efficient tours (<1.0): {efficient:,} ({efficient/len(df_tours)*100:.1f}%)\")\n",
    "    print(f\"   Inefficient tours (>1.2): {inefficient:,} ({inefficient/len(df_tours)*100:.1f}%)\")\n",
    "\n",
    "if 'costs_by_branch' in locals():\n",
    "    print(f\"\\n\ud83c\udfe2 COST BY BRANCH:\")\n",
    "    print(f\"   Branches analyzed: {len(costs_by_branch)}\")\n",
    "    print(f\"   Highest cost branch: {costs_by_branch.iloc[0]['Betriebszentrale']}\")\n",
    "    print(f\"     Total cost: CHF {costs_by_branch.iloc[0]['total_vehicle_cost']:,.2f}\")\n",
    "    print(f\"     Orders: {costs_by_branch.iloc[0]['order_count']:,}\")\n",
    "\n",
    "print(f\"\\n\ud83d\udcc1 OUTPUTS:\")\n",
    "print(f\"   \u2022 data/processed/tour_costs.csv\")\n",
    "print(f\"   \u2022 data/processed/orders_with_tour_costs.csv\")\n",
    "print(f\"   \u2022 data/processed/costs_by_auftraggeber.csv\")\n",
    "print(f\"   \u2022 results/tour_cost_dashboard.html\")\n",
    "\n",
    "print(f\"\\n\u27a1\ufe0f  NEXT STEPS:\")\n",
    "print(f\"   \u2022 Integrate cost data into aggregated analysis\")\n",
    "print(f\"   \u2022 Create cost forecasting models\")\n",
    "print(f\"   \u2022 Identify cost optimization opportunities\")\n",
    "\n",
    "print(\"\\n\" + \"=\" * 80)"
   ]
  },
  {
   "cell_type": "code",
   "execution_count": 39,
   "metadata": {},
   "outputs": [],
   "source": [
    "!open ../results/tour_cost_dashboard.html"
   ]
  },
  {
   "cell_type": "code",
   "execution_count": null,
   "metadata": {},
   "outputs": [],
   "source": []
  }
 ],
 "metadata": {
  "kernelspec": {
   "display_name": "Python 3 (ipykernel)",
   "language": "python",
   "name": "python3"
  },
  "language_info": {
   "codemirror_mode": {
    "name": "ipython",
    "version": 3
   },
   "file_extension": ".py",
   "mimetype": "text/x-python",
   "name": "python",
   "nbconvert_exporter": "python",
   "pygments_lexer": "ipython3",
   "version": "3.11.6"
  }
 },
 "nbformat": 4,
 "nbformat_minor": 4
}