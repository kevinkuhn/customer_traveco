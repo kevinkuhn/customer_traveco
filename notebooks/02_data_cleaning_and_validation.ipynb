{
 "cells": [
  {
   "cell_type": "markdown",
   "metadata": {},
   "source": [
    "# Notebook 02: Data Cleaning and Validation\n",
    "\n",
    "**Traveco Transport Forecasting Project**\n",
    "\n",
    "## Objective\n",
    "Clean and validate the order analysis data based on insights from notebook 01:\n",
    "1. Handle missing values\n",
    "2. Convert data types (especially dates and numerics)\n",
    "3. Remove duplicates\n",
    "4. Validate business rules\n",
    "5. Create clean dataset for feature engineering\n",
    "\n",
    "## Outputs\n",
    "- `data/processed/clean_orders.csv` - Clean dataset ready for feature engineering\n",
    "- Data quality report\n",
    "\n",
    "---"
   ]
  },
  {
   "cell_type": "markdown",
   "metadata": {},
   "source": [
    "## 1. Setup and Imports"
   ]
  },
  {
   "cell_type": "code",
   "execution_count": 33,
   "metadata": {},
   "outputs": [
    {
     "name": "stdout",
     "output_type": "stream",
     "text": [
      "Setup complete!\n"
     ]
    }
   ],
   "source": [
    "# Standard libraries\n",
    "import pandas as pd\n",
    "import numpy as np\n",
    "import matplotlib.pyplot as plt\n",
    "import seaborn as sns\n",
    "from pathlib import Path\n",
    "import warnings\n",
    "\n",
    "# Custom utilities\n",
    "import sys\n",
    "sys.path.append('..')  # Add parent directory to path\n",
    "from utils.traveco_utils import (\n",
    "    ConfigLoader,\n",
    "    TravecomDataLoader,\n",
    "    TravecomDataCleaner,\n",
    "    save_processed_data\n",
    ")\n",
    "\n",
    "# Settings\n",
    "warnings.filterwarnings('ignore')\n",
    "pd.set_option('display.max_columns', 50)\n",
    "pd.set_option('display.max_rows', 100)\n",
    "\n",
    "# Visualization settings\n",
    "plt.style.use('seaborn-v0_8-whitegrid')\n",
    "sns.set_palette('husl')\n",
    "\n",
    "print(\"Setup complete!\")"
   ]
  },
  {
   "cell_type": "markdown",
   "metadata": {},
   "source": [
    "## 2. Load Data"
   ]
  },
  {
   "cell_type": "code",
   "execution_count": 34,
   "metadata": {},
   "outputs": [
    {
     "name": "stdout",
     "output_type": "stream",
     "text": [
      "Loading order analysis from: ../data/swisstransfer_f473fe80-56b4-4ff0-8cbb-1bb5e181450a/20251015 Juni 2025 QS Auftragsanalyse.xlsb\n",
      "Loaded 136,159 orders with 103 columns\n",
      "Loaded 136,159 orders with 103 columns\n"
     ]
    }
   ],
   "source": [
    "# Load configuration\n",
    "config = ConfigLoader('../config/config.yaml')\n",
    "\n",
    "# Load data\n",
    "loader = TravecomDataLoader(config)\n",
    "df_orders = loader.load_order_analysis()\n",
    "\n",
    "print(f\"Loaded {len(df_orders):,} orders with {len(df_orders.columns)} columns\")"
   ]
  },
  {
   "cell_type": "markdown",
   "metadata": {},
   "source": [
    "## 3. Apply Business Filtering Rules"
   ]
  },
  {
   "cell_type": "code",
   "execution_count": null,
   "metadata": {},
   "outputs": [],
   "source": "# Apply filtering (CORRECTED per Christian's feedback - Oct 2025)\n# Applies TWO filters in sequence:\n# 1. Lager (warehouse) orders: Lieferart 2.0 == 'Lager Auftrag'\n# 2. B&T pickup orders: System='B&T' AND Customer (RKdNr) is empty\ncleaner = TravecomDataCleaner(config)\ndf = cleaner.apply_filtering_rules(df_orders)\n\nprint(f\"\\nFiltered dataset: {len(df):,} rows\")\nprint(f\"Retention rate: {(len(df) / len(df_orders) * 100):.2f}%\")"
  },
  {
   "cell_type": "markdown",
   "metadata": {},
   "source": [
    "## 4. Handle Missing Values"
   ]
  },
  {
   "cell_type": "markdown",
   "metadata": {},
   "source": [
    "### 4.1 Analyze Missing Values"
   ]
  },
  {
   "cell_type": "code",
   "execution_count": 36,
   "metadata": {},
   "outputs": [
    {
     "name": "stdout",
     "output_type": "stream",
     "text": [
      "Columns with missing values: 27\n",
      "\n",
      "Top 20 columns by missing percentage:\n"
     ]
    },
    {
     "data": {
      "text/html": [
       "<div>\n",
       "<style scoped>\n",
       "    .dataframe tbody tr th:only-of-type {\n",
       "        vertical-align: middle;\n",
       "    }\n",
       "\n",
       "    .dataframe tbody tr th {\n",
       "        vertical-align: top;\n",
       "    }\n",
       "\n",
       "    .dataframe thead th {\n",
       "        text-align: right;\n",
       "    }\n",
       "</style>\n",
       "<table border=\"1\" class=\"dataframe\">\n",
       "  <thead>\n",
       "    <tr style=\"text-align: right;\">\n",
       "      <th></th>\n",
       "      <th>Missing_Count</th>\n",
       "      <th>Missing_Percent</th>\n",
       "    </tr>\n",
       "  </thead>\n",
       "  <tbody>\n",
       "    <tr>\n",
       "      <th>Kontraktauftrag Nummer</th>\n",
       "      <td>135047</td>\n",
       "      <td>99.56</td>\n",
       "    </tr>\n",
       "    <tr>\n",
       "      <th>Text2.Auftrag</th>\n",
       "      <td>126019</td>\n",
       "      <td>92.90</td>\n",
       "    </tr>\n",
       "    <tr>\n",
       "      <th>Text3.Auftrag</th>\n",
       "      <td>116483</td>\n",
       "      <td>85.87</td>\n",
       "    </tr>\n",
       "    <tr>\n",
       "      <th>Text1.Auftrag</th>\n",
       "      <td>114520</td>\n",
       "      <td>84.43</td>\n",
       "    </tr>\n",
       "    <tr>\n",
       "      <th>Name1.Artikel</th>\n",
       "      <td>92893</td>\n",
       "      <td>68.48</td>\n",
       "    </tr>\n",
       "    <tr>\n",
       "      <th>Nummer.Artikel</th>\n",
       "      <td>92893</td>\n",
       "      <td>68.48</td>\n",
       "    </tr>\n",
       "    <tr>\n",
       "      <th>Liefergebiet.Auftrag</th>\n",
       "      <td>73446</td>\n",
       "      <td>54.15</td>\n",
       "    </tr>\n",
       "    <tr>\n",
       "      <th>Vertreter.Auftrag</th>\n",
       "      <td>70701</td>\n",
       "      <td>52.12</td>\n",
       "    </tr>\n",
       "    <tr>\n",
       "      <th>Versender Name 2</th>\n",
       "      <td>40802</td>\n",
       "      <td>30.08</td>\n",
       "    </tr>\n",
       "    <tr>\n",
       "      <th>Empfänger Name2</th>\n",
       "      <td>39748</td>\n",
       "      <td>29.30</td>\n",
       "    </tr>\n",
       "    <tr>\n",
       "      <th>Beladestelle Name 2</th>\n",
       "      <td>35939</td>\n",
       "      <td>26.49</td>\n",
       "    </tr>\n",
       "    <tr>\n",
       "      <th>AuNr (Original)</th>\n",
       "      <td>32407</td>\n",
       "      <td>23.89</td>\n",
       "    </tr>\n",
       "    <tr>\n",
       "      <th>Entladestelle Name 2</th>\n",
       "      <td>30891</td>\n",
       "      <td>22.77</td>\n",
       "    </tr>\n",
       "    <tr>\n",
       "      <th>Belegnummer Rechnung</th>\n",
       "      <td>20767</td>\n",
       "      <td>15.31</td>\n",
       "    </tr>\n",
       "    <tr>\n",
       "      <th>Rechnung erstellt</th>\n",
       "      <td>20767</td>\n",
       "      <td>15.31</td>\n",
       "    </tr>\n",
       "    <tr>\n",
       "      <th>Beschränkungen</th>\n",
       "      <td>6044</td>\n",
       "      <td>4.46</td>\n",
       "    </tr>\n",
       "    <tr>\n",
       "      <th>Gutschrift erstellt</th>\n",
       "      <td>3544</td>\n",
       "      <td>2.61</td>\n",
       "    </tr>\n",
       "    <tr>\n",
       "      <th>Belegnummer Gutschrift</th>\n",
       "      <td>3544</td>\n",
       "      <td>2.61</td>\n",
       "    </tr>\n",
       "    <tr>\n",
       "      <th>Kennzeichen.Fahrzeug</th>\n",
       "      <td>3297</td>\n",
       "      <td>2.43</td>\n",
       "    </tr>\n",
       "    <tr>\n",
       "      <th>Herkunft.Auftrag</th>\n",
       "      <td>1498</td>\n",
       "      <td>1.10</td>\n",
       "    </tr>\n",
       "  </tbody>\n",
       "</table>\n",
       "</div>"
      ],
      "text/plain": [
       "                        Missing_Count  Missing_Percent\n",
       "Kontraktauftrag Nummer         135047            99.56\n",
       "Text2.Auftrag                  126019            92.90\n",
       "Text3.Auftrag                  116483            85.87\n",
       "Text1.Auftrag                  114520            84.43\n",
       "Name1.Artikel                   92893            68.48\n",
       "Nummer.Artikel                  92893            68.48\n",
       "Liefergebiet.Auftrag            73446            54.15\n",
       "Vertreter.Auftrag               70701            52.12\n",
       "Versender Name 2                40802            30.08\n",
       "Empfänger Name2                 39748            29.30\n",
       "Beladestelle Name 2             35939            26.49\n",
       "AuNr (Original)                 32407            23.89\n",
       "Entladestelle Name 2            30891            22.77\n",
       "Belegnummer Rechnung            20767            15.31\n",
       "Rechnung erstellt               20767            15.31\n",
       "Beschränkungen                   6044             4.46\n",
       "Gutschrift erstellt              3544             2.61\n",
       "Belegnummer Gutschrift           3544             2.61\n",
       "Kennzeichen.Fahrzeug             3297             2.43\n",
       "Herkunft.Auftrag                 1498             1.10"
      ]
     },
     "execution_count": 36,
     "metadata": {},
     "output_type": "execute_result"
    }
   ],
   "source": [
    "# Calculate missing values\n",
    "missing_counts = df.isnull().sum()\n",
    "missing_pct = (missing_counts / len(df) * 100).round(2)\n",
    "\n",
    "missing_summary = pd.DataFrame({\n",
    "    'Missing_Count': missing_counts,\n",
    "    'Missing_Percent': missing_pct\n",
    "}).sort_values('Missing_Count', ascending=False)\n",
    "\n",
    "# Show only columns with missing values\n",
    "missing_summary = missing_summary[missing_summary['Missing_Count'] > 0]\n",
    "\n",
    "print(f\"Columns with missing values: {len(missing_summary)}\")\n",
    "print(\"\\nTop 20 columns by missing percentage:\")\n",
    "missing_summary.head(20)"
   ]
  },
  {
   "cell_type": "markdown",
   "metadata": {},
   "source": [
    "### 4.2 Missing Value Strategy\n",
    "\n",
    "Strategy for handling missing values:\n",
    "1. **Critical columns** (dates, IDs): Drop rows if missing\n",
    "2. **Numeric columns** (revenue, costs): Keep as 0 or NaN for aggregation\n",
    "3. **Categorical columns**: Keep as \"Unknown\" category\n",
    "4. **Optional columns**: Keep as-is"
   ]
  },
  {
   "cell_type": "code",
   "execution_count": 37,
   "metadata": {},
   "outputs": [
    {
     "name": "stdout",
     "output_type": "stream",
     "text": [
      "Critical columns found: ['Nummer.Auftrag', 'Datum.Tour']\n",
      "✓ Nummer.Auftrag: No missing values\n",
      "✓ Datum.Tour: No missing values\n"
     ]
    }
   ],
   "source": [
    "# Define critical columns that should not have missing values\n",
    "critical_columns = [\n",
    "    'Nummer.Auftrag',  # Order number\n",
    "    'Datum.Tour',      # Tour date\n",
    "]\n",
    "\n",
    "# Check which critical columns exist\n",
    "existing_critical = [col for col in critical_columns if col in df.columns]\n",
    "\n",
    "print(f\"Critical columns found: {existing_critical}\")\n",
    "\n",
    "# Check missing values in critical columns\n",
    "for col in existing_critical:\n",
    "    missing = df[col].isnull().sum()\n",
    "    if missing > 0:\n",
    "        print(f\"\\n⚠️  {col}: {missing:,} missing values ({missing/len(df)*100:.2f}%)\")\n",
    "    else:\n",
    "        print(f\"✓ {col}: No missing values\")"
   ]
  },
  {
   "cell_type": "code",
   "execution_count": 38,
   "metadata": {},
   "outputs": [
    {
     "name": "stdout",
     "output_type": "stream",
     "text": [
      "\n",
      "Rows before dropping: 135,646\n",
      "\n",
      "Rows after dropping: 135,646\n"
     ]
    }
   ],
   "source": [
    "# Drop rows with missing critical values\n",
    "print(f\"\\nRows before dropping: {len(df):,}\")\n",
    "\n",
    "for col in existing_critical:\n",
    "    before = len(df)\n",
    "    df = df.dropna(subset=[col])\n",
    "    after = len(df)\n",
    "    if before != after:\n",
    "        print(f\"Dropped {before - after:,} rows due to missing {col}\")\n",
    "\n",
    "print(f\"\\nRows after dropping: {len(df):,}\")"
   ]
  },
  {
   "cell_type": "markdown",
   "metadata": {},
   "source": [
    "## 5. Data Type Conversions"
   ]
  },
  {
   "cell_type": "markdown",
   "metadata": {},
   "source": [
    "### 5.1 Convert Date Columns"
   ]
  },
  {
   "cell_type": "code",
   "execution_count": 39,
   "metadata": {},
   "outputs": [
    {
     "name": "stdout",
     "output_type": "stream",
     "text": [
      "Converting date columns...\n",
      "\n",
      "Datum.Tour:\n",
      "  Original type: int64\n",
      "  Sample raw values (Excel serial): [45809, 45809, 45809]\n",
      "  ✓ Converted to: datetime64[ns]\n",
      "  Range: 2025-06-01 00:00:00 to 2025-06-30 00:00:00\n",
      "  Span: 29 days\n"
     ]
    }
   ],
   "source": [
    "# Identify and convert date columns\n",
    "potential_date_columns = ['Datum.Tour', 'tour_start_date']\n",
    "date_columns_to_convert = [col for col in potential_date_columns if col in df.columns]\n",
    "\n",
    "print(\"Converting date columns...\")\n",
    "\n",
    "# Import feature engine for proper conversion\n",
    "from utils.traveco_utils import TravecomFeatureEngine\n",
    "feature_engine = TravecomFeatureEngine(config)\n",
    "\n",
    "for col in date_columns_to_convert:\n",
    "  print(f\"\\n{col}:\")\n",
    "\n",
    "  # Show original state\n",
    "  print(f\"  Original type: {df[col].dtype}\")\n",
    "  if pd.api.types.is_numeric_dtype(df[col]):\n",
    "      print(f\"  Sample raw values (Excel serial): {df[col].head(3).tolist()}\")\n",
    "\n",
    "  # Convert using proper Excel date converter\n",
    "  df[col] = feature_engine.convert_date_column(df[col])\n",
    "\n",
    "  print(f\"  ✓ Converted to: {df[col].dtype}\")\n",
    "  print(f\"  Range: {df[col].min()} to {df[col].max()}\")\n",
    "  print(f\"  Span: {(df[col].max() - df[col].min()).days} days\")"
   ]
  },
  {
   "cell_type": "markdown",
   "metadata": {},
   "source": [
    "### 5.2 Convert Numeric Columns"
   ]
  },
  {
   "cell_type": "code",
   "execution_count": 40,
   "metadata": {},
   "outputs": [
    {
     "name": "stdout",
     "output_type": "stream",
     "text": [
      "Converting numeric columns...\n",
      "✓ Distanz_BE.Auftrag: Converted to numeric\n",
      "  Range: 1.00 to 407.00\n",
      "  Mean: 62.93\n",
      "✓ Nummer.Spedition: Converted to numeric\n",
      "  Range: 1100.00 to 9851.00\n",
      "  Mean: 5106.37\n"
     ]
    }
   ],
   "source": [
    "# Identify numeric columns that should be numeric\n",
    "numeric_columns = [\n",
    "    'Distanz_BE.Auftrag',  # Distance\n",
    "    'Nummer.Spedition',    # Carrier number\n",
    "    # Add other numeric columns as identified\n",
    "]\n",
    "\n",
    "numeric_cols_to_convert = [col for col in numeric_columns if col in df.columns]\n",
    "\n",
    "print(\"Converting numeric columns...\")\n",
    "for col in numeric_cols_to_convert:\n",
    "    try:\n",
    "        df[col] = pd.to_numeric(df[col], errors='coerce')\n",
    "        print(f\"✓ {col}: Converted to numeric\")\n",
    "        print(f\"  Range: {df[col].min():.2f} to {df[col].max():.2f}\")\n",
    "        print(f\"  Mean: {df[col].mean():.2f}\")\n",
    "    except Exception as e:\n",
    "        print(f\"✗ {col}: Conversion failed - {e}\")"
   ]
  },
  {
   "cell_type": "markdown",
   "metadata": {},
   "source": [
    "## 6. Remove Duplicates"
   ]
  },
  {
   "cell_type": "code",
   "execution_count": 41,
   "metadata": {},
   "outputs": [
    {
     "name": "stdout",
     "output_type": "stream",
     "text": [
      "Total duplicate rows: 0\n",
      "No duplicate rows found!\n"
     ]
    }
   ],
   "source": [
    "# Check for duplicate rows\n",
    "duplicates = df.duplicated().sum()\n",
    "print(f\"Total duplicate rows: {duplicates:,}\")\n",
    "\n",
    "if duplicates > 0:\n",
    "    print(f\"\\nRemoving {duplicates:,} duplicate rows...\")\n",
    "    df = df.drop_duplicates()\n",
    "    print(f\"New row count: {len(df):,}\")\n",
    "else:\n",
    "    print(\"No duplicate rows found!\")"
   ]
  },
  {
   "cell_type": "markdown",
   "metadata": {},
   "source": [
    "## 7. Data Validation"
   ]
  },
  {
   "cell_type": "markdown",
   "metadata": {},
   "source": [
    "### 7.1 Validate Business Rules"
   ]
  },
  {
   "cell_type": "code",
   "execution_count": 42,
   "metadata": {},
   "outputs": [
    {
     "name": "stdout",
     "output_type": "stream",
     "text": [
      "Validating business rules...\n",
      "============================================================\n",
      "\n",
      "1. Carrier Numbers <= 0: 0\n",
      "\n",
      "2. Negative distances: 0\n",
      "\n",
      "3. Date Range (Datum.Tour):\n",
      "   Min: 2025-06-01 00:00:00\n",
      "   Max: 2025-06-30 00:00:00\n",
      "   Span: 29 days\n",
      "\n",
      "============================================================\n"
     ]
    }
   ],
   "source": [
    "print(\"Validating business rules...\")\n",
    "print(\"=\"*60)\n",
    "\n",
    "# Rule 1: Carrier numbers should be > 0\n",
    "if 'Nummer.Spedition' in df.columns:\n",
    "    invalid_carriers = (df['Nummer.Spedition'] <= 0).sum()\n",
    "    print(f\"\\n1. Carrier Numbers <= 0: {invalid_carriers:,}\")\n",
    "    \n",
    "    # Check carrier type distribution\n",
    "    if 'carrier_type' in df.columns:\n",
    "        print(f\"   Carrier type distribution:\")\n",
    "        print(df['carrier_type'].value_counts())\n",
    "\n",
    "# Rule 2: Distance should be >= 0\n",
    "if 'Distanz_BE.Auftrag' in df.columns:\n",
    "    negative_distance = (df['Distanz_BE.Auftrag'] < 0).sum()\n",
    "    print(f\"\\n2. Negative distances: {negative_distance:,}\")\n",
    "    if negative_distance > 0:\n",
    "        print(\"   ⚠️  Found negative distances - may need investigation\")\n",
    "\n",
    "# Rule 3: Check date ranges\n",
    "if date_columns_to_convert:\n",
    "    date_col = date_columns_to_convert[0]\n",
    "    print(f\"\\n3. Date Range ({date_col}):\")\n",
    "    print(f\"   Min: {df[date_col].min()}\")\n",
    "    print(f\"   Max: {df[date_col].max()}\")\n",
    "    print(f\"   Span: {(df[date_col].max() - df[date_col].min()).days} days\")\n",
    "\n",
    "print(\"\\n\" + \"=\"*60)"
   ]
  },
  {
   "cell_type": "markdown",
   "metadata": {},
   "source": [
    "### 7.2 Statistical Validation"
   ]
  },
  {
   "cell_type": "code",
   "execution_count": 43,
   "metadata": {},
   "outputs": [
    {
     "name": "stdout",
     "output_type": "stream",
     "text": [
      "Distance Statistics (Distanz_BE.Auftrag):\n",
      "count    129684.000000\n",
      "mean         62.928357\n",
      "std          47.687109\n",
      "min           1.000000\n",
      "25%          29.000000\n",
      "50%          51.000000\n",
      "75%          83.000000\n",
      "max         407.000000\n",
      "Name: Distanz_BE.Auftrag, dtype: float64\n"
     ]
    },
    {
     "data": {
      "image/png": "[encoded data removed]",
      "text/plain": [
       "<Figure size 1400x500 with 2 Axes>"
      ]
     },
     "metadata": {},
     "output_type": "display_data"
    },
    {
     "name": "stdout",
     "output_type": "stream",
     "text": [
      "\n",
      "Extreme outliers (>3 IQR): 569 (0.42%)\n"
     ]
    }
   ],
   "source": [
    "# Check for outliers in numeric columns\n",
    "if 'Distanz_BE.Auftrag' in df.columns:\n",
    "    print(\"Distance Statistics (Distanz_BE.Auftrag):\")\n",
    "    print(df['Distanz_BE.Auftrag'].describe())\n",
    "    \n",
    "    # Visualize distribution\n",
    "    fig, axes = plt.subplots(1, 2, figsize=(14, 5))\n",
    "    \n",
    "    # Histogram\n",
    "    df['Distanz_BE.Auftrag'].hist(bins=50, ax=axes[0], color='skyblue', edgecolor='black')\n",
    "    axes[0].set_xlabel('Distance (km)')\n",
    "    axes[0].set_ylabel('Frequency')\n",
    "    axes[0].set_title('Distance Distribution')\n",
    "    \n",
    "    # Box plot\n",
    "    df['Distanz_BE.Auftrag'].plot(kind='box', ax=axes[1], vert=True)\n",
    "    axes[1].set_ylabel('Distance (km)')\n",
    "    axes[1].set_title('Distance Box Plot (Outliers)')\n",
    "    \n",
    "    plt.tight_layout()\n",
    "    plt.show()\n",
    "    \n",
    "    # Identify extreme outliers\n",
    "    Q1 = df['Distanz_BE.Auftrag'].quantile(0.25)\n",
    "    Q3 = df['Distanz_BE.Auftrag'].quantile(0.75)\n",
    "    IQR = Q3 - Q1\n",
    "    outliers = ((df['Distanz_BE.Auftrag'] < (Q1 - 3*IQR)) | \n",
    "                (df['Distanz_BE.Auftrag'] > (Q3 + 3*IQR))).sum()\n",
    "    print(f\"\\nExtreme outliers (>3 IQR): {outliers:,} ({outliers/len(df)*100:.2f}%)\")"
   ]
  },
  {
   "cell_type": "markdown",
   "metadata": {},
   "source": [
    "## 8. Create Derived Columns"
   ]
  },
  {
   "cell_type": "code",
   "execution_count": 44,
   "metadata": {},
   "outputs": [
    {
     "name": "stdout",
     "output_type": "stream",
     "text": [
      "✓ Added carrier_type column\n",
      "✓ Added order_type column\n",
      "✓ Added year, month, and year_month columns\n"
     ]
    }
   ],
   "source": [
    "# Add carrier type classification (if not already done)\n",
    "if 'carrier_type' not in df.columns and 'Nummer.Spedition' in df.columns:\n",
    "    internal_max = config.get('filtering.internal_carrier_max', 8889)\n",
    "    external_min = config.get('filtering.external_carrier_min', 9000)\n",
    "    \n",
    "    df['carrier_type'] = df['Nummer.Spedition'].apply(\n",
    "        lambda x: 'internal' if pd.notna(x) and x <= internal_max\n",
    "                 else 'external' if pd.notna(x) and x >= external_min\n",
    "                 else 'unknown'\n",
    "    )\n",
    "    print(\"✓ Added carrier_type column\")\n",
    "\n",
    "# Map Tilde to readable order type\n",
    "if 'Tilde.Auftrag' in df.columns and 'order_type' not in df.columns:\n",
    "    df['order_type'] = df['Tilde.Auftrag'].map({\n",
    "        'Ja': 'Pickup',\n",
    "        'Nein': 'Delivery'\n",
    "    })\n",
    "    print(\"✓ Added order_type column\")\n",
    "\n",
    "# Extract year and month for easier aggregation\n",
    "if date_columns_to_convert:\n",
    "    date_col = date_columns_to_convert[0]\n",
    "    df['year'] = df[date_col].dt.year\n",
    "    df['month'] = df[date_col].dt.month\n",
    "    df['year_month'] = df[date_col].dt.to_period('M')\n",
    "    print(\"✓ Added year, month, and year_month columns\")"
   ]
  },
  {
   "cell_type": "markdown",
   "metadata": {},
   "source": [
    "## 9. Final Data Quality Check"
   ]
  },
  {
   "cell_type": "code",
   "execution_count": 45,
   "metadata": {},
   "outputs": [
    {
     "name": "stdout",
     "output_type": "stream",
     "text": [
      "Final Data Quality Check\n",
      "============================================================\n",
      "\n",
      "Data Validation Summary:\n",
      "  Total rows: 135,646\n",
      "  Total columns: 108\n",
      "  Duplicate rows: 0\n",
      "  Columns with missing values: 30\n",
      "\n",
      "Data types summary:\n",
      "  object: 90 columns\n",
      "  float64: 12 columns\n",
      "  int64: 2 columns\n",
      "  int32: 2 columns\n",
      "  datetime64[ns]: 1 columns\n",
      "  period[M]: 1 columns\n"
     ]
    }
   ],
   "source": [
    "# Run final validation\n",
    "print(\"Final Data Quality Check\")\n",
    "print(\"=\"*60)\n",
    "\n",
    "validation_results = cleaner.validate_data(df)\n",
    "\n",
    "print(f\"\\nData types summary:\")\n",
    "dtype_counts = df.dtypes.value_counts()\n",
    "for dtype, count in dtype_counts.items():\n",
    "    print(f\"  {dtype}: {count} columns\")"
   ]
  },
  {
   "cell_type": "markdown",
   "metadata": {},
   "source": [
    "## 10. Save Clean Dataset"
   ]
  },
  {
   "cell_type": "code",
   "execution_count": 46,
   "metadata": {},
   "outputs": [
    {
     "name": "stdout",
     "output_type": "stream",
     "text": [
      "Saving clean dataset...\n",
      "Saved 135,646 rows to: ../data/processed/clean_orders.csv\n",
      "\n",
      "✓ Clean dataset saved successfully!\n",
      "  Location: data/processed/clean_orders.csv\n",
      "  Rows: 135,646\n",
      "  Columns: 108\n"
     ]
    }
   ],
   "source": [
    "# Save to processed data folder\n",
    "output_filename = config.get('data.clean_orders', 'clean_orders.csv')\n",
    "\n",
    "print(f\"Saving clean dataset...\")\n",
    "save_processed_data(df, output_filename, config)\n",
    "\n",
    "print(f\"\\n✓ Clean dataset saved successfully!\")\n",
    "print(f\"  Location: data/processed/{output_filename}\")\n",
    "print(f\"  Rows: {len(df):,}\")\n",
    "print(f\"  Columns: {len(df.columns)}\")"
   ]
  },
  {
   "cell_type": "markdown",
   "metadata": {},
   "source": [
    "## 11. Generate Data Quality Report"
   ]
  },
  {
   "cell_type": "code",
   "execution_count": null,
   "metadata": {},
   "outputs": [],
   "source": "# Create detailed quality report (CORRECTED per Christian's feedback - Oct 2025)\nimport json\n\nquality_report = {\n    'metadata': {\n        'corrections_applied': 'Christian Haller feedback - October 2025',\n        'filtering_sequence': ['1. Lager orders (warehouse)', '2. B&T pickup orders']\n    },\n    'original_rows': int(len(df_orders)),\n    'after_filtering': int(len(df)),\n    'rows_removed': int(len(df_orders) - len(df)),\n    'retention_rate': f\"{(len(df) / len(df_orders) * 100):.2f}%\",\n    'total_columns': int(len(df.columns)),\n    'duplicate_rows_removed': int(duplicates),\n    'missing_values': {\n        'total_columns_with_missing': int(len(missing_summary)),\n        'top_5_missing': {str(k): float(v) for k, v in missing_summary.head(5)['Missing_Percent'].to_dict().items()} if not missing_summary.empty else {}\n    },\n    'data_types': {\n        str(dtype): int(count) for dtype, count in df.dtypes.value_counts().items()\n    },\n    'derived_columns_added': [\n        'carrier_type',\n        'order_type',\n        'year',\n        'month',\n        'year_month'\n    ]\n}\n\nif date_columns_to_convert:\n    date_col = date_columns_to_convert[0]\n    quality_report['date_range'] = {\n        'column': date_col,\n        'min': str(df[date_col].min()),\n        'max': str(df[date_col].max()),\n        'span_days': int((df[date_col].max() - df[date_col].min()).days)\n    }\n\n# Save report\nresults_path = Path('../results')\nresults_path.mkdir(exist_ok=True)\n\nwith open(results_path / 'data_quality_report.json', 'w') as f:\n    json.dump(quality_report, f, indent=2)\n\nprint(\"✓ Quality report saved to: results/data_quality_report.json\")"
  },
  {
   "cell_type": "markdown",
   "metadata": {},
   "source": [
    "## 12. Summary and Next Steps"
   ]
  },
  {
   "cell_type": "code",
   "execution_count": null,
   "metadata": {},
   "outputs": [],
   "source": "print(\"=\" * 80)\nprint(\"DATA CLEANING SUMMARY (CORRECTED - Christian's Feedback Oct 2025)\")\nprint(\"=\" * 80)\n\nprint(f\"\\n📊 DATASET TRANSFORMATION:\")\nprint(f\"   Original rows: {len(df_orders):,}\")\nprint(f\"   Clean rows: {len(df):,}\")\nprint(f\"   Rows removed: {len(df_orders) - len(df):,} ({((len(df_orders) - len(df))/len(df_orders)*100):.2f}%)\")\nprint(f\"   Retention rate: {(len(df) / len(df_orders) * 100):.2f}%\")\n\nprint(f\"\\n✂️  FILTERING RULES APPLIED (in sequence):\")\nprint(f\"   1. Lager (warehouse) orders: Lieferart 2.0 == 'Lager Auftrag'\")\nprint(f\"   2. B&T pickup orders: System='B&T' AND RKdNr is empty\")\nprint(f\"   → Both filters ensure accurate operational analysis\")\n\nprint(f\"\\n✨ IMPROVEMENTS MADE:\")\nprint(f\"   ✓ Applied corrected business filtering rules\")\nprint(f\"   ✓ Removed {duplicates:,} duplicate rows\")\nprint(f\"   ✓ Converted {len(date_columns_to_convert)} date columns\")\nprint(f\"   ✓ Converted {len(numeric_cols_to_convert)} numeric columns\")\nprint(f\"   ✓ Added 5 derived columns (carrier_type, order_type, year, month, year_month)\")\nprint(f\"   ✓ Validated business rules\")\n\nprint(f\"\\n💾 OUTPUT:\")\nprint(f\"   File: data/processed/{output_filename}\")\nprint(f\"   Size: {len(df):,} rows × {len(df.columns)} columns\")\n\nprint(f\"\\n➡️  NEXT STEPS:\")\nprint(f\"   Proceed to notebook 03: Feature Engineering (CORRECTED)\")\nprint(f\"   - Multi-field order type classification (K+AU+CW)\")\nprint(f\"   - Betriebszentralen mapping with BZ 10→9000 merge\")\nprint(f\"   - TRAVECO Intern Sparte category for internal orders\")\nprint(f\"   - Extract temporal features\")\nprint(f\"   - Calculate time decay weights\")\n\nprint(\"\\n\" + \"=\" * 80)"
  },
  {
   "cell_type": "markdown",
   "metadata": {},
   "source": [
    "---\n",
    "\n",
    "## Conclusion\n",
    "\n",
    "This notebook successfully cleaned and validated the Traveco order data:\n",
    "- Applied business filtering rules\n",
    "- Handled missing values appropriately\n",
    "- Converted data types for analysis\n",
    "- Removed duplicates\n",
    "- Added derived columns for easier analysis\n",
    "- Created a clean dataset ready for feature engineering\n",
    "\n",
    "**Next:** Proceed to `03_feature_engineering.ipynb` to extract features for forecasting models."
   ]
  },
  {
   "cell_type": "code",
   "execution_count": null,
   "metadata": {},
   "outputs": [],
   "source": []
  }
 ],
 "metadata": {
  "kernelspec": {
   "display_name": "Python 3 (ipykernel)",
   "language": "python",
   "name": "python3"
  },
  "language_info": {
   "codemirror_mode": {
    "name": "ipython",
    "version": 3
   },
   "file_extension": ".py",
   "mimetype": "text/x-python",
   "name": "python",
   "nbconvert_exporter": "python",
   "pygments_lexer": "ipython3",
   "version": "3.11.6"
  }
 },
 "nbformat": 4,
 "nbformat_minor": 4
}