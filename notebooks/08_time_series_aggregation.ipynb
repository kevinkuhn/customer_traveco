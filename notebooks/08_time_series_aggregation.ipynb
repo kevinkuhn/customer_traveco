{
 "cells": [
  {
   "cell_type": "markdown",
   "metadata": {},
   "source": [
    "# Time Series Aggregation (2022-2025)\n",
    "\n",
    "This notebook creates monthly aggregated time series data by combining:\n",
    "1. Historic data (2022-2024) from notebook 07\n",
    "2. June 2025 data from notebook 04\n",
    "\n",
    "## Objectives\n",
    "1. Load consolidated historic data (36 months)\n",
    "2. Load June 2025 processed data\n",
    "3. Create monthly aggregations by Betriebszentralen\n",
    "4. Merge into complete time series (42 months total)\n",
    "5. Prepare data for forecasting models\n",
    "\n",
    "## Output\n",
    "- **Time range**: January 2022 - June 2025 (42 months)\n",
    "- **Granularity**: Monthly aggregations by Betriebszentralen (14 dispatch centers)\n",
    "- **Metrics**: Orders, KM, carriers, costs, efficiency"
   ]
  },
  {
   "cell_type": "code",
   "execution_count": 1,
   "metadata": {
    "execution": {
     "iopub.execute_input": "2025-10-29T20:20:08.770032Z",
     "iopub.status.busy": "2025-10-29T20:20:08.769872Z",
     "iopub.status.idle": "2025-10-29T20:20:09.055810Z",
     "shell.execute_reply": "2025-10-29T20:20:09.054239Z"
    }
   },
   "outputs": [
    {
     "name": "stdout",
     "output_type": "stream",
     "text": [
      "✓ Libraries imported successfully\n"
     ]
    }
   ],
   "source": [
    "import pandas as pd\n",
    "import numpy as np\n",
    "import plotly.graph_objects as go\n",
    "import plotly.express as px\n",
    "from plotly.subplots import make_subplots\n",
    "from pathlib import Path\n",
    "import warnings\n",
    "warnings.filterwarnings('ignore')\n",
    "\n",
    "print(\"✓ Libraries imported successfully\")"
   ]
  },
  {
   "cell_type": "markdown",
   "metadata": {},
   "source": [
    "## Section 1: Load Historic Data (2022-2024)\n",
    "\n",
    "Load the consolidated historic dataset created in notebook 07."
   ]
  },
  {
   "cell_type": "code",
   "execution_count": 2,
   "metadata": {
    "execution": {
     "iopub.execute_input": "2025-10-29T20:20:09.068531Z",
     "iopub.status.busy": "2025-10-29T20:20:09.068423Z",
     "iopub.status.idle": "2025-10-29T20:20:41.641794Z",
     "shell.execute_reply": "2025-10-29T20:20:41.640206Z"
    }
   },
   "outputs": [
    {
     "name": "stdout",
     "output_type": "stream",
     "text": [
      "Loading historic data from ../data/processed/historic_orders_2022_2024.parquet...\n"
     ]
    },
    {
     "name": "stdout",
     "output_type": "stream",
     "text": [
      "✓ Loaded 4,935,622 records\n",
      "\n",
      "Dataset info:\n",
      "  Shape: (4935622, 119)\n"
     ]
    },
    {
     "name": "stdout",
     "output_type": "stream",
     "text": [
      "  Date range: 2022-01-01 00:00:00 to 2024-12-31 00:00:00\n"
     ]
    },
    {
     "name": "stdout",
     "output_type": "stream",
     "text": [
      "  Memory: 28.98 GB\n"
     ]
    }
   ],
   "source": [
    "# Load historic data (use Parquet for faster loading)\n",
    "historic_path = Path('../data/processed/historic_orders_2022_2024.parquet')\n",
    "\n",
    "if historic_path.exists():\n",
    "    print(f\"Loading historic data from {historic_path}...\")\n",
    "    df_historic = pd.read_parquet(historic_path)\n",
    "    print(f\"✓ Loaded {len(df_historic):,} records\")\n",
    "else:\n",
    "    # Try CSV.gz if Parquet doesn't exist\n",
    "    historic_path_csv = Path('../data/processed/historic_orders_2022_2024.csv.gz')\n",
    "    print(f\"Loading historic data from {historic_path_csv}...\")\n",
    "    df_historic = pd.read_csv(historic_path_csv, compression='gzip')\n",
    "    print(f\"✓ Loaded {len(df_historic):,} records\")\n",
    "\n",
    "print(f\"\\nDataset info:\")\n",
    "print(f\"  Shape: {df_historic.shape}\")\n",
    "print(f\"  Date range: {df_historic['Datum.Tour'].min()} to {df_historic['Datum.Tour'].max()}\")\n",
    "print(f\"  Memory: {df_historic.memory_usage(deep=True).sum() / 1024**3:.2f} GB\")"
   ]
  },
  {
   "cell_type": "markdown",
   "metadata": {},
   "source": [
    "## Section 2: Monthly Aggregation by Betriebszentralen\n",
    "\n",
    "Aggregate historic data to monthly level grouped by the 14 Betriebszentralen (dispatch centers)."
   ]
  },
  {
   "cell_type": "code",
   "execution_count": 3,
   "metadata": {
    "execution": {
     "iopub.execute_input": "2025-10-29T20:20:41.644153Z",
     "iopub.status.busy": "2025-10-29T20:20:41.644082Z",
     "iopub.status.idle": "2025-10-29T20:20:46.963381Z",
     "shell.execute_reply": "2025-10-29T20:20:46.962255Z"
    }
   },
   "outputs": [
    {
     "name": "stdout",
     "output_type": "stream",
     "text": [
      "Creating monthly aggregations...\n",
      "================================================================================\n"
     ]
    },
    {
     "name": "stdout",
     "output_type": "stream",
     "text": [
      "✓ Using order ID column: NummerKomplett.Auftrag\n",
      "\n",
      "Preparing columns for aggregation...\n"
     ]
    },
    {
     "name": "stdout",
     "output_type": "stream",
     "text": [
      "  ✓ Converted Distanz_BE.Auftrag to numeric\n"
     ]
    },
    {
     "name": "stdout",
     "output_type": "stream",
     "text": [
      "    Valid distances: 4,847,359\n"
     ]
    },
    {
     "name": "stdout",
     "output_type": "stream",
     "text": [
      "    Invalid/missing: 88,263\n"
     ]
    },
    {
     "name": "stdout",
     "output_type": "stream",
     "text": [
      "  ✓ Converted ∑ Einnahmen (revenue) to numeric\n"
     ]
    },
    {
     "name": "stdout",
     "output_type": "stream",
     "text": [
      "    Valid revenue: 4,935,622\n"
     ]
    },
    {
     "name": "stdout",
     "output_type": "stream",
     "text": [
      "    Non-zero revenue: 3,286,951\n",
      "\n",
      "Aggregating by year-month and Betriebszentralen...\n",
      "  ✓ Including revenue_total in aggregation\n"
     ]
    },
    {
     "name": "stdout",
     "output_type": "stream",
     "text": [
      "\n",
      "✓ Monthly aggregation complete\n",
      "  Total month-entity combinations: 375\n",
      "  Unique months: 36\n",
      "  Unique Betriebszentralen: 12\n",
      "\n",
      "  Date range: 2022-01-01 00:00:00 to 2024-12-01 00:00:00\n",
      "\n",
      "Sample of aggregated data:\n",
      "  year_month      betriebszentrale  total_orders   total_km  revenue_total  \\\n",
      "0    2022-01         B&T Landquart           287     7784.0   4.897960e+04   \n",
      "1    2022-01           B&T Puidoux          2455   107169.0   4.350852e+05   \n",
      "2    2022-01        B&T Winterthur          4938   157079.0   7.026364e+05   \n",
      "3    2022-01    BZ Herzogenbuchsee          7312   494260.0   3.119368e+06   \n",
      "4    2022-01  BZ Intermodal / Rail           174    12041.0   5.796830e+04   \n",
      "5    2022-01          BZ Landquart         17739  1081152.0   6.850266e+05   \n",
      "6    2022-01           BZ Oberbipp         34737  2411456.0   7.960313e+05   \n",
      "7    2022-01            BZ Puidoux            13     1699.0   6.403000e+03   \n",
      "8    2022-01             BZ Sursee         28480  2200464.0   4.319064e+06   \n",
      "9    2022-01         BZ Winterthur         34894  1739350.0   1.342235e+06   \n",
      "\n",
      "   external_drivers  internal_drivers  Delivery  Leergut  Pickup/Multi-leg  \\\n",
      "0                 0               286       287        0                 0   \n",
      "1                 0              1828      2455        0                 0   \n",
      "2                 0              3234      4936        0                 0   \n",
      "3               885              6427      7312        0                 0   \n",
      "4                63               111        95        0                79   \n",
      "5              4104             13635     11488     4327              1888   \n",
      "6             12264             22473     22377     9714              2585   \n",
      "7                 1                12        13        0                 0   \n",
      "8              4584             23896     21330     1562              5515   \n",
      "9              7474             27420     21957     8708              4121   \n",
      "\n",
      "   Retoure/Abholung       date  \n",
      "0                 0 2022-01-01  \n",
      "1                 0 2022-01-01  \n",
      "2                 2 2022-01-01  \n",
      "3                 0 2022-01-01  \n",
      "4                 0 2022-01-01  \n",
      "5                36 2022-01-01  \n",
      "6                61 2022-01-01  \n",
      "7                 0 2022-01-01  \n",
      "8                73 2022-01-01  \n",
      "9               108 2022-01-01  \n"
     ]
    }
   ],
   "source": [
    "print(\"Creating monthly aggregations...\")\n",
    "print(\"=\"*80)\n",
    "\n",
    "# Ensure date column is datetime\n",
    "df_historic['Datum.Tour'] = pd.to_datetime(df_historic['Datum.Tour'])\n",
    "\n",
    "# Create year-month column\n",
    "df_historic['year_month'] = df_historic['Datum.Tour'].dt.to_period('M')\n",
    "\n",
    "# Find the order ID column (use the most complete identifier)\n",
    "order_id_cols = [\n",
    "  'NummerKomplett.Auftrag',  # Most complete\n",
    "  'Nummer.Auftrag',           # Order number\n",
    "  'Nummer.Hauptauftrag',      # Main order\n",
    "  'Auftragsschein-Nr.',       # Legacy name\n",
    "]\n",
    "\n",
    "order_id_col = None\n",
    "for col in order_id_cols:\n",
    "  if col in df_historic.columns:\n",
    "      order_id_col = col\n",
    "      print(f\"✓ Using order ID column: {col}\")\n",
    "      break\n",
    "\n",
    "if not order_id_col:\n",
    "  # Fallback: use index as count\n",
    "  print(\"⚠️  No order ID column found, using record count\")\n",
    "  df_historic['_order_count'] = 1\n",
    "  order_id_col = '_order_count'\n",
    "\n",
    "# Check if betriebszentrale_name exists\n",
    "if 'betriebszentrale_name' not in df_historic.columns:\n",
    "  print(\"⚠️  'betriebszentrale_name' not found, using 'Unknown'\")\n",
    "  df_historic['betriebszentrale_name'] = 'Unknown'\n",
    "\n",
    "# Check if carrier_type exists\n",
    "if 'carrier_type' not in df_historic.columns:\n",
    "  print(\"⚠️  'carrier_type' not found, classifying now...\")\n",
    "  # Quick carrier classification\n",
    "  def classify_carrier(carrier_num):\n",
    "      if pd.isna(carrier_num):\n",
    "          return 'unknown'\n",
    "      try:\n",
    "          carrier_num = float(str(carrier_num).replace('-', '').strip())\n",
    "          if carrier_num <= 8889:\n",
    "              return 'internal'\n",
    "          elif carrier_num >= 9000:\n",
    "              return 'external'\n",
    "      except:\n",
    "          pass\n",
    "      return 'unknown'\n",
    "\n",
    "  df_historic['carrier_type'] = df_historic['Nummer.Spedition'].apply(classify_carrier)\n",
    "\n",
    "# Fix: Convert distance column to numeric\n",
    "print(\"\\nPreparing columns for aggregation...\")\n",
    "\n",
    "# Convert distance to numeric (handles strings and errors)\n",
    "if 'Distanz_BE.Auftrag' in df_historic.columns:\n",
    "  df_historic['Distanz_BE.Auftrag'] = pd.to_numeric(\n",
    "      df_historic['Distanz_BE.Auftrag'],\n",
    "      errors='coerce'  # Convert invalid values to NaN\n",
    "  )\n",
    "  print(f\"  ✓ Converted Distanz_BE.Auftrag to numeric\")\n",
    "  print(f\"    Valid distances: {df_historic['Distanz_BE.Auftrag'].notna().sum():,}\")\n",
    "  print(f\"    Invalid/missing: {df_historic['Distanz_BE.Auftrag'].isna().sum():,}\")\n",
    "\n",
    "# Convert revenue column to numeric if exists\n",
    "if '∑ Einnahmen' in df_historic.columns:\n",
    "  df_historic['∑ Einnahmen'] = pd.to_numeric(\n",
    "      df_historic['∑ Einnahmen'],\n",
    "      errors='coerce'  # Convert invalid values to NaN\n",
    "  )\n",
    "  print(f\"  ✓ Converted ∑ Einnahmen (revenue) to numeric\")\n",
    "  print(f\"    Valid revenue: {df_historic['∑ Einnahmen'].notna().sum():,}\")\n",
    "  print(f\"    Non-zero revenue: {(df_historic['∑ Einnahmen'] > 0).sum():,}\")\n",
    "\n",
    "# Group by month and Betriebszentralen\n",
    "print(\"\\nAggregating by year-month and Betriebszentralen...\")\n",
    "\n",
    "agg_dict = {\n",
    "  order_id_col: 'count',  # Total orders\n",
    "  'Distanz_BE.Auftrag': 'sum',  # Total KM\n",
    "}\n",
    "\n",
    "# Add revenue if column exists\n",
    "if '∑ Einnahmen' in df_historic.columns:\n",
    "  agg_dict['∑ Einnahmen'] = 'sum'  # Total revenue\n",
    "  print(\"  ✓ Including revenue_total in aggregation\")\n",
    "\n",
    "monthly_agg = df_historic.groupby(['year_month',\n",
    "'betriebszentrale_name']).agg(agg_dict).reset_index()\n",
    "\n",
    "# Rename columns\n",
    "if '∑ Einnahmen' in df_historic.columns:\n",
    "  monthly_agg.columns = ['year_month', 'betriebszentrale', 'total_orders', 'total_km', 'revenue_total']\n",
    "else:\n",
    "  monthly_agg.columns = ['year_month', 'betriebszentrale', 'total_orders', 'total_km']\n",
    "\n",
    "# Add external drivers count\n",
    "external_count = df_historic[df_historic['carrier_type'] == 'external'].groupby(\n",
    "  ['year_month', 'betriebszentrale_name']\n",
    ").size().reset_index(name='external_drivers')\n",
    "\n",
    "monthly_agg = monthly_agg.merge(\n",
    "  external_count,\n",
    "  left_on=['year_month', 'betriebszentrale'],\n",
    "  right_on=['year_month', 'betriebszentrale_name'],\n",
    "  how='left'\n",
    ").drop(columns=['betriebszentrale_name'])\n",
    "\n",
    "# Add internal drivers count\n",
    "internal_count = df_historic[df_historic['carrier_type'] == 'internal'].groupby(\n",
    "  ['year_month', 'betriebszentrale_name']\n",
    ").size().reset_index(name='internal_drivers')\n",
    "\n",
    "monthly_agg = monthly_agg.merge(\n",
    "  internal_count,\n",
    "  left_on=['year_month', 'betriebszentrale'],\n",
    "  right_on=['year_month', 'betriebszentrale_name'],\n",
    "  how='left'\n",
    ").drop(columns=['betriebszentrale_name'])\n",
    "\n",
    "# Fill NaN with 0 for driver counts\n",
    "monthly_agg['external_drivers'] = monthly_agg['external_drivers'].fillna(0).astype(int)\n",
    "monthly_agg['internal_drivers'] = monthly_agg['internal_drivers'].fillna(0).astype(int)\n",
    "\n",
    "# Add order type breakdown if available\n",
    "if 'order_type' in df_historic.columns:\n",
    "  order_types = df_historic.groupby(['year_month', 'betriebszentrale_name',\n",
    "'order_type']).size().unstack(fill_value=0)\n",
    "  order_types = order_types.reset_index()\n",
    "  order_types.columns.name = None\n",
    "  order_types = order_types.rename(columns={'betriebszentrale_name': 'betriebszentrale'})\n",
    "\n",
    "  monthly_agg = monthly_agg.merge(order_types, on=['year_month', 'betriebszentrale'],\n",
    "how='left')\n",
    "\n",
    "# Convert year_month to datetime for easier plotting\n",
    "monthly_agg['date'] = monthly_agg['year_month'].dt.to_timestamp()\n",
    "\n",
    "print(f\"\\n✓ Monthly aggregation complete\")\n",
    "print(f\"  Total month-entity combinations: {len(monthly_agg):,}\")\n",
    "print(f\"  Unique months: {monthly_agg['year_month'].nunique()}\")\n",
    "print(f\"  Unique Betriebszentralen: {monthly_agg['betriebszentrale'].nunique()}\")\n",
    "print(f\"\\n  Date range: {monthly_agg['date'].min()} to {monthly_agg['date'].max()}\")\n",
    "\n",
    "# Preview\n",
    "print(\"\\nSample of aggregated data:\")\n",
    "print(monthly_agg.head(10))"
   ]
  },
  {
   "cell_type": "markdown",
   "metadata": {},
   "source": [
    "## Section 3: Load June 2025 Data\n",
    "\n",
    "Load the already-processed June 2025 data from notebook 04."
   ]
  },
  {
   "cell_type": "code",
   "execution_count": 4,
   "metadata": {
    "execution": {
     "iopub.execute_input": "2025-10-29T20:20:46.965559Z",
     "iopub.status.busy": "2025-10-29T20:20:46.965484Z",
     "iopub.status.idle": "2025-10-29T20:20:46.972584Z",
     "shell.execute_reply": "2025-10-29T20:20:46.971108Z"
    }
   },
   "outputs": [
    {
     "name": "stdout",
     "output_type": "stream",
     "text": [
      "Loading June 2025 aggregated data from ../data/processed/monthly_aggregated.csv...\n"
     ]
    },
    {
     "name": "stdout",
     "output_type": "stream",
     "text": [
      "✓ Loaded June 2025: 12 Betriebszentralen\n",
      "  Columns: ['year_month', 'betriebszentrale_name', 'total_orders', 'revenue_total', 'total_costs', 'external_carrier_costs', 'total_distance_km', 'avg_distance_km', 'median_distance_km', 'external_driver_orders', 'internal_driver_orders', 'delivery_orders', 'pickup_orders', 'leergut_orders', 'retoure_orders', 'unique_sparten_count', 'profit_margin', 'revenue_per_order', 'cost_per_order', 'date', 'year', 'month', 'quarter', 'month_name', 'split']\n"
     ]
    }
   ],
   "source": [
    "# Check if we have processed June 2025 aggregated data\n",
    "june_2025_path = Path('../data/processed/monthly_aggregated.csv')\n",
    "\n",
    "if june_2025_path.exists():\n",
    "    print(f\"Loading June 2025 aggregated data from {june_2025_path}...\")\n",
    "    df_june_2025 = pd.read_csv(june_2025_path)\n",
    "    \n",
    "    # Filter for June 2025 only\n",
    "    if 'year_month' in df_june_2025.columns:\n",
    "        df_june_2025['year_month'] = pd.to_datetime(df_june_2025['year_month']).dt.to_period('M')\n",
    "        df_june_2025 = df_june_2025[df_june_2025['year_month'] == '2025-06']\n",
    "    \n",
    "    print(f\"✓ Loaded June 2025: {len(df_june_2025)} Betriebszentralen\")\n",
    "    print(f\"  Columns: {list(df_june_2025.columns)}\")\n",
    "else:\n",
    "    print(\"⚠️  June 2025 aggregated data not found.\")\n",
    "    print(\"    You may need to run notebook 04 first to create monthly_aggregated.csv\")\n",
    "    df_june_2025 = None"
   ]
  },
  {
   "cell_type": "markdown",
   "metadata": {},
   "source": [
    "## Section 4: Merge Historic and June 2025 Data\n",
    "\n",
    "Combine into single time series dataset."
   ]
  },
  {
   "cell_type": "code",
   "execution_count": 5,
   "metadata": {
    "execution": {
     "iopub.execute_input": "2025-10-29T20:20:46.974545Z",
     "iopub.status.busy": "2025-10-29T20:20:46.974490Z",
     "iopub.status.idle": "2025-10-29T20:20:46.979070Z",
     "shell.execute_reply": "2025-10-29T20:20:46.977754Z"
    }
   },
   "outputs": [
    {
     "name": "stdout",
     "output_type": "stream",
     "text": [
      "Finalizing dataset (2022-2024 only)...\n",
      "================================================================================\n",
      "\n",
      "✓ Dataset finalized!\n",
      "  Total records: 375\n",
      "  Date range: 2022-01-01 00:00:00 to 2024-12-01 00:00:00\n",
      "  Total months: 36\n",
      "  Betriebszentralen: 12\n",
      "\n",
      "Available metrics:\n",
      "  • total_orders: 375 non-null values\n",
      "  • total_km: 375 non-null values\n",
      "  • revenue_total: 375 non-null values\n",
      "  • external_drivers: 375 non-null values\n",
      "  • internal_drivers: 375 non-null values\n",
      "  • Delivery: 375 non-null values\n",
      "  • Leergut: 375 non-null values\n",
      "  • Pickup/Multi-leg: 375 non-null values\n",
      "  • Retoure/Abholung: 375 non-null values\n"
     ]
    }
   ],
   "source": [
    "# Section 4: Finalize Dataset (Historic Only)\n",
    "print(\"Finalizing dataset (2022-2024 only)...\")\n",
    "print(\"=\"*80)\n",
    "\n",
    "# Use the monthly_agg from Section 2\n",
    "df_full_ts = monthly_agg.copy()\n",
    "\n",
    "print(f\"\\n✓ Dataset finalized!\")\n",
    "print(f\"  Total records: {len(df_full_ts):,}\")\n",
    "print(f\"  Date range: {df_full_ts['date'].min()} to {df_full_ts['date'].max()}\")\n",
    "print(f\"  Total months: {df_full_ts['year_month'].nunique()}\")\n",
    "print(f\"  Betriebszentralen: {df_full_ts['betriebszentrale'].nunique()}\")\n",
    "\n",
    "print(f\"\\nAvailable metrics:\")\n",
    "metric_cols = [col for col in df_full_ts.columns\n",
    "             if col not in ['year_month', 'date', 'betriebszentrale']]\n",
    "for col in metric_cols:\n",
    "  non_null = df_full_ts[col].notna().sum()\n",
    "  print(f\"  • {col}: {non_null:,} non-null values\")"
   ]
  },
  {
   "cell_type": "code",
   "execution_count": 6,
   "metadata": {
    "execution": {
     "iopub.execute_input": "2025-10-29T20:20:46.981012Z",
     "iopub.status.busy": "2025-10-29T20:20:46.980947Z",
     "iopub.status.idle": "2025-10-29T20:20:46.985512Z",
     "shell.execute_reply": "2025-10-29T20:20:46.984230Z"
    }
   },
   "outputs": [
    {
     "name": "stdout",
     "output_type": "stream",
     "text": [
      "\n",
      "Columns in merged dataset:\n",
      "['year_month', 'betriebszentrale', 'total_orders', 'total_km', 'revenue_total', 'external_drivers', 'internal_drivers', 'Delivery', 'Leergut', 'Pickup/Multi-leg', 'Retoure/Abholung', 'date']\n",
      "\n",
      "Sample of merged data:\n",
      "  year_month      betriebszentrale  total_orders   total_km  revenue_total  \\\n",
      "0    2022-01         B&T Landquart           287     7784.0   4.897960e+04   \n",
      "1    2022-01           B&T Puidoux          2455   107169.0   4.350852e+05   \n",
      "2    2022-01        B&T Winterthur          4938   157079.0   7.026364e+05   \n",
      "3    2022-01    BZ Herzogenbuchsee          7312   494260.0   3.119368e+06   \n",
      "4    2022-01  BZ Intermodal / Rail           174    12041.0   5.796830e+04   \n",
      "5    2022-01          BZ Landquart         17739  1081152.0   6.850266e+05   \n",
      "6    2022-01           BZ Oberbipp         34737  2411456.0   7.960313e+05   \n",
      "7    2022-01            BZ Puidoux            13     1699.0   6.403000e+03   \n",
      "8    2022-01             BZ Sursee         28480  2200464.0   4.319064e+06   \n",
      "9    2022-01         BZ Winterthur         34894  1739350.0   1.342235e+06   \n",
      "\n",
      "   external_drivers  internal_drivers  Delivery  Leergut  Pickup/Multi-leg  \\\n",
      "0                 0               286       287        0                 0   \n",
      "1                 0              1828      2455        0                 0   \n",
      "2                 0              3234      4936        0                 0   \n",
      "3               885              6427      7312        0                 0   \n",
      "4                63               111        95        0                79   \n",
      "5              4104             13635     11488     4327              1888   \n",
      "6             12264             22473     22377     9714              2585   \n",
      "7                 1                12        13        0                 0   \n",
      "8              4584             23896     21330     1562              5515   \n",
      "9              7474             27420     21957     8708              4121   \n",
      "\n",
      "   Retoure/Abholung       date  \n",
      "0                 0 2022-01-01  \n",
      "1                 0 2022-01-01  \n",
      "2                 2 2022-01-01  \n",
      "3                 0 2022-01-01  \n",
      "4                 0 2022-01-01  \n",
      "5                36 2022-01-01  \n",
      "6                61 2022-01-01  \n",
      "7                 0 2022-01-01  \n",
      "8                73 2022-01-01  \n",
      "9               108 2022-01-01  \n",
      "\n",
      "Data types:\n",
      "year_month               period[M]\n",
      "betriebszentrale            object\n",
      "total_orders                 int64\n",
      "total_km                   float64\n",
      "revenue_total              float64\n",
      "external_drivers             int64\n",
      "internal_drivers             int64\n",
      "Delivery                     int64\n",
      "Leergut                      int64\n",
      "Pickup/Multi-leg             int64\n",
      "Retoure/Abholung             int64\n",
      "date                datetime64[ns]\n",
      "dtype: object\n"
     ]
    }
   ],
   "source": [
    "# Check what columns we have in the merged dataset\n",
    "print(\"\\nColumns in merged dataset:\")\n",
    "print(df_full_ts.columns.tolist())\n",
    "\n",
    "print(f\"\\nSample of merged data:\")\n",
    "print(df_full_ts.head(10))\n",
    "\n",
    "print(f\"\\nData types:\")\n",
    "print(df_full_ts.dtypes)"
   ]
  },
  {
   "cell_type": "markdown",
   "metadata": {},
   "source": [
    "## Section 5: Data Completeness Check\n",
    "\n",
    "Verify we have complete time series for each Betriebszentralen."
   ]
  },
  {
   "cell_type": "code",
   "execution_count": 7,
   "metadata": {
    "execution": {
     "iopub.execute_input": "2025-10-29T20:20:46.987430Z",
     "iopub.status.busy": "2025-10-29T20:20:46.987360Z",
     "iopub.status.idle": "2025-10-29T20:20:46.996656Z",
     "shell.execute_reply": "2025-10-29T20:20:46.995371Z"
    }
   },
   "outputs": [
    {
     "name": "stdout",
     "output_type": "stream",
     "text": [
      "Time Series Completeness Check\n",
      "================================================================================\n",
      "\n",
      "Expected months: 36\n",
      "  From: 2022-01\n",
      "  To: 2024-12\n",
      "\n",
      "Completeness by Betriebszentralen:\n",
      "Betriebszentralen                Months    Complete?\n",
      "----------------------------------------------------\n",
      "B&T Landquart                        36            ✓\n",
      "B&T Puidoux                          36            ✓\n",
      "B&T Winterthur                       36            ✓\n",
      "BZ Herzogenbuchsee                   36            ✓\n",
      "BZ Intermodal / Rail                 36            ✓\n",
      "BZ Landquart                         36            ✓\n",
      "BZ Oberbipp                          36            ✓\n",
      "BZ Puidoux                           36            ✓\n",
      "BZ Sierre                             9  ⚠️  Missing\n",
      "BZ Sursee                            36            ✓\n",
      "BZ Winterthur                        36            ✓\n",
      "Unknown                               6  ⚠️  Missing\n",
      "\n",
      "⚠️  Missing Data Details:\n",
      "  Unknown: 30 missing months\n",
      "  BZ Sierre: 27 missing months\n"
     ]
    }
   ],
   "source": [
    "print(\"Time Series Completeness Check\")\n",
    "print(\"=\"*80)\n",
    "\n",
    "# Expected months\n",
    "all_months = pd.period_range(\n",
    "    start=df_full_ts['year_month'].min(), \n",
    "    end=df_full_ts['year_month'].max(), \n",
    "    freq='M'\n",
    ")\n",
    "print(f\"\\nExpected months: {len(all_months)}\")\n",
    "print(f\"  From: {all_months[0]}\")\n",
    "print(f\"  To: {all_months[-1]}\")\n",
    "\n",
    "# Check completeness for each Betriebszentralen\n",
    "print(f\"\\nCompleteness by Betriebszentralen:\")\n",
    "print(f\"{'Betriebszentralen':<30} {'Months':>8} {'Complete?':>12}\")\n",
    "print(\"-\" * 52)\n",
    "\n",
    "for bz in sorted(df_full_ts['betriebszentrale'].unique()):\n",
    "    bz_data = df_full_ts[df_full_ts['betriebszentrale'] == bz]\n",
    "    month_count = bz_data['year_month'].nunique()\n",
    "    is_complete = \"✓\" if month_count == len(all_months) else \"⚠️  Missing\"\n",
    "    print(f\"{bz:<30} {month_count:>8} {is_complete:>12}\")\n",
    "\n",
    "# Check for missing months\n",
    "missing_data = []\n",
    "for bz in df_full_ts['betriebszentrale'].unique():\n",
    "    bz_months = set(df_full_ts[df_full_ts['betriebszentrale'] == bz]['year_month'])\n",
    "    missing_months = set(all_months) - bz_months\n",
    "    if missing_months:\n",
    "        missing_data.append((bz, sorted(missing_months)))\n",
    "\n",
    "if missing_data:\n",
    "    print(f\"\\n⚠️  Missing Data Details:\")\n",
    "    for bz, months in missing_data:\n",
    "        print(f\"  {bz}: {len(months)} missing months\")\n",
    "        if len(months) <= 5:\n",
    "            print(f\"    → {', '.join(str(m) for m in months)}\")\n",
    "else:\n",
    "    print(f\"\\n✓ All Betriebszentralen have complete time series!\")"
   ]
  },
  {
   "cell_type": "code",
   "execution_count": 8,
   "metadata": {
    "execution": {
     "iopub.execute_input": "2025-10-29T20:20:46.998749Z",
     "iopub.status.busy": "2025-10-29T20:20:46.998676Z",
     "iopub.status.idle": "2025-10-29T20:20:47.005277Z",
     "shell.execute_reply": "2025-10-29T20:20:47.003912Z"
    }
   },
   "outputs": [
    {
     "name": "stdout",
     "output_type": "stream",
     "text": [
      "\n",
      "================================================================================\n",
      "FILTERING: Remove Unknown Betriebszentralen\n",
      "================================================================================\n",
      "\n",
      "✓ Filtering complete:\n",
      "  Before: 375 records\n",
      "  Removed (Unknown): 6 records\n",
      "  After: 369 records\n",
      "  Retention: 98.4%\n",
      "\n",
      "Final entities (11):\n",
      "  • B&T Landquart: 36 months\n",
      "  • B&T Puidoux: 36 months\n",
      "  • B&T Winterthur: 36 months\n",
      "  • BZ Herzogenbuchsee: 36 months\n",
      "  • BZ Intermodal / Rail: 36 months\n",
      "  • BZ Landquart: 36 months\n",
      "  • BZ Oberbipp: 36 months\n",
      "  • BZ Puidoux: 36 months\n",
      "  • BZ Sierre: 9 months\n",
      "  • BZ Sursee: 36 months\n",
      "  • BZ Winterthur: 36 months\n"
     ]
    }
   ],
   "source": [
    "# Filter: Remove \"Unknown\" Betriebszentralen\n",
    "print(\"\\n\" + \"=\"*80)\n",
    "print(\"FILTERING: Remove Unknown Betriebszentralen\")\n",
    "print(\"=\"*80)\n",
    "\n",
    "# Count before\n",
    "before_count = len(df_full_ts)\n",
    "unknown_count = len(df_full_ts[df_full_ts['betriebszentrale'] == 'Unknown'])\n",
    "\n",
    "# Filter out Unknown\n",
    "df_full_ts = df_full_ts[df_full_ts['betriebszentrale'] != 'Unknown'].copy()\n",
    "\n",
    "# Count after\n",
    "after_count = len(df_full_ts)\n",
    "\n",
    "print(f\"\\n✓ Filtering complete:\")\n",
    "print(f\"  Before: {before_count:,} records\")\n",
    "print(f\"  Removed (Unknown): {unknown_count:,} records\")\n",
    "print(f\"  After: {after_count:,} records\")\n",
    "print(f\"  Retention: {(after_count/before_count)*100:.1f}%\")\n",
    "\n",
    "print(f\"\\nFinal entities ({df_full_ts['betriebszentrale'].nunique()}):\")\n",
    "for entity in sorted(df_full_ts['betriebszentrale'].unique()):\n",
    "  month_count = df_full_ts[df_full_ts['betriebszentrale'] == entity]['year_month'].nunique()\n",
    "  print(f\"  • {entity}: {month_count} months\")"
   ]
  },
  {
   "cell_type": "markdown",
   "metadata": {},
   "source": [
    "## Section 6: Aggregate to Company Level\n",
    "\n",
    "Create company-wide time series (sum across all Betriebszentralen)."
   ]
  },
  {
   "cell_type": "code",
   "execution_count": 9,
   "metadata": {
    "execution": {
     "iopub.execute_input": "2025-10-29T20:20:47.007269Z",
     "iopub.status.busy": "2025-10-29T20:20:47.007211Z",
     "iopub.status.idle": "2025-10-29T20:20:47.017057Z",
     "shell.execute_reply": "2025-10-29T20:20:47.015731Z"
    }
   },
   "outputs": [
    {
     "name": "stdout",
     "output_type": "stream",
     "text": [
      "Creating company-level aggregation...\n",
      "================================================================================\n",
      "  ✓ Including revenue_total in company aggregation\n",
      "  ✓ Calculated revenue_per_order metric\n",
      "\n",
      "✓ Company-level time series created\n",
      "  Months: 36\n",
      "  Date range: 2022-01-01 00:00:00 to 2024-12-01 00:00:00\n",
      "\n",
      "Summary statistics:\n",
      "        total_orders      total_km  total_drivers  revenue_total\n",
      "count      36.000000  3.600000e+01      36.000000   3.600000e+01\n",
      "mean   137100.444444  8.629973e+06  134685.666667   1.290871e+07\n",
      "std      6429.356437  3.991910e+05    6214.328618   8.684005e+05\n",
      "min    126035.000000  7.975456e+06  123611.000000   1.151280e+07\n",
      "25%    132394.500000  8.343926e+06  130207.000000   1.223254e+07\n",
      "50%    136173.500000  8.577382e+06  133873.000000   1.282729e+07\n",
      "75%    140024.750000  8.834657e+06  137501.500000   1.346180e+07\n",
      "max    154641.000000  9.729826e+06  150972.000000   1.510441e+07\n"
     ]
    }
   ],
   "source": [
    "print(\"Creating company-level aggregation...\")\n",
    "print(\"=\"*80)\n",
    "\n",
    "# Define aggregation dict\n",
    "agg_cols = {\n",
    "    'total_orders': 'sum',\n",
    "    'total_km': 'sum',\n",
    "    'external_drivers': 'sum',\n",
    "    'internal_drivers': 'sum'\n",
    "}\n",
    "\n",
    "# Add revenue if it exists in the dataframe\n",
    "if 'revenue_total' in df_full_ts.columns:\n",
    "    agg_cols['revenue_total'] = 'sum'\n",
    "    print(\"  ✓ Including revenue_total in company aggregation\")\n",
    "\n",
    "# Aggregate across all Betriebszentralen\n",
    "company_ts = df_full_ts.groupby('year_month').agg(agg_cols).reset_index()\n",
    "\n",
    "# Add order types if available\n",
    "if 'Delivery' in df_full_ts.columns:\n",
    "    order_type_cols = [col for col in df_full_ts.columns if col in ['Delivery', 'Pickup/Multi-leg', 'Leergut', 'Retoure/Abholung']]\n",
    "    order_type_sum = df_full_ts.groupby('year_month')[order_type_cols].sum().reset_index()\n",
    "    company_ts = company_ts.merge(order_type_sum, on='year_month', how='left')\n",
    "\n",
    "# Convert to datetime\n",
    "company_ts['date'] = company_ts['year_month'].dt.to_timestamp()\n",
    "\n",
    "# Calculate total drivers\n",
    "company_ts['total_drivers'] = company_ts['external_drivers'] + company_ts['internal_drivers']\n",
    "\n",
    "# Calculate KM per order\n",
    "company_ts['km_per_order'] = company_ts['total_km'] / company_ts['total_orders']\n",
    "\n",
    "# Calculate revenue per order if revenue exists\n",
    "if 'revenue_total' in company_ts.columns:\n",
    "    company_ts['revenue_per_order'] = company_ts['revenue_total'] / company_ts['total_orders']\n",
    "    print(f\"  ✓ Calculated revenue_per_order metric\")\n",
    "\n",
    "print(f\"\\n✓ Company-level time series created\")\n",
    "print(f\"  Months: {len(company_ts)}\")\n",
    "print(f\"  Date range: {company_ts['date'].min()} to {company_ts['date'].max()}\")\n",
    "\n",
    "# Show metrics including revenue if available\n",
    "metrics_to_show = ['total_orders', 'total_km', 'total_drivers']\n",
    "if 'revenue_total' in company_ts.columns:\n",
    "    metrics_to_show.append('revenue_total')\n",
    "    \n",
    "print(f\"\\nSummary statistics:\")\n",
    "print(company_ts[metrics_to_show].describe())"
   ]
  },
  {
   "cell_type": "markdown",
   "metadata": {},
   "source": [
    "## Section 7: Time Series Visualization\n",
    "\n",
    "Visualize key metrics over time."
   ]
  },
  {
   "cell_type": "code",
   "execution_count": 10,
   "metadata": {
    "execution": {
     "iopub.execute_input": "2025-10-29T20:20:47.018878Z",
     "iopub.status.busy": "2025-10-29T20:20:47.018807Z",
     "iopub.status.idle": "2025-10-29T20:20:47.670044Z",
     "shell.execute_reply": "2025-10-29T20:20:47.668691Z"
    }
   },
   "outputs": [
    {
     "data": {
      "application/vnd.plotly.v1+json": {
       "config": {
        "plotlyServerURL": "https://plot.ly"
       },
       "data": [
        {
         "line": {
          "color": "#1f77b4",
          "width": 2
         },
         "mode": "lines+markers",
         "name": "Total Orders",
         "type": "scatter",
         "x": [
          "2022-01-01T00:00:00",
          "2022-02-01T00:00:00",
          "2022-03-01T00:00:00",
          "2022-04-01T00:00:00",
          "2022-05-01T00:00:00",
          "2022-06-01T00:00:00",
          "2022-07-01T00:00:00",
          "2022-08-01T00:00:00",
          "2022-09-01T00:00:00",
          "2022-10-01T00:00:00",
          "2022-11-01T00:00:00",
          "2022-12-01T00:00:00",
          "2023-01-01T00:00:00",
          "2023-02-01T00:00:00",
          "2023-03-01T00:00:00",
          "2023-04-01T00:00:00",
          "2023-05-01T00:00:00",
          "2023-06-01T00:00:00",
          "2023-07-01T00:00:00",
          "2023-08-01T00:00:00",
          "2023-09-01T00:00:00",
          "2023-10-01T00:00:00",
          "2023-11-01T00:00:00",
          "2023-12-01T00:00:00",
          "2024-01-01T00:00:00",
          "2024-02-01T00:00:00",
          "2024-03-01T00:00:00",
          "2024-04-01T00:00:00",
          "2024-05-01T00:00:00",
          "2024-06-01T00:00:00",
          "2024-07-01T00:00:00",
          "2024-08-01T00:00:00",
          "2024-09-01T00:00:00",
          "2024-10-01T00:00:00",
          "2024-11-01T00:00:00",
          "2024-12-01T00:00:00"
         ],
         "xaxis": "x",
         "y": {
          "bdata": "1f8BAOD7AQARXAIAfQMCAF4UAgCcBgIA6hICAL4iAgCtOgIAqSMCANUWAgAzHAIA3gQCABr9AQCwVwIAU+wBAGMhAgBcIAIANxMCAHsZAgAHJAIAJSYCAH0TAgAk9wEARAUCAJkAAgDqDQIAKhECAL0XAgDD/AEAsjgCAOAeAgDiJQIAMkACAK4JAgB/CAIA",
          "dtype": "i4"
         },
         "yaxis": "y"
        },
        {
         "line": {
          "color": "#ff7f0e",
          "width": 2
         },
         "mode": "lines+markers",
         "name": "Total KM",
         "type": "scatter",
         "x": [
          "2022-01-01T00:00:00",
          "2022-02-01T00:00:00",
          "2022-03-01T00:00:00",
          "2022-04-01T00:00:00",
          "2022-05-01T00:00:00",
          "2022-06-01T00:00:00",
          "2022-07-01T00:00:00",
          "2022-08-01T00:00:00",
          "2022-09-01T00:00:00",
          "2022-10-01T00:00:00",
          "2022-11-01T00:00:00",
          "2022-12-01T00:00:00",
          "2023-01-01T00:00:00",
          "2023-02-01T00:00:00",
          "2023-03-01T00:00:00",
          "2023-04-01T00:00:00",
          "2023-05-01T00:00:00",
          "2023-06-01T00:00:00",
          "2023-07-01T00:00:00",
          "2023-08-01T00:00:00",
          "2023-09-01T00:00:00",
          "2023-10-01T00:00:00",
          "2023-11-01T00:00:00",
          "2023-12-01T00:00:00",
          "2024-01-01T00:00:00",
          "2024-02-01T00:00:00",
          "2024-03-01T00:00:00",
          "2024-04-01T00:00:00",
          "2024-05-01T00:00:00",
          "2024-06-01T00:00:00",
          "2024-07-01T00:00:00",
          "2024-08-01T00:00:00",
          "2024-09-01T00:00:00",
          "2024-10-01T00:00:00",
          "2024-11-01T00:00:00",
          "2024-12-01T00:00:00"
         ],
         "xaxis": "x2",
         "y": {
          "bdata": "AAAAgPlTX0EAAADAD29fQQAAAKCngmJBAAAAQE+4X0EAAAAAq25gQQAAAEDV1l9BAAAAQMpZYEEAAABgP9ZgQQAAAIDel2FBAAAAgAPqYEEAAADgVVNgQQAAAGAFmWBBAAAAwG/yX0EAAACA96RfQQAAAEDkjmJBAAAAAIhsXkEAAABAcuRgQQAAACCfpGBBAAAAAFdcYEEAAADgdptgQQAAACAr7mBBAAAA4OnqYEEAAACgAlxgQQAAAABA6V5BAAAAwCbfX0EAAADAZh1gQQAAAKAPVWBBAAAAIOdhYEEAAADgn1hgQQAAAMCMul5BAAAAADpIYUEAAACAEnpgQQAAAABSt2BBAAAAgDaBYUEAAACA5oZfQQAAAMD1zF9B",
          "dtype": "f8"
         },
         "yaxis": "y2"
        },
        {
         "fill": "tozeroy",
         "line": {
          "color": "#2ca02c",
          "width": 0
         },
         "mode": "lines",
         "name": "Internal Drivers",
         "type": "scatter",
         "x": [
          "2022-01-01T00:00:00",
          "2022-02-01T00:00:00",
          "2022-03-01T00:00:00",
          "2022-04-01T00:00:00",
          "2022-05-01T00:00:00",
          "2022-06-01T00:00:00",
          "2022-07-01T00:00:00",
          "2022-08-01T00:00:00",
          "2022-09-01T00:00:00",
          "2022-10-01T00:00:00",
          "2022-11-01T00:00:00",
          "2022-12-01T00:00:00",
          "2023-01-01T00:00:00",
          "2023-02-01T00:00:00",
          "2023-03-01T00:00:00",
          "2023-04-01T00:00:00",
          "2023-05-01T00:00:00",
          "2023-06-01T00:00:00",
          "2023-07-01T00:00:00",
          "2023-08-01T00:00:00",
          "2023-09-01T00:00:00",
          "2023-10-01T00:00:00",
          "2023-11-01T00:00:00",
          "2023-12-01T00:00:00",
          "2024-01-01T00:00:00",
          "2024-02-01T00:00:00",
          "2024-03-01T00:00:00",
          "2024-04-01T00:00:00",
          "2024-05-01T00:00:00",
          "2024-06-01T00:00:00",
          "2024-07-01T00:00:00",
          "2024-08-01T00:00:00",
          "2024-09-01T00:00:00",
          "2024-10-01T00:00:00",
          "2024-11-01T00:00:00",
          "2024-12-01T00:00:00"
         ],
         "xaxis": "x3",
         "y": {
          "bdata": "+oMBAB2AAQB6vgEAGHwBACKLAQC6hAEAsYQBAEqQAQBnoAEAOowBAFGPAQAQjgEA7IABAJx7AQBmwAEA0G0BAJKWAQCkmwEAaooBAEySAQB3lAEAHZ0BAFeYAQDjdQEAkoUBAJOIAQAmiwEAzI0BADKnAQCKlAEAeMUBAAioAQBmpwEAXcQBAPGfAQCKlgEA",
          "dtype": "i4"
         },
         "yaxis": "y3"
        },
        {
         "fill": "tonexty",
         "line": {
          "color": "#d62728",
          "width": 0
         },
         "mode": "lines",
         "name": "External Drivers",
         "type": "scatter",
         "x": [
          "2022-01-01T00:00:00",
          "2022-02-01T00:00:00",
          "2022-03-01T00:00:00",
          "2022-04-01T00:00:00",
          "2022-05-01T00:00:00",
          "2022-06-01T00:00:00",
          "2022-07-01T00:00:00",
          "2022-08-01T00:00:00",
          "2022-09-01T00:00:00",
          "2022-10-01T00:00:00",
          "2022-11-01T00:00:00",
          "2022-12-01T00:00:00",
          "2023-01-01T00:00:00",
          "2023-02-01T00:00:00",
          "2023-03-01T00:00:00",
          "2023-04-01T00:00:00",
          "2023-05-01T00:00:00",
          "2023-06-01T00:00:00",
          "2023-07-01T00:00:00",
          "2023-08-01T00:00:00",
          "2023-09-01T00:00:00",
          "2023-10-01T00:00:00",
          "2023-11-01T00:00:00",
          "2023-12-01T00:00:00",
          "2024-01-01T00:00:00",
          "2024-02-01T00:00:00",
          "2024-03-01T00:00:00",
          "2024-04-01T00:00:00",
          "2024-05-01T00:00:00",
          "2024-06-01T00:00:00",
          "2024-07-01T00:00:00",
          "2024-08-01T00:00:00",
          "2024-09-01T00:00:00",
          "2024-10-01T00:00:00",
          "2024-11-01T00:00:00",
          "2024-12-01T00:00:00"
         ],
         "xaxis": "x3",
         "y": {
          "bdata": "v3IAAGxzAABCjwAAnn0AAA2CAACgegAAnYUAAAeKAADGkAAAfYwAAAN6AADTgAAAvHsAABZ3AADhiwAAC3UAADiBAADpewAAKoEAABaAAABbhgAA4H0AACRwAADgdwAA8nYAAGpxAAApeQAA8HsAAFxoAABCXwAANmsAAI5uAACLcwAAom8AAK9gAAAbagAA",
          "dtype": "i4"
         },
         "yaxis": "y3"
        }
       ],
       "layout": {
        "annotations": [
         {
          "font": {
           "size": 16
          },
          "showarrow": false,
          "text": "Total Orders Over Time",
          "x": 0.5,
          "xanchor": "center",
          "xref": "paper",
          "y": 1.0,
          "yanchor": "bottom",
          "yref": "paper"
         },
         {
          "font": {
           "size": 16
          },
          "showarrow": false,
          "text": "Total Kilometers Traveled",
          "x": 0.5,
          "xanchor": "center",
          "xref": "paper",
          "y": 0.6266666666666667,
          "yanchor": "bottom",
          "yref": "paper"
         },
         {
          "font": {
           "size": 16
          },
          "showarrow": false,
          "text": "External vs Internal Drivers",
          "x": 0.5,
          "xanchor": "center",
          "xref": "paper",
          "y": 0.25333333333333335,
          "yanchor": "bottom",
          "yref": "paper"
         }
        ],
        "height": 900,
        "hovermode": "x unified",
        "showlegend": true,
        "template": {
         "data": {
          "bar": [
           {
            "error_x": {
             "color": "#2a3f5f"
            },
            "error_y": {
             "color": "#2a3f5f"
            },
            "marker": {
             "line": {
              "color": "#E5ECF6",
              "width": 0.5
             },
             "pattern": {
              "fillmode": "overlay",
              "size": 10,
              "solidity": 0.2
             }
            },
            "type": "bar"
           }
          ],
          "barpolar": [
           {
            "marker": {
             "line": {
              "color": "#E5ECF6",
              "width": 0.5
             },
             "pattern": {
              "fillmode": "overlay",
              "size": 10,
              "solidity": 0.2
             }
            },
            "type": "barpolar"
           }
          ],
          "carpet": [
           {
            "aaxis": {
             "endlinecolor": "#2a3f5f",
             "gridcolor": "white",
             "linecolor": "white",
             "minorgridcolor": "white",
             "startlinecolor": "#2a3f5f"
            },
            "baxis": {
             "endlinecolor": "#2a3f5f",
             "gridcolor": "white",
             "linecolor": "white",
             "minorgridcolor": "white",
             "startlinecolor": "#2a3f5f"
            },
            "type": "carpet"
           }
          ],
          "choropleth": [
           {
            "colorbar": {
             "outlinewidth": 0,
             "ticks": ""
            },
            "type": "choropleth"
           }
          ],
          "contour": [
           {
            "colorbar": {
             "outlinewidth": 0,
             "ticks": ""
            },
            "colorscale": [
             [
              0.0,
              "#0d0887"
             ],
             [
              0.1111111111111111,
              "#46039f"
             ],
             [
              0.2222222222222222,
              "#7201a8"
             ],
             [
              0.3333333333333333,
              "#9c179e"
             ],
             [
              0.4444444444444444,
              "#bd3786"
             ],
             [
              0.5555555555555556,
              "#d8576b"
             ],
             [
              0.6666666666666666,
              "#ed7953"
             ],
             [
              0.7777777777777778,
              "#fb9f3a"
             ],
             [
              0.8888888888888888,
              "#fdca26"
             ],
             [
              1.0,
              "#f0f921"
             ]
            ],
            "type": "contour"
           }
          ],
          "contourcarpet": [
           {
            "colorbar": {
             "outlinewidth": 0,
             "ticks": ""
            },
            "type": "contourcarpet"
           }
          ],
          "heatmap": [
           {
            "colorbar": {
             "outlinewidth": 0,
             "ticks": ""
            },
            "colorscale": [
             [
              0.0,
              "#0d0887"
             ],
             [
              0.1111111111111111,
              "#46039f"
             ],
             [
              0.2222222222222222,
              "#7201a8"
             ],
             [
              0.3333333333333333,
              "#9c179e"
             ],
             [
              0.4444444444444444,
              "#bd3786"
             ],
             [
              0.5555555555555556,
              "#d8576b"
             ],
             [
              0.6666666666666666,
              "#ed7953"
             ],
             [
              0.7777777777777778,
              "#fb9f3a"
             ],
             [
              0.8888888888888888,
              "#fdca26"
             ],
             [
              1.0,
              "#f0f921"
             ]
            ],
            "type": "heatmap"
           }
          ],
          "histogram": [
           {
            "marker": {
             "pattern": {
              "fillmode": "overlay",
              "size": 10,
              "solidity": 0.2
             }
            },
            "type": "histogram"
           }
          ],
          "histogram2d": [
           {
            "colorbar": {
             "outlinewidth": 0,
             "ticks": ""
            },
            "colorscale": [
             [
              0.0,
              "#0d0887"
             ],
             [
              0.1111111111111111,
              "#46039f"
             ],
             [
              0.2222222222222222,
              "#7201a8"
             ],
             [
              0.3333333333333333,
              "#9c179e"
             ],
             [
              0.4444444444444444,
              "#bd3786"
             ],
             [
              0.5555555555555556,
              "#d8576b"
             ],
             [
              0.6666666666666666,
              "#ed7953"
             ],
             [
              0.7777777777777778,
              "#fb9f3a"
             ],
             [
              0.8888888888888888,
              "#fdca26"
             ],
             [
              1.0,
              "#f0f921"
             ]
            ],
            "type": "histogram2d"
           }
          ],
          "histogram2dcontour": [
           {
            "colorbar": {
             "outlinewidth": 0,
             "ticks": ""
            },
            "colorscale": [
             [
              0.0,
              "#0d0887"
             ],
             [
              0.1111111111111111,
              "#46039f"
             ],
             [
              0.2222222222222222,
              "#7201a8"
             ],
             [
              0.3333333333333333,
              "#9c179e"
             ],
             [
              0.4444444444444444,
              "#bd3786"
             ],
             [
              0.5555555555555556,
              "#d8576b"
             ],
             [
              0.6666666666666666,
              "#ed7953"
             ],
             [
              0.7777777777777778,
              "#fb9f3a"
             ],
             [
              0.8888888888888888,
              "#fdca26"
             ],
             [
              1.0,
              "#f0f921"
             ]
            ],
            "type": "histogram2dcontour"
           }
          ],
          "mesh3d": [
           {
            "colorbar": {
             "outlinewidth": 0,
             "ticks": ""
            },
            "type": "mesh3d"
           }
          ],
          "parcoords": [
           {
            "line": {
             "colorbar": {
              "outlinewidth": 0,
              "ticks": ""
             }
            },
            "type": "parcoords"
           }
          ],
          "pie": [
           {
            "automargin": true,
            "type": "pie"
           }
          ],
          "scatter": [
           {
            "fillpattern": {
             "fillmode": "overlay",
             "size": 10,
             "solidity": 0.2
            },
            "type": "scatter"
           }
          ],
          "scatter3d": [
           {
            "line": {
             "colorbar": {
              "outlinewidth": 0,
              "ticks": ""
             }
            },
            "marker": {
             "colorbar": {
              "outlinewidth": 0,
              "ticks": ""
             }
            },
            "type": "scatter3d"
           }
          ],
          "scattercarpet": [
           {
            "marker": {
             "colorbar": {
              "outlinewidth": 0,
              "ticks": ""
             }
            },
            "type": "scattercarpet"
           }
          ],
          "scattergeo": [
           {
            "marker": {
             "colorbar": {
              "outlinewidth": 0,
              "ticks": ""
             }
            },
            "type": "scattergeo"
           }
          ],
          "scattergl": [
           {
            "marker": {
             "colorbar": {
              "outlinewidth": 0,
              "ticks": ""
             }
            },
            "type": "scattergl"
           }
          ],
          "scattermap": [
           {
            "marker": {
             "colorbar": {
              "outlinewidth": 0,
              "ticks": ""
             }
            },
            "type": "scattermap"
           }
          ],
          "scattermapbox": [
           {
            "marker": {
             "colorbar": {
              "outlinewidth": 0,
              "ticks": ""
             }
            },
            "type": "scattermapbox"
           }
          ],
          "scatterpolar": [
           {
            "marker": {
             "colorbar": {
              "outlinewidth": 0,
              "ticks": ""
             }
            },
            "type": "scatterpolar"
           }
          ],
          "scatterpolargl": [
           {
            "marker": {
             "colorbar": {
              "outlinewidth": 0,
              "ticks": ""
             }
            },
            "type": "scatterpolargl"
           }
          ],
          "scatterternary": [
           {
            "marker": {
             "colorbar": {
              "outlinewidth": 0,
              "ticks": ""
             }
            },
            "type": "scatterternary"
           }
          ],
          "surface": [
           {
            "colorbar": {
             "outlinewidth": 0,
             "ticks": ""
            },
            "colorscale": [
             [
              0.0,
              "#0d0887"
             ],
             [
              0.1111111111111111,
              "#46039f"
             ],
             [
              0.2222222222222222,
              "#7201a8"
             ],
             [
              0.3333333333333333,
              "#9c179e"
             ],
             [
              0.4444444444444444,
              "#bd3786"
             ],
             [
              0.5555555555555556,
              "#d8576b"
             ],
             [
              0.6666666666666666,
              "#ed7953"
             ],
             [
              0.7777777777777778,
              "#fb9f3a"
             ],
             [
              0.8888888888888888,
              "#fdca26"
             ],
             [
              1.0,
              "#f0f921"
             ]
            ],
            "type": "surface"
           }
          ],
          "table": [
           {
            "cells": {
             "fill": {
              "color": "#EBF0F8"
             },
             "line": {
              "color": "white"
             }
            },
            "header": {
             "fill": {
              "color": "#C8D4E3"
             },
             "line": {
              "color": "white"
             }
            },
            "type": "table"
           }
          ]
         },
         "layout": {
          "annotationdefaults": {
           "arrowcolor": "#2a3f5f",
           "arrowhead": 0,
           "arrowwidth": 1
          },
          "autotypenumbers": "strict",
          "coloraxis": {
           "colorbar": {
            "outlinewidth": 0,
            "ticks": ""
           }
          },
          "colorscale": {
           "diverging": [
            [
             0,
             "#8e0152"
            ],
            [
             0.1,
             "#c51b7d"
            ],
            [
             0.2,
             "#de77ae"
            ],
            [
             0.3,
             "#f1b6da"
            ],
            [
             0.4,
             "#fde0ef"
            ],
            [
             0.5,
             "#f7f7f7"
            ],
            [
             0.6,
             "#e6f5d0"
            ],
            [
             0.7,
             "#b8e186"
            ],
            [
             0.8,
             "#7fbc41"
            ],
            [
             0.9,
             "#4d9221"
            ],
            [
             1,
             "#276419"
            ]
           ],
           "sequential": [
            [
             0.0,
             "#0d0887"
            ],
            [
             0.1111111111111111,
             "#46039f"
            ],
            [
             0.2222222222222222,
             "#7201a8"
            ],
            [
             0.3333333333333333,
             "#9c179e"
            ],
            [
             0.4444444444444444,
             "#bd3786"
            ],
            [
             0.5555555555555556,
             "#d8576b"
            ],
            [
             0.6666666666666666,
             "#ed7953"
            ],
            [
             0.7777777777777778,
             "#fb9f3a"
            ],
            [
             0.8888888888888888,
             "#fdca26"
            ],
            [
             1.0,
             "#f0f921"
            ]
           ],
           "sequentialminus": [
            [
             0.0,
             "#0d0887"
            ],
            [
             0.1111111111111111,
             "#46039f"
            ],
            [
             0.2222222222222222,
             "#7201a8"
            ],
            [
             0.3333333333333333,
             "#9c179e"
            ],
            [
             0.4444444444444444,
             "#bd3786"
            ],
            [
             0.5555555555555556,
             "#d8576b"
            ],
            [
             0.6666666666666666,
             "#ed7953"
            ],
            [
             0.7777777777777778,
             "#fb9f3a"
            ],
            [
             0.8888888888888888,
             "#fdca26"
            ],
            [
             1.0,
             "#f0f921"
            ]
           ]
          },
          "colorway": [
           "#636efa",
           "#EF553B",
           "#00cc96",
           "#ab63fa",
           "#FFA15A",
           "#19d3f3",
           "#FF6692",
           "#B6E880",
           "#FF97FF",
           "#FECB52"
          ],
          "font": {
           "color": "#2a3f5f"
          },
          "geo": {
           "bgcolor": "white",
           "lakecolor": "white",
           "landcolor": "#E5ECF6",
           "showlakes": true,
           "showland": true,
           "subunitcolor": "white"
          },
          "hoverlabel": {
           "align": "left"
          },
          "hovermode": "closest",
          "mapbox": {
           "style": "light"
          },
          "paper_bgcolor": "white",
          "plot_bgcolor": "#E5ECF6",
          "polar": {
           "angularaxis": {
            "gridcolor": "white",
            "linecolor": "white",
            "ticks": ""
           },
           "bgcolor": "#E5ECF6",
           "radialaxis": {
            "gridcolor": "white",
            "linecolor": "white",
            "ticks": ""
           }
          },
          "scene": {
           "xaxis": {
            "backgroundcolor": "#E5ECF6",
            "gridcolor": "white",
            "gridwidth": 2,
            "linecolor": "white",
            "showbackground": true,
            "ticks": "",
            "zerolinecolor": "white"
           },
           "yaxis": {
            "backgroundcolor": "#E5ECF6",
            "gridcolor": "white",
            "gridwidth": 2,
            "linecolor": "white",
            "showbackground": true,
            "ticks": "",
            "zerolinecolor": "white"
           },
           "zaxis": {
            "backgroundcolor": "#E5ECF6",
            "gridcolor": "white",
            "gridwidth": 2,
            "linecolor": "white",
            "showbackground": true,
            "ticks": "",
            "zerolinecolor": "white"
           }
          },
          "shapedefaults": {
           "line": {
            "color": "#2a3f5f"
           }
          },
          "ternary": {
           "aaxis": {
            "gridcolor": "white",
            "linecolor": "white",
            "ticks": ""
           },
           "baxis": {
            "gridcolor": "white",
            "linecolor": "white",
            "ticks": ""
           },
           "bgcolor": "#E5ECF6",
           "caxis": {
            "gridcolor": "white",
            "linecolor": "white",
            "ticks": ""
           }
          },
          "title": {
           "x": 0.05
          },
          "xaxis": {
           "automargin": true,
           "gridcolor": "white",
           "linecolor": "white",
           "ticks": "",
           "title": {
            "standoff": 15
           },
           "zerolinecolor": "white",
           "zerolinewidth": 2
          },
          "yaxis": {
           "automargin": true,
           "gridcolor": "white",
           "linecolor": "white",
           "ticks": "",
           "title": {
            "standoff": 15
           },
           "zerolinecolor": "white",
           "zerolinewidth": 2
          }
         }
        },
        "title": {
         "text": "Traveco Transport Metrics - Complete Time Series (2022-2025)"
        },
        "xaxis": {
         "anchor": "y",
         "domain": [
          0.0,
          1.0
         ]
        },
        "xaxis2": {
         "anchor": "y2",
         "domain": [
          0.0,
          1.0
         ]
        },
        "xaxis3": {
         "anchor": "y3",
         "domain": [
          0.0,
          1.0
         ],
         "title": {
          "text": "Date"
         }
        },
        "yaxis": {
         "anchor": "x",
         "domain": [
          0.7466666666666667,
          1.0
         ],
         "title": {
          "text": "Orders"
         }
        },
        "yaxis2": {
         "anchor": "x2",
         "domain": [
          0.37333333333333335,
          0.6266666666666667
         ],
         "title": {
          "text": "Kilometers"
         }
        },
        "yaxis3": {
         "anchor": "x3",
         "domain": [
          0.0,
          0.25333333333333335
         ],
         "title": {
          "text": "Driver Count"
         }
        }
       }
      }
     },
     "metadata": {},
     "output_type": "display_data"
    },
    {
     "name": "stdout",
     "output_type": "stream",
     "text": [
      "\n",
      "✓ Saved interactive chart to results/time_series_overview.html\n"
     ]
    }
   ],
   "source": [
    "# Create multi-panel time series dashboard\n",
    "fig = make_subplots(\n",
    "    rows=3, cols=1,\n",
    "    subplot_titles=(\n",
    "        'Total Orders Over Time',\n",
    "        'Total Kilometers Traveled',\n",
    "        'External vs Internal Drivers'\n",
    "    ),\n",
    "    vertical_spacing=0.12\n",
    ")\n",
    "\n",
    "# 1. Total Orders\n",
    "fig.add_trace(\n",
    "    go.Scatter(\n",
    "        x=company_ts['date'],\n",
    "        y=company_ts['total_orders'],\n",
    "        mode='lines+markers',\n",
    "        name='Total Orders',\n",
    "        line=dict(color='#1f77b4', width=2)\n",
    "    ),\n",
    "    row=1, col=1\n",
    ")\n",
    "\n",
    "# 2. Total KM\n",
    "fig.add_trace(\n",
    "    go.Scatter(\n",
    "        x=company_ts['date'],\n",
    "        y=company_ts['total_km'],\n",
    "        mode='lines+markers',\n",
    "        name='Total KM',\n",
    "        line=dict(color='#ff7f0e', width=2)\n",
    "    ),\n",
    "    row=2, col=1\n",
    ")\n",
    "\n",
    "# 3. Drivers (stacked)\n",
    "fig.add_trace(\n",
    "    go.Scatter(\n",
    "        x=company_ts['date'],\n",
    "        y=company_ts['internal_drivers'],\n",
    "        mode='lines',\n",
    "        name='Internal Drivers',\n",
    "        line=dict(color='#2ca02c', width=0),\n",
    "        fill='tozeroy'\n",
    "    ),\n",
    "    row=3, col=1\n",
    ")\n",
    "\n",
    "fig.add_trace(\n",
    "    go.Scatter(\n",
    "        x=company_ts['date'],\n",
    "        y=company_ts['external_drivers'],\n",
    "        mode='lines',\n",
    "        name='External Drivers',\n",
    "        line=dict(color='#d62728', width=0),\n",
    "        fill='tonexty'\n",
    "    ),\n",
    "    row=3, col=1\n",
    ")\n",
    "\n",
    "# Update layout\n",
    "fig.update_xaxes(title_text=\"Date\", row=3, col=1)\n",
    "fig.update_yaxes(title_text=\"Orders\", row=1, col=1)\n",
    "fig.update_yaxes(title_text=\"Kilometers\", row=2, col=1)\n",
    "fig.update_yaxes(title_text=\"Driver Count\", row=3, col=1)\n",
    "\n",
    "fig.update_layout(\n",
    "    height=900,\n",
    "    title_text=\"Traveco Transport Metrics - Complete Time Series (2022-2025)\",\n",
    "    showlegend=True,\n",
    "    hovermode='x unified'\n",
    ")\n",
    "\n",
    "fig.show()\n",
    "\n",
    "# Save to results\n",
    "results_dir = Path('../results')\n",
    "results_dir.mkdir(exist_ok=True)\n",
    "fig.write_html(results_dir / 'time_series_overview.html')\n",
    "print(f\"\\n✓ Saved interactive chart to results/time_series_overview.html\")"
   ]
  },
  {
   "cell_type": "markdown",
   "metadata": {},
   "source": [
    "## Section 8: Seasonality Analysis\n",
    "\n",
    "Identify seasonal patterns in the data."
   ]
  },
  {
   "cell_type": "code",
   "execution_count": 11,
   "metadata": {
    "execution": {
     "iopub.execute_input": "2025-10-29T20:20:47.671843Z",
     "iopub.status.busy": "2025-10-29T20:20:47.671772Z",
     "iopub.status.idle": "2025-10-29T20:20:47.682714Z",
     "shell.execute_reply": "2025-10-29T20:20:47.681386Z"
    }
   },
   "outputs": [
    {
     "data": {
      "application/vnd.plotly.v1+json": {
       "config": {
        "plotlyServerURL": "https://plot.ly"
       },
       "data": [
        {
         "marker": {
          "color": "#1f77b4"
         },
         "name": "Avg Orders",
         "type": "bar",
         "x": [
          "Jan",
          "Feb",
          "Mar",
          "Apr",
          "May",
          "Jun",
          "Jul",
          "Aug",
          "Sep",
          "Oct",
          "Nov",
          "Dec"
         ],
         "y": {
          "bdata": "q6qqqpIaAEGrqqqqut3/QKuqqqpyBAJBq6qqqpoCAEFVVVVVpc4AQQAAAABIXwBBVVVVVd38AEFVVVVV7fIAQQAAAACQYQFBAAAAAABwAUGrqqqqqooAQauqqqo6SgBB",
          "dtype": "f8"
         }
        }
       ],
       "layout": {
        "height": 500,
        "template": {
         "data": {
          "bar": [
           {
            "error_x": {
             "color": "#2a3f5f"
            },
            "error_y": {
             "color": "#2a3f5f"
            },
            "marker": {
             "line": {
              "color": "#E5ECF6",
              "width": 0.5
             },
             "pattern": {
              "fillmode": "overlay",
              "size": 10,
              "solidity": 0.2
             }
            },
            "type": "bar"
           }
          ],
          "barpolar": [
           {
            "marker": {
             "line": {
              "color": "#E5ECF6",
              "width": 0.5
             },
             "pattern": {
              "fillmode": "overlay",
              "size": 10,
              "solidity": 0.2
             }
            },
            "type": "barpolar"
           }
          ],
          "carpet": [
           {
            "aaxis": {
             "endlinecolor": "#2a3f5f",
             "gridcolor": "white",
             "linecolor": "white",
             "minorgridcolor": "white",
             "startlinecolor": "#2a3f5f"
            },
            "baxis": {
             "endlinecolor": "#2a3f5f",
             "gridcolor": "white",
             "linecolor": "white",
             "minorgridcolor": "white",
             "startlinecolor": "#2a3f5f"
            },
            "type": "carpet"
           }
          ],
          "choropleth": [
           {
            "colorbar": {
             "outlinewidth": 0,
             "ticks": ""
            },
            "type": "choropleth"
           }
          ],
          "contour": [
           {
            "colorbar": {
             "outlinewidth": 0,
             "ticks": ""
            },
            "colorscale": [
             [
              0.0,
              "#0d0887"
             ],
             [
              0.1111111111111111,
              "#46039f"
             ],
             [
              0.2222222222222222,
              "#7201a8"
             ],
             [
              0.3333333333333333,
              "#9c179e"
             ],
             [
              0.4444444444444444,
              "#bd3786"
             ],
             [
              0.5555555555555556,
              "#d8576b"
             ],
             [
              0.6666666666666666,
              "#ed7953"
             ],
             [
              0.7777777777777778,
              "#fb9f3a"
             ],
             [
              0.8888888888888888,
              "#fdca26"
             ],
             [
              1.0,
              "#f0f921"
             ]
            ],
            "type": "contour"
           }
          ],
          "contourcarpet": [
           {
            "colorbar": {
             "outlinewidth": 0,
             "ticks": ""
            },
            "type": "contourcarpet"
           }
          ],
          "heatmap": [
           {
            "colorbar": {
             "outlinewidth": 0,
             "ticks": ""
            },
            "colorscale": [
             [
              0.0,
              "#0d0887"
             ],
             [
              0.1111111111111111,
              "#46039f"
             ],
             [
              0.2222222222222222,
              "#7201a8"
             ],
             [
              0.3333333333333333,
              "#9c179e"
             ],
             [
              0.4444444444444444,
              "#bd3786"
             ],
             [
              0.5555555555555556,
              "#d8576b"
             ],
             [
              0.6666666666666666,
              "#ed7953"
             ],
             [
              0.7777777777777778,
              "#fb9f3a"
             ],
             [
              0.8888888888888888,
              "#fdca26"
             ],
             [
              1.0,
              "#f0f921"
             ]
            ],
            "type": "heatmap"
           }
          ],
          "histogram": [
           {
            "marker": {
             "pattern": {
              "fillmode": "overlay",
              "size": 10,
              "solidity": 0.2
             }
            },
            "type": "histogram"
           }
          ],
          "histogram2d": [
           {
            "colorbar": {
             "outlinewidth": 0,
             "ticks": ""
            },
            "colorscale": [
             [
              0.0,
              "#0d0887"
             ],
             [
              0.1111111111111111,
              "#46039f"
             ],
             [
              0.2222222222222222,
              "#7201a8"
             ],
             [
              0.3333333333333333,
              "#9c179e"
             ],
             [
              0.4444444444444444,
              "#bd3786"
             ],
             [
              0.5555555555555556,
              "#d8576b"
             ],
             [
              0.6666666666666666,
              "#ed7953"
             ],
             [
              0.7777777777777778,
              "#fb9f3a"
             ],
             [
              0.8888888888888888,
              "#fdca26"
             ],
             [
              1.0,
              "#f0f921"
             ]
            ],
            "type": "histogram2d"
           }
          ],
          "histogram2dcontour": [
           {
            "colorbar": {
             "outlinewidth": 0,
             "ticks": ""
            },
            "colorscale": [
             [
              0.0,
              "#0d0887"
             ],
             [
              0.1111111111111111,
              "#46039f"
             ],
             [
              0.2222222222222222,
              "#7201a8"
             ],
             [
              0.3333333333333333,
              "#9c179e"
             ],
             [
              0.4444444444444444,
              "#bd3786"
             ],
             [
              0.5555555555555556,
              "#d8576b"
             ],
             [
              0.6666666666666666,
              "#ed7953"
             ],
             [
              0.7777777777777778,
              "#fb9f3a"
             ],
             [
              0.8888888888888888,
              "#fdca26"
             ],
             [
              1.0,
              "#f0f921"
             ]
            ],
            "type": "histogram2dcontour"
           }
          ],
          "mesh3d": [
           {
            "colorbar": {
             "outlinewidth": 0,
             "ticks": ""
            },
            "type": "mesh3d"
           }
          ],
          "parcoords": [
           {
            "line": {
             "colorbar": {
              "outlinewidth": 0,
              "ticks": ""
             }
            },
            "type": "parcoords"
           }
          ],
          "pie": [
           {
            "automargin": true,
            "type": "pie"
           }
          ],
          "scatter": [
           {
            "fillpattern": {
             "fillmode": "overlay",
             "size": 10,
             "solidity": 0.2
            },
            "type": "scatter"
           }
          ],
          "scatter3d": [
           {
            "line": {
             "colorbar": {
              "outlinewidth": 0,
              "ticks": ""
             }
            },
            "marker": {
             "colorbar": {
              "outlinewidth": 0,
              "ticks": ""
             }
            },
            "type": "scatter3d"
           }
          ],
          "scattercarpet": [
           {
            "marker": {
             "colorbar": {
              "outlinewidth": 0,
              "ticks": ""
             }
            },
            "type": "scattercarpet"
           }
          ],
          "scattergeo": [
           {
            "marker": {
             "colorbar": {
              "outlinewidth": 0,
              "ticks": ""
             }
            },
            "type": "scattergeo"
           }
          ],
          "scattergl": [
           {
            "marker": {
             "colorbar": {
              "outlinewidth": 0,
              "ticks": ""
             }
            },
            "type": "scattergl"
           }
          ],
          "scattermap": [
           {
            "marker": {
             "colorbar": {
              "outlinewidth": 0,
              "ticks": ""
             }
            },
            "type": "scattermap"
           }
          ],
          "scattermapbox": [
           {
            "marker": {
             "colorbar": {
              "outlinewidth": 0,
              "ticks": ""
             }
            },
            "type": "scattermapbox"
           }
          ],
          "scatterpolar": [
           {
            "marker": {
             "colorbar": {
              "outlinewidth": 0,
              "ticks": ""
             }
            },
            "type": "scatterpolar"
           }
          ],
          "scatterpolargl": [
           {
            "marker": {
             "colorbar": {
              "outlinewidth": 0,
              "ticks": ""
             }
            },
            "type": "scatterpolargl"
           }
          ],
          "scatterternary": [
           {
            "marker": {
             "colorbar": {
              "outlinewidth": 0,
              "ticks": ""
             }
            },
            "type": "scatterternary"
           }
          ],
          "surface": [
           {
            "colorbar": {
             "outlinewidth": 0,
             "ticks": ""
            },
            "colorscale": [
             [
              0.0,
              "#0d0887"
             ],
             [
              0.1111111111111111,
              "#46039f"
             ],
             [
              0.2222222222222222,
              "#7201a8"
             ],
             [
              0.3333333333333333,
              "#9c179e"
             ],
             [
              0.4444444444444444,
              "#bd3786"
             ],
             [
              0.5555555555555556,
              "#d8576b"
             ],
             [
              0.6666666666666666,
              "#ed7953"
             ],
             [
              0.7777777777777778,
              "#fb9f3a"
             ],
             [
              0.8888888888888888,
              "#fdca26"
             ],
             [
              1.0,
              "#f0f921"
             ]
            ],
            "type": "surface"
           }
          ],
          "table": [
           {
            "cells": {
             "fill": {
              "color": "#EBF0F8"
             },
             "line": {
              "color": "white"
             }
            },
            "header": {
             "fill": {
              "color": "#C8D4E3"
             },
             "line": {
              "color": "white"
             }
            },
            "type": "table"
           }
          ]
         },
         "layout": {
          "annotationdefaults": {
           "arrowcolor": "#2a3f5f",
           "arrowhead": 0,
           "arrowwidth": 1
          },
          "autotypenumbers": "strict",
          "coloraxis": {
           "colorbar": {
            "outlinewidth": 0,
            "ticks": ""
           }
          },
          "colorscale": {
           "diverging": [
            [
             0,
             "#8e0152"
            ],
            [
             0.1,
             "#c51b7d"
            ],
            [
             0.2,
             "#de77ae"
            ],
            [
             0.3,
             "#f1b6da"
            ],
            [
             0.4,
             "#fde0ef"
            ],
            [
             0.5,
             "#f7f7f7"
            ],
            [
             0.6,
             "#e6f5d0"
            ],
            [
             0.7,
             "#b8e186"
            ],
            [
             0.8,
             "#7fbc41"
            ],
            [
             0.9,
             "#4d9221"
            ],
            [
             1,
             "#276419"
            ]
           ],
           "sequential": [
            [
             0.0,
             "#0d0887"
            ],
            [
             0.1111111111111111,
             "#46039f"
            ],
            [
             0.2222222222222222,
             "#7201a8"
            ],
            [
             0.3333333333333333,
             "#9c179e"
            ],
            [
             0.4444444444444444,
             "#bd3786"
            ],
            [
             0.5555555555555556,
             "#d8576b"
            ],
            [
             0.6666666666666666,
             "#ed7953"
            ],
            [
             0.7777777777777778,
             "#fb9f3a"
            ],
            [
             0.8888888888888888,
             "#fdca26"
            ],
            [
             1.0,
             "#f0f921"
            ]
           ],
           "sequentialminus": [
            [
             0.0,
             "#0d0887"
            ],
            [
             0.1111111111111111,
             "#46039f"
            ],
            [
             0.2222222222222222,
             "#7201a8"
            ],
            [
             0.3333333333333333,
             "#9c179e"
            ],
            [
             0.4444444444444444,
             "#bd3786"
            ],
            [
             0.5555555555555556,
             "#d8576b"
            ],
            [
             0.6666666666666666,
             "#ed7953"
            ],
            [
             0.7777777777777778,
             "#fb9f3a"
            ],
            [
             0.8888888888888888,
             "#fdca26"
            ],
            [
             1.0,
             "#f0f921"
            ]
           ]
          },
          "colorway": [
           "#636efa",
           "#EF553B",
           "#00cc96",
           "#ab63fa",
           "#FFA15A",
           "#19d3f3",
           "#FF6692",
           "#B6E880",
           "#FF97FF",
           "#FECB52"
          ],
          "font": {
           "color": "#2a3f5f"
          },
          "geo": {
           "bgcolor": "white",
           "lakecolor": "white",
           "landcolor": "#E5ECF6",
           "showlakes": true,
           "showland": true,
           "subunitcolor": "white"
          },
          "hoverlabel": {
           "align": "left"
          },
          "hovermode": "closest",
          "mapbox": {
           "style": "light"
          },
          "paper_bgcolor": "white",
          "plot_bgcolor": "#E5ECF6",
          "polar": {
           "angularaxis": {
            "gridcolor": "white",
            "linecolor": "white",
            "ticks": ""
           },
           "bgcolor": "#E5ECF6",
           "radialaxis": {
            "gridcolor": "white",
            "linecolor": "white",
            "ticks": ""
           }
          },
          "scene": {
           "xaxis": {
            "backgroundcolor": "#E5ECF6",
            "gridcolor": "white",
            "gridwidth": 2,
            "linecolor": "white",
            "showbackground": true,
            "ticks": "",
            "zerolinecolor": "white"
           },
           "yaxis": {
            "backgroundcolor": "#E5ECF6",
            "gridcolor": "white",
            "gridwidth": 2,
            "linecolor": "white",
            "showbackground": true,
            "ticks": "",
            "zerolinecolor": "white"
           },
           "zaxis": {
            "backgroundcolor": "#E5ECF6",
            "gridcolor": "white",
            "gridwidth": 2,
            "linecolor": "white",
            "showbackground": true,
            "ticks": "",
            "zerolinecolor": "white"
           }
          },
          "shapedefaults": {
           "line": {
            "color": "#2a3f5f"
           }
          },
          "ternary": {
           "aaxis": {
            "gridcolor": "white",
            "linecolor": "white",
            "ticks": ""
           },
           "baxis": {
            "gridcolor": "white",
            "linecolor": "white",
            "ticks": ""
           },
           "bgcolor": "#E5ECF6",
           "caxis": {
            "gridcolor": "white",
            "linecolor": "white",
            "ticks": ""
           }
          },
          "title": {
           "x": 0.05
          },
          "xaxis": {
           "automargin": true,
           "gridcolor": "white",
           "linecolor": "white",
           "ticks": "",
           "title": {
            "standoff": 15
           },
           "zerolinecolor": "white",
           "zerolinewidth": 2
          },
          "yaxis": {
           "automargin": true,
           "gridcolor": "white",
           "linecolor": "white",
           "ticks": "",
           "title": {
            "standoff": 15
           },
           "zerolinecolor": "white",
           "zerolinewidth": 2
          }
         }
        },
        "title": {
         "text": "Seasonal Pattern - Average Orders by Month (2022-2025)"
        },
        "xaxis": {
         "title": {
          "text": "Month"
         }
        },
        "yaxis": {
         "title": {
          "text": "Average Monthly Orders"
         }
        }
       }
      }
     },
     "metadata": {},
     "output_type": "display_data"
    },
    {
     "name": "stdout",
     "output_type": "stream",
     "text": [
      "\n",
      "Seasonality Insights:\n",
      "  Peak month: Mar (147598 orders)\n",
      "  Low month: Feb (130524 orders)\n",
      "  Seasonal variation: 13.1%\n"
     ]
    }
   ],
   "source": [
    "# Extract month from date\n",
    "company_ts['month'] = company_ts['date'].dt.month\n",
    "company_ts['year'] = company_ts['date'].dt.year\n",
    "\n",
    "# Calculate monthly averages\n",
    "monthly_avg = company_ts.groupby('month').agg({\n",
    "    'total_orders': 'mean',\n",
    "    'total_km': 'mean',\n",
    "    'total_drivers': 'mean'\n",
    "}).reset_index()\n",
    "\n",
    "# Month names\n",
    "month_names = ['Jan', 'Feb', 'Mar', 'Apr', 'May', 'Jun', \n",
    "               'Jul', 'Aug', 'Sep', 'Oct', 'Nov', 'Dec']\n",
    "monthly_avg['month_name'] = monthly_avg['month'].apply(lambda x: month_names[x-1])\n",
    "\n",
    "# Create seasonality chart\n",
    "fig = go.Figure()\n",
    "\n",
    "fig.add_trace(\n",
    "    go.Bar(\n",
    "        x=monthly_avg['month_name'],\n",
    "        y=monthly_avg['total_orders'],\n",
    "        name='Avg Orders',\n",
    "        marker_color='#1f77b4'\n",
    "    )\n",
    ")\n",
    "\n",
    "fig.update_layout(\n",
    "    title=\"Seasonal Pattern - Average Orders by Month (2022-2025)\",\n",
    "    xaxis_title=\"Month\",\n",
    "    yaxis_title=\"Average Monthly Orders\",\n",
    "    height=500\n",
    ")\n",
    "\n",
    "fig.show()\n",
    "\n",
    "# Identify peak and low months\n",
    "peak_month = monthly_avg.loc[monthly_avg['total_orders'].idxmax(), 'month_name']\n",
    "low_month = monthly_avg.loc[monthly_avg['total_orders'].idxmin(), 'month_name']\n",
    "\n",
    "print(f\"\\nSeasonality Insights:\")\n",
    "print(f\"  Peak month: {peak_month} ({monthly_avg['total_orders'].max():.0f} orders)\")\n",
    "print(f\"  Low month: {low_month} ({monthly_avg['total_orders'].min():.0f} orders)\")\n",
    "print(f\"  Seasonal variation: {(monthly_avg['total_orders'].max() / monthly_avg['total_orders'].min() - 1) * 100:.1f}%\")"
   ]
  },
  {
   "cell_type": "markdown",
   "metadata": {},
   "source": [
    "## Section 9: Save Final Datasets\n",
    "\n",
    "Save both Betriebszentralen-level and company-level time series."
   ]
  },
  {
   "cell_type": "code",
   "execution_count": 12,
   "metadata": {
    "execution": {
     "iopub.execute_input": "2025-10-29T20:20:47.684772Z",
     "iopub.status.busy": "2025-10-29T20:20:47.684712Z",
     "iopub.status.idle": "2025-10-29T20:20:47.694112Z",
     "shell.execute_reply": "2025-10-29T20:20:47.692818Z"
    }
   },
   "outputs": [
    {
     "name": "stdout",
     "output_type": "stream",
     "text": [
      "Saving Betriebszentralen-level time series to ../data/processed/monthly_aggregated_full_bz.csv...\n"
     ]
    },
    {
     "name": "stdout",
     "output_type": "stream",
     "text": [
      "✓ Saved 369 records\n",
      "\n",
      "Saving company-level time series to ../data/processed/monthly_aggregated_full_company.csv...\n"
     ]
    },
    {
     "name": "stdout",
     "output_type": "stream",
     "text": [
      "✓ Saved 36 months\n"
     ]
    },
    {
     "name": "stdout",
     "output_type": "stream",
     "text": [
      "✓ Saved Parquet version\n",
      "\n",
      "================================================================================\n",
      "TIME SERIES AGGREGATION COMPLETE!\n",
      "================================================================================\n",
      "\n",
      "Datasets ready for forecasting:\n",
      "  1. Betriebszentralen-level: 369 month-entity records\n",
      "  2. Company-level: 36 monthly records\n",
      "  3. Time range: 2022-01-01 00:00:00 to 2024-12-01 00:00:00\n",
      "  4. Total months: 36\n",
      "\n",
      "Next step: Proceed to forecasting notebooks (09-15)\n"
     ]
    }
   ],
   "source": [
    "output_dir = Path('../data/processed')\n",
    "\n",
    "# 1. Save Betriebszentralen-level time series\n",
    "bz_output = output_dir / 'monthly_aggregated_full_bz.csv'\n",
    "print(f\"Saving Betriebszentralen-level time series to {bz_output}...\")\n",
    "df_full_ts.to_csv(bz_output, index=False)\n",
    "print(f\"✓ Saved {len(df_full_ts):,} records\")\n",
    "\n",
    "# 2. Save company-level time series\n",
    "company_output = output_dir / 'monthly_aggregated_full_company.csv'\n",
    "print(f\"\\nSaving company-level time series to {company_output}...\")\n",
    "company_ts.to_csv(company_output, index=False)\n",
    "print(f\"✓ Saved {len(company_ts)} months\")\n",
    "\n",
    "# 3. Save as Parquet for faster loading in forecasting notebooks\n",
    "company_ts.to_parquet(output_dir / 'monthly_aggregated_full_company.parquet', index=False)\n",
    "print(f\"✓ Saved Parquet version\")\n",
    "\n",
    "print(f\"\\n{'='*80}\")\n",
    "print(f\"TIME SERIES AGGREGATION COMPLETE!\")\n",
    "print(f\"{'='*80}\")\n",
    "print(f\"\\nDatasets ready for forecasting:\")\n",
    "print(f\"  1. Betriebszentralen-level: {len(df_full_ts):,} month-entity records\")\n",
    "print(f\"  2. Company-level: {len(company_ts)} monthly records\")\n",
    "print(f\"  3. Time range: {company_ts['date'].min()} to {company_ts['date'].max()}\")\n",
    "print(f\"  4. Total months: {len(company_ts)}\")\n",
    "print(f\"\\nNext step: Proceed to forecasting notebooks (09-15)\")"
   ]
  },
  {
   "cell_type": "markdown",
   "metadata": {},
   "source": [
    "## Section 10: Summary Statistics\n",
    "\n",
    "Final overview of the complete time series."
   ]
  },
  {
   "cell_type": "code",
   "execution_count": 13,
   "metadata": {
    "execution": {
     "iopub.execute_input": "2025-10-29T20:20:47.696263Z",
     "iopub.status.busy": "2025-10-29T20:20:47.696188Z",
     "iopub.status.idle": "2025-10-29T20:20:47.701655Z",
     "shell.execute_reply": "2025-10-29T20:20:47.700340Z"
    }
   },
   "outputs": [
    {
     "name": "stdout",
     "output_type": "stream",
     "text": [
      "Complete Time Series Summary\n",
      "================================================================================\n",
      "\n",
      "1. Coverage:\n",
      "   Start date: 2022-01-01 00:00:00\n",
      "   End date: 2024-12-01 00:00:00\n",
      "   Total months: 36\n",
      "   Years covered: [np.int32(2022), np.int32(2023), np.int32(2024)]\n",
      "\n",
      "2. Totals (across all months):\n",
      "   Total orders: 4,935,616\n",
      "   Total KM: 310,679,019\n",
      "   Avg KM/order: 62.9\n",
      "\n",
      "3. Monthly Averages:\n",
      "   Avg orders/month: 137,100\n",
      "   Avg KM/month: 8,629,973\n",
      "   Avg drivers/month: 134686\n",
      "\n",
      "4. Betriebszentralen:\n",
      "   Total entities: 11\n",
      "   List: ['B&T Landquart', 'B&T Puidoux', 'B&T Winterthur', 'BZ Herzogenbuchsee', 'BZ Intermodal / Rail', 'BZ Landquart', 'BZ Oberbipp', 'BZ Puidoux', 'BZ Sierre', 'BZ Sursee', 'BZ Winterthur']\n",
      "\n",
      "5. Data Quality:\n",
      "   Missing values: 0\n",
      "   Duplicate months: 0\n",
      "\n",
      "✓ Dataset is ready for time series forecasting!\n"
     ]
    }
   ],
   "source": [
    "print(\"Complete Time Series Summary\")\n",
    "print(\"=\"*80)\n",
    "\n",
    "print(f\"\\n1. Coverage:\")\n",
    "print(f\"   Start date: {company_ts['date'].min()}\")\n",
    "print(f\"   End date: {company_ts['date'].max()}\")\n",
    "print(f\"   Total months: {len(company_ts)}\")\n",
    "print(f\"   Years covered: {sorted(company_ts['year'].unique())}\")\n",
    "\n",
    "print(f\"\\n2. Totals (across all months):\")\n",
    "print(f\"   Total orders: {company_ts['total_orders'].sum():,.0f}\")\n",
    "print(f\"   Total KM: {company_ts['total_km'].sum():,.0f}\")\n",
    "print(f\"   Avg KM/order: {(company_ts['total_km'].sum() / company_ts['total_orders'].sum()):.1f}\")\n",
    "\n",
    "print(f\"\\n3. Monthly Averages:\")\n",
    "print(f\"   Avg orders/month: {company_ts['total_orders'].mean():,.0f}\")\n",
    "print(f\"   Avg KM/month: {company_ts['total_km'].mean():,.0f}\")\n",
    "print(f\"   Avg drivers/month: {company_ts['total_drivers'].mean():.0f}\")\n",
    "\n",
    "print(f\"\\n4. Betriebszentralen:\")\n",
    "print(f\"   Total entities: {df_full_ts['betriebszentrale'].nunique()}\")\n",
    "print(f\"   List: {sorted(df_full_ts['betriebszentrale'].unique())}\")\n",
    "\n",
    "print(f\"\\n5. Data Quality:\")\n",
    "print(f\"   Missing values: {company_ts.isna().sum().sum()}\")\n",
    "print(f\"   Duplicate months: {company_ts['year_month'].duplicated().sum()}\")\n",
    "\n",
    "print(f\"\\n✓ Dataset is ready for time series forecasting!\")"
   ]
  }
 ],
 "metadata": {
  "kernelspec": {
   "display_name": "Python 3 (ipykernel)",
   "language": "python",
   "name": "python3"
  },
  "language_info": {
   "codemirror_mode": {
    "name": "ipython",
    "version": 3
   },
   "file_extension": ".py",
   "mimetype": "text/x-python",
   "name": "python",
   "nbconvert_exporter": "python",
   "pygments_lexer": "ipython3",
   "version": "3.11.6"
  }
 },
 "nbformat": 4,
 "nbformat_minor": 4
}
